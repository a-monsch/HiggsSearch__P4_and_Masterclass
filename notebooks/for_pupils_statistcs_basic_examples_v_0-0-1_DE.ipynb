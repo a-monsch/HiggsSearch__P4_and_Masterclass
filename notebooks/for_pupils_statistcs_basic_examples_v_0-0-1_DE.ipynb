{
 "cells": [
  {
   "cell_type": "markdown",
   "metadata": {},
   "source": [
    "Version 0.0.1\n",
    "\n",
    "Voraussetzung:\n",
    " - Grundlagen von Python ggf. Funktionen\n",
    "\n",
    "Enthält:\n",
    " - notwendige Implementierungen für das Widget.\n",
    "\n",
    "Enthält (noch) nicht:\n",
    " - überall ausführliche Erklärungen\n",
    " - Ausführliche Motivation zu `p0_aus_chi2` Funktion\n",
    "\n",
    "Alle im nachfolgenden Implementierten Funktionen/Rechnungen können für die Aufgaben entfernt und durch das Kommentar '# May be implemented by pupils' gekennzeichnet werden, um von den Schülern ergänzt zu werden. Es können und sollen zusätzliche Aufgaben hinzugefügt oder abgeändert werden. Ausschlaggebend hierfür ist das Vorwissen der Schüler und die Schwerpunktsetzung der Themen."
   ]
  },
  {
   "cell_type": "code",
   "execution_count": null,
   "metadata": {},
   "outputs": [],
   "source": [
    "import sys\n",
    "sys.path.append(\"..\")\n",
    "import numpy as np"
   ]
  },
  {
   "cell_type": "markdown",
   "metadata": {},
   "source": [
    "Grundidee ist die Simulation mithilfe von Computern. Das zweit einfachste Beispiel ist mit einem Würfel realisiert, das im Idealfall ein Laplace-Experiment darstellt - die auftretenden Ereignisse einer endlichen Menge an möglichen Ereignissen sind gleichberechtigt."
   ]
  },
  {
   "cell_type": "code",
   "execution_count": null,
   "metadata": {},
   "outputs": [],
   "source": [
    "a = np.random.choice(a=[1,2,3,4,5,6], size=30)\n",
    "print(a)"
   ]
  },
  {
   "cell_type": "markdown",
   "metadata": {},
   "source": [
    "Es bietet sich auch die Möglichkeit die auftretenden Ergebnisse unterschiedlich zu gewichten, also einen nicht idealen Würfel zu simulieren. Die Gesamtwahrscheinlichkeit sollte hierbei jedoch immer 1 bleiben."
   ]
  },
  {
   "cell_type": "code",
   "execution_count": null,
   "metadata": {},
   "outputs": [],
   "source": [
    "b = np.random.choice(a=[1,2,3,4,5,6], p=[0.125/2., 0.25, 0.5, 0.125/4., 0.125/4, 0.125], size=30)\n",
    "print(b)"
   ]
  },
  {
   "cell_type": "markdown",
   "metadata": {},
   "source": [
    "Doch bleiben wir bei dem idealen Würfel. Für die spätere Anwendung werden einzelne Funktionen gebraucht. Es lässt sich eine einfache Funktion definieren, die beim Aufruf eine zufällige Zahl aus der Menge $\\{1,2,3,4,5,6\\}$ ausgibt."
   ]
  },
  {
   "cell_type": "code",
   "execution_count": null,
   "metadata": {},
   "outputs": [],
   "source": [
    "# May be implemented by pupils\n",
    "\n",
    "def my_random_dice_roll_simulation():\n",
    "    return np.random.choice(a=[1,2,3,4,5,6], p=[1/6, 1/6, 1/6, 1/6, 1/6, 1/6], size=1)[0]\n",
    "\n",
    "for _ in range(5):\n",
    "    print(my_random_dice_roll_simulation())"
   ]
  },
  {
   "cell_type": "markdown",
   "metadata": {},
   "source": [
    "Eine Liste aus 30 oder mehr Elementen ist unübersichtlich. Es ist einfacher nur zu zählen wie oft eine Zahl gewürfelt wurde, da jeder Wurf unabhängig vom anderen geschieht. Eine eigenständige explizite Implementierung ist lässt sich in diesem Fall mit drei Zeilen bewerkstelligen."
   ]
  },
  {
   "cell_type": "code",
   "execution_count": null,
   "metadata": {},
   "outputs": [],
   "source": [
    "# May be implemented by pupils\n",
    "\n",
    "# Wurfergebnis     1, 2, 3, 4, 5, 6\n",
    "a_hist = np.array([0, 0, 0, 0, 0, 0])\n",
    "for num in a:\n",
    "    a_hist[num -1] += 1\n",
    "print(a)\n",
    "print(a_hist)"
   ]
  },
  {
   "cell_type": "markdown",
   "metadata": {},
   "source": [
    "Der nullte Eintrag entspricht dem Wurf einer Eins, der erste einer Zwei usw.\n",
    "\n",
    "Nach der Durchführung eines solchen Experimentes ist es sinnvoll einige Größen zu berechnen, um die Messung in irgendeiner weise zu quantifizieren. Als erstens bietet sich der Mittelwert an, welcher direkt in einer Funktion berechnet werden kann:"
   ]
  },
  {
   "cell_type": "code",
   "execution_count": null,
   "metadata": {},
   "outputs": [],
   "source": [
    "# May be implemented by pupils\n",
    "\n",
    "def mittelwert(my_array):\n",
    "    my_array = np.array(my_array)\n",
    "    # return np.mean(my_array)\n",
    "    return np.sum(my_array) / len(my_array)"
   ]
  },
  {
   "cell_type": "markdown",
   "metadata": {},
   "source": [
    "Es stellt sich jedoch ein Problem heraus: Der so berechnete Mittelwert des Histogramms ist nur der Mittelwert der Anzahl der Würfe - repräsentiert also die Erwartung wie oft beispielsweise, die fünf gewürfelt wird. Diese Größe wird im weiteren in der Anwendung verwendet."
   ]
  },
  {
   "cell_type": "code",
   "execution_count": null,
   "metadata": {},
   "outputs": [],
   "source": [
    "print(mittelwert(a))\n",
    "print(mittelwert(a_hist))"
   ]
  },
  {
   "cell_type": "markdown",
   "metadata": {},
   "source": [
    "Die Berechnung des eigentlichen Mittelwertes für ein Histogramm lässt sich mit der folgenden Formel berechnen: $$ \\bar{x} = \\frac{\\sum_{i=1}^6 i \\cdot n_i}{\\sum_{i=1}^6 n_i}  $$ wobei $i$ der jeweilige Bin ist und n_i die Anzahl an Ereignissen für dieses Bin ist.\n",
    "\n",
    "Als Erstes ist es empfehlenswert die Normierung in einer separaten Funktion darzustellen, da diese für alle nachfolgenden Rechnungen gleich sein wird:"
   ]
  },
  {
   "cell_type": "code",
   "execution_count": null,
   "metadata": {},
   "outputs": [],
   "source": [
    "# May be implemented by pupils\n",
    "\n",
    "def normierung(my_array):\n",
    "    my_array = np.array(my_array)\n",
    "    summe = np.sum(my_array)\n",
    "    if summe == 0.0:\n",
    "        return np.array(my_array)\n",
    "    return (1./summe) * np.array(my_array)"
   ]
  },
  {
   "cell_type": "markdown",
   "metadata": {},
   "source": [
    "Die nun so normierten Histogrammeinträge sind:"
   ]
  },
  {
   "cell_type": "code",
   "execution_count": null,
   "metadata": {},
   "outputs": [],
   "source": [
    "a_hist_normiert = normierung(a_hist)\n",
    "print(a_hist)\n",
    "print(a_hist_normiert)"
   ]
  },
  {
   "cell_type": "markdown",
   "metadata": {},
   "source": [
    "Mithilfe dessen lässt sich im nächsten Schritt der Mittelwert berechnen:"
   ]
  },
  {
   "cell_type": "code",
   "execution_count": null,
   "metadata": {},
   "outputs": [],
   "source": [
    "# May be implemented by pupils\n",
    "\n",
    "def mittelwert_histogramm(my_array):\n",
    "    my_array = np.array(my_array) if np.sum(my_array) == 1.0 else normierung(my_array)\n",
    "    # return sum(i* item for i, item in enumerate(my_array, start=1))\n",
    "    my_bins = np.array([i for i in range(1, len(my_array) + 1)])\n",
    "    return np.sum(my_bins * my_array)"
   ]
  },
  {
   "cell_type": "code",
   "execution_count": null,
   "metadata": {},
   "outputs": [],
   "source": [
    "print(mittelwert(a))\n",
    "print(mittelwert_histogramm(a_hist))\n",
    "print(mittelwert_histogramm(a_hist_normiert))"
   ]
  },
  {
   "cell_type": "markdown",
   "metadata": {},
   "source": [
    "Die nächste Größe ist die Standardabweichung der Gesamtmessung, wobei hier wieder die Standardabweichung der Gesamtmessung für das Histogramm anders berechnen lässt:"
   ]
  },
  {
   "cell_type": "code",
   "execution_count": null,
   "metadata": {},
   "outputs": [],
   "source": [
    "# May be implemented by pupils\n",
    "\n",
    "def standardabweichung(my_array):\n",
    "    mittelwert_ = mittelwert(my_array)\n",
    "    return np.sqrt((1./(len(my_array - 1))) * np.sum((my_array - mittelwert_) ** 2))\n",
    "\n",
    "def standardabweichung_histogramm(my_array):\n",
    "    my_array = np.array(my_array) if np.sum(my_array) == 1.0 else normierung(my_array)\n",
    "    mittelwert_ = mittelwert_histogramm(my_array)\n",
    "    # return np.sqrt(sum((i - mittelwert_) ** 2 * item for i, item in enumerate(my_array, start=1)))\n",
    "    my_bins = np.array([i for i in range(1, len(my_array) + 1)])\n",
    "    varianz = np.sum((my_bins - mittelwert_) ** 2 * my_array)\n",
    "    return np.sqrt(varianz)"
   ]
  },
  {
   "cell_type": "code",
   "execution_count": null,
   "metadata": {},
   "outputs": [],
   "source": [
    "print(standardabweichung(a))\n",
    "print(standardabweichung_histogramm(a_hist_normiert))"
   ]
  },
  {
   "cell_type": "markdown",
   "metadata": {},
   "source": [
    "Ebenfalls ist es interessant die Frage: mit welcher Unsicherheit es zum Beispiel genau fünf Würfe gab, zu beantworten. Hierzu kann jeder Bineintrag als ein eigenständiger Poisson Prozess betrachtet werden. Die Unsicherheit ist im einfachsten Fall gegeben als die Wurzel der Ereignisse."
   ]
  },
  {
   "cell_type": "code",
   "execution_count": null,
   "metadata": {},
   "outputs": [],
   "source": [
    "# May be implemented by pupilsa\n",
    "\n",
    "def unsicherheit_poisson(array):\n",
    "    return np.sqrt(array)"
   ]
  },
  {
   "cell_type": "code",
   "execution_count": null,
   "metadata": {},
   "outputs": [],
   "source": [
    "print(unsicherheit_poisson(2))\n",
    "print(a_hist)\n",
    "print(unsicherheit_poisson(a_hist))"
   ]
  },
  {
   "cell_type": "markdown",
   "metadata": {},
   "source": [
    "Für die grafische Darstellung werden nun alle Funktionen zusammengefasst. Es ist noch sinnvoll eine Skalierung der simulierten Ereignisse an die Menge der durchgeführten Messungen durchzuführen. Dadurch wird eine Vergleichbarkeit der Erwartung mit der tatsächlichen Messung erreicht. Für eine gute Vorhersage ist es sinnvoll eine größere Menge an Ereignissen zu simulieren, um dann mit der eigentlichen Messung zu vergleichen."
   ]
  },
  {
   "cell_type": "code",
   "execution_count": null,
   "metadata": {},
   "outputs": [],
   "source": [
    "# May be implemented by pupils\n",
    "\n",
    "def skalierung_der_simulation_an_die_messung(messung):\n",
    "    return 1.0 if np.sum(messung) == 0.0 else np.sum(messung)"
   ]
  },
  {
   "cell_type": "markdown",
   "metadata": {},
   "source": [
    "Zusatz:  \n",
    "Am Schluss soll eine Größe Implementiert werden das Bewerten soll, ob die vorhandene Messung aus der simulierten Verteilung stammt. Als Beispiel wird der $p_0$ Wert genommen, der aus der $\\chi^2$ berechnet wird die für ein Histogramm wie folgt definiert ist: $$ \\chi^2 = \\sum_{i=1}^N \\frac{(n_i - y_i)^2}{\\sigma_i^2} \\, .$$ $\\sigma_i$ ist die Unsicherheit des jeweiligen Bineintrags und entspricht $\\sqrt{y_i}$. $y_i$ ist die Erwartete ANzahl an Ereignissen in einem Bineintrag ausgehend von der an die Messung skalierten Simulation des jeweiligen Bins. $n_i$ ist die Anzahl an gemessenen Ereignissen in dem jeweiligen Bin. Der so berechnete Wert kann in ein $p$ Wert übersetzt werden. Dieser ist ein Maß für die Bestätigung einer Hypothese und sagt aus, ob die Messung die Erwartung bestätigt. Nach Definition ist dieser eine Wahrscheinlichkeit die beobachtete Messung zu erhalten unter der Bedingung, dass die verwendete Hypothese stimmt. Sollte $p_0$ einen vorher festgelegten Wert unterschreiten (gewählt wird oft $0,05$ oder $0,01$) so kann die gewählte Hypothese - die Erwartungen $y_i$ zugunsten einr neuen Hypothese verworfen werden.\n",
    "\n",
    "TODO: mehr Motivation  \n",
    "Anmerkung: Es können auch andere Größen Implementiert werden die eine statistische Bewertung durchführen."
   ]
  },
  {
   "cell_type": "code",
   "execution_count": null,
   "metadata": {},
   "outputs": [],
   "source": [
    "import scipy\n",
    "\n",
    "def p0_aus_chi2(messung, erwartung):\n",
    "    # (mess, erw) ist ein Paar aus den Paaren (messung, erwartung)\n",
    "    chi2_ = sum((1.0/erw) * (mess - erw) ** 2 for (mess, erw) in zip(messung, erwartung) if float(erw) != 0.0)\n",
    "    # Übersetzung in die Wahrscheinlichkeit dass die Messung der Erwartung entspricht\n",
    "    p0_ = 1.0 - scipy.stats.chi2.cdf(chi2_, df=len(messung) - 1)\n",
    "    # Rückgabe: Name der Größe und die Größe selbst (für die Konvertierung)\n",
    "    return \"p_0\", p0_"
   ]
  },
  {
   "cell_type": "markdown",
   "metadata": {},
   "source": [
    "Zusammenfassung der erstellten Funktionen in einer Klasse (nur relevant für die Übergabe der Klasse an die Anwendung). Es sollen alle Funktionen zugewiesen werden."
   ]
  },
  {
   "cell_type": "code",
   "execution_count": null,
   "metadata": {},
   "outputs": [],
   "source": [
    "class OwnCalculations(object):\n",
    "    pass\n",
    "\n",
    "# ggf. durch eine andere Funktion ersetzen\n",
    "OwnCalculations.own_pdf_measurement_one = my_random_dice_roll_simulation\n",
    "\n",
    "OwnCalculations.own_pdf_simulation_one = my_random_dice_roll_simulation\n",
    "OwnCalculations.own_mean = mittelwert\n",
    "OwnCalculations.own_std = standardabweichung\n",
    "OwnCalculations.own_norm = normierung\n",
    "OwnCalculations.own_measurement_scale = skalierung_der_simulation_an_die_messung\n",
    "OwnCalculations.own_individual_std = unsicherheit_poisson\n",
    "OwnCalculations.own_stat_evaluation = p0_aus_chi2"
   ]
  },
  {
   "cell_type": "markdown",
   "metadata": {},
   "source": [
    "Importierung der grafischen Anwendung:"
   ]
  },
  {
   "cell_type": "code",
   "execution_count": null,
   "metadata": {},
   "outputs": [],
   "source": [
    "from include.widget.WuerfelWidget import WidgetWuerfel as WW"
   ]
  },
  {
   "cell_type": "markdown",
   "metadata": {},
   "source": [
    "`b_num` gibt die Anzahl an \"Würfelseiten\" an. Das Argument `calc_class` entspricht der Klasse, die alle vorhergehenden Funktionen zusammenfasst."
   ]
  },
  {
   "cell_type": "code",
   "execution_count": null,
   "metadata": {},
   "outputs": [],
   "source": [
    "WW(f_width=700, f_height=700, f_bottom=0.09, f_left=0.09, b_num=6, g_width=900, calc_class=OwnCalculations)"
   ]
  },
  {
   "cell_type": "markdown",
   "metadata": {},
   "source": [
    "Anmerkung: Es ist möglich durch eine Neustrukturierung einzelne Funktion der Anwendung nach deren Implementierung darzustellen. Es soll jedoch bedacht werden, dass manche Funktionen ineinander greifen, wodurch eine komplette Abkapselung nicht möglich ist."
   ]
  },
  {
   "cell_type": "code",
   "execution_count": null,
   "metadata": {},
   "outputs": [],
   "source": []
  }
 ],
 "metadata": {
  "kernelspec": {
   "display_name": "venv",
   "language": "python",
   "name": "venv"
  },
  "language_info": {
   "codemirror_mode": {
    "name": "ipython",
    "version": 3
   },
   "file_extension": ".py",
   "mimetype": "text/x-python",
   "name": "python",
   "nbconvert_exporter": "python",
   "pygments_lexer": "ipython3",
   "version": "3.8.2"
  },
  "varInspector": {
   "cols": {
    "lenName": 16,
    "lenType": 16,
    "lenVar": 40
   },
   "kernels_config": {
    "python": {
     "delete_cmd_postfix": "",
     "delete_cmd_prefix": "del ",
     "library": "var_list.py",
     "varRefreshCmd": "print(var_dic_list())"
    },
    "r": {
     "delete_cmd_postfix": ") ",
     "delete_cmd_prefix": "rm(",
     "library": "var_list.r",
     "varRefreshCmd": "cat(var_dic_list()) "
    }
   },
   "types_to_exclude": [
    "module",
    "function",
    "builtin_function_or_method",
    "instance",
    "_Feature"
   ],
   "window_display": false
  }
 },
 "nbformat": 4,
 "nbformat_minor": 4
}
