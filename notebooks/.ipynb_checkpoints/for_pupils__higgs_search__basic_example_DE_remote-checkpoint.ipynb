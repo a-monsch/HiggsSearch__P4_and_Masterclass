{
 "cells": [
  {
   "cell_type": "markdown",
   "metadata": {},
   "source": [
    "Version 0.0.2\n",
    "\n",
    "Für die grafische Anwendung und die Ereignisse für das Ispy-WebGL muss die for_masterclass.zip im Ordner `data` entpackt werden.\n",
    "Die `.ig` Dateien müssen nach der durchgeführten Mischung/Unterteilung im Ispy-WebGL importiert werden. Die detaillierten Informationen zu den importierten `.ig` Dateien finden sich unter `detailed_information`."
   ]
  },
  {
   "cell_type": "markdown",
   "metadata": {},
   "source": [
    "Im Rahmen dieser Aufgabe sollen die Schüler die Möglichkeit erhalten Ereignisbilder bestimmten Zerfällen zuzuordnen und durch die Zusammenfassung der Ergebnisse Aussagen über die Signifikanz zu treffen einen bestimmten Überschuss festgestellt zu haben."
   ]
  },
  {
   "cell_type": "code",
   "execution_count": null,
   "metadata": {},
   "outputs": [],
   "source": [
    "import sys\n",
    "from IPython.core.display import display, HTML\n",
    "display(HTML(\"<style>.container { width:100% !important; }</style>\"))\n",
    "\n",
    "sys.path.append(\"..\")\n",
    "\n",
    "from include.RandomHelper import check_data_state\n",
    "check_data_state()"
   ]
  },
  {
   "cell_type": "markdown",
   "metadata": {},
   "source": [
    "Die im Rahmen dieser Aufgabe verwendeten Ereignisbilder sind aus den [veröffentlichten Datensätzen aus dem Jahr 2012](http://opendata.cern.ch/record/5500) entnommen worden. In dem 'data' Ordner befinden sich beispielhaft Ereignisse, die einen Zerfall in zwei Z-Bosonen und anschließend vier Leptonen beinhalten. Ebenfalls sind darin Zerfälle in zwei Photonen oder zwei W-Bosonen und anschließenden zwei Leptonen und zwei Neutrinos. Die nicht $H\\rightarrow ZZ \\rightarrow 4\\ell$ Zerfälle sollen die unterschiedlichen Zerfallsmöglichkeiten aufzeigen. Für die anschließende Zusammenfassung der Ereignisse werden nur die Zerfälle in vier Leptonen verwendet. Die Darstellung erfolgt mithilfe vom [Ispy-webgl-Interface](http://ispy-webgl.web.cern.ch/ispy-webgl/)<sup>[1](https://iopscience.iop.org/article/10.1088/1742-6596/396/2/022022)</sup>.\n",
    "\n",
    "\n",
    "Die Aufgabe der Schüler besteht darin in den vorgewählten Ereignissen bestimmte Zerfälle zu finden und eine invariante Masse für den Fall eines Zerfalls in vier Leptonen zu bestimmen. \n",
    "Die noch fehlendne Größen wie die Komponenten der einzelnen Viererimpulse können von den Schülern durch das Anwenden von Grundlagen der Vektorrechnung bestimmt werden (Siehe dazu beispielhaft `get_energy_px_py_pz` weiter unten).\n",
    "Mithilfe dieser und weiterer Größen können die Schüler nach $$M_{\\mathrm{inv}}=\\sqrt{\\left( \\sum_i E_i \\right)^2 - \\left( \\sum_i \\vec{p}_i \\right)^2}\\, ,$$ die invariante Masse bestimmen. Die Fragestellungen der elektrischen Ladungen der aus dem Z-Boson zerfallenen Leptonen oder die Kombination von Leptonen nur aus den gleichen Familien können aus den zusätzlichen Informationen im Ispy-webgl-Interface beim Betrachten einzelner ausgewählten Teilchen entnommen werden.\n",
    "\n",
    "Für die Berechnung von Invarianten Massen oder anderen für sie wichtigen Größen steht es den Schülern frei Funktionen selbst zu erstellen/erstellte Funktionen zu verwenden."
   ]
  },
  {
   "cell_type": "code",
   "execution_count": null,
   "metadata": {},
   "outputs": [],
   "source": [
    "# May be implemented by pupils\n",
    "import numpy as np\n",
    "\n",
    "def get_energy_px_py_pz(pt:list, eta:list, phi:list):\n",
    "    pt, eta, phi = np.array(pt), np.array(eta), np.array(phi)\n",
    "    # eta = -ln(tan(theta/2))\n",
    "    theta = 2 * np.arrayctan(np.exp(-eta))\n",
    "    p = pt / np.cos(np.pi / 2. - theta)\n",
    "    px, py, pz = pt * np.cos(phi), pt * np.sin(phi), np.sqrt(p ** 2 - pt ** 2)\n",
    "    # m << E: \n",
    "    energy = p\n",
    "    return energy, px, py, pz\n",
    "    \n",
    "def invariant_mass_four_lepton(px: list, py: list, pz:list, energy=None):\n",
    "    px, py, pz= np.array(px), np.array(py), np.array(pz)\n",
    "    energy_sum = np.sum(energy) if energy is not None else np.sum(np.sqrt(px ** 2 + py ** 2 + pz ** 2))\n",
    "    return np.sqrt(energy_sum ** 2 - (np.sum(px) ** 2 + np.sum(py) ** 2 + np.sum(pz) ** 2))\n",
    "\n",
    "#..."
   ]
  },
  {
   "cell_type": "markdown",
   "metadata": {},
   "source": [
    "$\\eta$ die Pseudorapidität, eine räumliche Koordinate, die den Winkel zwischen einem Vektor und der Strahlenachse angibt und wird in der obigen Funktion wieder in den Raumwinkel $\\theta$ umgerechnet. Die Strahlenachse zeigt in die z-Richtung. Der Transversalimpuls liegt in der x-y-Ebene und wird durch seine Länge und dem Azimutalwinkel $\\phi$ beschrieben.\n",
    "\n",
    "Für die Berechnung der Energie ($E^2 = m^2 + p^2 \\stackrel{p\\gg m}{\\approx} p^2$) wird der Umstand genutzt, dass die betrachteten Impulse (> 5 GeV) deutlich größer sind als die Ruhemassen der Elektronen (0,51 MeV) bzw. Myonen (105,7 MeV)."
   ]
  },
  {
   "cell_type": "code",
   "execution_count": null,
   "metadata": {},
   "outputs": [],
   "source": [
    "# possible calculations\n",
    "\n",
    "# my_pt = []\n",
    "# my_eta = []\n",
    "# my_phi = []\n",
    "\n",
    "# my_energy, my_px, my_py, my_pz = get_energy_px_py_pz(pt=my_pt, eta=my_eta, phi=my_phi)\n",
    "# my_mass = invariant_mass_four_lepton(px=my_px, py=my_py, pz=my_pz, energy=my_energy)\n",
    "# print(my_mass)"
   ]
  },
  {
   "cell_type": "markdown",
   "metadata": {},
   "source": [
    "Die Darstellung erfolgt mithilfe des [IspyWebGL](https://zenodo.org/record/3886676) Interfaces des CMS-Detektors. Das Laden der Ereignisse erfolgt wie folgt: Die gewünschten IG-Dateien können in dem Ordner `data/for_event_display_ig_files` über die `Download` Option temporär gespeichert werden und anschließend über die IspyWebGL Option `Open` eingelesen werden."
   ]
  },
  {
   "cell_type": "code",
   "execution_count": null,
   "metadata": {},
   "outputs": [],
   "source": [
    "%%html\n",
    "<iframe src=\"https://ispy-webgl.web.cern.ch/ispy-webgl/\" width=\"100%\" height=\"700\"></iframe>"
   ]
  },
  {
   "cell_type": "markdown",
   "metadata": {},
   "source": [
    "Die Ergebnisse können die Schüler anschließend in der grafischen Anwendung zum Histogramm zusammentragen."
   ]
  },
  {
   "cell_type": "code",
   "execution_count": null,
   "metadata": {},
   "outputs": [],
   "source": [
    "from include.widget.HiggsWidgetMyBinderVersion import HiggsWidget as HW"
   ]
  },
  {
   "cell_type": "code",
   "execution_count": null,
   "metadata": {},
   "outputs": [],
   "source": [
    "hw = HW(language=\"DE\")\n",
    "hw.run"
   ]
  },
  {
   "cell_type": "markdown",
   "metadata": {},
   "source": [
    "Unter 'Ansicht - MC Simulationen an' können die Simulationen von Higgs Hypothesen für andere Higgs Massen betrachtet werden und unter 'Ansicht - Signal MC Skalierung an' passend skaliert werden.\n",
    "\n",
    "Für die Bewertung, welches der Signal Simulationen am passendsten ist, soll eine Größe von Schülern bestimmt (und implementiert) werden, die einen Unterschied zwischen zwei Hypothesen quantifiziert. In `for_pupils_statistcs_basic_examples_v_0-0-1_DE` wird der Signifikanzwert $p_0$, bestimmt aus $\\chi^2$ zur Bewertung einer Hypothese vorgestellt. Nun sollen direkt zwei Hypothesen miteinander verglichen werden ($H_0$: nur Untergrund (blau) bzw. $H_{1, i}$: Untergrund und eine Signalhypothese der Masse $m_i$). Die Wahl dieser Größe steht einem frei zur Auswahl und kann durch die Modifikation der nachfolgenden Funktion entsprechend angepasst und verändert werden.\n",
    "\n",
    "Vorgestellt wird das Verhältnis aus zwei [Likelihood-Funktionen](https://de.wikipedia.org/wiki/Likelihood-Funktion). Eine Likelihood Funktion kann als eine Gesamtwahrscheinlichkeit interpretiert werden die Messung $\\{X_1, X_2, ... X_n \\}$ unter einer bekannten Wahrscheinlichkeit der einzelnen Ereignisse in beliebiger Reihenfolge zu messen. Um das Beispiel aus `for_pupils_statistcs_basic_examples_v_0-0-1_DE` zu verwenden: Wie Wahrscheinlich ist es bei einem idealen Würfel $\\{1,1,2,6,3\\}$ zu messen?\n",
    "\n",
    "Die Antwort (Wenn noch zusätzlich die Reihenfolge nicht von Bedeutung ist, so kommt noch ein zusätzlicher Faktor als Anzahl der möglichen Kombinationen hinzu, der jedoch später beim Bilden des Verhältnises sich wieder rauskürzt): $$P_{\\mathrm{tot}} = \\prod_{X_i\\in \\{1,1,2,6,3\\}} P(X_i) = P(1)\\cdot P(1)\\cdot P(2)\\cdot P(6)\\cdot P(3) = \\frac{1}{6^5} \\, .$$\n",
    "Die Likelihood-Funktion kann wie folgt definiert werden: $$\\mathcal{L} = \\prod_{X_i}^N P(X_i)\\, ,$$ und ist damit ähnlich zu $P_{\\mathrm{tot}}$. Die Wahrscheinlichkeit einzelne Ereignisse zu erhalten kann auch als eine Funktion ausgedrückt werden, wenn die Ereignisse nicht mehr diskret, sondern kontinuierlich sind. In der Anwendung werden nur Histogramme betrachtet. Für diese lässt sich $P(X_i)$ schreiben als: $$ P(X_i) = \\frac{A_i^{X_i} }{X_i!} \\mathrm{e}^{-A_i} \\, $$ was der Poisson Statistik entspricht. $X_i$ ist die Anzahl an gemessenen Ereignissen in einem Bin des Histogramms, $A_i$ die erwartete Anzahl an Ereignissen in dem jeweiligen Bin. In dem Verhältnis der zwei Likelihood Funktionen ist einmal $A_i =A_{i,U}$ für nur den Untergrund und $A_{i, U+S}$, das den Untergrund und ein Signal darstellt. Um das Verhältnis numerisch gut berechnen zu können wird der Logarithmus von dem Verhältnis bestimmt.\n"
   ]
  },
  {
   "cell_type": "code",
   "execution_count": null,
   "metadata": {},
   "outputs": [],
   "source": [
    "# Exemplary code\n",
    "\n",
    "def statistische_beurteilung(measurement,  # Messung\n",
    "                             background_simulation,  # Simulation des Untergrundes\n",
    "                             signal_simulation,  # Simulation des Signals\n",
    "                             background_name=\"b\",  # Name des Untergrundes (optional)\n",
    "                             signal_name=\"s\"  # Name des Signals (optional)\n",
    "                             ):\n",
    "\n",
    "    # Logarithmus der Likelihoodfunktion für nur Untergrund\n",
    "    b_nll = sum(bac_s - m + m * np.log(m / bac_s) for (m, bac_s) in zip(measurement,\n",
    "                                                                        background_simulation) if float(m) != 0.0)\n",
    "    # Logarithmus der Likelihoodfunktion für nur Untergrund und Signalsimulation\n",
    "    bs_nll = sum((bac_s + sig_s) - m + m * np.log(m / (bac_s + sig_s)) for (m, bac_s, sig_s) in zip(measurement, \n",
    "                                                                                                    background_simulation, \n",
    "                                                                                                    signal_simulation) if float(m) != 0.0)\n",
    "    \n",
    "    # Verhältnis der zwei ln(L) Funktionen. \n",
    "    # Der Faktor 2 ist der Einfachheit halber zum Vergleich mit anderen Größen eingeführt\n",
    "    nlr_ = 2 * (b_nll - bs_nll)\n",
    "    # wir wollen nur einen Überschuss an Ereignissen Feststellen. Das entspricht nur einem positiven Verhältnis\n",
    "    q0_ = np.round(nlr_, 3) if nlr_ > 0 else 0\n",
    "    \n",
    "    # Bennennung optional\n",
    "    bn_, sn_ = background_name, signal_name\n",
    "    #name_ = f\"$ 2 \\\\ln \\\\left( \\\\dfrac{{ \\\\mathcal{{L}}_{{ {bn_} + {sn_} }} }}{{ \\\\mathcal{{L}}_{{ {bn_} }} }}  \\\\right)$\"\n",
    "    name_ = f\"2 $\\mathrm{{lnLR}}_{{ {sn_} }}$\"\n",
    "    \n",
    "    # Die Rückgabe muss ein Tupel aus dem Namen (str) und dem Wert (float/int) sein\n",
    "    return name_, q0_"
   ]
  },
  {
   "cell_type": "markdown",
   "metadata": {},
   "source": [
    "Je größer der Wert aus dem Verhältnis der beiden Likelihood-Funktionen ist, desto besser passt die Kombination aus Signal und Untergrund anstatt des alleinigen Untergrundes. Die Wahl eines Grenzwertes, an dem die Hypothese $H_0$ verworfen wird, ist dabei bis zu einem gewissen Grad willkürlich. Für einen hohen Wert wird die Wahrscheinlichkeit der Zurückweisung der Nullhypothese $H_0$ obwohl diese richtig ist verringert ([Fehler erster Art](https://de.wikipedia.org/wiki/Fehler_1._und_2._Art#Fehler_1._Art)), jedoch nicht ausgeschlossen. Die Problematik der Bestätigung der Nullhypothese, obwohl die Alternativhypothese wahr ist ([Fehler zweiter Art](https://de.wikipedia.org/wiki/Fehler_1._und_2._Art#Fehler_2._Art)) geschieht, wenn die Signalstärke nicht von den natürlichen Fluktuationen, die bei solchen Messungen immer auftreten, zu unterscheiden ist.\n",
    "\n",
    "Die Motivation hinter der Betrachtung des Verhältnisses der beiden Likelihoods besteht darin, dass bereits für sehr geringe Anzahl an Ereignissen (wie es in diesem Beispiel der Fall ist) eine analytische Form zur Beschreibung des p Wertes (die genaue Herleitung ist an dieser Stelle nicht so wichtig) gefunden werden kann und keine aufwändigen zusätzlichen Betrachtungen notwendig sind. Der so bestimmbare p Wert kann einfach in ein Wert für die Signifikanz umgerechnet werden: Das entspricht gerade der Wurzel des Verhältnisses.\n",
    "\n",
    "$N \\sigma$ entspricht damit der Fläche unter der Ausschweifung einer Gaußverteilung, beginnend $N \\sigma$ weit weg von dem Mittelwert und entspricht der Wahrscheinlichkeit (p Wert, siehe das Notebook zu statistischen Grundlagen), dass die beobachtete Messung rein zufälliger Natur ist. In anderen Wissenschaften typischer p-Wert beträgt $0.05$ was etwa $1.96 \\sigma$ entspricht. In der experimentellen Teilchenphysik muss dagegen bereits für ein Indiz die $3\\sigma$ Grenze überschritten werden ($p=2,7 \\cdot 10^{-3}$). Von einer Entdeckung in der Experimentalphysik spricht man ab einem Wert größer als $5\\sigma$ ($p=5,7 \\cdot 10^{-7}$). Mit den für diesen Versuch bereitgestellten Messungen kann von den Schülern das Indiz für ein Higgs Boson festgestellt werden.\n",
    "\n",
    "Die Signalverteilungen werden mit der bekannten Theorie erstellt. Die Abweichung der jeweiligen Skalierung von dem Faktor 1 kann zudem darauf hindeuten, dass in der Theorie mögliche Berücksichtigungen nicht vollständig erfasst sind. Gleichzeitig muss die Fluktuation der Messung mitberücksichtigt werden, das ebenfalls in einer Skalierung von $\\mu$ resultiert - es ist nur möglich ganzzahlige Ereignisse zu messen. Die nicht ganzzahligen Vorhersagen resultieren aus der Skalierung der Simulation an die integrierte Luminosität der Messung, ähnlich wie in `for_pupils_statistcs_basic_examples_v_0-0-1_DE`.\n",
    "\n",
    "\n",
    "Die Schüler sollen somit unter der Berücksichtigung der skalierten Signalverteilungen und der vorherigen Festlegung einer Grenze, die der Wert das Verhältnis überschreiten muss, die am besten passendste Signalsimulation bestimmen."
   ]
  },
  {
   "cell_type": "code",
   "execution_count": null,
   "metadata": {},
   "outputs": [],
   "source": [
    "hw.stat_eval_func = statistische_beurteilung\n",
    "hw.run"
   ]
  },
  {
   "cell_type": "code",
   "execution_count": null,
   "metadata": {},
   "outputs": [],
   "source": []
  }
 ],
 "metadata": {
  "kernelspec": {
   "display_name": "Python 3",
   "language": "python",
   "name": "python3"
  },
  "language_info": {
   "codemirror_mode": {
    "name": "ipython",
    "version": 3
   },
   "file_extension": ".py",
   "mimetype": "text/x-python",
   "name": "python",
   "nbconvert_exporter": "python",
   "pygments_lexer": "ipython3",
   "version": "3.8.2"
  },
  "varInspector": {
   "cols": {
    "lenName": 16,
    "lenType": 16,
    "lenVar": 40
   },
   "kernels_config": {
    "python": {
     "delete_cmd_postfix": "",
     "delete_cmd_prefix": "del ",
     "library": "var_list.py",
     "varRefreshCmd": "print(var_dic_list())"
    },
    "r": {
     "delete_cmd_postfix": ") ",
     "delete_cmd_prefix": "rm(",
     "library": "var_list.r",
     "varRefreshCmd": "cat(var_dic_list()) "
    }
   },
   "types_to_exclude": [
    "module",
    "function",
    "builtin_function_or_method",
    "instance",
    "_Feature"
   ],
   "window_display": false
  }
 },
 "nbformat": 4,
 "nbformat_minor": 4
}
