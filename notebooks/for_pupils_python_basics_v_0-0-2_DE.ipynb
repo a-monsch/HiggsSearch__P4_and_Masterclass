{
 "cells": [
  {
   "cell_type": "markdown",
   "metadata": {},
   "source": [
    "# Python - einleitende Grundlagen\n",
    "-----------------------------------------------------"
   ]
  },
  {
   "cell_type": "markdown",
   "metadata": {},
   "source": [
    "Dieses Notebook soll eine Einleitung bilden, um sich mit der Programmiersprache Python besser vertrau zu machen.\n",
    "Warum eigentlich Python?\n",
    "\n",
    "> \"Python, [...] eine universelle, üblicherweise interpretierte, höhere Programmiersprache[, die den] Anspruch [hat], einen gut lesbaren, knappen Programmierstil zu fördern.\" -[Wikipedia](https://de.wikipedia.org/wiki/Python_%28Programmiersprache%29)\n",
    "\n",
    "Damit qualifiziert sich Python zu einer Programmiersprache, die zum Einstieg ins Programmieren benutzt werden kann. Mit Python ist es einfach grundlegende Konzepte kurz und leserlich darzubringen, unbekannten Code zu verstehen oder neuen Code ohne größeren Aufwand zu erstellen bzw. bereits erstellten Code zu ergänzen.\n",
    "\n",
    "In dem Notebook werden periodisch zu neuen Konzepten auch kleinere Aufgaben angeboten, an denen das bereits gesammelte Wissen kombiniert und angewendet werden kann."
   ]
  },
  {
   "cell_type": "markdown",
   "metadata": {},
   "source": [
    "Starten wir mit einem typischen Beispiel:"
   ]
  },
  {
   "cell_type": "code",
   "execution_count": null,
   "metadata": {},
   "outputs": [],
   "source": [
    "# Kommentar\n",
    "# Kommentare haben keinen Einfluss auf das Programm beim Ausführen.\n",
    "\n",
    "print(\"Hello World\")"
   ]
  },
  {
   "cell_type": "markdown",
   "metadata": {},
   "source": [
    "Von `\"\"` bzw `''` eingeschlossene Ausdrücke werden als Strings bezeichnet. `print` ist eine Funktion, erkenntlich an den nachfolgenden Klammern, die das Argument `\"Hello World\"` umschließen. Der Begriff der Funktion wird vorerst nicht weiter vertieft. Python kommt von sich aus mit einer breiten Sammlung an Standardbibliotheken (\"Batterien und das Schweizer Taschenmesser sind im Lieferumfang enthalten\")."
   ]
  },
  {
   "cell_type": "markdown",
   "metadata": {},
   "source": [
    "## Datentypen und Operatoren\n",
    "-----------------------------------------"
   ]
  },
  {
   "cell_type": "markdown",
   "metadata": {},
   "source": [
    "Fangen wir zunächst mit einem einfachen Beispiel an. Das Ziel ist es den Computer eine Addition durchzuführen zu lassen. Dies soll interaktiv geschehen, indem der Benutzer zwei Zahlen eingibt. In einer Ausgabe wird die Summe dieser beiden Zahlen ausgegeben.\n",
    "\n",
    "Das Pendant zu der `print()` Funktion, der Ausgabe, ist die `input()` Funktion, die Eingabe. Mithilfe dieser kann der Benutzer zwei Zahlen festlegen. Der entsprechende Code lässt sich zunächst wie folgt realisieren:"
   ]
  },
  {
   "cell_type": "code",
   "execution_count": null,
   "metadata": {},
   "outputs": [],
   "source": [
    "# Ausführen und den Variablen a und b einen Wert zuweisen:\n",
    "\n",
    "a = input()\n",
    "b = input()\n",
    "\n",
    "print(f\"a wurde {a} zugewiesen\")\n",
    "print(f\"b wurde {b} zugewiesen\")"
   ]
  },
  {
   "cell_type": "markdown",
   "metadata": {},
   "source": [
    "Damit wäre der erste Schritt getan. Das `=` ist dabei ein Zuweisungoperator, entspricht nicht dem mathematischen '=' und weist der zuvor gewählen Variable (links) einen in diesem Fall Wert (rechts) zu.\n",
    "\n",
    "Auffällig ist das `f` vor dem String und `{a}` bzw. `{b}` das im String auftauchen. Ein String mit dem vorgestelltem `f` ist ein \"formated\" String. `{}` ist ein Platzhalter für beliebige Variablen oder logische Ausdrücke. Der Vorteil dieser Strings ist, dass eine umständliche explizite Konvertierung von Variablen in einen String umgangen wird und die Lesbarkeit erhalten bleibt. Aus diesem Grund wird im Weiteren öfters darauf zugegriffen."
   ]
  },
  {
   "cell_type": "markdown",
   "metadata": {},
   "source": [
    "Machen wir mit dem Beispiel weiter. Den Variablen `a` und `b` wurden bestimmte Werte zugewiesen. Diese können analog zu der Mathematik mittels `+` Operators addiert werden. Das Ergebnis wird der Variable `c` zugewiesen."
   ]
  },
  {
   "cell_type": "code",
   "execution_count": null,
   "metadata": {},
   "outputs": [],
   "source": [
    "c = a + b\n",
    "\n",
    "print(f\"Die Summe aus {a} und {b} ist {c}\")"
   ]
  },
  {
   "cell_type": "markdown",
   "metadata": {},
   "source": [
    "Hoppla, da lief irgendetwas schief. Die Frage ist nur was, denn für Python sind keine Probleme aufgetreten. Die Aufgabe ist nun den Fehler zu finden. Jeder der noch keine Berührung mit dem Programmieren hatte sei an dieser Stelle nicht entmutigt, auch wenn die Fehlersuche einen nicht zu vernachlässigbaren Teil des Programmierens ausmacht. Wichtig ist es dieses Verhalten – in diesem Fall sogar einen leicht erklärbaren – zu verstehen und Schlüsse daraus zu ziehen und im besten Fall nicht mehr darüber zu stolpern oder eine Erklärung griffbereit zu haben, sobald ein ähnliches oder gleiches Verhalten beobachtet wird."
   ]
  },
  {
   "cell_type": "markdown",
   "metadata": {},
   "source": [
    "Für eine Analyse ist es in diesem Fall interessant den __Typ__ von der Variable `a` oder `b` zu betrachten. Hierzu eignet sich die Funktion `type()` die das zu betrachtende Objekt als Argument beinhaltet."
   ]
  },
  {
   "cell_type": "code",
   "execution_count": null,
   "metadata": {},
   "outputs": [],
   "source": [
    "type(a)"
   ]
  },
  {
   "cell_type": "markdown",
   "metadata": {},
   "source": [
    "`str` steht für String. Die Erwartung an `a` und `b` waren jedoch, dass es sich um Zahlen handelt. Offensichtlich verhält sich ein String anders als eine Zahl.\n",
    "\n",
    "Um weitere Informationen zum String, anderen Datentypen, die im Kapitel vorgestellt werden oder Funktion zu erhalten ist in Python die Funktion `help()` implementiert:"
   ]
  },
  {
   "cell_type": "code",
   "execution_count": null,
   "metadata": {},
   "outputs": [],
   "source": [
    "help(str)"
   ]
  },
  {
   "cell_type": "markdown",
   "metadata": {},
   "source": [
    "Die Ausgabe (`Output`) von `help(str)` enthält sehr viele Informationen. Für den Moment zu viele. Wir beschränken uns auf die kurze Erklärung, hauptsächlich auf die Zeile mit `str(object='') -> str`. Die nachfolgende Beschreibung und Methoden sind im Moment nicht wichtig. Es ist vorteilhaft sich zu merken, dass mittels `help()` die Dokumentation von fast allem, was in Python Implementiert ist wiedergegeben werden kann.\n",
    "\n",
    "Zurück zum Beispiel. Offensichtlich handelt es sich bei den Werten, die den Variablen `a` und `b` durch die `input()` Funktion zugewiesen wurden um Strings - eines der Datentypen in Python. Um herauszufinden, welchen Datentyp Zahlen haben kann wieder die Funktion `type()` verwendet werden und mittels 'print()' ausgegeben werden."
   ]
  },
  {
   "cell_type": "code",
   "execution_count": null,
   "metadata": {},
   "outputs": [],
   "source": [
    "print(type(1))\n",
    "print(type(1.1))\n",
    "print(type(1+2j))"
   ]
  },
  {
   "cell_type": "markdown",
   "metadata": {},
   "source": [
    "Es wird unterschieden zwischen __ganzen Zahlen__ (`int`), __Gleitkommazahlen__ (`float`) und __komplexen Zahlen__ (`complex`). Die `help()` Funktion ähnelt vom Aufbau der des Strings:"
   ]
  },
  {
   "cell_type": "code",
   "execution_count": null,
   "metadata": {},
   "outputs": [],
   "source": [
    "help(type(1.1))"
   ]
  },
  {
   "cell_type": "markdown",
   "metadata": {},
   "source": [
    "Die erste Zeile (`float(x) -> floating point number`) verrät die notwendige Vorgehensweise und die nachfolgende Erklärung fällt kürzer aus. Die notwendige Ergänzung sieht damit wie folgt aus:"
   ]
  },
  {
   "cell_type": "code",
   "execution_count": null,
   "metadata": {},
   "outputs": [],
   "source": [
    "a = input()\n",
    "b = input()\n",
    "\n",
    "# Konvertierung str->float/complex\n",
    "a, b = float(a), float(b)\n",
    "\n",
    "print(f\"Die Summe aus {a} und {b} ist {a + b}\")"
   ]
  },
  {
   "cell_type": "markdown",
   "metadata": {},
   "source": [
    "und scheint nun das gewünschte Ergebnis auszugeben. Bleiben wir zunächst einmal bei Zahlen. Der __Operator__ für die Addition wurde bereits vorgestellt. Zur Vollständigkeit:"
   ]
  },
  {
   "cell_type": "code",
   "execution_count": null,
   "metadata": {},
   "outputs": [],
   "source": [
    "1 + 1"
   ]
  },
  {
   "cell_type": "markdown",
   "metadata": {},
   "source": [
    "Die Subtraktion, Multiplikation und Division sind weitere __Rechenoperationen__. Python konvertiert das Ergebnis in `float`/`complex`, sobald eines der verwendeten Zahlen selbst ein `float`/`complex` ist oder wenn das Ergebnis nicht durch ein `int` dargestellt werden kann. Das Ergebnis ist dagegen immer Komplex, sobald eines der Elemente selbt komplex ist. Eine explizite Konvertierung beispielsweise in ein int kann wie oben durch `int(<zahl>)` erreicht werden."
   ]
  },
  {
   "cell_type": "code",
   "execution_count": null,
   "metadata": {},
   "outputs": [],
   "source": [
    "3 - 5.0, 3 * 3, 2 / 5, 2 / 3, 1 + 1j -1j"
   ]
  },
  {
   "cell_type": "markdown",
   "metadata": {},
   "source": [
    "Die Potenz wird durch `**` ausgedrückt und $\\cdot 10^{X}$ durch eX Zusatz:"
   ]
  },
  {
   "cell_type": "code",
   "execution_count": null,
   "metadata": {},
   "outputs": [],
   "source": [
    "3 ** 3, 1.2e2, 3 ** (-3), 1e-4"
   ]
  },
  {
   "cell_type": "markdown",
   "metadata": {},
   "source": [
    "Ebenfalls gibt es die ganzzahlige Division ohne den Rest und den Rest der ganzzahligen Division:"
   ]
  },
  {
   "cell_type": "code",
   "execution_count": null,
   "metadata": {},
   "outputs": [],
   "source": [
    "10 // 3, 10 % 3"
   ]
  },
  {
   "cell_type": "markdown",
   "metadata": {},
   "source": [
    "Zu jedem der Operatoren existieren die `+=`, `-=`, `*=` ... Varianten, die einer vereinfachten und verkürzten Darstellung verwendet werden können:"
   ]
  },
  {
   "cell_type": "code",
   "execution_count": null,
   "metadata": {},
   "outputs": [],
   "source": [
    "a = 1\n",
    "a_very_long_and_complex_variable_name = 1\n",
    "\n",
    "a = a + 1\n",
    "a_very_long_and_complex_variable_name += 1\n",
    "\n",
    "print(f\"a = {a}, a_very_long_and_complex_variable_name = {a_very_long_and_complex_variable_name}\")"
   ]
  },
  {
   "cell_type": "markdown",
   "metadata": {},
   "source": [
    "__Logische Operatoren__, von denen die grundlegenden Vorgestellt werden:"
   ]
  },
  {
   "cell_type": "code",
   "execution_count": null,
   "metadata": {},
   "outputs": [],
   "source": [
    "a, b = 1, 2\n",
    "are_same = a == b"
   ]
  },
  {
   "cell_type": "code",
   "execution_count": null,
   "metadata": {},
   "outputs": [],
   "source": [
    "print(f\" a > b: {a > b}, a <= b: {a <= b}, a == b: {are_same}, a != b: {a != b}\")"
   ]
  },
  {
   "cell_type": "markdown",
   "metadata": {},
   "source": [
    "Zudem ist es möglich mithilfe von `not`, `and` und `or` mehrere Ausdrücke weiter miteinander zu verbinden:"
   ]
  },
  {
   "cell_type": "code",
   "execution_count": null,
   "metadata": {},
   "outputs": [],
   "source": [
    "print(f\" (a < b) ∧ (a != b): {(a < b) and (a != b)}\")"
   ]
  },
  {
   "cell_type": "markdown",
   "metadata": {},
   "source": [
    "<div class=\"alert alert-info\">       \n",
    "Aufgabe: \n",
    "    \n",
    "Erstellen sie einen logischen Ausdruck der folgendes auswertet: `a` oder `b` ist ein `int` ist und `a` ist positiv oder größer als `b`.\n",
    "</div>"
   ]
  },
  {
   "cell_type": "code",
   "execution_count": null,
   "metadata": {},
   "outputs": [],
   "source": [
    "# Code"
   ]
  },
  {
   "cell_type": "markdown",
   "metadata": {},
   "source": [
    "---------------------------------------------------------------\n",
    "Kommen wir zu dem bereits erwähntem Datentyp, dem __String__:"
   ]
  },
  {
   "cell_type": "code",
   "execution_count": null,
   "metadata": {},
   "outputs": [],
   "source": [
    "a = \"Hello\"\n",
    "b = \"World\"\n",
    "leerzeichen = \" \""
   ]
  },
  {
   "cell_type": "markdown",
   "metadata": {},
   "source": [
    "Das Verhalten der Strings unter der Anwendung von Operatoren unterscheidet sich, wie bereits am Beispiel der Summe dargestellt, von den der Zahlen:"
   ]
  },
  {
   "cell_type": "code",
   "execution_count": null,
   "metadata": {},
   "outputs": [],
   "source": [
    "c = a + leerzeichen + b\n",
    "d = (a + leerzeichen) * 2 + b\n",
    "print(c)\n",
    "print(d)"
   ]
  },
  {
   "cell_type": "markdown",
   "metadata": {},
   "source": [
    "Nicht alle Operatoren sind für alle Datentypen gleich oder implementiert:"
   ]
  },
  {
   "cell_type": "code",
   "execution_count": null,
   "metadata": {},
   "outputs": [],
   "source": [
    "a - b"
   ]
  },
  {
   "cell_type": "markdown",
   "metadata": {},
   "source": [
    "Hätten wir in unserem Beispiel eine Differenz berechnen wollen würden wir uns direkt mit dieser Fehlermeldung konfrontieren. Der zuvor vielleicht nicht offensichtliche Schritt der Betrachtung von `type()` eines der Variable erscheint an dieser Stelle dagegen näherliegender. Beide Varianten haben ihre Daseinsberechtigung. Während bei `str - str` der __Interpreter__ einen `TypeError` ausgibt und darauf hinweist, dass sie Subtraktion zwischen Strings nicht unterstützt wird passiert das bei `str + str` nicht. Die \"Summe\" zwischen Strings als eine Valide Operation, die in dem Beispiel zu einem unerwünschten Ergebnis führt ist lehrreicher.\n",
    "\n",
    "Zurück zu den Strings: Auf die einzelnen Elemente von `a` bzw. `b` (in diesem Fall Buchstaben) kann mithilfe von `[<int>]` zugegriffen werden:"
   ]
  },
  {
   "cell_type": "code",
   "execution_count": null,
   "metadata": {},
   "outputs": [],
   "source": [
    "c[0], c[2], c[-1], c[-2]"
   ]
  },
  {
   "cell_type": "markdown",
   "metadata": {},
   "source": [
    "Die Zuweisung beginnt mit `0` und endet mit der Maximallänge des Strings. Die maximale Länge kann über die Funktion `len()` bestimmt werden:"
   ]
  },
  {
   "cell_type": "code",
   "execution_count": null,
   "metadata": {},
   "outputs": [],
   "source": [
    "print(f\"Der String c = '{c}' ist {len(c)} Zeichen lang\")"
   ]
  },
  {
   "cell_type": "markdown",
   "metadata": {},
   "source": [
    "Durch `:` innerhalb von `[]` kann ein Intervall ausgewählt werden. Durch `::-1` wird die Reihenfolge aller Elemente des Strings umgekehrt."
   ]
  },
  {
   "cell_type": "code",
   "execution_count": null,
   "metadata": {},
   "outputs": [],
   "source": [
    "c[0:5], c[3:], c[-5:-1], c[::-1]"
   ]
  },
  {
   "cell_type": "markdown",
   "metadata": {},
   "source": [
    "Eine explizite Zuweisung (`c[0] = \"B\"`) ist bei Strings dagegen nicht möglich, jedoch bei Listen, die als nächstes Datentyp betrachtet werden. Es ist dagegen möglich über die implementierte `find(<str>)` und `replace(<old str>, <new str>)` Methoden Substrings zu suchen und zu ersetzen.\n",
    "\n",
    "----------------------------------------------------------------"
   ]
  },
  {
   "cell_type": "markdown",
   "metadata": {},
   "source": [
    "Für die Liste, als einen neuen Datentyp kann nochmal die `help()` Funktion verwendet werden."
   ]
  },
  {
   "cell_type": "code",
   "execution_count": null,
   "metadata": {},
   "outputs": [],
   "source": [
    "help(list)"
   ]
  },
  {
   "cell_type": "markdown",
   "metadata": {},
   "source": [
    "Eine leere Liste kann also durch `list()` erstellt werden."
   ]
  },
  {
   "cell_type": "code",
   "execution_count": null,
   "metadata": {},
   "outputs": [],
   "source": [
    "my_list = list()\n",
    "print(my_list)"
   ]
  },
  {
   "cell_type": "markdown",
   "metadata": {},
   "source": [
    "Oftmalls ist es auch möglich Objekte aus der `print()` Ausgabe durch das Kopieren in die Konsole zu nochmals/wieder zu erstellen:"
   ]
  },
  {
   "cell_type": "code",
   "execution_count": null,
   "metadata": {},
   "outputs": [],
   "source": [
    "my_list = []\n",
    "print(type(my_list))\n",
    "print(my_list)"
   ]
  },
  {
   "cell_type": "markdown",
   "metadata": {},
   "source": [
    "In der `help()` Funktion erwähnten `iterable`, die Ebenfalls zur Erstellung einer Liste genutzt werden können sind eine Ansammlung an Objekten, die durch `,` getrennt werden:"
   ]
  },
  {
   "cell_type": "code",
   "execution_count": null,
   "metadata": {},
   "outputs": [],
   "source": [
    "another_list = [1, \"Hello\", print]\n",
    "print(another_list)"
   ]
  },
  {
   "cell_type": "markdown",
   "metadata": {},
   "source": [
    "Der String und der Integer kann durch das Kopieren der Ausgabe nochmals erstellt werden. Für Funktionen, wie hier beispielsweise der `print` Funktion ist es dagegen nicht mehr ohne größeren Aufwand möglich."
   ]
  },
  {
   "cell_type": "code",
   "execution_count": null,
   "metadata": {},
   "outputs": [],
   "source": [
    "print([1, 'Hello'])\n",
    "print([1, 'Hello', <built-in function print>])"
   ]
  },
  {
   "cell_type": "markdown",
   "metadata": {},
   "source": [
    "Kommen wir nun zu dem Teil, der bisher bei `help()` von uns ignoriert wurde: den __Methoden__. Die Auflistung aller Methoden, zur besseren Übersicht, kann ähnlich wie `help()` durch die Funktion `dir()` erfolgen. "
   ]
  },
  {
   "cell_type": "code",
   "execution_count": null,
   "metadata": {},
   "outputs": [],
   "source": [
    "my_list = list()\n",
    "print(my_list)\n",
    "dir(my_list)"
   ]
  },
  {
   "cell_type": "markdown",
   "metadata": {},
   "source": [
    "Alle Methoden der Form `__method__` sind __spezielle Methoden__, die ergänzt/geändert oder benutzt werden können. Diese Methoden richten sich jedoch an erfahrene Benutzer und können in unserem Fall ignoriert werden. Im Moment ist ausreichend zu wissen, dass diese Methoden das __Verhalten der Objekte__ bestimmen. Zum Beispiel existiert sowohl für `str` als auch für `int` die Methode `__add__` (addition) die das Verhalten für den Operator `+` unterschiedlich festlegt. Die Operation der Subtraktion `__sub__` (subtraction) ist jedoch für `str` nicht definiert, weshalb auch eine entsprechende Fehlermeldung angegeben wurde.\n",
    "\n",
    "Interessant für uns sind dagegen zunächst alle anderen Methoden. Die Benennung lässt das Verhalten der Methode Vermuten. Zur Sicherheit kann wieder über `help()` die Methode betrachtet werden:"
   ]
  },
  {
   "cell_type": "code",
   "execution_count": null,
   "metadata": {},
   "outputs": [],
   "source": [
    "help(list.append)"
   ]
  },
  {
   "cell_type": "code",
   "execution_count": null,
   "metadata": {},
   "outputs": [],
   "source": [
    "my_list.append(a)\n",
    "my_list.append(b)\n",
    "my_list.append(7)\n",
    "my_list.append(17.9)\n",
    "my_list.append(7)\n",
    "my_list.append([1,2])\n",
    "print(my_list)"
   ]
  },
  {
   "cell_type": "markdown",
   "metadata": {},
   "source": [
    "Auf die einzelnen Elemente der Liste kann ähnlich zu den Strings mittles `[]` zugegriffen werden:"
   ]
  },
  {
   "cell_type": "code",
   "execution_count": null,
   "metadata": {},
   "outputs": [],
   "source": [
    "my_list[0], my_list[-1][0]"
   ]
  },
  {
   "cell_type": "markdown",
   "metadata": {},
   "source": [
    "An dieser Stelle kann der Operator `in` eingeführt werden, der aussagt, ob ein Objekt sich in einer Liste befindet. Da sich Strings und Listen ähnlich verhalten, bis auf die Tatsache, dass bei einem String keine explizite Zuweisung von neuen Elementen an Stelle von Alten möglich ist funktioniert `in` auch hier. Jedoch kann nur nach anderen Strings gesucht werden. Ebenso kann auf ein Intervall (mithilfe von `:` in `[]`) auf die Elemente von Listen zugegriffen werden."
   ]
  },
  {
   "cell_type": "code",
   "execution_count": null,
   "metadata": {},
   "outputs": [],
   "source": [
    "print(f\"17.9 befindet sich in my_list: {17.9 in my_list}\")\n",
    "print(f\"'Hello' befindet sich nicht in my_list: {'Hello' not in my_list}\")\n",
    "print(f\"Der String 'one' ist im String 'someone' enthalten: {'one' in 'someone'}\")\n",
    "print(my_list[1:3])"
   ]
  },
  {
   "cell_type": "markdown",
   "metadata": {},
   "source": [
    "<div class=\"alert alert-info\">   \n",
    "Aufgabe: \n",
    "\n",
    "Stellen Sie mithilfe von den bereits implementierten Methoden in `list` fest wie oft die Zahl sieben vorkommt. Entfernen sie zudem den String `\"World\"` aus der Liste und bestimmen Sie die Länge der nun gekürzten Liste.\n",
    "<div/>"
   ]
  },
  {
   "cell_type": "code",
   "execution_count": null,
   "metadata": {},
   "outputs": [],
   "source": [
    "#"
   ]
  },
  {
   "cell_type": "markdown",
   "metadata": {},
   "source": [
    "Die Berechnung `my_list + 2` gibt einen Aufschluss darauf, dass Python darauf achtet, dass nur Objekte __gleichen__ Typs miteinander verrechnet/kombiniert werden dürfen (Ausnahme: Zahlen)"
   ]
  },
  {
   "cell_type": "code",
   "execution_count": null,
   "metadata": {},
   "outputs": [],
   "source": [
    "my_list + 2\n",
    "print(my_list)"
   ]
  },
  {
   "cell_type": "code",
   "execution_count": null,
   "metadata": {},
   "outputs": [],
   "source": [
    "another_list = [2]\n",
    "my_list += another_list\n",
    "print(my_list)"
   ]
  },
  {
   "cell_type": "markdown",
   "metadata": {},
   "source": [
    "Und es zeigt sich, dass `+` im Falle von Listen ähnlich/gleich funktioniert wie bei Strings."
   ]
  },
  {
   "cell_type": "code",
   "execution_count": null,
   "metadata": {},
   "outputs": [],
   "source": [
    "temp_list = my_list - [2]"
   ]
  },
  {
   "cell_type": "markdown",
   "metadata": {},
   "source": [
    "Da `__sub__` nicht in `dir(list)` auftaucht ist es nicht verwunderlich, dass die Subtraktion nicht definiert ist. Das Entfernen eines Elements erfolgt wie bereits in der Aufgabe benutzt durch `remove(item)` und entfernt das erste Element von links, das den zu entfernenden Element gleicht. Für den Start von der rechten Seite kann die Reihenfolge der Liste mittels `reverse()` oder `[::-1]` umgekehrt werden und nach dem Entfernen wieder angewendet werden."
   ]
  },
  {
   "cell_type": "markdown",
   "metadata": {},
   "source": [
    "-----------------\n",
    "\n",
    "Der nächste Datentyp sind die __Dictionaries__, als Datentyp: `dict`; (kurz Dicts). Der Vorteil dieser ist, dass auf die einzelnen \"Elemente\", den __items__ über \"Schlüssel\", den __keys__ zugegriffen werden kann. Bei den Dicts ist es deshalb möglich einen beliebigen key auch nach der Initialisierung hinzuzufügen. Das Ändern der Objekte, die den jeweiligen keys zugeordnet werden, ist wie bei den Listen ebenfalls möglich."
   ]
  },
  {
   "cell_type": "markdown",
   "metadata": {},
   "source": [
    "Die Initialisierung erfolgt genauso wie bei den Listen (oder all den anderen bereits vorgestellten Datentypen)"
   ]
  },
  {
   "cell_type": "code",
   "execution_count": null,
   "metadata": {},
   "outputs": [],
   "source": [
    "my_dict = dict()  # oder {}"
   ]
  },
  {
   "cell_type": "markdown",
   "metadata": {},
   "source": [
    "Die keys müssen hierbei einzigartig (beispielsweise unterschiedliche Strings oder Zahlen) sein. \n",
    "\n",
    "(Natürlich ist es möglich andere keys zu verwenden, solange sie eindeutig und definiert sind, wie Beispielsweise Funktionen (nicht Funktionsnamen). Es soll sich jedoch immer die Frage gestellt werden wie nützlich ein derartiger key anschließend in der Verwendung ist.)"
   ]
  },
  {
   "cell_type": "code",
   "execution_count": null,
   "metadata": {},
   "outputs": [],
   "source": [
    "my_dict[\"Lichtgeschwindigkeit\"] = 299792458.0  # in m/s\n",
    "my_dict[\"Rechenregeln\"] = [\"Addition\", \"Division\"]\n",
    "my_dict[2] = {\"de\": \"zwei\", \"en\": \"two\"}\n",
    "print(my_dict)"
   ]
  },
  {
   "cell_type": "markdown",
   "metadata": {},
   "source": [
    "Das Zugreifen geschieht durch `[]` wobei innerhalb der Klammern der entsprechende key steht:"
   ]
  },
  {
   "cell_type": "code",
   "execution_count": null,
   "metadata": {},
   "outputs": [],
   "source": [
    "print(my_dict[\"Lichtgeschwindigkeit\"])\n",
    "print(my_dict[\"Rechenregeln\"][0])\n",
    "print(my_dict[2][\"en\"])\n",
    "\n",
    "my_dict[\"Kontinente\"] = {\"Australien\": \"Australien\"}"
   ]
  },
  {
   "cell_type": "markdown",
   "metadata": {},
   "source": [
    "<div class=\"alert alert-info\">   \n",
    "Aufgabe: \n",
    "\n",
    "Vervollständigen Sie die Rechenregeln, die Kontinente mit Beispielhaft drei Staaten und zwei weiteren zwei Zahlen zuzüglich der Übersetzungen. Versuchen Sie die bereits bestehenden Elemente nicht zu überschreiben, sondern mithilfe von den bereits implementierten Methoden (siehe `dir(dict), dir(list)`) zu ergänzen.\n",
    "</div>"
   ]
  },
  {
   "cell_type": "code",
   "execution_count": null,
   "metadata": {},
   "outputs": [],
   "source": [
    "# Code"
   ]
  },
  {
   "cell_type": "markdown",
   "metadata": {},
   "source": [
    "Der letzte Datentyp ist das __Tupel__ (`tuple`). Ein Blick in `dir(tuple)`"
   ]
  },
  {
   "cell_type": "code",
   "execution_count": null,
   "metadata": {},
   "outputs": [],
   "source": [
    "dir(tuple)"
   ]
  },
  {
   "cell_type": "markdown",
   "metadata": {},
   "source": [
    "Verrät, dass der Benutzer nur Abzählen kann wie viele Elemente sich in dem Tupel befinden und welchen Index ein einzelnes Element hat, sofern im Tupel vorhanden.\n",
    "\n",
    "Ein Tupel ist nach seiner Initialisierung nicht mehr veränderbar, wie beispielsweise Listen oder Dicts und eignen sich damit zum Speichern von Elementen, die sich nicht mehr änder lassen (sollen). Ein Beispiel ist die Erstellung von Funktionen mit beliebigen Argumenten oder die Festlegung von bestimmten Default Werten einer Funktion anstelle einer Liste. Dazu mehr im übernächsten Kapitel."
   ]
  },
  {
   "cell_type": "code",
   "execution_count": null,
   "metadata": {},
   "outputs": [],
   "source": [
    "my_tuple = (a, b)\n",
    "print(my_tuple)"
   ]
  },
  {
   "cell_type": "markdown",
   "metadata": {},
   "source": [
    "Es ist aber wie bereits vermutet ohne Probleme möglich ein Tupel in eine Liste (und wieder zurück) umzuwandeln:"
   ]
  },
  {
   "cell_type": "code",
   "execution_count": null,
   "metadata": {},
   "outputs": [],
   "source": [
    "my_tuple = list(my_tuple)\n",
    "print(my_tuple)\n",
    "my_tuple = tuple(my_list)\n",
    "print(my_tuple)"
   ]
  },
  {
   "cell_type": "markdown",
   "metadata": {},
   "source": [
    "Das \"entpacken\" eines Tupels kann entweder durch `[<int>]` erfolgen oder kürzer:"
   ]
  },
  {
   "cell_type": "code",
   "execution_count": null,
   "metadata": {},
   "outputs": [],
   "source": [
    "c = (1, 2, 3, 4, 5)\n",
    "a, b, _, d, _ = c\n",
    "print(a, b, d)\n",
    "a, b, *_ = c\n",
    "print(a, b)"
   ]
  },
  {
   "cell_type": "markdown",
   "metadata": {},
   "source": [
    "`_` kennzeichnet einen Wert, der keine Zuweisung enthält. Ohne `_` sind auf der linken Seite nicht genug Elemente um den Tupel `c` eindeutig zu entpacken. Es besteht jedoch die Möglichkeit alle nachfolgenden Elemente mittels `*_` zuzuweisen, was in diesem Beispiel auch durch `a, b, _, _, _ = c` oder durch `a, b = c[0], c[1]`erreicht werden könnte.\n",
    "\n",
    "An dieser Stelle sei ebenfalls festgestellt, dass eine Vertauschung zweier Variablenwerte in Python durch `a, b = b, a` durchgeführt werden kann und keine drei Zeilen (`a = c; a = b; b = c;`) wie in anderen Programmiersprachen erfordert."
   ]
  },
  {
   "cell_type": "markdown",
   "metadata": {},
   "source": [
    "## if-elif-else-Schleifen\n",
    "-------------------------------------------"
   ]
  },
  {
   "cell_type": "markdown",
   "metadata": {},
   "source": [
    "In einem Programm ist es oftmals notwendig __bedingte Anweisungen__ einzuführen, als Reaktion auf nicht explizit festgelegte oder sich veränderbare Variablen um unterschiedliches Verhalten entsprechend der Varibalen zu erreichen.\n",
    "Diese Bedingungen sind in Python durch `if`, `elif` und `else` realisiert."
   ]
  },
  {
   "cell_type": "code",
   "execution_count": null,
   "metadata": {},
   "outputs": [],
   "source": [
    "a, b = 1, 2\n",
    "\n",
    "if a == 1:\n",
    "    print(f\"a hat den Wert {1}\")\n",
    "elif a < b:\n",
    "    print(f\"{a} ist kleiner als {b}\")\n",
    "else:\n",
    "    print(f\"a hat nicht den Wert {1} und {a} ist nicht kleiner als {b}\")"
   ]
  },
  {
   "cell_type": "markdown",
   "metadata": {},
   "source": [
    "Der logische Ausdruck nach dem `if` bzw. `elif` ist die __Bedingung__. Nach `else` folgt keine Bedingung, da `else` alle sonstigen Fälle abdeckt. Die Zeile mit der Anweisung wird durch `:` abgeschlossen. Der daraufhin auszuführende Code wird eingerückt (vier Leerzeichen). Diese Einrückung ist in vielen Sprachen nicht notwendig, da der auszuführende Code nach dem Erfüllen der Bedingung oftmals in `{}` eingeschlossen wird. In Python wird man dagegen gezwungen diese Einrückungen durchzuführen - mit allen damit verbundenen Vor- und Nachteilen."
   ]
  },
  {
   "cell_type": "markdown",
   "metadata": {},
   "source": [
    "<div class=\"alert alert-info\">   \n",
    "Aufgabe: \n",
    "\n",
    "Ändern Sie im obrigen Beispiel den Wert von `a` zu `1.5` oder `3`. Ergänzen Sie das Beispiel und prüfen sie ob `a` gleich `b` ist. An welcher Stelle macht diese Ergänzung am meisten Sinn?\n",
    "</div>"
   ]
  },
  {
   "cell_type": "markdown",
   "metadata": {},
   "source": [
    "Als nächstens betrachten wir die __Schleifen__, genauer gesagt: die `for` Schleife (vorerst)."
   ]
  },
  {
   "cell_type": "code",
   "execution_count": null,
   "metadata": {},
   "outputs": [],
   "source": [
    "my_list = []\n",
    "start, end, step = 0, 10, 1\n",
    "for i in range(5, 15, 1):\n",
    "    my_list.append(i)\n",
    "print(my_list)\n",
    "print(f\"Länge von my_list ist {len(my_list)}\")"
   ]
  },
  {
   "cell_type": "markdown",
   "metadata": {},
   "source": [
    "Die `for` Schleife ist wieder eine Anweisung, wird durch `:` abgeschlossen und der nachfolgende Code __innerhalb__ der Schleife eingerückt. `i` ist in dem obrigen Beispiel ein __Iterator__, der in diesem Fall ein zu iterrienden Objekt darstellt und `list(range(<start>, <end>, <step>))` eine Liste zwischen `<start>` und `<end>` mit `<step>` Abständen:"
   ]
  },
  {
   "cell_type": "code",
   "execution_count": null,
   "metadata": {},
   "outputs": [],
   "source": [
    "list(range(0, 10, 1))"
   ]
  },
  {
   "cell_type": "markdown",
   "metadata": {},
   "source": [
    "Ebenfalls ist es möglich statt `range()` direkt das zu itterierende Objekt (meist eine Liste) zu verwenden:"
   ]
  },
  {
   "cell_type": "code",
   "execution_count": null,
   "metadata": {},
   "outputs": [],
   "source": [
    "to_search_number = 109\n",
    "\n",
    "for number in my_list:\n",
    "    if number == to_search_number:\n",
    "        print(f\"{to_search_number} wurde gefunden\")\n",
    "        break\n",
    "else:\n",
    "    print(f\"{to_search_number} wurde nicht gefunden\")"
   ]
  },
  {
   "cell_type": "markdown",
   "metadata": {},
   "source": [
    "Die `if` Bedinung innerhalb der `for` Schleife vergleicht den itterator, in diesem Fall eine Zahl aus der Liste `my_list` mit `to_search_number` und bricht das Durchlaufen der Schleife, nach dem Ausführen von `print()` mithilfe von `break` ab. Während `break` die Schleife vollständig abbricht sorgt `continue` dafür, dass die Schleife den Code Block innerhalb der Schleife nach `continue` nicht weiter ausführt, sondern direkt in den nächsten Schritt der Schleife springt.\n",
    "\n",
    "In diesem Beispiel ist zudem eine Abwandlung von `if` - `elif` - `else` beispielhaft dargestellt. Die nicht erfüllte `if` Bedingung *innerhalb* der Schleife ist mit dem `else` *außerhalb* der Schleife verbunden und wird nicht ausgeführt, sobald die `if` Bedingung erfüllt wird."
   ]
  },
  {
   "cell_type": "markdown",
   "metadata": {},
   "source": [
    "Die Funktion `enumerate()` nummeriert den zu iterierenden Objekt durch und erstellt eine Liste von Tupeln:"
   ]
  },
  {
   "cell_type": "code",
   "execution_count": null,
   "metadata": {},
   "outputs": [],
   "source": [
    "print(list(enumerate(my_list)))"
   ]
  },
  {
   "cell_type": "markdown",
   "metadata": {},
   "source": [
    "In der Anweisung der Schleife wird der Iterator, in diesem Fall ein Tupel direkt entpackt (siehe Datentypen: Tupel)"
   ]
  },
  {
   "cell_type": "code",
   "execution_count": null,
   "metadata": {},
   "outputs": [],
   "source": [
    "to_search_number = 7\n",
    "for i, number in enumerate(my_list):\n",
    "    if number == to_search_number:\n",
    "        print(f\"{to_search_number} wurde gefunden und befindet sich auf der Position {i}\")\n",
    "        break\n",
    "else:\n",
    "    print(f\"{to_search_number} wurde nicht gefunden\")"
   ]
  },
  {
   "cell_type": "markdown",
   "metadata": {},
   "source": [
    "Ebenfalls ist es möglich über `range(len(my_list))` die Maximalanzahl an `i` festzulegen. `number` wird damit durch `my_list[i]` ersetzt."
   ]
  },
  {
   "cell_type": "code",
   "execution_count": null,
   "metadata": {},
   "outputs": [],
   "source": [
    "for i in range(len(my_list)):\n",
    "    if my_list[i] == to_search_number:\n",
    "        print(f\"{to_search_number} wurde gefunden und befindet sich auf der Position {i}\")\n",
    "        break\n",
    "else:\n",
    "    print(f\"{to_search_number} wurde nicht gefunden\")"
   ]
  },
  {
   "cell_type": "markdown",
   "metadata": {},
   "source": [
    "Die Variante `for i in range(len(my_list))` ist bei vielen anderen Programmiersprachen geläufig. Die pythonische Art eine Schleife zu konstruieren (`for number in my_list` oder `for i, number in enumerate(my_list)`) hat dagegen den Vorteil einer besseren Lesbarkeit, ist aber in keinster Weise Pflicht.\n",
    "\n",
    "Eine weitere eigenart von Python ist die *list comprehention*. Python bietet einem die Möglichkeit Listen oder Dicts in einer Zeile zu erstellen. Der Vorteil ist, dass die Struktur solcher *list comprehentions* dem Lesefluss folgt und damit den Code kurz und immer noch leicht verständlich hällt.\n",
    "\n",
    "Ähnlich verhält es sich mit Zuweisungen, bei denen `if` und `else`. Ein Beispiel hierzu:"
   ]
  },
  {
   "cell_type": "code",
   "execution_count": null,
   "metadata": {},
   "outputs": [],
   "source": [
    "# geeignet für list comprehention\n",
    "print([i * i for i in range(10)])\n",
    "print([i * i for i in range(10) if i * i > 10 and i * i < 50])\n",
    "print([i if i % 2 == 0 else 0 for i in range(10)])\n",
    "\n",
    "# weniger geeignet für list comprehentions. \n",
    "# Die \"ausführliche Variante\" ist in diesem Fall möglicherweise leichter nachvollziehbar\n",
    "print([[number for i in range(3)] for number in my_list if number // 3 == 2 or number // 3 == 1])\n",
    "\n",
    "# Beispiel für Dicts\n",
    "print({f\"{key}\" if key % 2 == 0 else f\"{key} + 1\": key for key in range(5)})\n",
    "\n",
    "# Beispiel für Variablenzuweisung: geeignet\n",
    "input_number = int(input(\"Zu vergleichende Zahl eingeben: \"))\n",
    "my_number = 12 if 10 > input_number else 10\n",
    "print(my_number)\n",
    "\n",
    "# Beispiel für Variablenzuweisung: weniger geeignet, vor allem wenn weiter verschachtelt.\n",
    "input_number = int(input(\"Zu vergleichende Zahl eingeben: \"))\n",
    "other_number = 12 if 10 < input_number else (2 if input_number < 0 else 9)\n",
    "print(other_number)"
   ]
  },
  {
   "cell_type": "markdown",
   "metadata": {},
   "source": [
    "<div class=\"alert alert-info\">   \n",
    "Aufgabe: \n",
    "\n",
    "    \n",
    "Erstellen sie die oberen vier Listen und ein Dict nicht mit *list comprehention*\n",
    "</div>"
   ]
  },
  {
   "cell_type": "code",
   "execution_count": null,
   "metadata": {},
   "outputs": [],
   "source": [
    "my_list_1, my_list_2, my_list_3, my_list_4, my_dict_1 = [], [], [], [], {}\n",
    "\n",
    "# code"
   ]
  },
  {
   "cell_type": "markdown",
   "metadata": {},
   "source": [
    "Kommen wir zu den `while` Schleifen."
   ]
  },
  {
   "cell_type": "code",
   "execution_count": null,
   "metadata": {},
   "outputs": [],
   "source": [
    "temp_list = [0, 0, 2, 0, 4, 0, 6, 0, 8, 0]\n",
    "while (len(temp_list) > 5 and 0 in temp_list):\n",
    "    temp_list.remove(0)\n",
    "print(temp_list)"
   ]
  },
  {
   "cell_type": "markdown",
   "metadata": {},
   "source": [
    "In der Anweisung steht lediglich eine Bedingung. Vor jedem Durchlauf der Schleife wird diese einmal geprüft. Für eine Endlosschleife kann statt einer Bedingung auch `True` stehen oder eine Bedingung gewählt werden, die nie erfüllt wird. Um die `while` Schleife zu verlassen ist es deshalb erforderlich entweder die Bedingung nach jedem durchlaufen des Schleifenkörpers zu aktualisieren und sicherzugehen, dass die Abbruchbedingung einmal erreicht wird oder `break` in möglicher Kombination mit `if` Anweisung(en) zu nutzen.\n",
    "\n",
    "Ein etwas komplizierteres Beispiel:"
   ]
  },
  {
   "cell_type": "code",
   "execution_count": null,
   "metadata": {},
   "outputs": [],
   "source": [
    "temp_list = [0, 0, 2, 0, 4, 0, 6, 0, 8, 0]\n",
    "while 0 in temp_list:\n",
    "    if len(temp_list) // 3 == 2:\n",
    "        temp_list.append(1)\n",
    "    elif len(temp_list) // 3 == 1:\n",
    "        break\n",
    "    else:\n",
    "        temp_list.remove(0)\n",
    "print(temp_list)"
   ]
  },
  {
   "cell_type": "markdown",
   "metadata": {},
   "source": [
    "<div class=\"alert alert-info\">   \n",
    "Aufgabe: \n",
    "\n",
    "Erklären Sie was in der Schleife passiert. (Um es Schritt für Schritt nachzuvollziehen kann die Funktion `print()` hilfreich sein).\n",
    "</div>"
   ]
  },
  {
   "cell_type": "markdown",
   "metadata": {},
   "source": [
    "## Funktionen\n",
    "---------------------------------"
   ]
  },
  {
   "cell_type": "markdown",
   "metadata": {},
   "source": [
    "Der nächste wichtige Grundlage sind die Funktionen. Es werden bereits Funktionen wie `len()` oder `print()` verwendet. Eine eigene Funktion lässt sich beispielhaft Implementieren als:"
   ]
  },
  {
   "cell_type": "code",
   "execution_count": null,
   "metadata": {},
   "outputs": [],
   "source": [
    "def square(number):\n",
    "    square_number = number * number\n",
    "    return square_number"
   ]
  },
  {
   "cell_type": "markdown",
   "metadata": {},
   "source": [
    "`def <Funktionsname>(<Argumente>):` ist die Syntax um eine Funktion zu definieren. Der anschließend in der Funktion auszuführender Code ist ähnlich zu den anderen Anweisungen eingerückt. Am Ende der Funktion befindet sich ein Ausdruck, der eine Größe, die meist innerhalb der Funktion bestimmt wird, ausgibt (`return <object/variable/...>`). Ohne `return` wird standardmäßig `None` (nichts) ausgegeben, kann aber explizit durch `return None` erreicht werden.\n",
    "\n",
    "Der Daseinszweck von Funktionen ist es Code, der mehrmals im Programm auftaucht, an einer Stelle zusammenzufassen. Die dadurch resultierenden Vorteile sind nicht von der Hand zu weisen: Die Lesbarkeit zusammen mit der Produktivität steigert sich, denn es ist nicht mehr notwendig beispielsweise dieselben 50 Zeilen an Code an mehreren Stellen zu verwenden. Zusätzlich sorgt eine Funktionserstellung und Verwendung dafür, dass eine Änderung, die möglicherweise sogar mehrere Dokumente betrifft an einer Stelle erledigt werden kann.\n",
    "\n",
    "Das Beispiel mit dem Quadrat einer Zahl entspricht nicht den genannten 50 Zeilen an Code, zeigt aber exemplarisch wie eine Funktion auszusehen hat.\n",
    "\n",
    "Ebenfalls ist es möglich in einer Funktion eine andere Funktion zu definieren. Wichtig an dieser Stelle ist zu merken, dass für verschachtelte Funktionen gilt: Auf Objekte, die innerhalb einer Funktion definiert werden, wozu auch die Funktionen Zählen, kan von außerhalb der Funktion nicht zugegriffen werden."
   ]
  },
  {
   "cell_type": "code",
   "execution_count": null,
   "metadata": {},
   "outputs": [],
   "source": [
    "def square_of_square_1(number):\n",
    "    return square(square(number))\n",
    "\n",
    "def square_of_square_2(number):\n",
    "    def another_square(num):\n",
    "        square_number = num * num\n",
    "        return square_number\n",
    "    return another_square(another_square(number))"
   ]
  },
  {
   "cell_type": "markdown",
   "metadata": {},
   "source": [
    "Es ist somit nicht möglich die Funktion `another_square` außerhalb von `square_of_square_2` aufzurufen."
   ]
  },
  {
   "cell_type": "code",
   "execution_count": null,
   "metadata": {},
   "outputs": [],
   "source": [
    "another_square(2)"
   ]
  },
  {
   "cell_type": "markdown",
   "metadata": {},
   "source": [
    "Das Ergebnis dagegen ist gleich, was weniger verwunderlich ist."
   ]
  },
  {
   "cell_type": "code",
   "execution_count": null,
   "metadata": {},
   "outputs": [],
   "source": [
    "print(square(3))\n",
    "print(square_of_square_1(3))\n",
    "print(square_of_square_2(3))"
   ]
  },
  {
   "cell_type": "markdown",
   "metadata": {},
   "source": [
    "Möchte man dagegen mit der Funktion `square` die Quadrate der Elemente einer Liste berechnen, so ist dies ohne Weiteres nicht möglich:"
   ]
  },
  {
   "cell_type": "code",
   "execution_count": null,
   "metadata": {},
   "outputs": [],
   "source": [
    "print(square([1,2,3]))"
   ]
  },
  {
   "cell_type": "markdown",
   "metadata": {},
   "source": [
    "An dieser Stelle wird die Mächtigkeit von Funktionen angedeutet, hierzu zunächst eine Aufgabe, die mit den bereits eingehendem Wissen problemlos gelöst werden kann:"
   ]
  },
  {
   "cell_type": "markdown",
   "metadata": {},
   "source": [
    "<div class=\"alert alert-info\">   \n",
    "Aufgabe: \n",
    "\n",
    "Ergänzen Sie die `square` Funktion derart, dass sowohl Zahlen als auch beliebige Listen als Argument akzeptiert werden.\n",
    "\n",
    "Hinweis: \n",
    "Es kann eine Fallunterscheidung zwischen unterschiedlichen Typen durchgeführt werden.\n",
    "</div>"
   ]
  },
  {
   "cell_type": "markdown",
   "metadata": {},
   "source": [
    "Die Funktionalität von `square` auch Listen zu akzeptieren und richtig zu berechnen ist durch die Verwendung von `square` in `square_of_square_1` in `square_of_square_1` bereits enthalten, während `square_of_square_2` einer eigenständigen Anpassung bedarf.\n",
    "\n",
    "Es ist also vorteilhaft seinen Code, falls die Möglichkeit dazu besteht, zu Faktorisieren um bei Notwendigkeit nur einen geringfügigen Teil ändern zu müssen."
   ]
  },
  {
   "cell_type": "markdown",
   "metadata": {},
   "source": [
    "Bisher haben wir ein Argument in der Funktionsdefinition verwendet. Ebenso ist es möglich eine Funktion ohne Argumente zu definieren (`def myfunc():`). Beim Funktionsaufruf werden entsprechend keine Argumente an die Funktion übergeben.\n",
    "\n",
    "In Python wird bei den Funktionsargumenten unterschieden zwischen den für den Funktionsaufruf notwendigen Argumenten (`args`), die immer angegeben werden müssen, und den optionalen \"key word\" - Argumenten (`kwargs`), die bei der Funktionsdefinition festgelegt werden.\n",
    "\n",
    "Eine Begegnung mit Funktionen, die \"beliebige\" (wahrscheinlich zuvor definierte aber nicht weiter dargestellte) Argumente akzeptieren ist unvermeidlich.\n",
    "Eine Funktion mit beliebiger Anzahl von `args` und `kwargs` kann wie folgt aussehen:"
   ]
  },
  {
   "cell_type": "code",
   "execution_count": null,
   "metadata": {},
   "outputs": [],
   "source": [
    "def my_func(*args, **kwargs):\n",
    "    print(\"\\n\")\n",
    "    print(f\"args ist vom Typ {type(args)}. {type(args)} werden durch * 'entpackt'\")\n",
    "    print(args)\n",
    "    print(f\"kwargs ist vom Typ {type(kwargs)}. {type(kwargs)} werden durch ** 'entpackt'\")\n",
    "    print(kwargs)\n",
    "\n",
    "\n",
    "my_func(1, (2,2), [3], radius=10, name=\"Emily\")\n",
    "my_func(1, (2,2))\n",
    "my_func(dog_name=\"Rex\")"
   ]
  },
  {
   "cell_type": "markdown",
   "metadata": {},
   "source": [
    "Die `args` werden in einem `tuple` zusammengefasst. `kwargs` dagegen in einem `dict`.\n",
    "\n",
    "Die `args`, sofern diese bei der Funktionsdefinition explizit angegeben werden können auch wie `kwargs` angegeben werden. Wenn alle Argumente mithilfe des Zuweisungsoperator beim Funktionsaufruf angegeben werden, so ist die Reihenfolge irrelevant, ansonsten gilt die bei der Funktionsdefinition erstellte Reihenfolge. Die `kwargs` behalten den vorher definierten Wert, solange dieser nicht explizit geändert wird."
   ]
  },
  {
   "cell_type": "code",
   "execution_count": null,
   "metadata": {},
   "outputs": [],
   "source": [
    "def another_func(a, b, c=2, d=0):\n",
    "    print(\"\\n\")\n",
    "    print(f\"a = {a}\")\n",
    "    print(f\"b = {b}\")\n",
    "    print(f\"c = {c}\")\n",
    "    print(f\"d = {d}\")\n",
    "\n",
    "my_tuple = (1, 2)\n",
    "another_func(*my_tuple)\n",
    "another_func(c=2, a=0, b=2, d=1)\n",
    "another_func(0, 0, 1)"
   ]
  },
  {
   "cell_type": "markdown",
   "metadata": {},
   "source": [
    "Ebenfalls ist es möglich die Funktion innerhalb sich selbst aufzurufen. Zu beachten ist, dass diese Rekursion eine Abbruchbedingung besitzt, da ansonsten die Rekursion endlos abläuft.\n",
    "\n",
    "Ein Beispiel hierfür sind die Fibonacci Zahlen. Die Folge der Fibonacci Zahlen sieht wie folgt aus: $1, 1, 2, 3, 5, 8, 13, 21, 34, ... $ und lässt sich mit der rekursiven Formel berechnen: $$ F(n) = F(n - 1) + F(n - 2) \\, . $$\n",
    "\n",
    "Die entsprechende Funktion kann wie folgt aussehen:"
   ]
  },
  {
   "cell_type": "code",
   "execution_count": null,
   "metadata": {},
   "outputs": [],
   "source": [
    "def fibonacci(number):\n",
    "    if number == 0:\n",
    "        return 0\n",
    "    elif number == 1:\n",
    "        return 1\n",
    "    else:\n",
    "        return fibonacci(number-1) + fibonacci(number-2)"
   ]
  },
  {
   "cell_type": "markdown",
   "metadata": {},
   "source": [
    "Als Beispiel können einige Fibonacci Zahlen berechnet werden"
   ]
  },
  {
   "cell_type": "code",
   "execution_count": null,
   "metadata": {},
   "outputs": [],
   "source": [
    "print(fibonacci(40))\n",
    "print(fibonacci(35))\n",
    "print(fibonacci(30))\n",
    "print(fibonacci(25))\n",
    "print(fibonacci(20))\n",
    "print(fibonacci(15))\n",
    "print(fibonacci(10))\n",
    "print(fibonacci(5))\n",
    "\n",
    "print(fibonacci(40))"
   ]
  },
  {
   "cell_type": "markdown",
   "metadata": {},
   "source": [
    "Die Berechnung für größere Fibonacci Zahlen benötigt sehr viel Zeit, vor allem wenn größere Zahlen (mehrfach) berechnet werden müssen.\n",
    "\n",
    "Die Möglichkeit diese Rechenzeit zu verkürzen ist es ein Zwischenspeicher (cache) zu erstellen. Der Vorteil eines Zwischenspeichers besteht darin, dass keine weitere Rekursion notwendig ist, sobald die Funktion bereits einmal mit dem Argument aufgerufen wurde und ein Ergebnis in den Zwischenspeicher geschrieben hat. Ab dem Zeitpunkt kann nämlich das Ergebnis direkt aus dem Zwischenspeicher ausgegeben und weiterverwendet werden.\n",
    "\n",
    "Für den unseren Fall kann ähnlich zu `quare_of_square_1` eine zusätzliche Funktion erstellt werden:"
   ]
  },
  {
   "cell_type": "code",
   "execution_count": null,
   "metadata": {},
   "outputs": [],
   "source": [
    "memo = {}\n",
    "\n",
    "def memoize_fibonacci(number):\n",
    "    if number not in memo:\n",
    "        memo[number] = fibonacci(number)\n",
    "    return memo[number]"
   ]
  },
  {
   "cell_type": "markdown",
   "metadata": {},
   "source": [
    "Die Eigenheit hier besteht nun darin, das das Dict `memo` nicht in der Funktion `memoize_fibonacci`, sondern außerhalb definiert ist. Wenn nun innerhalb von `memoize_fibonacci` `memo` nicht gefunden wird versucht Python in der nächst äußeren Umgebung `memo` zu finden. Sobald die globalen Variablen Erreicht werden und die Variable immer noch nicht gefunden ist, wird der Interpreter eine entsprechende Fehlermeldung ausgeben. Will man dagegen explizit auf globale Variablen innerhalb von Funktionen zugreifen kann das wie im folgenden Beispiel geschehen.\n",
    "\n",
    "Beispiel:"
   ]
  },
  {
   "cell_type": "code",
   "execution_count": null,
   "metadata": {},
   "outputs": [],
   "source": [
    "A = \"globales A\"\n",
    "\n",
    "def my_func():\n",
    "    A = \"lokales A\"\n",
    "    def my_inner_func():\n",
    "        print(f\"Aufruf: {A}\")\n",
    "    my_inner_func()\n",
    "\n",
    "    \n",
    "def another_func():\n",
    "    A = \"lokales A\"\n",
    "    print(f\"Aufruf: {A}\")\n",
    "    def another_inner_func():        \n",
    "        global A\n",
    "        print(f\"Aufruf: {A}\")\n",
    "        A = \"geändertes globales A\"\n",
    "        print(f\"Aufruf: {A}\")\n",
    "    another_inner_func()\n",
    "    print(f\"Aufruf: {A}\")\n",
    "\n",
    "print(\"\\nAufruf von 'my_func':\")\n",
    "my_func()\n",
    "print(\"\\nAufruf von 'another_func':\")\n",
    "another_func()\n",
    "print(\"\\nAufruf von 'my_func':\")\n",
    "my_func()\n",
    "\n",
    "print(f\"\\nglobale Variable A ist nun: {A}\")"
   ]
  },
  {
   "cell_type": "markdown",
   "metadata": {},
   "source": [
    "Zurück zu den Fibonacci Zahlen. Mit der nun erstellten `memoize_fibonacci` Funktion ist die vorherige Berechnung deutlich schneller, vor allem wenn $n=40$ ein zweites Mal berechnet wird:"
   ]
  },
  {
   "cell_type": "code",
   "execution_count": null,
   "metadata": {},
   "outputs": [],
   "source": [
    "print(memoize_fibonacci(40))\n",
    "print(memoize_fibonacci(35))\n",
    "print(memoize_fibonacci(30))\n",
    "print(memoize_fibonacci(25))\n",
    "print(memoize_fibonacci(20))\n",
    "print(memoize_fibonacci(15))\n",
    "print(memoize_fibonacci(10))\n",
    "print(memoize_fibonacci(5))\n",
    "\n",
    "print(memoize_fibonacci(40))"
   ]
  },
  {
   "cell_type": "markdown",
   "metadata": {},
   "source": [
    "## Context Manager - Lesen und schreiben von Dateien\n",
    "----------------------------------"
   ]
  },
  {
   "cell_type": "markdown",
   "metadata": {},
   "source": [
    "Python bietet die Möglichkeit einen Context Manager bei vielen unterschiedlichen Anwendungen zu benutzen. Um die Frage zu beantworten, was ein Context Manger genau ist und was dieser macht, sei zunächst die Ausgangssituation beschrieben, in der wir den Context Manager einsetzten wollen:\n",
    "\n",
    "Die Datei `Greeting.txt` soll erstellt werden und unterschiedliche Grußarten enthalten"
   ]
  },
  {
   "cell_type": "code",
   "execution_count": null,
   "metadata": {},
   "outputs": [],
   "source": [
    "filename = \"Greeting.txt\""
   ]
  },
  {
   "cell_type": "markdown",
   "metadata": {},
   "source": [
    "Um eine Datei zu öffnen wird die Funktion `open()` benutzt. Die wichtigsten Modi des \"key word\" - Argumentes `mode` sind die Strings `\"w\"` = write, `\"a\"` = append oder `\"r\"` = read. Mit `mode=\"w\"` wird zudem die Datei erstellt, falls diese noch nicht vorhanden ist und überschrieben, wenn sie bereits vorher existierte."
   ]
  },
  {
   "cell_type": "code",
   "execution_count": null,
   "metadata": {},
   "outputs": [],
   "source": [
    "file = open(filename, mode=\"w\")\n",
    "file.write(\"Hello World\\n\")\n",
    "file.close()"
   ]
  },
  {
   "cell_type": "markdown",
   "metadata": {},
   "source": [
    "Um in die Datei zu schreiben wird die Methode `write()` verwendet. `\"\\n\"` innerhalb des Strings entspricht einem Zeilenumbruch. Nach dem Schreiben muss die Datei geschlossen werden, da sonst andere Programme auf diese keinen Zugriff haben oder der Zugriff auf eine ältere Version der Datei geschieht.\n",
    "\n",
    "Nach dem Schließen soll eine weitere Begrüßung hinzugefügt werden (`mode=\"a\"`)"
   ]
  },
  {
   "cell_type": "code",
   "execution_count": null,
   "metadata": {},
   "outputs": [],
   "source": [
    "file = open(filename, mode=\"a\")\n",
    "file.write(\"Hello everyone\\n\")\n",
    "file.close()"
   ]
  },
  {
   "cell_type": "markdown",
   "metadata": {},
   "source": [
    "Wichtig ist, dass die Datei wieder nach dem Schreibvorgang geschlossen wird. Sollte vor dem Schließen ein Fehler im Code auftauchen und das Programm abbrechen so entsteht das Problem, dass die Datei nicht geschlossen wurde, was zu den oben genannten Problemen führt.\n",
    "\n",
    "Die Abhilfe bringt der Context Manager! Die Anweisung `with <do something> as <name>:` beinhaltet die vorherige Zuweisung von `file`. Der eingerückte Code innerhalb dieser Anweisung kennt die geöffnete Datei 'file' und kann mit ihr interagieren. Das `file.close()` am Ende der Bearbeitung übernimmt der Context Manager. Ebenso Schließt dieser die Datei auch, wenn innerhalb des eingerückten Codes Fehler auftauchen!"
   ]
  },
  {
   "cell_type": "code",
   "execution_count": null,
   "metadata": {},
   "outputs": [],
   "source": [
    "with open(filename, mode=\"r\") as file:\n",
    "    greetings = []\n",
    "    for line in file:\n",
    "        greeting = line.replace(\"\\n\", \"\")\n",
    "        greetings.append(greeting)\n",
    "print(file)\n",
    "print(greetings)\n",
    "\n",
    "with open(filename, mode=\"a\") as file:\n",
    "    raise ValueError(\"Absichtlicher Fehler!\")"
   ]
  },
  {
   "cell_type": "code",
   "execution_count": null,
   "metadata": {},
   "outputs": [],
   "source": [
    "print(file.closed)"
   ]
  },
  {
   "cell_type": "markdown",
   "metadata": {},
   "source": [
    "Das Indiz, dass ein Context Manager genutzt werden kann (und soll) ergibt sich immer, wenn ein Schritt immer das Öffnen oder erstellen eines Objektes bedeutet, der am Schluss wieder geschlossen oder aufgelöst werden soll."
   ]
  },
  {
   "cell_type": "markdown",
   "metadata": {},
   "source": [
    "## Module\n",
    "-----------------------------"
   ]
  },
  {
   "cell_type": "markdown",
   "metadata": {},
   "source": [
    "Python ist eine Sprache, die bereits viele implementierte Funktionen von Haus aus mitbringt. Diese werden in Form von Modulen zusammengefasst. Um diese nutzen zu können müssen sie zunächst importiert werden.\n",
    "\n",
    "Nehmen wir dazu die Sinus Funktion des im Pythonumfang enthaltenen Moduls `math`."
   ]
  },
  {
   "cell_type": "code",
   "execution_count": null,
   "metadata": {},
   "outputs": [],
   "source": [
    "import math\n",
    "print(math.sin(1.2))\n",
    "\n",
    "import math as m\n",
    "print(m.sin(1.2))\n",
    "\n",
    "from math import sin\n",
    "print(sin(1.2))"
   ]
  },
  {
   "cell_type": "markdown",
   "metadata": {},
   "source": [
    "Im obigen Beispiel sind drei Varianten aufgezeigt, wie diese Sinus Funktion importiert und angewendet werden kann. Alle drei Versionen erfüllen ihren Zweck. Es ist jedoch immer ratsam die erste oder zweite Methode zu benutzen. Grund dafür ist für mathematische Funktionen nicht direkt ersichtlich. Nehmen wir zur Darstellung des Problems das Modul `json` und `csv`. Beide Module erleichtern das Arbeiten mit `.json` bzw. `.csv` Dateien und da die Operationen die an Dateien durchgeführt werden können ähnlich sind gleichen sich manche der Methoden in den zwei Modulen. Eine explizite Nennung des jeweiligen Moduls in Kombination mit der verwendeten Methode beseitigt mögliche Verwechselungen. Zudem erleichtert eine derartige Zuweisung das spätere Verbessern oder Erweitern des Codes, da so schneller ersichtlich ist aus welchem Modul die jeweilige Funktion stammt."
   ]
  },
  {
   "cell_type": "markdown",
   "metadata": {},
   "source": [
    "### numpy\n",
    "-------------------------------------"
   ]
  },
  {
   "cell_type": "markdown",
   "metadata": {},
   "source": [
    "Neben den Python Standardbibliotheken gibt es viele Drittanbieter Bibliotheken, die Python um nützliche Funktionalitäten erweitern. Um diese zu Installieren genügt es in der Konsole `pip3 install numpy` bzw. `pip install numpy` auszuführen oder innerhalb von Python:"
   ]
  },
  {
   "cell_type": "code",
   "execution_count": null,
   "metadata": {},
   "outputs": [],
   "source": [
    "import os\n",
    "os.system(\"pip3 install numpy\")\n",
    "\n",
    "import numpy as np\n",
    "print(np.__version__)"
   ]
  },
  {
   "cell_type": "markdown",
   "metadata": {},
   "source": [
    "Doch was zeichnet numpy aus? Einfach gesagt: Numerische (mehrdimensionale) Rechnungen, die Zeitoptimiert sind. Ein Beispiel hierzu wäre das Quadrieren jedes einzelnen Elementes einer Liste, das Verdoppeln oder das Hinzuaddieren von bestimmten Werten.\n",
    "\n",
    "Die Manipulation der Listen ist bereits aus dem oberen Kapitel bekannt. Die Variante mit den Python Listen:"
   ]
  },
  {
   "cell_type": "code",
   "execution_count": null,
   "metadata": {},
   "outputs": [],
   "source": [
    "numbers = [i for i in range(10)]\n",
    "\n",
    "numbers_sqr = [x * x for x in numbers]\n",
    "# Multiplikation von listen mit sich selbst ist nicht definiert\n",
    "numbers_dbl = [x * 2 for x in numbers]\n",
    "# Multiplikation mit einer festen ganzzahligen Zahl ist wie bei Strings: eine Aneinanderreihung\n",
    "\n",
    "numbers_add = [x + 2 for x in numbers]\n",
    "# numbers + 2 ist nicht möglich, da numbers vom Typ 'list' ist und 2 vom Typ 'int'\n",
    "\n",
    "print(numbers_sqr)\n",
    "print(numbers_dbl)\n",
    "print(numbers_add)"
   ]
  },
  {
   "cell_type": "markdown",
   "metadata": {},
   "source": [
    "Um das Beispiel kurzzuhalten wurde die vorgestellte *list comprehention* verwendet. Der Zwang alles explizit elementweise durchzuführen ist allgegenwärtig.\n",
    "\n",
    "Wie sieht das ganze nun mithilfe von numpy aus?"
   ]
  },
  {
   "cell_type": "code",
   "execution_count": null,
   "metadata": {},
   "outputs": [],
   "source": [
    "numbers = np.array([i for i in range(10)])\n",
    "\n",
    "numbers_sqr = numbers ** 2\n",
    "numbers_dbl = numbers * 2\n",
    "numbers_add = numbers + 2\n",
    "\n",
    "print(numbers_sqr)\n",
    "print(numbers_dbl)\n",
    "print(numbers_add)"
   ]
  },
  {
   "cell_type": "markdown",
   "metadata": {},
   "source": [
    "Die zuvor elementweise durchgeführten Rechenoperationen werden mithilfe von numpy implizit durchgeführt, das hat den Vorteil, dass der Code leichter zu erstellen und zu lesen ist (da ansonsten sehr viele Schleifen notwendig sind). Natürlich ist es immer noch möglich indiviuell einzelne Elemente zu bearbeiten:"
   ]
  },
  {
   "cell_type": "code",
   "execution_count": null,
   "metadata": {},
   "outputs": [],
   "source": [
    "numbers[0] = 27\n",
    "numbers[2] *= 7\n",
    "numbers"
   ]
  },
  {
   "cell_type": "markdown",
   "metadata": {},
   "source": [
    "An dieser Stelle kann nochmal die Wichtigkeit der eindeutigen Importierung einzelner Funktionen/Module deutlich aufgezeigt werden:"
   ]
  },
  {
   "cell_type": "code",
   "execution_count": null,
   "metadata": {},
   "outputs": [],
   "source": [
    "x = np.linspace(0, 1, 10)\n",
    "print(x)\n",
    "\n",
    "print(np.sin(x))\n",
    "print(np.sin(1.2))\n",
    "print(math.sin(1.2))\n",
    "print(math.sin(x))"
   ]
  },
  {
   "cell_type": "markdown",
   "metadata": {},
   "source": [
    "Die Sinus Funktion des `math` Moduls akzeptiert nur reelle Zahlen als Argument, während die numpy Variante neben den reellen Zahlen Listen und `numpy.array` akzeptiert. Ohne eine explizite Nennung des verwendeten Moduls ist eine Fehlersuche deutlich erschwert.\n",
    "\n",
    "Wie bereits erwähnt ist, fast alles, was in Python implementiert ist dokumentiert und kann mittels `help()` betrachtet werden."
   ]
  },
  {
   "cell_type": "code",
   "execution_count": null,
   "metadata": {},
   "outputs": [],
   "source": [
    "help(np.array)"
   ]
  },
  {
   "cell_type": "code",
   "execution_count": null,
   "metadata": {},
   "outputs": [],
   "source": [
    "help(np.sin)"
   ]
  },
  {
   "cell_type": "code",
   "execution_count": null,
   "metadata": {},
   "outputs": [],
   "source": [
    "np.info(np.sin)"
   ]
  },
  {
   "cell_type": "markdown",
   "metadata": {},
   "source": [
    "Bei numpy existieren noch zudem Beispiele, wie die Funktion/Methode (auch in Kombination mit anderen Modulen) angewendet werden kann.\n",
    "\n",
    "Um die Mächtigkeit solcher Drittanbietermodule zu erahnen, kann `dir(np)` verwendet werden. Die anschließend auftauchende Liste enthält neben Funktionen auch Klassen, die wiederum Methoden enthalten."
   ]
  },
  {
   "cell_type": "code",
   "execution_count": null,
   "metadata": {},
   "outputs": [],
   "source": [
    "dir(np)"
   ]
  },
  {
   "cell_type": "code",
   "execution_count": null,
   "metadata": {},
   "outputs": [],
   "source": [
    "print(dir(np.linalg))\n",
    "help(np.linalg)"
   ]
  },
  {
   "cell_type": "markdown",
   "metadata": {},
   "source": [
    "Weitere Pakete, wie Scientific Linux (scipy), das zusätzliche spezielle Funktionen enthält oder das Modul matplotlib zur Datenvisualisierung zusammen mit vielen anderen Modulen können auf dem [Python Package Index (PyPI)](https://pypi.org/) gefunden und, wie oben am Beispiel von numpy gezeigt, installiert werden. Die Python Built-In Bibliotheken und allgemeine weitere Python Thematiken können unter [der ofiziellen Dokumentaton](https://www.python.org/doc/) nachgeschlagen werden."
   ]
  },
  {
   "cell_type": "code",
   "execution_count": null,
   "metadata": {},
   "outputs": [],
   "source": []
  }
 ],
 "metadata": {
  "kernelspec": {
   "display_name": "venv",
   "language": "python",
   "name": "venv"
  },
  "language_info": {
   "codemirror_mode": {
    "name": "ipython",
    "version": 3
   },
   "file_extension": ".py",
   "mimetype": "text/x-python",
   "name": "python",
   "nbconvert_exporter": "python",
   "pygments_lexer": "ipython3",
   "version": "3.6.9"
  },
  "varInspector": {
   "cols": {
    "lenName": 16,
    "lenType": 16,
    "lenVar": 40
   },
   "kernels_config": {
    "python": {
     "delete_cmd_postfix": "",
     "delete_cmd_prefix": "del ",
     "library": "var_list.py",
     "varRefreshCmd": "print(var_dic_list())"
    },
    "r": {
     "delete_cmd_postfix": ") ",
     "delete_cmd_prefix": "rm(",
     "library": "var_list.r",
     "varRefreshCmd": "cat(var_dic_list()) "
    }
   },
   "types_to_exclude": [
    "module",
    "function",
    "builtin_function_or_method",
    "instance",
    "_Feature"
   ],
   "window_display": false
  }
 },
 "nbformat": 4,
 "nbformat_minor": 4
}
