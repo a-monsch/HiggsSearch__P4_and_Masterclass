{
 "cells": [
  {
   "cell_type": "markdown",
   "metadata": {},
   "source": [
    "# $\\mathrm{H} \\rightarrow \\mathrm{ZZ}$ : Entdeckung des Higgs-Bosons\n",
    "---------------------------------------\n",
    "von Artur Monsch und Artur Gottmann\n",
    "\n",
    "Zuletzt aktualisiert am 18. Dezember 2020"
   ]
  },
  {
   "cell_type": "markdown",
   "metadata": {},
   "source": [
    "-----------------------------------"
   ]
  },
  {
   "cell_type": "markdown",
   "metadata": {},
   "source": [
    "Im Jahr 2012 wurde am CERN das bereits vorhergesagte Higgs-Boson entdeckt und damit eine Bestätigung des Standardmodells der Teilchenphysik erreicht. Einer der Zerfallskanäle, die zur Entdeckung führten, war der Zerfall in vier Leptonen. Dieser ist im Vergleich zu den anderen Zerfallskanälen ideal für die Analyse geeignet, die Sie nun in Form dieses Notebooks durchführen können.\n",
    "\n",
    "Das Notebook ist der erste Teil dieser Analyse und beschäftigt sich hauptsächlich mit den simulierten und gemessenen Datensätzen. Ziel ist es, die Sensitivität zu erhöhen und ein hohes Verhältnis zwischen dem Untergrund und dem Signal in den simulierten Datensätzen zu erreichen. Am Ende der Aufgabe soll die Signifikanz an der durchgeführten Messung abgeschätzt werden. Anhand dieser Signifikanz kann eine erste Aussage über den Nachweis des Higgs-Bosons getroffen werden. Eine detaillierte statistische Behandlung der Signifikanz bis hin zur Kombination von Messungen zur Erhöhung der Signifikanz wird im zweiten Teil vorgestellt.\n",
    "\n",
    "Als Inspiration für diese Übung kann die folgende [Beispielanalyse](http://opendata.cern.ch/record/5500) aufgeführt werden."
   ]
  },
  {
   "cell_type": "code",
   "execution_count": null,
   "metadata": {},
   "outputs": [],
   "source": [
    "import sys\n",
    "from IPython.core.display import display, HTML\n",
    "display(HTML(\"<style>.container { width:100% !important; }</style>\"))\n",
    "\n",
    "sys.path.append(\"..\")\n",
    "\n",
    "from include.RandomHelper import check_data_state\n",
    "\n",
    "# Check if all folders in the directory are present and unpacking them\n",
    "check_data_state(directory=\"../data\") "
   ]
  },
  {
   "cell_type": "markdown",
   "metadata": {},
   "source": [
    "# Ereignisbilder\n",
    "------------------"
   ]
  },
  {
   "cell_type": "markdown",
   "metadata": {},
   "source": [
    "Zum Kennenlernen der Signaturen von Proton-Proton-Kollisionsereignissen, die vom CMS-Experiment aufgezeichnet wurden, können Sie die Visualisierung des CMS-Detektors zusammen mit den Beispielen der aufgezeichneten\n",
    "Ereignissen mit dem [**Ispy-WebGL-Webinterface**](https://github.com/cms-outreach/ispy-webgl) betrachten. Die verschiedenen Komponenten des CMS-Mehrzweck-Detektors, die zum Nachweis verschiedener Teilchen verwendet werden, sind in dem [**ausgewählten Detektorschnitt**](https://cds.cern.ch/record/2120661/files/CMSslice_whiteBackground.png?subformat=icon-1440) dargestellt:\n",
    "<center><img src=\"https://cds.cern.ch/record/2120661/files/CMSslice_whiteBackground.png?subformat=icon-1440\" width=75%></center>\n",
    "\n",
    "\n",
    "Bei der Verwendung von Ispy-WebGL können Sie sich mit der Funktionalität der einzelnen Komponenten vertraut machen, indem Sie sie diese im Menü 'Detector' aktivieren und Ereignisse mit interessanten Signaturen aus den Ereignissammlungen auswählen. Versuchen Sie auch, 'Physics-Objects' im entsprechenden Menü einzuschalten.\n",
    "\n",
    "\n",
    "<div class=\"alert alert-info\">\n",
    "Wählen Sie für jeden der unten aufgeführten Zerfälle zwei Beispiele aus und speichern Sie diese als Bild. Wie sähe ein typisches Signal dieser einzelnen Zerfälle im Detektor aus?\n",
    "\n",
    "- $\\mathrm{H} \\rightarrow \\mathrm{ZZ} \\rightarrow 4\\ell$\n",
    "- $\\mathrm{H} \\rightarrow \\gamma \\gamma$\n",
    "- $\\mathrm{H} \\rightarrow \\mathrm{W}^+ \\mathrm{W}^- \\rightarrow 2\\ell 2\\nu$\n",
    "\n",
    "</div>\n",
    "\n",
    "\n",
    "Die Einschaltfunktionen einzelner Detektorkomponenten und die Möglichkeit, die einzelnen Ereignisse als Bilder zu speichern, können innerhalb der Benutzeroberfläche durchgeführt werden. Um die Ereignissammlung zu öffnen, müssen Sie zunächst die Datei `Event_collection.ig` aus dem Ordner `./data/for_event_display/ig_files/` lokal herunterladen. Anschließend kann innerhalb der Benutzeroberfläche unter dem Reiter \"Öffnen\" - Ordnersymbol - diese Datei (lokale Datei öffnen) ausgewählt und geöffnet werden. Die Bilder lassen sich dann nach dem Speichern mit `<img src=\"your img url or path\">` in einer Markdown-Zelle direkt in das Notebook einfügen.\n",
    "\n",
    "> Hinweis:\n",
    "> `.ig` Datenformat ist ähnlich wie ein `.zip` Archiv und enthält eine oder mehrere Ereignisdateien und wird von ISpy verwendet, das von CMS zur Anzeige von Ereignissen genutzt wird."
   ]
  },
  {
   "cell_type": "markdown",
   "metadata": {},
   "source": [
    "Mit einer Internetverbindung:"
   ]
  },
  {
   "cell_type": "code",
   "execution_count": null,
   "metadata": {},
   "outputs": [],
   "source": [
    "%%html\n",
    "<iframe src=\"https://ispy-webgl.web.cern.ch/ispy-webgl/\" width=\"100%\" height=\"700\"></iframe>"
   ]
  },
  {
   "cell_type": "markdown",
   "metadata": {},
   "source": [
    "Ohne eine Internetverbindung: Öffnen Sie die Datei `index.html` aus dem [Github Repository](https://github.com/cms-outreach/ispy-webgl) lokal in einem Webbrowser, nachdem Sie das GitHub Repository sich zuvor lokal kopiert haben."
   ]
  },
  {
   "cell_type": "markdown",
   "metadata": {},
   "source": [
    "Die wesentliche Aufgabe in diesem Abschnitt ist eine manuelle Klassifizierung der Ergebnisse nach ihren Zerfallskanälen anhand der Ereignisbilder. Die Klassifizierung wird später mit einer für diesen Zweck entwickelten Software automatisiert, um eine große Anzahl von Ereignissen in kurzer Zeit zu analysieren, anstatt jedes einzelne Kollisionsereignis Bild für Bild zu betrachten.\n",
    "\n",
    "\n",
    "Der Fokus dieser Übung liegt auf der Wiederentdeckung des Zerfalls des Higgs-Bosons in zwei Z-Bosonen, die wiederum in vier geladene Leptonen zerfallen, $H\\rightarrow ZZ\\rightarrow 4\\ell$.\n",
    "Von allen geladenen Leptonen werden nur Elektronen und Myonen in der Analyse verwendet, da die Zerfälle des Z-Bosons in zwei $\\tau$-Leptonen, $Z\\rightarrow\\tau\\tau$, viel schwieriger zu handhaben sind,\n",
    "und es schwieriger sein wird, das $H\\rightarrow ZZ$-Signal von Hintergrundsignalen zu unterscheiden.\n",
    "\n",
    "\n",
    ">Ausführliche Erklärungen:\n",
    ">\n",
    ">Die $\\tau$-Leptonen zerfallen, bevor sie die erste Schicht des Spurendetektors erreichen, aber es ist möglich, sie aus den beobachteten Endzuständen zu rekonstruieren. Die Schwierigkeit ergibt sich aus den zusätzlichen Neutrinos in den $\\tau$-Leptonenzerfällen. Da diese einen Teil der Energie wegtragen, wird der $H\\rightarrow ZZ$-Peak in der ${m}_{4\\ell}$-Verteilung - $\\ell$ entspricht in diesem Fall den sichtbaren Zerfallsprodukten des $\\tau$-Leptons -\n",
    "verschmiert und zu niedrigeren Energien hin verschoben. Daher ist es viel schwieriger, $H\\rightarrow ZZ$ Ereignisse von dem Untergrund zu unterscheiden (insbesondere $Z\\rightarrow 4 \\ell$),\n",
    "wenn $\\tau$-Leptonen verwendet werden."
   ]
  },
  {
   "cell_type": "markdown",
   "metadata": {},
   "source": [
    "### Mögliche Lösung:\n",
    "-------------------------------------\n",
    "* $\\mathrm{H} \\rightarrow \\mathrm{ZZ} \\rightarrow 4\\ell$    \n",
    "  (Bitte ergänzen Sie hier Ihre Notizen und fügen die ausgenommenen Bilder ein.)\n",
    "* $\\mathrm{H} \\rightarrow \\gamma \\gamma$    \n",
    " (Bitte ergänzen Sie hier Ihre Notizen und fügen die ausgenommenen Bilder ein.)\n",
    "* $\\mathrm{H} \\rightarrow \\mathrm{W}^+ \\mathrm{W}^- \\rightarrow 2\\ell 2\\nu$    \n",
    "  (Bitte ergänzen Sie hier Ihre Notizen und fügen die ausgenommenen Bilder ein.)\n",
    "--------------------------------------"
   ]
  },
  {
   "cell_type": "markdown",
   "metadata": {},
   "source": [
    "# Datenformat\n",
    "-------------------------------"
   ]
  },
  {
   "cell_type": "markdown",
   "metadata": {},
   "source": [
    "Im Verlauf dieser Übung werden benutzerdefinierte Klassen vorgestellt, die den Zeitaufwand und die Komplexität bei der Verarbeitung der Datensätze reduzieren. Diese Klassen bauen auf Paketen wie `numpy`, `pandas` oder `matplotlib` auf und fassen Schritte zusammen, die sonst bei der Verwendung dieser Pakete durchgeführt werden müssten, z. B. um ein Histogramm zu erstellen.\n",
    "\n",
    "Im Allgemeinen handelt es sich um eine gängige Vorgehensweise, die Sie auch auf Ihre zukünftigen Analysen anwenden können: Es ist nicht notwendig, jedes Mal, wenn Sie neue Datensätze verarbeiten möchten, alles von Grund auf neu zu schreiben. Stattdessen ist es sinnvoll, eine Zwischenschicht zwischen Ihren Analyse-Workflows und den vorhandenen Paketen zu schaffen, die üblicherweise in einem Analyse-Software-Framework zusammengefasst sein können.\n",
    "\n",
    "Die verschiedene Größen, die für die in dieser Übung durchgeführte Analyse benötigt werden, werden aus den einzelnen Ereignissen in mehrere Dateien geschrieben. In diesem Schritt wurde auch eine sehr grobe Vorauswahl der Ereignisse getroffen und nur die für die Analyse notwendigen Variablen herausgeschrieben: bestimmte Informationen über die einzelnen Leptonen. Die Original-Datensätze sind mehrere TB groß und eine zeiteffiziente Verarbeitung erfordert einen Cluster von Worker-Nodes, auf denen sie mehrere Stunden laufen muss. Die im Folgenden verwendeten Datensätze sind dagegen nur wenige MB groß und können im Rahmen dieser Übung recht schnell prozessiert werden.\n",
    "\n",
    "Das in dieser Übung verwendete Datenformat, aus dem alle benötigten Größen entnommen werden, ist ein modifiziertes, von Menschen lesbares `.csv`-Format.\n",
    "\n",
    "Ein Kollisionsereignis besteht aus Informationen zu verschiedenen Größen, die für jeden Ereignisdatensatz (eine Zeile) mit `;` getrennt werden. Jede Größe - wie z. B. **muon_px** - wird als Zeichenkette aus Float- oder Integer-Zahlen gespeichert, die durch `,` getrennt sind, um der Tatsache Rechnung zu tragen, dass es mehrere Leptonen in einem Ereignis enthalten sein können."
   ]
  },
  {
   "cell_type": "code",
   "execution_count": null,
   "metadata": {},
   "outputs": [],
   "source": [
    "%matplotlib inline\n",
    "#%matplotlib qt\n",
    "import numpy as np\n",
    "import pandas as pd\n",
    "import matplotlib.pyplot as plt\n",
    "\n",
    "from IPython.display import display\n",
    "pd.set_option('display.max_columns', None)\n",
    "pd.set_option('display.max_rows', 50)\n",
    "\n",
    "# Background simulation\n",
    "name_1 = \"../data/for_long_analysis/mc_init/MC_2012_ZZ_to_4L_2el2mu.csv\"\n",
    "name_2 = \"../data/for_long_analysis/mc_init/MC_2012_ZZ_to_4L_4mu.csv\"\n",
    "name_3 = \"../data/for_long_analysis/mc_init/MC_2012_ZZ_to_4L_4el.csv\"\n",
    "\n",
    "# Signal simulation\n",
    "# name_1 = \"../data/for_long_analysis/mc_init/MC_2012_H_to_ZZ_to_4L_2el2mu.csv\"\n",
    "# name_2 = \"../data/for_long_analysis/mc_init/MC_2012_H_to_ZZ_to_4L_4mu.csv\"\n",
    "# name_3 = \"../data/for_long_analysis/mc_init/MC_2012_H_to_ZZ_to_4L_4el.csv\"\n",
    "\n",
    "dataframe_1 = pd.read_csv(name_1, delimiter=\";\")\n",
    "dataframe_2 = pd.read_csv(name_2, delimiter=\";\")"
   ]
  },
  {
   "cell_type": "code",
   "execution_count": null,
   "metadata": {},
   "outputs": [],
   "source": [
    "dataframe_1"
   ]
  },
  {
   "cell_type": "code",
   "execution_count": null,
   "metadata": {},
   "outputs": [],
   "source": [
    "dataframe_2"
   ]
  },
  {
   "cell_type": "markdown",
   "metadata": {},
   "source": [
    "Angaben zu den in den Datensätzen enthaltenen Größen:\n",
    "\n",
    "Mit einem Präfix (**Muon_** oder **Elektron_**) versehene Größen sind leptonenspezifisch. In Datensätzen, die den gemischten Kanal $2e2\\mu$ enthalten, führt dieses Präfix zu einer klaren Unterscheidung zwischen den beiden Leptonentypen.\n",
    "\n",
    "- **Run**, **Event** und **Luminosity_section** sind ereignisspezifische Variablen und stellen die Eindeutigkeit der einzelnen Ereignisse sicher\n",
    "- **energie** und **charge** sind die Energien (in GeV) und die elektrischen Ladungen (in 1$e$-Einheiten) der Leptonen in einem Ereignis\n",
    "- (**px**, **py**, **pz**) sind die jeweiligen Impulskomponenten (in GeV) der detektierten Leptonen\n",
    "- **relPFIso** ist die relative Isolation der Leptonen. Sie ist die Summe über die Transversalimpulse aller nicht-leptonischen Teilchen geteilt durch den Transversalimpuls des betrachteten Leptons, berechnet in einem Kegel in $(\\Delta\\eta, \\Delta\\phi)$ um das Lepton. Um eine ungenaue Rekonstruktion und Fehlidentifikation mit anderen Teilchen zu vermeiden, ist eine gute relative Isolation wichtig: je kleiner der Wert, desto besser, was zu weniger Teilchen um das betrachtete Lepton herum führt.\n",
    "- **SIP3d** ist die Signifikanz des 3D-Stoßparameters, und **dxy** und **dz** sind die Stoßparameter (in cm) quer bzw. längs in Bezug auf die Strahlachse. Diese Größen erlauben es, Leptonen aus primären Zerfällen, wie von einem Z-Boson, von Leptonen zu unterscheiden, die aus Zerfällen von langlebigen Teilchen, wie B-Mesonen, stammen, die außerhalb des primären Vertizes stattfinden."
   ]
  },
  {
   "cell_type": "markdown",
   "metadata": {},
   "source": [
    "Um auf Mengen einzelner Teilchen - in diesem Fall Myonen oder Elektronen - zuzugreifen, können die Strings (`str`) mit `,` in Listen (`list`) von Zahlen umgewandelt werden.\n",
    "Dazu kann die Bibliothek `ast` verwendet werden, oder die vorhandene Methode `split` von `string`:"
   ]
  },
  {
   "cell_type": "code",
   "execution_count": null,
   "metadata": {},
   "outputs": [],
   "source": [
    "import ast\n",
    "\n",
    "px = ast.literal_eval(f\"[{dataframe_2.loc[5, 'muon_px']}]\")\n",
    "px = np.array(px, dtype=float)\n",
    "px"
   ]
  },
  {
   "cell_type": "code",
   "execution_count": null,
   "metadata": {},
   "outputs": [],
   "source": [
    "py = dataframe_2.loc[5, 'muon_py'].split(\",\")\n",
    "py = np.array(py, dtype=float)\n",
    "py"
   ]
  },
  {
   "cell_type": "markdown",
   "metadata": {},
   "source": [
    "In den beiden obigen Befehlen wurde auf den vierten Kollisionsereignis - Zählbeginn ist 0 - mit dem Index \"5\" zugegriffen, was der vierten Zeile in der `.csv`-Datei entspricht. Im ersten Befehl wurde mit der Python-Bibliothek `ast` eine Liste der x-Komponente des Impulses der Myonen in diesem Ereignis erzeugt. In diesem Falle sind fünf Myonen gespeichert. Mit dem zweiten Befehl wird eine Liste der y-Komponente der Myonenimpulse erstellt, diesmal mit der Methode `split` eines Strings. Auch hier besteht die Liste aus fünf Elementen, die den fünf Myonen im vierten Ereignis entsprechen.\n",
    "\n",
    "Die Sortierung beider Listen ist gleich, so dass die x- und die y-Komponente an der entsprechenden Stelle in der Liste demselben Myon zugeordnet sind.\n",
    "\n",
    "Basierend auf den Größen aus der .csv-Datei können neue Größen konstruiert werden. Im Falle des obigen Beispiels kann der Transversalimpuls `muon_pt` aus `muon_px` und `muon_py` konstruiert werden, wobei die Vorteile\n",
    "der Bibliothek \"numpy\" nutzen, um Rechenoperationen mit dem gesamten Array durchzuführen:"
   ]
  },
  {
   "cell_type": "code",
   "execution_count": null,
   "metadata": {},
   "outputs": [],
   "source": [
    "pt = np.sqrt(px ** 2 + py ** 2)\n",
    "pt"
   ]
  },
  {
   "cell_type": "markdown",
   "metadata": {},
   "source": [
    "Ein wesentlicher Schritt bei der Analyse von Kollisionsereignissen ist die Selektion von möglichst gut rekonstruierten und identifizierten Physikobjekten, in diesem Fall also Myonen und Elektronen, mit dem Ziel, das Signal anzureichern und den Untergrund zu reduzieren.\n",
    "\n",
    "Einer der ersten Schritte bei einer solchen Auswahl kann an den Transversalimpulsen der Myonen demonstriert werden, die mit den oben genannten Befehlen konstruiert wurden. Es ist sinnvoll, Myonen mit einem\n",
    "Transversalimpuls größer als 5 GeV zu verlangen, um schlecht rekonstruierte und falsch identifizierte Myonen zu entfernen."
   ]
  },
  {
   "cell_type": "code",
   "execution_count": null,
   "metadata": {},
   "outputs": [],
   "source": [
    "pt_minimum_filter = pt > 5\n",
    "pt_minimum_filter"
   ]
  },
  {
   "cell_type": "code",
   "execution_count": null,
   "metadata": {},
   "outputs": [],
   "source": [
    "pt = pt[pt_minimum_filter]\n",
    "pt"
   ]
  },
  {
   "cell_type": "markdown",
   "metadata": {},
   "source": [
    "Wie bisher wurde die besondere Stärke von `numpy` ausgenutzt: der Vergleich einer ganzen Liste. Im ersten Schritt wird eine Liste mit Booleschen Werten erzeugt, die angeben, ob die Bedingung `pt > 5` erfüllt wurde oder nicht. Danach kann diese verwendet werden, um Elemente, die die Bedingung nicht erfüllen, zu verwerfen, indem es als Index-Argument für die `pt`- Liste verwendet wird. Wie erwartet, wird der letzte Eintrag in der Liste entfernt.\n",
    "\n",
    "\n",
    "Die boolesche Liste wirkt wie ein Filter auf die `pt` - Liste. Um die unerwünschten Myonen konsequent aus einem Ereignis zu verwerfen, muss der Filter auf **alle** Größen angewendet werden, die sich auf Myonen in dem betrachteten Ereignis beziehen. Dieser Filterschritt muss für jedes Kollisionsereignis, das in den Datensätzen gespeichert ist, wiederholt werden, und die bearbeiteten Datensätze müssen erneut gespeichert werden.\n",
    "\n",
    "Um den Aufwand dieser zeitintensiven Aufgabe deutlich zu reduzieren, wurde im Rahmen dieser Übung eine eigene, dafür geeignete Klasse erstellt,\n",
    "die die Filterschritte und das Anlegen neuer Mengen automatisch durchführt."
   ]
  },
  {
   "cell_type": "markdown",
   "metadata": {},
   "source": [
    "# Anwendung von Filtern mit der benutzerdefinierten Klasse Apply\n",
    "-----------------------------------"
   ]
  },
  {
   "cell_type": "markdown",
   "metadata": {},
   "source": [
    "Während einer Analyse ist es in der Regel erforderlich, neue Mengen zu erstellen, physikalische Objekte (in unserem Fall Myonen und Elektronen) auszuwählen, die die Selektionskriterien erfüllen. Auf diese Weise werden nur die für die Analyse interessanten Daten und Informationen ausgewählt, was den Umfang der zu analysierenden Informationen reduziert.\n",
    "\n",
    "Diese Aufgaben wurden in dem kleinen Beispiel im vorherigen Abschnitt demonstriert:\n",
    "\n",
    "* Wir haben den Transversalimpuls der Myonen `pt` in einem Kollisionsereignis eingeführt, indem wir ihn aus `px` und `py` der Myonen berechnet haben,\n",
    "* wir stellten fest, ob die Myonen die Anforderung `pt > 5` erfüllen, was zur Auswahl von 4 aus 5 Myonen führte. Dies müsste auf alle Größen des Kollisionsereignisses angewendet werden.\n",
    "* Zusätzlich kann gefordert werden, dass ein Kollisionsereignis mindestens 4 Myonen mit `pt > 5` haben sollte, andernfalls müsste ein solches Ereignis verworfen werden, da keine Rekonstruktion eines Z-Bosonen-Paares möglich ist.\n",
    "\n",
    "Um diese Aufgaben zu erfüllen, wird eine eigene Klasse `Apply` verwendet, die in diesem Abschnitt vorgestellt wird und ein Beispiel für ein rudimentäres Analyse-Framework darstellt. Mit ihr können verschiedene Selektions-, Filter- und Rekonstruktionsschritte durchgeführt, die Zwischenergebnisse visualisiert oder die entstandenen reduzierten Datensätze gespeichert werden.\n",
    "\n",
    "Im Rahmen dieser Übung werden im Folgenden Codevorlagen gegeben, die Sie in den nächsten Abschnitten vervollständigen sollen, um in den einzelnen Analyseschritten voranzukommen.\n",
    "\n",
    "Als erstes wird die Klasse importiert:"
   ]
  },
  {
   "cell_type": "code",
   "execution_count": null,
   "metadata": {},
   "outputs": [],
   "source": [
    "from include.processing.Apply import Apply"
   ]
  },
  {
   "cell_type": "markdown",
   "metadata": {},
   "source": [
    "Beim Erzeugen eines `Apply`-Objekts müssen eine Klasse die die Filter enthält (Filterklasse) und eine Klasse, die die notwendigen Berechnungen durchführt (Kalkulationsklasse) an `Apply` übergeben werden, damit es richtig funktioniert. Dies geschieht mit den später verwendeten Keyword-Argumenten `calc_instance` und `filter_instance`. Diese beiden übergebenen Klassen bilden eine Momentaufnahme der zum Zeitpunkt der Initialisierung vorhandenen Funktionen, die `Apply` in den Filter- und Rekonstruktionsschritten verwendet. Ein Beispiel ist im Folgenden dargestellt.\n",
    "\n",
    "Im Detail müssen die beiden Klassen die Berechnung für neue Variablen (`calc_instance`) und die Auswahlkriterien der Filter (`filter_instance`) enthalten. Die Methoden innerhalb dieser Klassen sollten als eigenständige mit `@staticmethod` erstellt und logisch in zwei Klassen zusammengefasst werden.\n",
    "\n",
    "Das Beispiel aus dem vorherigen Abschnitt kann für die `Apply`-Klasse wie folgt realisiert werden:"
   ]
  },
  {
   "cell_type": "code",
   "execution_count": null,
   "metadata": {},
   "outputs": [],
   "source": [
    "class Calc_Start(object):\n",
    "    \n",
    "    @staticmethod\n",
    "    def pt(px, py):\n",
    "        return np.sqrt(px ** 2 + py ** 2)\n",
    "\n",
    "class Filter_Start(object):\n",
    "    \n",
    "    @staticmethod\n",
    "    def pt_min(pt, look_for):\n",
    "        return pt > 7.0 if look_for == \"electron\" else (pt > 5.0 if look_for == \"muon\" else None)"
   ]
  },
  {
   "cell_type": "markdown",
   "metadata": {},
   "source": [
    "Die implementierten Python-Funktionen `pt` und `pt_min` innerhalb der Klassen `Calc_Start` und `Filter_Start` können nun wie folgt an die Klasse Apply übergeben werden:"
   ]
  },
  {
   "cell_type": "code",
   "execution_count": null,
   "metadata": {},
   "outputs": [],
   "source": [
    "process = Apply(file=name_2, nrows=2000,\n",
    "                calc_instance=Calc_Start, filter_instance=Filter_Start)"
   ]
  },
  {
   "cell_type": "markdown",
   "metadata": {},
   "source": [
    "Bei `file` muss der Pfad zum jeweiligen Datensatz angegeben werden, `nrows` gibt an, wie viele Zeilen, d.h. Ereignisse, gelesen werden - wenn kein `nrows` angegeben wird (entspricht `nrows=None`), werden alle Zeilen, d.h. alle Ereignisse, eingelesen. Für das Beispiel ist es ausreichend, eine kleine Anzahl von Ereignissen zu betrachten. Für Testzwecke Ihrer Implementationen von Filtern und Berechnung von neuen Größen ist es in der Regel ausreichend, auf einer Teilmenge von Ereignissen zu arbeiten, also denken Sie bitte daran, wenn Sie Ihre Analyse implementieren.\n",
    "\n",
    "Sobald Sie sich auf Ihre Auswahl und Größen festgelegt haben, sollten Sie die Analyse natürlich für alle Ereignisse durchführen - mehr dazu später.\n",
    "\n",
    "Die so implementierten Funktionen (`pt` in `Calc_Start` und `pt_min` in `Filter_Start` im oben angelegten `Apply`-Objekt `process`) reichen allein nicht aus, um die gewünschte Analyse durchzuführen, da, wie im vorigen Abschnitt gezeigt wurde, die Prozedur nur auf eine Menge angewendet wird und nicht auf alle, die im Ereignis enthalten sind.\n",
    "\n",
    "Daher werden diese Funktionen in bereits implementierte *Workflows* der Klasse `Apply` eingebunden, die die gewünschte Anwendung der angegebenen Funktionen auf den gesamten Ereignisdatensatz durchführen.\n",
    "\n",
    "Eine Übersicht über alle vorhandenen Workflows kann wie folgt aufgerufen werden:"
   ]
  },
  {
   "cell_type": "code",
   "execution_count": null,
   "metadata": {},
   "outputs": [],
   "source": [
    "Apply.help()"
   ]
  },
  {
   "cell_type": "markdown",
   "metadata": {},
   "source": [
    "Eine Zusammenfassung dessen, was in einem bestimmten Workflow ausgeführt wird, kann wie folgt nachgesehen werden:"
   ]
  },
  {
   "cell_type": "code",
   "execution_count": null,
   "metadata": {},
   "outputs": [],
   "source": [
    "Apply.help(\"filter\", \"pt_min\")"
   ]
  },
  {
   "cell_type": "markdown",
   "metadata": {},
   "source": [
    "oder:"
   ]
  },
  {
   "cell_type": "code",
   "execution_count": null,
   "metadata": {},
   "outputs": [],
   "source": [
    "Apply.help(\"filter\", \"pt_exact\")"
   ]
  },
  {
   "cell_type": "markdown",
   "metadata": {},
   "source": [
    "Im obigen Beispiel sehen Sie, dass sich die beiden Workflows zwar unterscheiden, aber ähnliche Funktionssätze verwenden:\n",
    "\n",
    "* Der Workflow `\"pt_min\"` entfernt die Leptonen aus dem Ereignis, die einen Transversalimpuls unterhalb eines festgelegten Schwellenwertes haben. Wenn weniger als 4 Leptonen übrig sind (4 Elektronen, 4 Myonen bzw. 2 Elektronen und 2 Myonen), wird das Ereignis verworfen.\n",
    "* Im Gegensatz dazu verwirft der Workflow `\"pt_exact\"` das gesamte Ereignis, wenn die einzelnen Leptonen die exakten Kriterien nicht erfüllen.\n",
    "\n",
    "Zusammenfassend demonstriert dieses Beispiel den Unterschied zwischen einem leptonenbasierten Filter, der den Inhalt des Ereignisses (die Leptonenanzahl) verändern kann, und einem ereignisbasierten Filter, der nur zum Verwerfen von Ereignissen verwendet wird und den Ereignissatz in keiner Weise verändert."
   ]
  },
  {
   "cell_type": "markdown",
   "metadata": {},
   "source": [
    "Der Aufruf von `Apply.help(workflow, method)` zeigt die Workflows, sowie die dort benötigten Funktionen. Da wir aber bereits ein `Apply`-Objekt `process` initialisiert und ihm bestimmte `calc_instance` (`Calc_Start`) und `filter_instance` (`Filter_Start`) übergeben haben, ist es möglich zu prüfen, ob alle notwendigen Methoden für einen Workflow auch im `process`-Objekt vorhanden sind:"
   ]
  },
  {
   "cell_type": "code",
   "execution_count": null,
   "metadata": {},
   "outputs": [],
   "source": [
    "process.help(\"filter\", \"pt_min\")"
   ]
  },
  {
   "cell_type": "code",
   "execution_count": null,
   "metadata": {},
   "outputs": [],
   "source": [
    "process.help(\"filter\", \"pt_exact\")"
   ]
  },
  {
   "cell_type": "markdown",
   "metadata": {},
   "source": [
    "Im Workflow `\"pt_min\"` werden z.B. nur die Methoden `Calc_Start.pt` und `Filter_Start.pt_min` verwendet, wobei `Filter_Start.pt_min` als Filter wirkt. Für diesen Workflow sind alle notwendigen Teile implementiert.\n",
    "\n",
    "Im Gegensatz dazu benötigt der Workflow `\"pt_exact\"` noch die Methode (den Filter) `FilterStudent.pt_exact`, die in den nächsten Abschnitten von Ihnen implementiert wird.\n",
    "\n",
    "\n",
    "Es ist also möglich, sofort den `\"pt_min\"` Workflow zu verwenden. Dort wird der Transversalimpuls `pt` implizit als Methode während des Workflows hinzugefügt.\n",
    "\n",
    "Zu Demonstrationszwecken wollen wir vorher den Transversalimpuls explizit hinzufügen, der in dem mit `name_2` aufgerufenen Datensatz noch nicht vorhanden ist. In einem Zwischenschritt, der bereits im Workflow `\"pt_min\"` enthalten ist, wird der Transversalimpuls `\"pt\"` zum Datensatz `name_2` hinzugefügt, indem die unten angegebenen benötigten Schritte ausgeführt werden:"
   ]
  },
  {
   "cell_type": "code",
   "execution_count": null,
   "metadata": {},
   "outputs": [],
   "source": [
    "dataframe_2"
   ]
  },
  {
   "cell_type": "code",
   "execution_count": null,
   "metadata": {},
   "outputs": [],
   "source": [
    "process.add(\"pt\")\n",
    "process.data"
   ]
  },
  {
   "cell_type": "markdown",
   "metadata": {},
   "source": [
    "Die Darstellung der Verteilung einer solchen Variablen kann mit der Methode `hist(variable, bins, hist_range)` erfolgen."
   ]
  },
  {
   "cell_type": "code",
   "execution_count": null,
   "metadata": {},
   "outputs": [],
   "source": [
    "process.hist(variable=\"pt\", bins=50, hist_range=(0, 80))"
   ]
  },
  {
   "cell_type": "markdown",
   "metadata": {},
   "source": [
    "Obwohl diese Methode auch `hist` genannt wird, unterscheidet sie sich von dem bereits bekannten `plt.hist` aus `matplotlib.pyplot`. Unter der Haube wird auch `plt.hist` verwendet, aber zusätzlich wird für die korrekte Zuweisung und Konvertierung von Mengen, die als Strings im Datensatz gespeichert sind, geachtet."
   ]
  },
  {
   "cell_type": "markdown",
   "metadata": {},
   "source": [
    "Die Anwendung des Filters für den minimalen Transversalimpuls und das Entfernen aller Ereignisse, die weniger als vier Leptonen enthalten, ergibt die entsprechende Verteilung:"
   ]
  },
  {
   "cell_type": "code",
   "execution_count": null,
   "metadata": {},
   "outputs": [],
   "source": [
    "process.filter(\"pt_min\")"
   ]
  },
  {
   "cell_type": "code",
   "execution_count": null,
   "metadata": {},
   "outputs": [],
   "source": [
    "import matplotlib.pyplot as plt\n",
    "\n",
    "def pt_hist_helper(title, lepton_number=None):\n",
    "    process.hist(variable=\"pt\", bins=50, hist_range=(0, 80), lepton_number=lepton_number)\n",
    "    # Sie können auf die aktuelle 'axis' mit plt.gca (GetCurrentAxis) oder die aktuelle 'figure' mit plt.gcf zugreifen.\n",
    "    # von hier an ist es Ihnen überlassen, den Plot so anzupassen, wie Sie es möchten\n",
    "    ax = plt.gca()\n",
    "    ax.set_title(title)\n",
    "    ax.set_ylabel(\"N\")\n",
    "    ax.set_xlabel(\"$p_T$ in GeV\")\n",
    "    # plt.savefig(f\"histogramms/background_4mu_{title.replace('$', '').replace(' ', '_')}.png\")\n",
    "    plt.show()\n",
    "\n",
    "pt_hist_helper(\"$p_T$ of all leptons\")\n",
    "pt_hist_helper(\"$p_T$ of first lepton\", 0)\n",
    "pt_hist_helper(\"$p_T$ of third and fourth lepton\", [2, 3])\n",
    "pt_hist_helper(\"$p_T$ of fourth and fifth lepton\", [3, 4])"
   ]
  },
  {
   "cell_type": "markdown",
   "metadata": {},
   "source": [
    "<div class=\"alert alert-info\">\n",
    "Andere Variablen aus dem/den Datensatz/en können ebenfalls im Histogramm mit der Methode 'hist' auf ähnliche Weise visualisiert werden. Bitte erweitern Sie den obigen Code, um die Auswirkung des Filterschritts mit der Anforderung auf den Myonen-Transversalimpuls zu sehen, indem Sie andere im Ereignissatz vorhandene Variablen vor und nach dem Filterschritt betrachten. Bei welchen Variablen gibt es signifikante Änderungen durch die Filterbedingung?\n",
    "\n",
    "Sehen alle diese Verteilungen so aus, wie Sie es erwarten würden? Falls nicht, woran könnte es liegen\n",
    "?\n",
    "</div>"
   ]
  },
  {
   "cell_type": "code",
   "execution_count": null,
   "metadata": {},
   "outputs": [],
   "source": [
    "# Bitte hier Ihren Code einfügen.\n",
    "# Visualisieren Sie weitere Größen im Datensatz hier (vor/nach der Anforderung).\n",
    "# Sie können auch hierher zurückkommen, um Codefragmente zur Visualisierung Ihrer weiteren implementierten Anforderungen zu verwenden."
   ]
  },
  {
   "cell_type": "markdown",
   "metadata": {},
   "source": [
    "# Berechnung von wichtigen Variablen\n",
    "--------------------------------"
   ]
  },
  {
   "cell_type": "markdown",
   "metadata": {},
   "source": [
    "In diesem Abschnitt werden nun weitere für die Analyse notwendige Variablen implementiert, ähnlich wie dies für den Transversalimpuls geschehen ist. Die Details zur Implementierung der jeweiligen Funktionen sind in den unten angegebenen Dokumentationen der Funktionsvorlagen kurz zusammengefasst. Es werden zusätzliche Informationen zu den Eingabeargumenten und deren Struktur gegeben, und wie die Ausgabe aussehen sollte, um mit den jeweiligen Workflows der einzelnen Schritte der `Apply`-Klasse kompatibel zu sein. In diesem Abschnitt der Übung sind drei neue Größen zu berechnen.\n",
    "\n",
    "<div class=\"alert alert-info\">\n",
    "\n",
    "Implementieren Sie am Beispiel des Transversalimpulses die folgenden nachträglich notwendigen Größen:\n",
    "  * Pseudorapidität $\\eta$\n",
    "  * Azimutwinkel $\\phi$\n",
    "  * Das Quadrat der invarianten Masse $m_{\\mathrm{inv}}$\n",
    "\n",
    "Warum reicht es aus, die Pseudorapidität anstelle der Rapidität zu betrachten? Was ist der Unterschied zwischen den beiden Größen? Stellen Sie auch die Verteilungen der Pseudorapidität und des Azimutwinkels dar. Gibt es Auffälligkeiten in den Verteilungen? Erläutern Sie Ihre Beobachtungen.\n",
    "\n",
    "> _Hinweis_: Sie können Ihre Visualisierungen am Beispiel des Transversalimpulses orientieren. Wenn Sie ein neues `Apply`-Objekt erzeugen, achten Sie darauf, dass Sie immer die richtige `calc_instance` und `filter_instance` übergeben. Sie können diese Aufgabe auch mit einer verringerten Anzahl von Ereignissen durchführen, wie im Beispiel des vorherigen Abschnitts gezeigt (`nrows=2000` bei der Erstellung des `Apply`-Objekts).\n",
    "</div>"
   ]
  },
  {
   "cell_type": "markdown",
   "metadata": {},
   "source": [
    "Die zu erstellende Klasse erbt von der bereits bekannten Klasse, die den Transversalimpuls enthält. Zusätzlich wird später noch eine Klasse hinzugefügt, die weitere bereits implementierte Methoden enthält. Letztendlich interagieren viele der bereits implementierten Methoden und die von Ihnen implementierten Methoden miteinander, daher ist es wichtig, dass die __Methodennamen__, sowie die __Namen und die Anzahl der Argumente unverändert bleiben__."
   ]
  },
  {
   "cell_type": "markdown",
   "metadata": {},
   "source": [
    "Im Weiteren werden die Erklärungen der einzelnen Funktionen übersetzt. Die skizzierte Implementation, sowie weitere Informationen über die Variablen werden dagegen typisch in englischer Sprache aufgeführt. Sie werden - falls sie es nicht bereits getan haben - vieles an Code und seiner Dokumentation zumeist nur in englischer Sprache antreffen."
   ]
  },
  {
   "cell_type": "code",
   "execution_count": null,
   "metadata": {},
   "outputs": [],
   "source": [
    "class CalcStudent(Calc_Start):\n",
    "    '''\n",
    "    Klasse für die Berechnung von bestimmten Größen, die für\n",
    "    die Selektionsanforderungen oder für die Rekonstruktion notwendig sind.\n",
    "    '''\n",
    "    \n",
    "    @staticmethod\n",
    "    def phi(px, py):\n",
    "        \"\"\"\n",
    "        Diese Funktion berechnet den Azimutwinkel phi für \n",
    "        jedes Lepton im Ereignis. Die gleichen Listeneinträge von \n",
    "        der Argumente entsprechen den Größen gleicher \n",
    "        Leptonen.\n",
    "        \n",
    "        ------------------------------------------------------\n",
    "        \n",
    "        :param px: ndarray\n",
    "                   1D array containing data with \"float\" type.\n",
    "        :param py:  ndarray\n",
    "                    1D array containing data with \"float\" type.\n",
    "        :return: ndarray\n",
    "                 1D array containing data with \"float\" type.\n",
    "                 \n",
    "        Exemplary: \n",
    "            number of leptons in the event: 5\n",
    "            \n",
    "            :param px: np.array([px_1, px_2, px_3, px_4, px_5])\n",
    "            :param py: np.array([py_1, py_2, py_3, py_4, py_5])\n",
    "            \n",
    "            :return: np.array([phi_1, phi_2, phi_3, phi_4, phi_5])\n",
    "        \"\"\"\n",
    "        # Bitte vervollständigen Sie die Methode mit Ihrem Code unter Berücksichtigung \n",
    "        # der Ein- und Ausgabespezifikationen aus der Dokumentation\n",
    "    \n",
    "    @staticmethod\n",
    "    def pseudorapidity(px=None, py=None, pz=None, energy=None):\n",
    "        \"\"\"\n",
    "        Diese Funktion berechnet die Pseudorapidität für jedes Lepton in \n",
    "        einem Ereignis. Der Parameter 'energy' ist optional und kann, \n",
    "        falls nicht notwendig, bei der Berechnung vernachlässigt werden, \n",
    "        sollte aber in der der Argumentenliste wie oben gezeigt angegeben \n",
    "        werden. Die gleichen Listeneinträge der Argumente entsprechen den \n",
    "        Größen gleicher Leptonen.\n",
    "        \n",
    "        ------------------------------------------------------\n",
    "\n",
    "        :param px: ndarray\n",
    "                   1D array containing data with \"float\" type.\n",
    "        :param py: ndarray\n",
    "                    1D array containing data with \"float\" type.\n",
    "        :param pz: ndarray\n",
    "                   1D array containing data with \"float\" type.\n",
    "        :param energy: ndarray\n",
    "                       1D array containing data with \"float\" type.\n",
    "        :return: ndarray\n",
    "                 1D array containing data with \"float\" type.\n",
    "        \n",
    "        Exemplary: \n",
    "            number of leptons in the event: 5\n",
    "            \n",
    "            :param px: np.array([px_1, px_2, px_3, px_4, px_5])\n",
    "            :param py: np.array([py_1, py_2, py_3, py_4, py_5])\n",
    "            :param pz: np.array([pz_1, pz_2, pz_3, pz_4, pz_5])\n",
    "            :param energy: np.array([e_1, e_2, e_3, e_4, e_5]) (optional)\n",
    "            \n",
    "            :return: np.array([psdrapid_1, psdrapid_2, psdrapid_3, psdrapid_4, psdrapid_5])\n",
    "        \"\"\"\n",
    "        # Bitte vervollständigen Sie die Methode mit Ihrem Code unter Berücksichtigung \n",
    "        # der Ein- und Ausgabespezifikationen aus der Dokumentation\n",
    "        \n",
    "    @staticmethod\n",
    "    def invariant_mass_square(px, py, pz, energy=None):\n",
    "        \"\"\"\n",
    "        Diese Funktion berechnet das Quadrat (!) der invarianten Masse. Die \n",
    "        Größe der Eingabefelder hängt davon ab, wie viele Leptonen in dem \n",
    "        Ereignis vorhanden sind. Der Parameter 'energy' ist optional und kann, \n",
    "        falls nicht notwendig, bei der Berechnung vernachlässigt werden, \n",
    "        sollte aber in der Argumentenliste wie oben gezeigt beibehalten werden. \n",
    "        Die gleichen Listeneinträge der Argumente entsprechen den Größen \n",
    "        gleicher Leptonen.\n",
    "        \n",
    "        ------------------------------------------------------\n",
    "        \n",
    "        :param px: ndarray\n",
    "                   1D array containing data with \"float\" type.\n",
    "        :param py: ndarray\n",
    "                   1D array containing data with \"float\" type.\n",
    "        :param pz: ndarray\n",
    "                   1D array containing data with \"float\" type.\n",
    "        :param energy: ndarray\n",
    "                       1D array containing data with \"float\" type.\n",
    "        :return: \"float\"\n",
    "        \n",
    "        Exemplary: \n",
    "            number of leptons: 4 energy is not None\n",
    "            \n",
    "            :param px: np.array([px_1, px_2, px_3, px_4])\n",
    "            :param py: np.array([py_1, py_2, py_3, py_4])\n",
    "            :param pz: np.array([pz_1, pz_2, pz_3, pz_4])\n",
    "            :param energy: np.array([e_1, e_2, e_3, e_4])\n",
    "            \n",
    "            :return: float(mass_square)\n",
    "            \n",
    "            or:\n",
    "            number of leptons: 2 energy is None\n",
    "            \n",
    "            :param px: np.array([px_1, px_2])\n",
    "            :param py: np.array([py_1, py_2])\n",
    "            :param pz: np.array([pz_1, pz_2])\n",
    "            :param energy: np.array([e_1, e_2])\n",
    "            \n",
    "            :return: float(mass_square)\n",
    "            \n",
    "        \"\"\"\n",
    "        # Bitte vervollständigen Sie die Methode mit Ihrem Code unter Berücksichtigung \n",
    "        # der Ein- und Ausgabespezifikationen aus der Dokumentation"
   ]
  },
  {
   "cell_type": "markdown",
   "metadata": {},
   "source": [
    "# Erstellung der Selektionsbedingungen\n",
    "------------------------------"
   ]
  },
  {
   "cell_type": "markdown",
   "metadata": {},
   "source": [
    "Wie am Beispiel der Bedingung des minimal notwendigen Transversalimpulses gezeigt, werden in diesem Abschnitt weitere Selektionsbedingungen implementiert und von Ihnen definiert. Die Grenzwerte für die einzelnen Bedingungen können Sie selbst wählen. Dazu ist die Visualisierung der Verteilungen, wie Sie sie bereits in den vorherigen Abschnitten gesehen haben, hilfreich.\n",
    "\n",
    "Probieren Sie ruhig verschiedene Einstellungen für die Selektionsbedingungen aus, da die Signalempfindlichkeit Ihrer Analyse je nach Wahl eines Schwellenwertes für eine Größe variieren kann. Versuchen Sie daher, eine sinnvolle Kombination zu finden.\n",
    "\n",
    "Eine Begründung für die von der CMS-Kollaboration gewählten Schwellenwerte für die Entdeckung des Higgs-Bosons im Jahr 2012 finden Sie in der [**offiziellen Veröffentlichung**](https://arxiv.org/pdf/1207.7235.pdf). Dieses Paper ist eine Kombination aller Zerfallskanäle des Higgs-Bosons, die für die Entdeckung untersucht und kombiniert wurden, daher können Sie sich beim Lesen auf den Zerfall in vier Leptonen konzentrieren. Falls Sie Interesse haben, können Sie sich auch die anderen Zerfallskanäle anschauen - für die Übung ist das aber nicht notwendig.\n",
    "\n",
    "Sie können die Wahl der Selektionsschwellen auch in Bezug auf die im Paper vorgeschlagenen Werte variieren, um zu versuchen, ein besseres Ergebnis zu erhalten. Denken Sie aber daran, dass die Wahl der Werte für die Schwellenwerte auf Untersuchungen mit den MC-Simulationen und nicht auf den gemessenen Daten beruhen sollte, um eine voreingenommene Suche nach einem Signalpeak zu vermeiden.\n",
    "\n",
    "<div class=\"alert alert-info\">\n",
    "\n",
    "* Vervollständigen Sie die Methoden in der Klasse `FilterStudent` und wählen Sie die passenden Schwellenwerte aus (siehe auch [**offizielle Veröffentlichung**](https://arxiv.org/pdf/1207.7235.pdf)).  Visualisieren Sie die Anwendung dieser Selektionsfilter exemplarisch - werden auch andere Variablen durch die Anwendung der jeweiligen Filter beeinflusst?\n",
    "* Es wird auch eine Bedingung an die relative Isolation gestellt. Warum ist es wichtig, diese näher zu betrachten?\n",
    "* Für den Pseudorapiditätsfilter ist es notwendig, eine Unterscheidung zwischen Elektronen und Myonen zu treffen. Erläutern Sie dies. (_Hinweis_ : Betrachten Sie dieses [**Bild**](http://hep.fi.infn.it/CMS/software/ResultsWebPage/Images/Geometry/Tracker_SubDetectors_x_vs_eta.gif))\n",
    "* Weiterhin soll ein Filter für die rekonstruierten Z-Massen gemacht werden. Warum ist das notwendig?\n",
    "\n",
    "    \n",
    "> _Hinweis 1_: Sie können sich bei der Visualisierung an dem Beispiel des Transversalimpulses orientieren. Wenn Sie ein neues `Apply`-Objekt erzeugen, achten Sie darauf, dass Sie immer die richtige `calc_instance` und `filter_instance` übergeben. Sie können diese Aufgabe wieder für eine kleinere Anzahl von Ereignissen durchführen, wie im Beispiel zuvor gezeigt (`nrows=2000` in der `Apply`-Objekt-Erstellung).\n",
    ">\n",
    "> _Hinweis 2_: Nachdem Sie die Klasse `FilterStudent` fertiggestellt haben, führen Sie die Zelle mit dem Kommentar `# Technische Notwendigkeit` nach der Implementierung der Klasse `FilterStudent` aus. Danach können Sie für Ihre Testzwecke ein `Apply`-Objekt mit einem vollständigen Satz von Methoden erzeugen.\n",
    "</div>"
   ]
  },
  {
   "cell_type": "code",
   "execution_count": null,
   "metadata": {},
   "outputs": [],
   "source": [
    "class FilterStudent(Filter_Start):\n",
    "    '''\n",
    "    Class that introduces requirements with certain thresholds chosen by user \n",
    "    to restrict the leptons in the events.\n",
    "    '''\n",
    "    \n",
    "    @staticmethod\n",
    "    def combined_charge(charge, combination_number):\n",
    "        \"\"\"\n",
    "        Es wird überprüft, ob eine elektrisch neutrale Ladungskombination möglich \n",
    "        ist. Mit 'combination_number = 4' sollen alle vierfachen Kombinationen \n",
    "        der Elemente der elektrischen Ladung gebildet werden - auch wenn es mehr \n",
    "        als vier Leptonen im Ereignis sind. Mit 'combination_number = 2' werden \n",
    "        alle zweiartige Kombinationen der Elemente der elektrischen Ladung \n",
    "        gebildet werden - auch hier: es könnten mehr als zwei Leptonen sein, die \n",
    "        übergeben werden. Die Größe der Liste der Ladungen hängt davon ab, wie \n",
    "        viele Leptonen in dem Ereignis vorhanden sind.\n",
    "        \n",
    "        Hinweis: Es werden entweder Elektronen oder Myonen an diese Methode \n",
    "        übergeben, niemals eine gemischte Sammlung von Leptonen. Eine \n",
    "        Unterscheidung zwischen \"electron\" und \"muon\" ist daher in der \n",
    "        Implementierung nicht notwendig.\n",
    "        \n",
    "        ------------------------------------------------------\n",
    "        \n",
    "        :param charge: ndarray\n",
    "                       1D array containing data with \"int\" type.\n",
    "        :param combination_number: int\n",
    "                            4 if lepton_type is not \"both\", 2 else\n",
    "        :return: bool\n",
    "        \n",
    "        Exemplary: \n",
    "            combination_number = 4; \n",
    "            :param charge: np.array([-1, 1, 1, -1, -1])            \n",
    "            -> possible four-like combinations are 0 and -2\n",
    "            -> a neutral electrical combination of four leptons is possible\n",
    "            :return: True \n",
    "            \n",
    "            or:\n",
    "            combination_number = 2; \n",
    "            :param charge: np.array([-1, -1, -1, -1]) \n",
    "            -> possible two-like combination is -2\n",
    "            -> a neutral electrical combination of two leptons is not possible\n",
    "            :return: False\n",
    "        \"\"\"\n",
    "        # Bitte vervollständigen Sie die Methode mit Ihrem Code unter Berücksichtigung \n",
    "        # der Ein- und Ausgabespezifikationen aus der Dokumentation\n",
    "        \n",
    "    @staticmethod\n",
    "    def pt_exact(p_t, lepton_type=None):\n",
    "        \"\"\"\n",
    "        Diese Funktion prüft, ob die genaue Anforderung an den Transversalimpuls \n",
    "        erfüllt ist. Die Werte, die von der CMS-Gruppe gewählt wurden, sind: \n",
    "            (pt>20 GeV: >= 1; pt>10 GeV: >= 2; pt>pt_min: >= 4) \n",
    "        \n",
    "        Hinweis: Für diese Methode werden gemischte Leptonensammlungen \n",
    "        bereitgestellt, wenn lepton_type='both' (im 2el2mu-Kanal) gilt. Eine \n",
    "        Unterscheidung zwischen \"electron\" oder \"muon\" ist nicht notwendig, wenn \n",
    "        zuvor der Workflow pt_min ausgeführt wurde. Wenn Sie erneut prüfen \n",
    "        wollen, ob das Kriterium für den minimalen Transversalimpuls erfüllt ist, \n",
    "        müssen Sie berücksichtigen, ob lepton_type='electron' oder \n",
    "        lepton_type='muon' ist.\n",
    "        \n",
    "        ------------------------------------------------------\n",
    "        \n",
    "        :param p_t: if lepton_type != \"both\" \n",
    "                        ndarray \n",
    "                        1D array containing data with `float` type.\n",
    "                    if lepton_type == \"both\"\n",
    "                        (ndarray, ndarray): (pt_muon, pt_electron)\n",
    "                        two 1D array containing data with `float` type.\n",
    "        :param lepton_type: str\n",
    "                            \"muon\" (4mu channel) or \n",
    "                            \"electron\" (4el channel) \n",
    "                            or \"both\" (2el2mu channel)\n",
    "                            \n",
    "        :return: boolean\n",
    "                 True or False\n",
    "        \n",
    "        Exemplary: \n",
    "            :lepton_type: \"electron\" or \"muon\" or None\n",
    "            :param p_t: np.array([22.3, 17.5, 9.4, 6.5])            \n",
    "            -> the first lepton has a transverse momentum greater than 20 GeV.\n",
    "            -> the second lepton has a transverse momentum greater than 10 GeV\n",
    "            a) the workflow pt_min was already carried out so no further \n",
    "               steps are necessary \n",
    "               -> return True\n",
    "            b) the workflow pt_min was not carried out before:\n",
    "               -> if lepton_type == \"muon\" : 6.5 GeV are greater than the\n",
    "                  minimum transverse momentum of muons (5 GeV)\n",
    "               :return: True\n",
    "               or\n",
    "               -> if lepton_type == \"electron\": the last lepton do not pass \n",
    "                  minimum transverse momentum threshold of electrons (7 GeV)\n",
    "               :return: False\n",
    "            \n",
    "            lepton_type: \"both\"\n",
    "            :param p_t: (np.array([29.4, 16.5]), np.array(10.2, 7.5))\n",
    "            -> pt_mu, pt_el = p_t\n",
    "            -> Check the minimal transverse momentum if the workflow pt_min was \n",
    "               not carried out before for both transverse momentum arrays \n",
    "               (both satisfy the minimum requirement of transverse momentum)\n",
    "            -> there is one lepton with pt > 20GeV and more than two leptons \n",
    "               with pt > 10 GeV\n",
    "            :return: True\n",
    "        \"\"\"\n",
    "        \n",
    "        # Bitte vervollständigen Sie die Methode mit Ihrem Code unter Berücksichtigung \n",
    "        # der Ein- und Ausgabespezifikationen aus der Dokumentation\n",
    "        \n",
    "        if lepton_type == \"both\":\n",
    "            pt_mu, pt_el = p_t\n",
    "            # Fortsetzung der Verarbeitung\n",
    "        if lepton_type != \"both\":\n",
    "            p_t = p_t\n",
    "            # Fortsetzung der Verarbeitung\n",
    "    \n",
    "    @staticmethod\n",
    "    def pseudorapidity(eta, lepton_type):\n",
    "        \"\"\"\n",
    "        Diese Funktion prüft, ob die Bedingung für Pseudorapidität \n",
    "        von den Leptonen im Ereignis erfüllt wird.\n",
    "        \n",
    "        \n",
    "        Hinweis: Es werden entweder Elektronen oder Myonen an diese Methode \n",
    "        übergeben, niemals eine gemischte Sammlung von Leptonen. Nur eine \n",
    "        Unterscheidung zwischen \"electron\" und \"muon\" ist notwendig. Der \n",
    "        gemischte Zerfallskanal wird zweigeteilt und diese Methode wird \n",
    "        zweimal in dem entsprechenden Workflow aufgerufen.\n",
    "        \n",
    "        ------------------------------------------------------\n",
    "        \n",
    "        :param eta: ndarray\n",
    "                    1D array containing data with \"float\" type.\n",
    "        :param lepton_type: str\n",
    "                            \"muon\" or \"electron\"\n",
    "        :return: ndarray\n",
    "                 1D array containing data with \"bool\" type.\n",
    "        \n",
    "        Exemplary: \n",
    "            :param lepton_type: \"electron\"; \n",
    "            :param eta: np.array([1.9, 1.8, -1.7, 1.9, -2.0])            \n",
    "            -> each lepton satisfies the electron requirement of \n",
    "               (abs(eta) < 1.479 | abs(eta) > 1.653) & abs(eta) < 2.5\n",
    "                   Note: In the range [1,479, 1,653] there are detector \n",
    "                         boundaries, which means that no exact reconstruction \n",
    "                         for electrons is possible there. Muons do not have \n",
    "                         this limitation.\n",
    "            :return: True\n",
    "        \"\"\"\n",
    "        \n",
    "        # Bitte vervollständigen Sie die Methode mit Ihrem Code unter Berücksichtigung \n",
    "        # der Ein- und Ausgabespezifikationen aus der Dokumentation\n",
    "        \n",
    "        if lepton_type == \"muon\":\n",
    "            # Fortsetzung der Verarbeitung\n",
    "            pass\n",
    "        if lepton_type == \"electron\":\n",
    "            # Fortsetzung der Verarbeitung\n",
    "            pass\n",
    "    \n",
    "    @staticmethod\n",
    "    def impact_parameter(sip3d, dxy, dz):\n",
    "        \"\"\"\n",
    "        Diese Funktion testet, ob die Variablen des Stoßparameters \n",
    "        bestimmte minimale Schwellenwerte erfüllen\n",
    "        \n",
    "        Hinweis: Es wird nicht zwischen Leptonentypen unterschieden.\n",
    "        \n",
    "        ------------------------------------------------------\n",
    "        \n",
    "        :param sip3d: ndarray\n",
    "                      1D array containing data with \"float\" type.\n",
    "        :param dxy: ndarray\n",
    "                    1D array containing data with \"float\" type.\n",
    "        :param dz: ndarray\n",
    "                   1D array containing data with \"float\" type.\n",
    "        :return: ndarray\n",
    "                 1D array containing data with \"bool\" type.\n",
    "                 \n",
    "        Exemplary:\n",
    "            :param sip3d: np.array([sip3d_1, sip3d_2, sip3d_3, sip3d_4, sip3d_5])\n",
    "            :param dxy: np.array([dxy_1, dxy_2, dxy_3, dxy_4, dxy_5])\n",
    "            :param dz: np.array([dz_1, dz_2, dz_3, dz_4, dz_5])\n",
    "            -> Check if spi3d dxy and dz satisfy the corresponding threshold value\n",
    "            :return: np.array([bool, bool, bool, bool, bool])\n",
    "        \"\"\"\n",
    "        # Bitte vervollständigen Sie die Methode mit Ihrem Code unter Berücksichtigung \n",
    "        # der Ein- und Ausgabespezifikationen aus der Dokumentation\n",
    "    \n",
    "    @staticmethod\n",
    "    def relative_isolation(rel_iso_array):\n",
    "        \"\"\"\n",
    "        Prüft, ob die relative Isolation den Wert überschreitet, der als\n",
    "        Schwellenwert für die relative Isolation gewählt wurde oder nicht.\n",
    "        \n",
    "        Hinweis: Es wird nicht zwischen Leptonentypen unterschieden.\n",
    "        \n",
    "        ------------------------------------------------------\n",
    "\n",
    "        :param rel_iso_array: ndarray\n",
    "                              1D array containing data with `float` type.\n",
    "        :return: ndarray\n",
    "                 1D array containing data with `bool` type.\n",
    "                 \n",
    "        Exemplary:\n",
    "            :param rel_iso_array: np.array([rel_iso_1, rel_iso_2, rel_iso_3, rel_iso_4])\n",
    "            -> rel_iso_array < threshold value?\n",
    "            :return: np.array([bool, bool, bool, bool])\n",
    "        \"\"\"\n",
    "        # Bitte vervollständigen Sie die Methode mit Ihrem Code unter Berücksichtigung \n",
    "        # der Ein- und Ausgabespezifikationen aus der Dokumentation\n",
    "        \n",
    "    @staticmethod\n",
    "    def zz(z1, z2):\n",
    "        \"\"\"\n",
    "        Diese Funktion prüft, ob die beiden Z-Bosonen-Massen innerhalb dem \n",
    "        erlaubten Bereich liegen. Das Ziel ist eine Off-Shell-Rekonstruktion. \n",
    "        Aus diesem Grund muss z1 real und z2 virtuell sein. Außerdem sollte \n",
    "        gewährleistet werden, dass die Massen für z1 und z2 gilt: z1 > z2.\n",
    "        \n",
    "        ------------------------------------------------------\n",
    "\n",
    "        :param z1: float\n",
    "                   first Z-Boson mass\n",
    "        :param z2: float\n",
    "                   second Z-Boson mass\n",
    "        :return: bool\n",
    "                 True or False\n",
    "        \n",
    "        Exemplary: \n",
    "            :param z1: 91\n",
    "            :param z2: 45\n",
    "            -> It satisfy the requirement that z1 > z2\n",
    "            -> if it satisfy the treshold values for z1 and z2\n",
    "                :return: True\n",
    "               else\n",
    "                :return: False\n",
    "        \"\"\"\n",
    "        # Bitte vervollständigen Sie die Methode mit Ihrem Code unter Berücksichtigung \n",
    "        # der Ein- und Ausgabespezifikationen aus der Dokumentation"
   ]
  },
  {
   "cell_type": "markdown",
   "metadata": {},
   "source": [
    "Der folgende Code kombiniert die Vererbung bestehender und von Ihnen implementierter Methoden so, dass alle Methoden innerhalb der Workflows interoperabel sind und in der Apply-Klasse verwendet werden können. Nach dem Ausführen der Zelle kann beim Erzeugen eines `Apply`-Objekts die `filter_instance=Filter` und die `calc_instance=Calc` übergeben werden. Wenn der Code in den jeweiligen Methoden geändert wird, muss diese Zelle **immer zuerst** ausgeführt werden, um die Methoden in `Calc` und `Filter` zu aktualisieren.\n",
    "> Diese Art der \" Fragmentierung\" der Klassen `Calc` und `Filter`, die an `Apply` übergeben werden, sollte in einem in Zukunft von Ihnen selbst erstellten Framework vermieden werden (z.B.: eine Klasse `Filter` und `Calc` mit allen notwendigen Methoden ist ausreichend). Die Entscheidung dieser \"Fragmentierung\" wurde ausschließlich im Zusammenhang mit dieser Aufgabe getroffen."
   ]
  },
  {
   "cell_type": "code",
   "execution_count": null,
   "metadata": {},
   "outputs": [],
   "source": [
    "# Technische Notwendigkeit\n",
    "from include.processing.CalcAndAllowerInit import FilterInit\n",
    "from include.processing.CalcAndAllowerInit import CalcInit\n",
    "\n",
    "FilterInit.a_filter_instance = FilterStudent\n",
    "FilterInit.a_calc_instance = CalcStudent\n",
    "\n",
    "\n",
    "class Filter(FilterStudent, FilterInit):\n",
    "    pass\n",
    "\n",
    "\n",
    "CalcInit.c_filter_instance = Filter\n",
    "CalcInit.c_calc_instance = CalcStudent\n",
    "\n",
    "\n",
    "class Calc(CalcStudent, CalcInit):\n",
    "    pass"
   ]
  },
  {
   "cell_type": "markdown",
   "metadata": {},
   "source": [
    "# Anwendung von Filter- und Rekonstruktionsschritten auf simulierte und gemessene Datensätze\n",
    "---------------------------------------"
   ]
  },
  {
   "cell_type": "markdown",
   "metadata": {},
   "source": [
    "In diesem Abschnitt werden die zuvor von Ihnen implementierten Bedingungen an die Selektion und neuen Größen für die gesamten Datensätze angewendet und berechnet. Auch die tatsächliche Messung wird hier nun eingeführt. Wenn Sie also mit einigen Schwellenwerten der Anforderungen noch nicht zufrieden sind, sollten Sie diese ändern, bevor Sie diesen Abschnitt ausführen, da dieser Teil der Analyse einige Zeit in Anspruch nimmt.\n",
    "\n",
    "Außerdem wird dadurch sichergestellt, dass Sie die Messung nicht vorher sehen und versuchen, Ihre Schwellenwerte der Anforderungen an die Messung anzupassen - dies würde der Idee einer blinden Analyse widersprechen, die vor dem Betrachten der Daten optimiert wird, um Voreingenommenheit durch die Subjektivität zu vermeiden.\n",
    "\n",
    "> Wenn Sie dies auf einer Maschine ausführen, die mehrere Kerne zur Verfügung hat, können Sie dies durch das Argument \"multi_cpu=True\" und die Angabe \"n_cpu=3\" bei der Erstellung des Apply-Objekts angeben (oder eine beliebige andere Anzahl von CPU-Kernen, die Sie zur Verfügung stellen wollen). \n",
    "\n",
    "Für die unten gezeigte Routine kann eine Hilfsfunktion erstellt werden, die alle Datensätze in den Ordnern auflistet:"
   ]
  },
  {
   "cell_type": "code",
   "execution_count": 1,
   "metadata": {},
   "outputs": [],
   "source": [
    "import os\n",
    "\n",
    "\n",
    "def collect_all_dataset_paths(directories=None):\n",
    "    \"\"\"\n",
    "    Dies ist eine Hilfsfunktion zum Sammeln aller Datensätze in angegebenen \n",
    "    Verzeichnissen.\n",
    "    \n",
    "    ------------------------------------------------------\n",
    "    \n",
    "    :param directories: str or list\n",
    "                        path of a directory or list of paths to directories\n",
    "    :return: list\n",
    "             list of str, containing the dataset paths\n",
    "    \"\"\"\n",
    "    \n",
    "    if isinstance(directories, str):\n",
    "        return [os.path.join(directories, file) for file in os.listdir(directories) if \".csv\" in file]\n",
    "    if isinstance(directories, list):\n",
    "        _tmp = []\n",
    "        for directory in directories:\n",
    "            _tmp += collect_all_dataset_paths(directory)\n",
    "        return _tmp"
   ]
  },
  {
   "cell_type": "markdown",
   "metadata": {},
   "source": []
  },
  {
   "cell_type": "code",
   "execution_count": null,
   "metadata": {},
   "outputs": [],
   "source": [
    "files = collect_all_dataset_paths([\"../data/for_long_analysis/mc_init/\", \"../data/for_long_analysis/ru_init/\"])\n",
    "files"
   ]
  },
  {
   "cell_type": "markdown",
   "metadata": {},
   "source": [
    "Die Routine, die alle in Apply.help() aufgeführten Schritte in einer möglichen sinnvollen Reihenfolge abarbeitet, könnte wie folgt aussehen:\n",
    "<div class=\"alert alert-info\">\n",
    "\n",
    " * Warum ist es notwendig, den Filter auf die elektrische Ladung mehrmals durchzuführen?\n",
    " * (optional) Ist die Reihenfolge der angewandten Filter sinnvoll? Wenn nicht, dann können Sie sie entsprechend Ihrer vorstellunt ändern.\n",
    "</div>"
   ]
  },
  {
   "cell_type": "code",
   "execution_count": null,
   "metadata": {},
   "outputs": [],
   "source": [
    "def filter_and_reco_process(file):\n",
    "    \n",
    "    # Bereits bekannter Ladevorgang der einzelnen Datensätze\n",
    "    process = Apply(file=file, calc_instance=Calc, filter_instance=Filter, multi_cpu=False)\n",
    "    \n",
    "    # Name of the record, without the name of the directory in which it is contained\n",
    "    filename = process.filename\n",
    "    \n",
    "    # Name des Datensatzes, ohne den Namen des Verzeichnisses, in dem er enthalten ist\n",
    "    directory = \"../data/for_long_analysis/ru\" if \"CMS_Run\" in filename else \"../data/for_long_analysis/mc\"\n",
    "    \n",
    "    # Die Anwendung der verschiedenen Bedingungen\n",
    "    process.filter(\"electric_charge\")\n",
    "    \n",
    "    # Wenn Sie die verarbeiteten Datensätze nach jedem Filterschritt speichern möchten, \n",
    "    # können Sie dies wie folgt tun:\n",
    "    # process.save(os.path.join(f\"{directory}_AfterFirstElectricCharge\", filename))\n",
    "    \n",
    "    process.filter(\"relative_isolation\")\n",
    "    process.filter(\"impact_parameter\")\n",
    "    process.filter(\"pt_min\")\n",
    "    process.filter(\"pt_exact\")\n",
    "    process.filter(\"pseudorapidity\")\n",
    "    \n",
    "    # Die folgenden beiden Filter führen eine schnelle Überprüfung durch, ob zwei oder vier Leptonenmassen in einem bestimmten Bereich existieren\n",
    "    # Dieser Filter macht keine vollständige Rekonstruktion, bei der alle notwendigen Variablen und die weiteren \n",
    "    # Einschränkungen berücksichtigt werden. Sie dienen nur zur kurzen Abschätzung der Werte, ob eine \n",
    "    # Masse in diesem Bereich überhaupt rekonstruiert werden kann oder nicht.\n",
    "    process.filter(\"two_lepton_mass\")\n",
    "    process.filter(\"four_lepton_mass\")\n",
    "    \n",
    "    # # Eine weitere Verwendung von \"electric_charge\", können Sie die Notwendigkeit hier erklären?\n",
    "    process.filter(\"electric_charge\")\n",
    "    \n",
    "    # Nach der Anwendung aller Anforderungen und der impliziten Erzeugung aller notwendigen Größen, \n",
    "    # wird nun die Rekonstruktion durchgeführt. Zuerst die Z-Bosonen-Paare und dann die vier Leptonen \n",
    "    # invariante Masse aus den beiden Z-Bosonen.\n",
    "    process.save(os.path.join(f\"{directory}_beforeZZreco\", filename))\n",
    "    process.reconstruct(\"zz\")\n",
    "    process.save(os.path.join(f\"{directory}_afterZZreco\", filename))\n",
    "    process.reconstruct(\"four_lepton_mass_from_zz\")\n",
    "    process.save(os.path.join(f\"{directory}_afterHreco\", filename))\n",
    "    \n",
    "    del process"
   ]
  },
  {
   "cell_type": "markdown",
   "metadata": {},
   "source": [
    "Jetzt können Sie alle Datensätze prozessieren. Wenn Sie eine Ihrer gespeicherten Datensätze verwenden und dann die Verarbeitung von dort aus starten möchten, können Sie dies tun, indem Sie die Verzeichnisse in \"collect_all_dataset_paths\" entsprechend Ihrer gewählten Verzeichnisse ändern und bereits durchgeführte Schritte auskommentieren."
   ]
  },
  {
   "cell_type": "code",
   "execution_count": null,
   "metadata": {},
   "outputs": [],
   "source": [
    "from IPython.display import clear_output\n",
    "\n",
    "files = collect_all_dataset_paths([\"../data/for_long_analysis/mc_init/\", \"../data/for_long_analysis/ru_init/\"])\n",
    "for file in files:\n",
    "    filter_and_reco_process(file=file)"
   ]
  },
  {
   "cell_type": "markdown",
   "metadata": {},
   "source": [
    "# Betrachtung der finalen Verteilungen\n",
    "-----------------------"
   ]
  },
  {
   "cell_type": "markdown",
   "metadata": {},
   "source": [
    "Die Idee ist nun, alle Kanäle in einem Histogramm zu kombinieren und einige konkrete Variablen zu betrachten. Damit soll sichergestellt werden, dass eine ausreichende Übereinstimmung zwischen den simulierten Datensätzen und den gemessenen Datensätzen besteht. In den bisherigen Visualisierungen wurden die simulierten Datensätze in Form von Histogrammen ohne zusätzliche Skalierung dargestellt.\n",
    "\n",
    "In diesem Abschnitt sollen die Histogramme der simulierten Datensätze so skaliert werden, dass sie der integrierten Luminosität der gemessenen Daten entsprechen, und es wird eine Zusammenführung der drei Zerfallskanäle zu einem einzigen Histogramm vorgenommen. Diese Skalierung und Zusammenführung kann für jedes Histogramm-Bin wie folgt ausgedrückt werden:\n",
    "\n",
    "$$N_{\\mathrm{bin}} = \\sum_{i\\in\\{4\\mu, 4e, 2\\mu2e\\}} N_{\\mathrm{bin},i}\\frac{\\mathcal{L}_{\\mathrm{exp}}\\sigma_i k}{N_{\\mathrm{tot},i}} \\quad (*)$$\n",
    "\n",
    "Dabei ist $N_{\\mathrm{tot},i}$ die Gesamtzahl der Ereignisse aus der Monte-Carlo-Simulation des jeweiligen Kanals, $N_{\\mathrm{bin},i}$ die tatsächliche Anzahl der Ereignisse in der betrachteten Histogramm-Bin und $\\sigma_i$ der Wirkungsquerschnitt des jeweiligen Kanals.\n",
    "\n",
    "Der Korrekturfaktor $k$ ($k=1$ für die Signalsimulation und $k=1.386$ für die Untergrundsimulation) ist ein für diese Simulation spezifischer Skalierungsfaktor, der nur deshalb eingeführt wurde, weil die Untergrundsimulation bis zur Präzision nächsthöherer Ordnung in der QCD (NLO) simuliert wurde. Im Gegensatz dazu erfordert die von Ihnen durchgeführte Analyse eine Genauigkeit von next-to-next-leading-order in QCD (NNLO), um alle Effekte zu berücksichtigen.\n",
    "\n",
    "Anstelle einer neuen Simulation stellte sich heraus, dass die Einführung dieses globalen Korrekturfaktors das bestehende Problem von NLO$\\rightarrow$NNLO löst.\n",
    "\n",
    "Der $\\mathcal{L}_{\\mathrm{exp}}$ ist die integrierte Luminosität der verwendeten Messdaten und ist derselbe wie in der Veröffentlichung von 2012.\n",
    "\n",
    "Um Verwirrung zu vermeiden, ist es wichtig, darauf hinzuweisen, dass diese Skalierung nicht ereignisweise erfolgt, sondern auf das gesamte Histogramm (genauer gesagt auf die Histogramme der einzelnen Kanäle) angewendet wird.\n",
    "\n",
    "Außerdem wird hier nur die Simulation des Higgs-Boson-Signals für eine Higgs-Boson-Masse von 125 GeV verwendet, im Gegensatz zu der Veröffentlichung, die simulierte Datensätze mit anderen Massenhypothesen verwendet. Warum diese Simulation - unter Berücksichtigung der vorhandenen, veröffentlichten Messung - die geeignete ist, wird im zweiten Teil der Aufgabe erläutert."
   ]
  },
  {
   "cell_type": "code",
   "execution_count": null,
   "metadata": {},
   "outputs": [],
   "source": [
    "from include.histogramm.HistOf import HistOf\n",
    "import matplotlib.pyplot as plt\n",
    "\n",
    "%matplotlib inline\n",
    "plt.rcParams[\"figure.figsize\"] = (12, 9)\n",
    "h = HistOf(mc_dir=\"../data/for_long_analysis/mc_afterHreco\",  # <- Your directory with final datasets (MC Simulation)\n",
    "           ru_dir=\"../data/for_long_analysis/ru_afterHreco\"   # <- Your directory with final datasets (Measurement)\n",
    "           )"
   ]
  },
  {
   "cell_type": "markdown",
   "metadata": {},
   "source": [
    "Die invariante Masse der vier Leptonen kann ähnlich wie `Apply.hist()` aufgerufen werden - der einzige Unterschied ist, dass in der Klasse `HistOf` alle Datensätze in den Verzeichnissen entsprechend skaliert wurden, bevor sie zusammengefasst werden. "
   ]
  },
  {
   "cell_type": "code",
   "execution_count": null,
   "metadata": {},
   "outputs": [],
   "source": [
    "h.variable(\"mass_4l\", 37, (70, 181))\n",
    "ax = plt.gca()\n",
    "ax.set_xlim(70,181)\n",
    "ax.set_ylim(0, 18)\n",
    "ax.set_xlabel(r\"$m_{4\\ell}$ in GeV\")\n",
    "ax.set_ylabel(\"Entries\")\n",
    "plt.show()"
   ]
  },
  {
   "cell_type": "markdown",
   "metadata": {},
   "source": [
    "<div class=\"alert alert-info\">\n",
    "In diesem Notebook werden die gleichen Datensätze wie in der Veröffentlichung von 2012 verwendet.    \n",
    " \n",
    "* Wie groß ist in diesem Fall die betrachtete integrierte Luminosität? \n",
    "    \n",
    "Das Ziel der Analyse ist die Rekonstruktion eines Higgs-Bosons, das im Vier-Lepton-Kanal in ein Paar aus einem Off-Shell- und einem On-Shell-Z-Boson zerfällt. \n",
    "    \n",
    "* Was ist mit off-shell gemeint und wie ist dies motiviert? \n",
    "* Wie kann man anhand der vorhandenen Größen in den Datensätzen überprüfen, ob ein solcher Prozess erfolgreich rekonstruiert wurde? \n",
    "\n",
    "Im Histogramm der invarianten Massen der Leptonen ist die Messung mit einer gewissen Unsicherheit behaftet. Diese Unsicherheit erscheint sehr asymmetrisch - vor allem für niedrig besetzte Histogramm-Bins. \n",
    "\n",
    "* Haben Sie eine Erklärung dafür?\n",
    "\n",
    "    \n",
    "(_Hinweis_: die Messung ist ein Zählprozess)\n",
    "</div>\n",
    "\n",
    "Die möglichen Variablen, die untersucht werden können, sind:"
   ]
  },
  {
   "cell_type": "code",
   "execution_count": null,
   "metadata": {},
   "outputs": [],
   "source": [
    "from include.processing.ApplyHelper import ProcessHelper\n",
    "print(ProcessHelper.print_possible_variables(\"../data/for_long_analysis/mc_afterHreco/MC_2012_H_to_ZZ_to_4L_2el2mu.csv\"))"
   ]
  },
  {
   "cell_type": "markdown",
   "metadata": {},
   "source": [
    "Außerdem haben Sie die Möglichkeit, die Zerfallskanäle separat oder in Kombination zu untersuchen (`channel=[\"4e\", \"4mu\", \"2e2mu\"]`), nur Ereignisse in das Histogramm aufzunehmen, die innerhalb eines bestimmten Intervalls von $m_{4\\ell}$ (`\"mass_4l\"`) oder der Masse eines der rekonstruierten Z-Bosonen (`\"z1_mass\"`, `\"z2_mass\"`) liegen: `filter_by=[\"mass_4l\", (115, 135)]`.\n",
    "\n",
    "Als Beispiel: Ein Blick auf die Verteilung des Transversalimpulses der ersten beiden Leptonen im Vier-Muon- und Vier-Elektronen-Zerfallskanal, der zur Rekonstruktion der vier leptonischen invarianten Massen im Bereich von $[115, 135]$ verwendet wurde, zeigt, dass tatsächlich nur Leptonen mit einem Transversalimpuls größer oder gleich den in den Schwellenwerten eingestellten Werten verwendet wurden und dass einer der gemessenen Werte einen deutlichen Überschuss aufweist und nicht mit der Simulation übereinstimmt, wenn nur der Untergrundprozess ohne Signal berücksichtigt werden würde."
   ]
  },
  {
   "cell_type": "code",
   "execution_count": null,
   "metadata": {},
   "outputs": [],
   "source": [
    "h.variable(\"pt\", bins=10, hist_range=(0,100), \n",
    "           filter_by=[\"mass_4l\", (115, 135)], lepton_number=[0, 1], channel=[\"4mu\", \"4el\"])\n",
    "ax = plt.gca()\n",
    "ax.set_xlabel(\"$p_T$ in GeV\")\n",
    "ax.set_ylabel(\"Entries\")\n",
    "plt.show()"
   ]
  },
  {
   "cell_type": "code",
   "execution_count": null,
   "metadata": {},
   "outputs": [],
   "source": [
    "# Hier können Sie die Fragen von oben beantworten.\n",
    "# Sie können auch die Beispiele für die oben gezeigte Aufgabe ändern."
   ]
  },
  {
   "cell_type": "markdown",
   "metadata": {},
   "source": [
    "# Schätzung der statistischen Signifikanz\n",
    "--------------------"
   ]
  },
  {
   "cell_type": "markdown",
   "metadata": {},
   "source": [
    "Die Idee der Bestimmung der statistischen Signifikanz werden Sie im zweiten Teil dieser Übung kennenlernen.\n",
    "\n",
    "\n",
    "Eine einfache Abschätzung für die Signifikanz kann jedoch bereits hier erfolgen durch:\n",
    "\n",
    "$$ Z = \\sqrt{-2\\left( s+(s+b)\\ln\\left( \\frac{b}{s+b} \\right) \\right)} \\, ,$$\n",
    "\n",
    "wobei $b$ die Anzahl der Untergrundereignisse und $s$ die Anzahl der Signalereignisse ist. Die Details, wie man die obige Formel für die Signifikanz $Z$ herleitet, findet man in [**arXiv:1007.1727**](https://arxiv.org/abs/1007.1727).\n",
    "\n",
    "<div class=\"alert alert-info\">\n",
    "\n",
    "* Wo in dieser Gleichung werden die gemessenen Daten implizit berücksichtigt?\n",
    "* Schätzen Sie die Signifikanz des Higgs-Bosons mit der Masse von 125 GeV ab. Welche Aussagen können Sie über diesen Wert machen? \n",
    "* Leiten Sie einen Term für die Signifikanz unter der Annahme ab, dass $s\\ll b$ ist, und interpretieren Sie Ihr Ergebnis. Vergleichen Sie es mit vorherigem Ergebnis.\n",
    "* Ändert sich etwas, wenn Sie eine andere Anzahl von Bins verwenden oder ein anderes Massenintervall betrachten und wenn ja, warum?\n",
    "</div>"
   ]
  },
  {
   "cell_type": "code",
   "execution_count": null,
   "metadata": {},
   "outputs": [],
   "source": [
    "# necessary quantities\n",
    "_, hist = h.variable(\"mass_4l\", 15, (100, 150))\n",
    "plt.show()\n",
    "mc_signal, mc_background, measurement = hist.data[\"mc_sig\"], hist.data[\"mc_bac\"], hist.data[\"data\"]"
   ]
  },
  {
   "cell_type": "code",
   "execution_count": null,
   "metadata": {},
   "outputs": [],
   "source": [
    "# Ihr Code für diesen Aufgabenteil"
   ]
  }
 ],
 "metadata": {
  "kernelspec": {
   "display_name": "Python 3",
   "language": "python",
   "name": "python3"
  },
  "language_info": {
   "codemirror_mode": {
    "name": "ipython",
    "version": 3
   },
   "file_extension": ".py",
   "mimetype": "text/x-python",
   "name": "python",
   "nbconvert_exporter": "python",
   "pygments_lexer": "ipython3",
   "version": "3.7.8"
  }
 },
 "nbformat": 4,
 "nbformat_minor": 4
}
