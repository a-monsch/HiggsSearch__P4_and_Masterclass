{
 "cells": [
  {
   "cell_type": "markdown",
   "metadata": {},
   "source": [
    "# $\\mathrm{H} \\rightarrow \\mathrm{ZZ}$ : Entdeckung des Higgs-Bosons\n",
    "---------------------------------------\n",
    "von Artur Monsch und Artur Gottmann\n",
    "\n",
    "Zuletzt aktualisiert am 18. Dezember 2020"
   ]
  },
  {
   "cell_type": "markdown",
   "metadata": {},
   "source": [
    "-----------------------------------"
   ]
  },
  {
   "cell_type": "markdown",
   "metadata": {},
   "source": [
    "Im Jahr 2012 wurde am CERN das bereits vorhergesagte Higgs-Boson entdeckt und damit eine Bestätigung des Standardmodells der Teilchenphysik erreicht. Einer der Zerfallskanäle, die zur Entdeckung führten, war der Zerfall in vier Leptonen. Dieser ist im Vergleich zu den anderen Zerfallskanälen ideal für die Analyse geeignet, die Sie nun in Form dieses Notebooks durchführen können.\n",
    "\n",
    "Das Notebook ist der erste Teil dieser Analyse und beschäftigt sich hauptsächlich mit den simulierten und gemessenen Datensätzen. Ziel ist es, die Sensitivität zu erhöhen und ein hohes Verhältnis zwischen dem Untergrund und dem Signal in den simulierten Datensätzen zu erreichen. Am Ende der Aufgabe soll die Signifikanz an der durchgeführten Messung abgeschätzt werden. Anhand dieser Signifikanz kann eine erste Aussage über den Nachweis des Higgs-Bosons getroffen werden. Eine detaillierte statistische Behandlung der Signifikanz bis hin zur Kombination von Messungen zur Erhöhung der Signifikanz wird im zweiten Teil vorgestellt.\n",
    "\n",
    "Als Inspiration für diese Übung kann die folgende [Beispielanalyse](http://opendata.cern.ch/record/5500) aufgeführt werden."
   ]
  },
  {
   "cell_type": "code",
   "execution_count": null,
   "metadata": {},
   "outputs": [],
   "source": [
    "import sys\n",
    "from IPython.core.display import display, HTML\n",
    "display(HTML(\"<style>.container { width:100% !important; }</style>\"))\n",
    "\n",
    "sys.path.append(\"..\")"
   ]
  },
  {
   "cell_type": "markdown",
   "metadata": {},
   "source": [
    "# Ereignisbilder\n",
    "------------------"
   ]
  },
  {
   "cell_type": "markdown",
   "metadata": {},
   "source": [
    "Zum Kennenlernen der Signaturen von Proton-Proton-Kollisionsereignissen, die vom CMS-Experiment aufgezeichnet wurden, können Sie die Visualisierung des CMS-Detektors zusammen mit den Beispielen der aufgezeichneten\n",
    "Ereignissen mit dem [**Ispy-WebGL-Webinterface**](https://github.com/cms-outreach/ispy-webgl) betrachten. Die verschiedenen Komponenten des CMS-Mehrzweck-Detektors, die zum Nachweis verschiedener Teilchen verwendet werden, sind in dem [**ausgewählten Detektorschnitt**](https://cds.cern.ch/record/2120661/files/CMSslice_whiteBackground.png?subformat=icon-1440) dargestellt:\n",
    "<center><img src=\"https://cds.cern.ch/record/2120661/files/CMSslice_whiteBackground.png?subformat=icon-1440\" width=75%></center>\n",
    "\n",
    "\n",
    "Bei der Verwendung von Ispy-WebGL können Sie sich mit der Funktionalität der einzelnen Komponenten vertraut machen, indem Sie sie diese im Menü 'Detector' aktivieren und Ereignisse mit interessanten Signaturen aus den Ereignissammlungen auswählen. Versuchen Sie auch, 'Physics-Objects' im entsprechenden Menü einzuschalten.\n",
    "\n",
    "\n",
    "<div class=\"alert alert-info\">\n",
    "Wählen Sie für jeden der unten aufgeführten Zerfälle zwei Beispiele aus und speichern Sie diese als Bild. Wie sähe ein typisches Signal dieser einzelnen Zerfälle im Detektor aus?\n",
    "\n",
    "- $\\mathrm{H} \\rightarrow \\mathrm{ZZ} \\rightarrow 4\\ell$\n",
    "- $\\mathrm{H} \\rightarrow \\gamma \\gamma$\n",
    "- $\\mathrm{H} \\rightarrow \\mathrm{W}^+ \\mathrm{W}^- \\rightarrow 2\\ell 2\\nu$\n",
    "\n",
    "</div>\n",
    "\n",
    "\n",
    "Die Einschaltfunktionen einzelner Detektorkomponenten und die Möglichkeit, die einzelnen Ereignisse als Bilder zu speichern, können innerhalb der Benutzeroberfläche durchgeführt werden. Um die Ereignissammlung zu öffnen, müssen Sie zunächst die Datei `Event_collection.ig` aus dem Ordner `./data/for_event_display/ig_files/` lokal herunterladen. Anschließend kann innerhalb der Benutzeroberfläche unter dem Reiter \"Öffnen\" - Ordnersymbol - diese Datei (lokale Datei öffnen) ausgewählt und geöffnet werden. Die Bilder lassen sich dann nach dem Speichern mit `<img src=\"your img url or path\">` in einer Markdown-Zelle direkt in das Notebook einfügen.\n",
    "\n",
    "> Hinweis:\n",
    "> `.ig` Datenformat ist ähnlich wie ein `.zip` Archiv und enthält eine oder mehrere Ereignisdateien und wird von ISpy verwendet, das von CMS zur Anzeige von Ereignissen genutzt wird."
   ]
  },
  {
   "cell_type": "markdown",
   "metadata": {},
   "source": [
    "Mit einer Internetverbindung:"
   ]
  },
  {
   "cell_type": "code",
   "execution_count": null,
   "metadata": {},
   "outputs": [],
   "source": [
    "%%html\n",
    "<iframe src=\"https://ispy-webgl.web.cern.ch/ispy-webgl/\" width=\"100%\" height=\"700\"></iframe>"
   ]
  },
  {
   "cell_type": "markdown",
   "metadata": {},
   "source": [
    "Ohne eine Internetverbindung: Öffnen Sie die Datei `index.html` aus dem [Github Repository](https://github.com/cms-outreach/ispy-webgl) lokal in einem Webbrowser, nachdem Sie das GitHub Repository sich zuvor lokal kopiert haben."
   ]
  },
  {
   "cell_type": "markdown",
   "metadata": {},
   "source": [
    "Die wesentliche Aufgabe in diesem Abschnitt ist eine manuelle Klassifizierung der Ergebnisse nach ihren Zerfallskanälen anhand der Ereignisbilder. Die Klassifizierung wird später mit einer für diesen Zweck entwickelten Software automatisiert, um eine große Anzahl von Ereignissen in kurzer Zeit zu analysieren, anstatt jedes einzelne Kollisionsereignis Bild für Bild zu betrachten.\n",
    "\n",
    "\n",
    "Der Fokus dieser Übung liegt auf der Wiederentdeckung des Zerfalls des Higgs-Bosons in zwei Z-Bosonen, die wiederum in vier geladene Leptonen zerfallen, $H\\rightarrow ZZ\\rightarrow 4\\ell$.\n",
    "Von allen geladenen Leptonen werden nur Elektronen und Myonen in der Analyse verwendet, da die Zerfälle des Z-Bosons in zwei $\\tau$-Leptonen, $Z\\rightarrow\\tau\\tau$, viel schwieriger zu handhaben sind,\n",
    "und es schwieriger sein wird, das $H\\rightarrow ZZ$-Signal von Hintergrundsignalen zu unterscheiden.\n",
    "\n",
    "\n",
    ">Ausführliche Erklärungen:\n",
    ">\n",
    ">Die $\\tau$-Leptonen zerfallen, bevor sie die erste Schicht des Spurendetektors erreichen, aber es ist möglich, sie aus den beobachteten Endzuständen zu rekonstruieren. Die Schwierigkeit ergibt sich aus den zusätzlichen Neutrinos in den $\\tau$-Leptonenzerfällen. Da diese einen Teil der Energie wegtragen, wird der $H\\rightarrow ZZ$-Peak in der ${m}_{4\\ell}$-Verteilung - $\\ell$ entspricht in diesem Fall den sichtbaren Zerfallsprodukten des $\\tau$-Leptons -\n",
    "verschmiert und zu niedrigeren Energien hin verschoben. Daher ist es viel schwieriger, $H\\rightarrow ZZ$ Ereignisse von dem Untergrund zu unterscheiden (insbesondere $Z\\rightarrow 4 \\ell$),\n",
    "wenn $\\tau$-Leptonen verwendet werden."
   ]
  },
  {
   "cell_type": "markdown",
   "metadata": {},
   "source": [
    "### Mögliche Lösung:\n",
    "-------------------------------------\n",
    "* $\\mathrm{H} \\rightarrow \\mathrm{ZZ} \\rightarrow 4\\ell$    \n",
    "  (Bitte ergänzen Sie hier Ihre Notizen und fügen die ausgenommenen Bilder ein.)\n",
    "* $\\mathrm{H} \\rightarrow \\gamma \\gamma$    \n",
    " (Bitte ergänzen Sie hier Ihre Notizen und fügen die ausgenommenen Bilder ein.)\n",
    "* $\\mathrm{H} \\rightarrow \\mathrm{W}^+ \\mathrm{W}^- \\rightarrow 2\\ell 2\\nu$    \n",
    "  (Bitte ergänzen Sie hier Ihre Notizen und fügen die ausgenommenen Bilder ein.)\n",
    "--------------------------------------"
   ]
  },
  {
   "cell_type": "markdown",
   "metadata": {},
   "source": [
    "# Datenformat\n",
    "-------------------------------"
   ]
  },
  {
   "cell_type": "markdown",
   "metadata": {},
   "source": [
    "Im Verlauf dieser Übung werden benutzerdefinierte Klassen vorgestellt, die den Zeitaufwand und die Komplexität bei der Verarbeitung der Datensätze reduzieren. Diese Klassen bauen auf Paketen wie `numpy`, `pandas` oder `matplotlib` auf und fassen Schritte zusammen, die sonst bei der Verwendung dieser Pakete durchgeführt werden müssten, z. B. um ein bestimmte kinematische Variablen einzelner Teilchen zu erhalten.\n",
    "\n",
    "Im Allgemeinen handelt es sich um eine gängige Vorgehensweise, die Sie auch auf Ihre zukünftigen Analysen anwenden können: Es ist nicht notwendig, jedes Mal, wenn Sie neue Datensätze verarbeiten möchten, alles von Grund auf neu zu schreiben. Stattdessen ist es sinnvoll, eine Zwischenschicht zwischen Ihren Analyse-Workflows und den vorhandenen Paketen zu schaffen.\n",
    "\n",
    "Die Original-Datensätze sind mehrere TB groß und eine zeiteffiziente Verarbeitung erfordert einen Cluster von Worker-Nodes, auf denen sie mehrere Stunden laufen muss. Die im Folgenden verwendeten Datensätze sind dagegen nur einige MB groß und können im Rahmen dieser Übung recht schnell prozessiert werden. Es wurde eine sehr grobe Vorauswahl der Ereignisse getroffen und nur die für die Analyse notwendigen Variablen herausgeschrieben: bestimmte Informationen über das Ereignis, die einzelnen Leptonen, und den daraus rekonstruierten Teilchen. In einem Ereignis sind zudem mindestens vier Leptonen und maximal acht.\n",
    "\n",
    "Das in dieser Übung verwendete Datenformat, aus dem alle benötigten Größen entnommen werden, ist ein modifiziertes, von Menschen lesbares `.csv`Format. Es gibt drei Datensätze. In der Übung wird versucht das Verhältnis zwischen Signal und Untergrund zu maximieren. Hierzu werden die Monte Carlo Simulationen für den Untergrund (`MC_2012_ZZ_to_4L.csv`) und den Signal (`MC_2012_H_to_ZZ_to_4L.csv`) durch das Anwenden der von Ihnen entwickelten Filter auf das ganze Ereignis bzw. der einzelnen Leptonen reduziert.\n",
    "\n",
    "Wenn die Wahl der Filterwerte abgeschlossen ist, werden die Filter auf die im Jahr 2012 durchgeführte Messung (`CMS_Run2012_[B,C].csv`) angewendet."
   ]
  },
  {
   "cell_type": "code",
   "execution_count": null,
   "metadata": {},
   "outputs": [],
   "source": [
    "%matplotlib inline\n",
    "import numpy as np\n",
    "import pandas as pd\n",
    "import matplotlib.pyplot as plt\n",
    "from include.Helper import load_dataset, save_dataset\n",
    "from tqdm import tqdm\n",
    "\n",
    "from IPython.display import display\n",
    "pd.set_option('display.max_columns', None)\n",
    "pd.set_option('display.max_rows', 50)\n",
    "\n",
    "df_bkg_init = load_dataset(\"../data/for_long_analysis/mc_init/MC_2012_ZZ_to_4L_[105,155].csv\")\n",
    "df_sig_init = load_dataset(\"../data/for_long_analysis/mc_init/MC_2012_H_to_ZZ_to_4L_[105,155].csv\")"
   ]
  },
  {
   "cell_type": "code",
   "execution_count": null,
   "metadata": {},
   "outputs": [],
   "source": [
    "df_bkg_init"
   ]
  },
  {
   "cell_type": "code",
   "execution_count": null,
   "metadata": {},
   "outputs": [],
   "source": [
    "df_sig_init"
   ]
  },
  {
   "cell_type": "markdown",
   "metadata": {},
   "source": [
    "Angaben zu den in den Datensätzen enthaltenen Größen:\n",
    "- **run_evnt_lumisec** sind ereignisspezifische Variablen und stellen die Eindeutigkeit der einzelnen Ereignisse sicher\n",
    "- **leptons** enthält eine Liste von Leptonen des jeweiligen Ereignisses. Alle wichtigen Informationen über diese sind im jeweiligen `Lepton` Objekt festgehalten. Eine detailliertere Aufschlüsselung wird im Weiteren gegeben. Die Liste ist hierbei absteigend nach dem Transversalimpuls der Leptonen sortiert und enthält somit Leptonen mit den höchsten Transversalimpulsen.\n",
    "- **z1, z2** sind die vorab rekonstruierten Z-Bosonen aus dem Ereignis. Von diesen ist immer jeweils der Vierer-Vektor gespeichert.\n",
    "- **four_lep** ist ebenfalls ein Vierer-Vektor der vier Leptonen invarianten Masse, die aus der Rekonstruktion der beiden Z-Bosonen folgt.\n",
    "- **changed** ist dagegen keine physikalische Größe, sondern dient lediglich dazu nicht notwendige nochmalige Rekonstruktion zu vermeiden. Dieser wird bei der Anwendung der Filter auf `True` gesetzt, falls sich die Anzahl der Leptonen in einem Ereignis ändern sollte. Eine genauere Erklärung folgt dann in dem Filterabschnitt."
   ]
  },
  {
   "cell_type": "markdown",
   "metadata": {},
   "source": [
    "# Lepton Objekt, TLorentzVector und Zugriff auf kinematische Größen\n",
    "-----------"
   ]
  },
  {
   "cell_type": "markdown",
   "metadata": {},
   "source": [
    "In diesem Abschnitt wird nun kurz auf das `Lepton` Objekt, sowie dem `TLorentzVector` eingegangen und einige nützliche Funktionalitäten angeschnitten, die Neuimplementation und/oder umständliche Operationsschritte vermeiden könnten.\n",
    "\n",
    "Fangen wir hierzu mit dem `Lepton` an, wo wir zunächst eine Liste aus Leptonen aus dem ersten Ereignis im Untergrund nehmen:"
   ]
  },
  {
   "cell_type": "code",
   "execution_count": null,
   "metadata": {},
   "outputs": [],
   "source": [
    "one_event_leptons = df_bkg_init.loc[0].leptons\n",
    "one_event_leptons"
   ]
  },
  {
   "cell_type": "markdown",
   "metadata": {},
   "source": [
    "Es soll zunächst nur ein Lepton betrachtet werden. Hierzu kann entweder über `one_event_leptons[0]` auf diesen zugegriffen werden oder - falls erwünscht explizit erstellt werden. Hierzu sollte noch die Lepton Klasse importiert werden."
   ]
  },
  {
   "cell_type": "code",
   "execution_count": null,
   "metadata": {},
   "outputs": [],
   "source": [
    "from include.Particle import Lepton\n",
    "from uproot3_methods.classes.TLorentzVector import TLorentzVector\n",
    "\n",
    "one_lepton = Lepton(lv=TLorentzVector(x=-16.588, y=38.981, z=-7.3221, t=42.992), charge=-1, flavour='e', \n",
    "                    relpfiso=0.103053, dxy=-0.000581222, dz=0.00161887, sip3d=0.369838)\n",
    "one_lepton"
   ]
  },
  {
   "cell_type": "markdown",
   "metadata": {},
   "source": [
    "Zu den einzelnen Größen, die ein solches Lepton beschreiben:\n",
    "\n",
    "- **TLorentzVector** ist der vierer Vektor. Die einzelnen Komponenten sind immer die Impulskomponenten, entsprechend analog dazu ist die Energie t zugeordnet: `(x,y,z,t)->(px,py,pz,E)`\n",
    "- **charge** ist die elektrische Ladung des Lepton\n",
    "- **flavour** unterscheidet, ob es sich um ein Myon (`\"m\"`) oder um ein Elektron (`\"e\"`) handelt\n",
    "- **relpfiso** ist die relative Isolation der Leptonen. Sie ist die Summe über die Transversalimpulse aller nicht leptonischen Teilchen geteilt durch den Transversalimpuls des betrachteten Lepton, berechnet in einem Kegel in $(\\Delta\\eta, \\Delta\\phi)$ um das Lepton. Um eine ungenaue Rekonstruktion und Fehlidentifikation mit anderen Teilchen zu vermeiden, ist eine gute relative Isolation wichtig: je kleiner der Wert, desto besser, da es zu weniger Teilchen um das betrachtete Lepton herum führt und das Teilchen, bzw. die messbaren Größen - in diesem Fall des Leptonen - im Detektor besser bestimmt werden können.\n",
    "- **sip3d** ist die Signifikanz des 3D-Stoßparameters, und **dxy** und **dz** sind die Stoßparameter (in cm) quer bzw. längs in Bezug auf die Strahlachse. Diese Größen erlauben es, Leptonen aus primären Zerfällen, wie von einem Z-Boson, von Leptonen zu unterscheiden, die aus Zerfällen von langlebigen Teilchen, wie B-Mesonen, stammen, die außerhalb des primären Vertizes stattfinden.\n"
   ]
  },
  {
   "cell_type": "markdown",
   "metadata": {},
   "source": [
    "Ebenso können weitere Größen, wie die Pseudorapitität $\\eta$ oder der Azimutalwinkel $\\phi$, die zur Beschreibung des Lepton herangezogen werden können, analog wie aus dem `TLorentzVector` entnommen werden. Die möglichen Attribute können mit der `dir()` Funktion aufgelistet werden, wobei die `__method__` für uns nicht weiter notwendig sind."
   ]
  },
  {
   "cell_type": "code",
   "execution_count": null,
   "metadata": {},
   "outputs": [],
   "source": [
    "print([it for it in dir(Lepton) if  not it.startswith(\"__\")])"
   ]
  },
  {
   "cell_type": "markdown",
   "metadata": {},
   "source": [
    "Die Z-Bosonen, sowie der `four_lep` vierer Vektor sind als `TLorentzVector` abgespeichert - auf gleiche Attribute (bis auf die Lepton spezifischen) kann genauso zugegriffen werden."
   ]
  },
  {
   "cell_type": "code",
   "execution_count": null,
   "metadata": {},
   "outputs": [],
   "source": [
    "print(df_bkg_init.loc[0].z1)\n",
    "print(df_bkg_init.loc[0].z1.mass)"
   ]
  },
  {
   "cell_type": "markdown",
   "metadata": {},
   "source": [
    "Für die Erstellung von Histogrammen wird ein eigener pandas Accessor verwendet, der die Konvertierung der einzelnen Größen aus den einzelnen Ereignissen übernimmt."
   ]
  },
  {
   "cell_type": "code",
   "execution_count": null,
   "metadata": {},
   "outputs": [],
   "source": [
    "from include.QuantityAccessors import ParticleQuantitySeriesAccessor"
   ]
  },
  {
   "cell_type": "markdown",
   "metadata": {},
   "source": [
    "Diese Zwischenschicht kann über `quantity` auf Lepton Objekte oder vierer Vektoren aus den rekonstruierten Teilchen angewendet werden um anschließend eine `pandas.Series` zu erhalten, mit der wie gewohnt weiter verfahren werden kann."
   ]
  },
  {
   "cell_type": "code",
   "execution_count": null,
   "metadata": {},
   "outputs": [],
   "source": [
    "fig, ax = plt.subplots()\n",
    "print(df_bkg_init.z1.quantity.px)\n",
    "df_bkg_init.z1.quantity.px.hist(bins=100, range=(-100, 100), ax=ax, label=\"Z$_1$-Boson\")\n",
    "ax.set_xlabel(\"$p_x$ in GeV\")\n",
    "ax.set_ylabel(\"Ereignisse\")\n",
    "plt.legend()\n",
    "plt.show()"
   ]
  },
  {
   "cell_type": "markdown",
   "metadata": {},
   "source": [
    "Für die einzelnen Leptonen kann noch zudem eine separate Auswahl getroffen werden, in der unterschieden werden kann, ob nur Elektronen bzw. Myonen  betrachtet werden und ob alle Leptonen aus den Ereignissen zur Betrachtung herangezogen werden oder ob nur der erste Lepton in dem jeweiligen Ereignis - mit dem höchsten Transversalimpuls - betrachtet werden soll. "
   ]
  },
  {
   "cell_type": "code",
   "execution_count": null,
   "metadata": {},
   "outputs": [],
   "source": [
    "fig, ax = plt.subplots(ncols=3, nrows=1, figsize=(20, 5))\n",
    "df_bkg_init.leptons.quantity.px.hist(bins=100, range=(-100, 100), ax=ax[0], \n",
    "                                     label=\"Allen Leptonen\")\n",
    "df_bkg_init.leptons.quantity(flavour=\"e\").px.hist(bins=100, range=(-100, 100), ax=ax[1], \n",
    "                                                  label=\"Elektronen/Positronen\")\n",
    "df_bkg_init.leptons.quantity(flavour=\"e\", lep_num=[0, 1]).px.hist(bins=100, range=(-100, 100), ax=ax[2], \n",
    "                                                                  label=f\"Ersten zwei Elektronen/Positronen\")\n",
    "\n",
    "[(_ax.set_xlabel(\"$p_x$ in GeV\"), _ax.set_ylabel(\"Leptonenanzahl\"), _ax.legend()) for _ax in ax]\n",
    "\n",
    "plt.show()"
   ]
  },
  {
   "cell_type": "markdown",
   "metadata": {},
   "source": [
    "# Erstellung und Anwendung von Filtern\n",
    "----------"
   ]
  },
  {
   "cell_type": "markdown",
   "metadata": {},
   "source": [
    "Zur Signalanreicherung können nun bestimmte Filter angewendet werden, die entweder einzelne Leptonen aus den Ereignissen oder ganze Ereignisse verwerfen. Ein Beispiel für einen Leptonenfilter kann die Bedingung für ein minimalen Transversalimpuls der Leptonen sein.\n",
    "\n",
    "Aus physikalischer Sicht ist es notwendig diesen minimalen Transversalimpuls zu verlangen, da unterhalb eines festgelegten Wertes die Wahrscheinlichkeit einer fehlerhaften Identifikation des Lepton steigt. Für den CMS-Detektor und den verwendeten Datensatz beträgt der minimale Wert des Transversalimpulses für die Myonen $5 \\, \\mathrm{GeV}$ und für die Elektronen $7 \\, \\mathrm{GeV}$. In einem Ereignis werden somit alle Leptonen die diese Bedingung nicht erfüllen entfernt. Nach dieser Anwendung können in einem Ereignis mehr als vier oder weniger als vier Leptonen geben, wodurch im zweiten Fall keine Rekonstruktion von zwei Z-Bosonen mehr möglich ist. Folglich muss das Ereignis komplett verworfen werden.\n",
    "\n",
    "Die allgemeine Aufgabe für ein Leptonenfilter ist dann damit durch die zwei (bzw. drei) folgenden Punkte gegeben:\n",
    "1. Berechnung der notwendigen physikalischen Größe nach der gefiltert wird, sofern diese nicht bereits vorhanden ist\n",
    "2. Anwendung der Filterbedingung auf jeden einzelnen Lepton in dem Ereignis, wobei ggf. nach dem Leptonen Flavour unterschieden werden muss\n",
    "3. Überprüfung, ob die Minimalanzahl an Leptonen erfüllt wird.\n",
    "\n",
    "Um nicht die einzelnen Punkte für jeden Filter neu schreiben zu müssen ist es sinnvoll zwei Hilfsfunktionen einzuführen, auf die in jedem Filter zurückgegriffen wird. Wir fangen von hinten an und führen eine Hilfsfunktion ein, die die Mindestanzahl an Leptonen innerhalb eines Ereignisses überprüft."
   ]
  },
  {
   "cell_type": "code",
   "execution_count": null,
   "metadata": {},
   "outputs": [],
   "source": [
    "def check_min_lepton_number(row: pd.Series):\n",
    "    \"\"\"\n",
    "    Überprüft, ob in einem Ereignis - einer Zeile im \n",
    "    Datensatz - die Mindestanzahl an Leptonen für die \n",
    "    Rekonstruktion vorhanden ist.\n",
    "    \n",
    "    row: pd.Series;\n",
    "    \n",
    "    return: bool\n",
    "    \"\"\"\n",
    "\n",
    "    if row.channel != \"2e2mu\": # Flavour Unterscheidung nicht notwendig\n",
    "        return len(row.leptons) >= 4\n",
    "\n",
    "    if row.channel == \"2e2mu\": # Flavour Unterscheidung notwendig\n",
    "        _flavour_count = lambda x: sum([1 for lepton in row.leptons if lepton.flavour == x])\n",
    "        return (_flavour_count(\"e\") >= 2) and (_flavour_count(\"m\") >= 2)"
   ]
  },
  {
   "cell_type": "markdown",
   "metadata": {},
   "source": [
    "Die zweite Hilfsfunktion ist ein generischer Lepton Filter, der eine Operation - in unserem Fall immer eine Funktion - auf alle Leptonen innerhalb eines Ereignisses anwendet und bestimmte Leptonen nach dem Anwenden der Operation verwirft."
   ]
  },
  {
   "cell_type": "code",
   "execution_count": null,
   "metadata": {},
   "outputs": [],
   "source": [
    "def generic_lepton_filter(row, operation):\n",
    "        \"\"\"\n",
    "        Funktion, die eine Maske für die Leptonen in einem Ereignis \n",
    "        basierend auf einer Operation erstellt und diese auf die\n",
    "        Leptonen im Ereignis anwendet.\n",
    "        \n",
    "        row: pd.Series - ein Ereignis\n",
    "        operation: Filterbedingung für ein Lepton;\n",
    "                   Für den Fall, in dem die Unterscheidung nach Leptonen Flavour notwendig ist:\n",
    "                   Form: {\"e\": lambda lepton: <operation>, \"m\": lambda lepton: <operation>}\n",
    "                   Für den Fall, in dem die Unterscheidung nach Leptonen Flavour nicht notwendig ist:\n",
    "                   Form: lambda lepton: <operation>\n",
    "                   \n",
    "        return: pd.Series\n",
    "        \"\"\"\n",
    "        \n",
    "        # Erstellung einer Filtermaske für den Fall...\n",
    "        if isinstance(operation, dict):  # ... einer Unterscheidung nach dem Flavour\n",
    "            _mask = np.array([operation[lep.flavour](lep) for lep in row.leptons])\n",
    "        else:  # ... keiner Unterscheidung nach dem Flavour\n",
    "            _mask = np.array([operation(lep) for lep in row.leptons])\n",
    "        \n",
    "        row.leptons = row.leptons[_mask]  # Anwendung der erstellten Filtermaske\n",
    "        \n",
    "        if not check_min_lepton_number(row):  # Überprüfung nach der Mindestanzahl an Leptonen\n",
    "            # Ein Eintrag in der Zeile wird zu \"nan\" gesetzt und später aussortert\n",
    "            row.run_event_lumisec = np.nan  \n",
    "        else:\n",
    "            # Auswahl für eine wiederholte Rekonstruktion anhand der verbliebenen Leptonen\n",
    "            row.changed = len(_mask) != sum(_mask)\n",
    "        \n",
    "        return row"
   ]
  },
  {
   "cell_type": "markdown",
   "metadata": {},
   "source": [
    "`generic_lepton_filter` kann nun für die Anwendung von Leptonenfiltern wie folgt benutzt werden (`check_min_lepton_number` wird, wie oben zu sehen auch implizit durch das Ausführen von `generic_lepton_filter` angewendet. "
   ]
  },
  {
   "cell_type": "code",
   "execution_count": null,
   "metadata": {},
   "outputs": [],
   "source": [
    "def filter_pt_min(row):\n",
    "    _used_operation = {\"m\": lambda lep: lep.pt > 5, \"e\": lambda lep: lep.pt > 7}\n",
    "    return generic_lepton_filter(row, _used_operation)"
   ]
  },
  {
   "cell_type": "markdown",
   "metadata": {},
   "source": [
    "Für den Fall, dass keine Unterscheidung zwischen den Lepton Flavour notwendig ist, würde die Variable `_used_operation` sich vereinfachen lassen zu\n",
    "\n",
    "```Python\n",
    "_used_operation = lambda lep: <something that returns a bool>\n",
    "```\n",
    "\n",
    "Das Anwenden der Filter geschieht über das bereits bekannte `pd.DataFrame.apply(myfunction, axis=1)`. Die Verwerfung von allen Ereignissen, die die Mindestanzahl an Leptonen nicht erfüllen (`row.run_event_lumisec = np.nan `) erfolgt über `pd.DataFrame.dropna()`. Um im weiteren Verlauf der Aufgabe das Anwenden der Filter etwas kompakter zu gestalten:"
   ]
  },
  {
   "cell_type": "code",
   "execution_count": null,
   "metadata": {},
   "outputs": [],
   "source": [
    "def apply_filter_functions(dataframe, filter_function_list):\n",
    "    new_dataframe = dataframe\n",
    "    for filter_function in filter_function_list:\n",
    "        tqdm.pandas(desc=f\"{filter_function.__name__:<30}\")\n",
    "        new_dataframe = new_dataframe.progress_apply(filter_function, axis=1)\n",
    "        new_dataframe = new_dataframe.dropna()\n",
    "    return new_dataframe"
   ]
  },
  {
   "cell_type": "markdown",
   "metadata": {},
   "source": [
    "Hier wurde die `apply` Methode von `pandas` durch `progess_apply` von `tqdm` ersetzt, um ein visuelles Feedback über den Fortschritt zu geben. Ausgegeben wird immer das modifizierte `pd.DateFrame`. Dieser kann entweder einer neuen Variable zugeordnet werden oder explizit das alte `pd.DateFrame` überschreiben. Ist das alte `pd.DateFrame` überschrieben gibt es keine Möglichkeit diesen Vorgang wieder umzukehren außer den Kernel neu starten! Es ist möglich eine Sicherung der bereits prozessierten Datensätze über `save_dataset` zu speichern:\n",
    "\n",
    "```Python\n",
    "from include.Helper import save_dataset\n",
    "save_dataset(dataframe, \"new_name.csv\")\n",
    "```\n",
    "Die Anwendung des oben implementierten Filter nach dem minimalen Transversalimpuls:\n"
   ]
  },
  {
   "cell_type": "code",
   "execution_count": null,
   "metadata": {},
   "outputs": [],
   "source": [
    "df_bkg_after_pt_min = apply_filter_functions(df_bkg_init, [filter_pt_min])\n",
    "print(df_bkg_init.shape, df_bkg_after_pt_min.shape)"
   ]
  },
  {
   "cell_type": "markdown",
   "metadata": {},
   "source": [
    "Ein Beispiel für den Ereignisfilter dagegen kann die Forderung nach einer Kombinationsmöglichkeit der elektrischen Ladung sein. Kann eine Kombination aus vier Leptonen (wobei paarweise derselbe Leptonen Flavour eingehalten werden muss) innerhalb eines Ereignisses - der mehr als vier Leptonen beinhalten könnte - nicht erfüllt werden, dann wird das Ereignis verworfen.\n",
    "\n",
    "In Code kann diese Ausschlussbedingung als eine Hilfsfunktion wie folgt aussehen:"
   ]
  },
  {
   "cell_type": "code",
   "execution_count": null,
   "metadata": {},
   "outputs": [],
   "source": [
    "# Nützliche pythoneigene Bibliothek zur Kombinatorik u. Ä. Problemstellungen\n",
    "import itertools\n",
    "\n",
    "def valid_charge_combination(charges, num=4):\n",
    "    # Alle num-fache Kombinationen von charges mit vorzeitigem Abbruch\n",
    "    for combination in itertools.combinations(charges, num): \n",
    "        if np.sum(combination) == 0:\n",
    "            return True \n",
    "    else:\n",
    "        return False"
   ]
  },
  {
   "cell_type": "markdown",
   "metadata": {},
   "source": [
    "Die eigentliche Filterfunktion für diesen Ereignisfilter wäre:"
   ]
  },
  {
   "cell_type": "code",
   "execution_count": null,
   "metadata": {},
   "outputs": [],
   "source": [
    "def filter_electric_charge(row):    \n",
    "        # Unterscheidung zwischen den Zerfallskanälen\n",
    "        if row.channel != \"2e2mu\": # Alle Leptonen haben den gleichen Flavour\n",
    "            charge_list = [lep.charge for lep in row.leptons]\n",
    "            if not valid_charge_combination(charge_list, 4):\n",
    "                # Ein Eintrag in der Zeile wird zu \"nan\" gesetzt und später aussortiert\n",
    "                row.run_event_lumisec = np.nan\n",
    "        \n",
    "        if row.channel == \"2e2mu\":  # Mischkanal: Es muss nach dem Flavour unterschieden werden\n",
    "            charge_list_mu = [lep.charge for lep in row.leptons if lep.flavour == \"m\"]\n",
    "            charge_list_el = [lep.charge for lep in row.leptons if lep.flavour == \"e\"]\n",
    "            if not valid_charge_combination(charge_list_mu, 2) or not valid_charge_combination(charge_list_el, 2):\n",
    "                row.run_event_lumisec = np.nan\n",
    "            \n",
    "        return row"
   ]
  },
  {
   "cell_type": "markdown",
   "metadata": {},
   "source": [
    "Das Anwenden von `filter_electric_charge` auf `df_bkg_init` würde zu keiner Veränderung führen, da die bereits erfolgreiche Rekonstruktion der Z-Bosonen diese Filterbedingung impliziert. Aus diesem Grund ist es sinnvoll, diesen Filter erst nach einem Leptonenfilter anzuwenden."
   ]
  },
  {
   "cell_type": "code",
   "execution_count": null,
   "metadata": {},
   "outputs": [],
   "source": [
    "df_bkg_after_pt_min_q = apply_filter_functions(df_bkg_init, [filter_pt_min, filter_electric_charge])"
   ]
  },
  {
   "cell_type": "markdown",
   "metadata": {},
   "source": [
    "Wenn vor dem Anwenden des Leptonenfilters es mehr als vier Leptonen in einem Ereignis gab und nach dem Anwenden immer noch vier Leptonen existieren, dann ist eine erneute Rekonstruktion für die ausgewählten Ereignisse notwendig, da ggf. eine besser Rekonstruktion der Z-Bosonen möglich ist. Für den Fall von `filter_pt_min` und anschließendem `filter_electric_chagre` ergibt sich in dem Datensatz eine Anzahl an veränderten Ereignissen:"
   ]
  },
  {
   "cell_type": "code",
   "execution_count": null,
   "metadata": {},
   "outputs": [],
   "source": [
    "sum(df_bkg_after_pt_min_q.changed)"
   ]
  },
  {
   "cell_type": "markdown",
   "metadata": {},
   "source": [
    "Diese erneute Rekonstruktion kann analog zu `apply_filter_functions` ausgeführt werden:"
   ]
  },
  {
   "cell_type": "code",
   "execution_count": null,
   "metadata": {},
   "outputs": [],
   "source": [
    "from include.ReconstructionFunctions import reconstruct_zz\n",
    "\n",
    "def reconstruct(dataframe, pt_exact=None):\n",
    "    new_dataframe = dataframe\n",
    "    tqdm.pandas(desc=f\"{reconstruct_zz.__name__:<30}\")\n",
    "    new_dataframe = new_dataframe.progress_apply(lambda x: reconstruct_zz(x, pt_dict=pt_exact), axis=1, raw=True)\n",
    "    new_dataframe = new_dataframe.dropna()\n",
    "    new_dataframe.four_lep = new_dataframe.z1 + new_dataframe.z2\n",
    "    return new_dataframe"
   ]
  },
  {
   "cell_type": "markdown",
   "metadata": {},
   "source": [
    "Das in den Argumenten erwähnte `pt_exact` ist zum Beispiel von der Form `{1: 15, 2: 10, 3: 0, 4: 0}` und macht eine größere Einschränkung an die Transversalimpulse der zur Rekonstruktion verwendeten Leptonen. Für diesen Fall wird beispielsweise sichergestellt, dass in den für die Rekonstruktion verwendeten Leptonen es mindestens ein Lepton gibt, der die Bedingung $p_T > 15 \\, \\mathrm{GeV}$ und zwei die Bedingung $p_T > 10 \\, \\mathrm{GeV}$ erfüllen. Eine genauere Motivation und die dazugehörige Aufgabe folgt weiter unten. Für die erneute Rekonstruktion wird in diesem Fall das vorher erzeugte `df_bkg_after_pt_min_q` überschrieben:\n"
   ]
  },
  {
   "cell_type": "code",
   "execution_count": null,
   "metadata": {},
   "outputs": [],
   "source": [
    "df_bkg_after_pt_min_q = reconstruct(df_bkg_after_pt_min_q)"
   ]
  },
  {
   "cell_type": "markdown",
   "metadata": {},
   "source": [
    "Die direkte Auswirkung auf den Transversalimpuls lässt sich dann wie bereits oben beschrieben visualisieren:"
   ]
  },
  {
   "cell_type": "code",
   "execution_count": null,
   "metadata": {},
   "outputs": [],
   "source": [
    "fig, ax = plt.subplots()\n",
    "df_bkg_init.leptons.quantity.pt.hist(bins=100, range=(0, 100), ax=ax, label=\"Vor dem Filter\")\n",
    "df_bkg_after_pt_min_q.leptons.quantity.pt.hist(bins=100, range=(0, 100), ax=ax, label=\"Nach dem Filter\")\n",
    "ax.set_xlabel(\"$p_T$ in GeV\")\n",
    "ax.set_ylabel(\"Leptonenanzahl\")\n",
    "ax.legend()\n",
    "plt.show()"
   ]
  },
  {
   "cell_type": "markdown",
   "metadata": {},
   "source": [
    "<div class=\"alert alert-info\">\n",
    "Andere Variablen aus dem Datensatz können in gleicher Weise visualisiert werden.   \n",
    "    \n",
    "  * Sieht die Verteilung der Transversalimpulse wie erwartet aus?\n",
    "  * Bei welchen anderen Größen ist die Auswirkung durch die Anwendung dieser beiden Filter festzustellen?\n",
    "  * Gibt es in den Verteilungen anderer Größen Abweichungen von der Erwartung?\n",
    "</div>"
   ]
  },
  {
   "cell_type": "markdown",
   "metadata": {},
   "source": [
    "# Erstellung weiterer Selektionsbedingungen\n",
    "-------"
   ]
  },
  {
   "cell_type": "markdown",
   "metadata": {},
   "source": [
    "Wie am Beispiel der Bedingung des minimal notwendigen Transversalimpulses gezeigt, werden in diesem Abschnitt weitere Selektionsbedingungen implementiert und von Ihnen definiert. Die Grenzwerte für die einzelnen Bedingungen können Sie selbst wählen. Dazu ist die Visualisierung der Verteilungen, wie Sie sie bereits in den vorherigen Abschnitten gesehen haben, hilfreich.\n",
    "\n",
    "Probieren Sie ruhig verschiedene Einstellungen für die Selektionsbedingungen aus, da die Signalempfindlichkeit Ihrer Analyse je nach Wahl eines Schwellenwertes für eine Größe variieren kann. Versuchen Sie daher, eine sinnvolle Kombination zu finden.\n",
    "\n",
    "Eine Begründung für die von der CMS-Kollaboration gewählten Schwellenwerte für die Entdeckung des Higgs-Bosons im Jahr 2012 finden Sie in der [**offiziellen Veröffentlichung**](https://arxiv.org/pdf/1207.7235.pdf). Dieses Paper ist eine Kombination aller Zerfallskanäle des Higgs-Bosons, die für die Entdeckung untersucht und kombiniert wurden, daher können Sie sich beim Lesen auf den Zerfall in vier Leptonen konzentrieren. Falls Sie Interesse haben, können Sie sich auch die anderen Zerfallskanäle anschauen - für die Übung ist das aber nicht notwendig.\n",
    "\n",
    "Sie können die Wahl der Selektionsschwellen auch in Bezug auf die im Paper vorgeschlagenen Werte variieren, um zu versuchen, ein besseres Ergebnis zu erhalten. Denken Sie aber daran, dass die Wahl der Werte für die Schwellenwerte auf Untersuchungen mit den MC-Simulationen und nicht auf den gemessenen Daten beruhen sollte, um eine voreingenommene Suche nach einem Signalpeak zu vermeiden."
   ]
  },
  {
   "cell_type": "markdown",
   "metadata": {},
   "source": [
    "Im Folgenden sollen weitere Filter von Ihnen nach dem obigen Prinzip implementiert werden. Bei der Wahl der geeigneten Schwellenwerte können sie die [**offizielle Veröffentlichung**](https://arxiv.org/pdf/1207.7235.pdf)) als Grundlage nehmen und nach eigenem Ermessen auch davon abweichen.\n",
    "<div class=\"alert alert-info\">\n",
    "Es sollen mindestens die folgenden Filter implementiert werden:\n",
    "\n",
    "* **Leptonenfilter** für die:\n",
    "    * **Relativen Isolation** (`relpfiso`), die alle Leptonen verwirft, deren Wert für die relative Isolation größer als ein zu wählender Schwellenwert ist.\n",
    "        \n",
    "        Warum ist es wichtig, diese näher zu betrachten?\n",
    "    * **Pseudorapidität** (`eta` oder `pseudorapidity`) der einzelnen Leptonen. Hierbei soll die Detektorgeometrie berücksichtigt und abgewogen werden, ob eine Unterscheidung nach Lepton Flavour sinnvoll ist.\n",
    "    \n",
    "    (*Hinweis*: Myonen können als MIPS angesehen werden. Das folgende [**Bild**](http://hep.fi.infn.it/CMS/software/ResultsWebPage/Images/Geometry/Tracker_SubDetectors_x_vs_eta.gif) zeigt das \"Material Buget\" des CMS Detektors)\n",
    "    * **Stoßparameter** der einzelnen Leptonen, die alle Leptonen verwirft, die einen `(dz, dxy, sip3d)` Schwellenwert überschreiten.\n",
    "    \n",
    "    Welche Leptonen werden durch das Anwenden dieses Filterschrittes aussortiert?\n",
    "* **Ereignisfilter** für:\n",
    "    * **Genauere Einhaltung der Werte für den Transversalimpuls** von Leptonen in einem Ereignis. Zum Beispiel kann gefordert werden, dass es mindestens einen Lepton mit einem Transversalimpuls größer als $20 \\, \\mathrm{GeV}$ gibt, und einen weiteren der die Bedingung $p_T > 10 \\mathrm{GeV}$ erfüllt. Nach dem Anwenden dieses Filters sollte die gewählte Bedingung als ein `dict` (`pt_exact`) an die `reconstruct` Funktion übergeben werden (s. o.).\n",
    "    \n",
    "    Geben Sie einen möglichen Grund für diesen Filter an.\n",
    "    * Wahl passender **Intervall(e) für die Masse der Z-Bosone(n)** um einen Off-Shell und einen On-Shell Z-Boson zu erhalten.\n",
    "    \n",
    "    Was ist ein Off-Shell Z-Boson?    \n",
    "    Warum wird versucht eine derartige Kombination zu rekonstruieren?\n",
    "</div>\n"
   ]
  },
  {
   "cell_type": "markdown",
   "metadata": {},
   "source": [
    "# Finale Anwendung von Filter- und Rekonstruktionsschritten auf simulierte und gemessene Datensätze\n",
    "---------------------------------------"
   ]
  },
  {
   "cell_type": "markdown",
   "metadata": {},
   "source": [
    "In diesem Abschnitt werden die zuvor von Ihnen implementierten Bedingungen an die Selektion und neuen Größen für die gesamten Datensätze angewendet. Auch die tatsächliche Messung wird hier nun eingeführt. Wenn Sie also mit einigen Schwellenwerten der Anforderungen noch nicht zufrieden sind, sollten Sie diese ändern, bevor Sie diesen Abschnitt ausführen.\n",
    "\n",
    "Außerdem wird dadurch sichergestellt, dass Sie die Messung nicht vorher sehen und versuchen, Ihre Schwellenwerte der Anforderungen an die Messung anzupassen - dies würde der Idee einer blinden Analyse widersprechen, die vor dem Betrachten der Daten optimiert wird, um Voreingenommenheit durch die Subjektivität zu vermeiden."
   ]
  },
  {
   "cell_type": "code",
   "execution_count": null,
   "metadata": {},
   "outputs": [],
   "source": [
    "# Zu erweiternde Liste mit den eigenen implementierten Filtern\n",
    "final_filter_function_list = [filter_pt_min, filter_electric_charge]\n",
    "\n",
    "df_measurement_init = load_dataset(\"../data/for_long_analysis/ru_init/CMS_Run2012_[B,C].csv\")\n",
    "\n",
    "# Anwendung der Filter auf alle Datensätze\n",
    "df_bkg = apply_filter_functions(df_bkg_init, final_filter_function_list)\n",
    "df_sig = apply_filter_functions(df_sig_init, final_filter_function_list)\n",
    "df_measurement = apply_filter_functions(df_measurement_init, final_filter_function_list)\n",
    "\n",
    "# Anwendung der Rekonstruktion bei geänderten Ereignissen:\n",
    "\n",
    "# Ersetze durch die gewählten Werte\n",
    "chosen_pt_exact_dict = {1:0, 2:0, 3:0, 4:0}\n",
    "df_bkg = reconstruct(df_bkg, pt_exact=chosen_pt_exact_dict)\n",
    "df_sig = reconstruct(df_sig, pt_exact=chosen_pt_exact_dict)\n",
    "df_measurement = reconstruct(df_measurement, pt_exact=chosen_pt_exact_dict)\n",
    "\n",
    "# Anwendung des Filters zur Selektion von den Massen der Z-Bosonen innerhalb eines gewählten Intervalls:\n",
    "# df_bkg = apply_filter_functions(df_bkg, <your func>)\n",
    "# df_sig = apply_filter_functions(df_sig, <your func>)\n",
    "# df_measurement = apply_filter_functions(df_measurement, <your func>)"
   ]
  },
  {
   "cell_type": "markdown",
   "metadata": {},
   "source": [
    "# Betrachtung der finalen Verteilungen\n",
    "-----------------------"
   ]
  },
  {
   "cell_type": "markdown",
   "metadata": {},
   "source": [
    "Nun können alle Kanäle in einem Histogramm zu kombinieren, einige konkrete Variablen betrachtet und sichergestellt werden, dass eine ausreichende Übereinstimmung zwischen den simulierten Datensätzen und den gemessenen Datensätzen besteht. In den bisherigen Visualisierungen wurden die simulierten Datensätze in Form von Histogrammen ohne zusätzliche Skalierung dargestellt.\n",
    "\n",
    "In diesem Abschnitt sollen die Histogramme der simulierten Datensätze so skaliert werden, dass sie der integrierten Luminosität der gemessenen Daten entsprechen, und es wird eine Zusammenführung der drei Zerfallskanäle zu einem einzigen Histogramm vorgenommen. Diese Skalierung und Zusammenführung kann für jedes Histogramm-Bin wie folgt ausgedrückt werden:\n",
    "\n",
    "$$N_{\\mathrm{bin}} = \\sum_{i\\in\\{4\\mu, 4e, 2\\mu2e\\}} N_{\\mathrm{bin},i}\\frac{\\mathcal{L}_{\\mathrm{exp}}\\sigma_i k}{N_{\\mathrm{tot},i}} \\quad (*)$$\n",
    "\n",
    "Dabei ist $N_{\\mathrm{tot},i}$ die Gesamtzahl der Ereignisse aus der Monte-Carlo-Simulation des jeweiligen Kanals, $N_{\\mathrm{bin},i}$ die tatsächliche Anzahl der Ereignisse in der betrachteten Histogramm-Bin und $\\sigma_i$ der Wirkungsquerschnitt des jeweiligen Kanals.\n",
    "\n",
    "Der Korrekturfaktor $k$ ($k=1$ für die Signalsimulation und $k=1.386$ für die Untergrundsimulation) ist ein für diese Simulation spezifischer Skalierungsfaktor, der nur deshalb eingeführt wurde, weil die Untergrundsimulation bis zur Präzision nächsthöherer Ordnung in der QCD (NLO) simuliert wurde. Im Gegensatz dazu erfordert die von Ihnen durchgeführte Analyse eine Genauigkeit von next-to-next-leading-order in QCD (NNLO), um alle Effekte zu berücksichtigen.\n",
    "\n",
    "Anstelle einer neuen Simulation stellte sich heraus, dass die Einführung dieses globalen Korrekturfaktors das bestehende Problem von NLO$\\rightarrow$NNLO löst.\n",
    "\n",
    "Der $\\mathcal{L}_{\\mathrm{exp}}$ ist die integrierte Luminosität der verwendeten Messdaten.\n",
    "\n",
    "Um Verwirrung zu vermeiden, ist es wichtig, darauf hinzuweisen, dass diese Skalierung nicht ereignisweise erfolgt, sondern auf das gesamte Histogramm (genauer gesagt auf die Histogramme der einzelnen Kanäle) angewendet wird.\n",
    "\n",
    "Außerdem wird hier nur die Simulation des Higgs-Boson-Signals für eine Higgs-Boson-Masse von 125 GeV verwendet, im Gegensatz zu der Veröffentlichung, die auch simulierte Datensätze anderer Massenhypothesen nutzt. Warum diese Simulation - unter Berücksichtigung der vorhandenen, veröffentlichten Messung - die geeignete ist, wird im zweiten Teil der Aufgabe erläutert."
   ]
  },
  {
   "cell_type": "markdown",
   "metadata": {},
   "source": [
    "Für die Skalierung in $(*)$ wird die Hilfsfunktion `mc_hist_scale_factor` verwendet. Als Argumente werden der Zerfallskanal (`channel = \"2e2mu\" | \"4e\" | \"4mu\"`) und der betrachtete Prozess (`process = \"background\" | \"signal\"`) übergeben."
   ]
  },
  {
   "cell_type": "code",
   "execution_count": null,
   "metadata": {},
   "outputs": [],
   "source": [
    "from include.Helper import mc_hist_scale_factor as mhsf\n",
    "\n",
    "mhsf(channel=\"2e2mu\", process=\"background\"), mhsf(channel=\"4e\", process=\"signal\")"
   ]
  },
  {
   "cell_type": "markdown",
   "metadata": {},
   "source": [
    "<div class=\"alert alert-info\">\n",
    "Visualisieren sie die Verteilung\n",
    "    \n",
    "   * der vier Leptonen invarianten Masse\n",
    "   * der Masse der Z-Bosonen\n",
    "   * einiger kinematischer Größen der Leptonen, Z-Bosonen und der vier Leptonen invarianten Masse\n",
    "\n",
    "Geben Sie die Unsicherheiten auf die Messung an und vergleichen diese mit der Vorhersage aus den simulierten Datensätzen. Wo sehen sie Abweichungen von dem Untergrundprozess?\n",
    "\n",
    "*Hinweis*: Masken unterschiedlicher Kanäle können für die Bildung von Histogrammen direkt angewendet werden und haben zum Beispiel die Form `dataframe[dataframe.channel == \"4e\"]`.\n",
    "</div>"
   ]
  },
  {
   "cell_type": "markdown",
   "metadata": {},
   "source": [
    "# Schätzung der statistischen Signifikanz\n",
    "--------------------"
   ]
  },
  {
   "cell_type": "markdown",
   "metadata": {},
   "source": [
    "Die Idee der Bestimmung der statistischen Signifikanz werden Sie im zweiten Teil dieser Übung kennenlernen.\n",
    "\n",
    "\n",
    "Eine einfache Abschätzung für die Signifikanz kann jedoch bereits hier erfolgen durch:\n",
    "\n",
    "$$ Z = \\sqrt{-2\\left( s+(s+b)\\ln\\left( \\frac{b}{s+b} \\right) \\right)} \\, ,$$\n",
    "\n",
    "wobei $b$ die Anzahl der Untergrundereignisse und $s$ die Anzahl der Signalereignisse ist. Die Details, wie man die obige Formel für die Signifikanz $Z$ herleitet, findet man in [**arXiv:1007.1727**](https://arxiv.org/abs/1007.1727).\n",
    "\n",
    "<div class=\"alert alert-info\">\n",
    "\n",
    "* Wo in dieser Gleichung werden die gemessenen Daten implizit berücksichtigt?\n",
    "* Schätzen Sie die Signifikanz des Higgs-Bosons mit der Masse von 125 GeV ab. Welche Aussagen können Sie über diesen Wert machen? \n",
    "* Leiten Sie einen Term für die Signifikanz unter der Annahme ab, dass $s\\ll b$ ist, und interpretieren Sie Ihr Ergebnis. Vergleichen Sie es mit vorherigem Ergebnis.\n",
    "* Ändert sich etwas, wenn Sie eine andere Anzahl von Bins verwenden oder ein anderes Massenintervall betrachten und wenn ja, warum?\n",
    "    \n",
    "*Hinweis*: Sie können das Histogramm aus dem vorherigem Abschnitt unter der Anwendung von entsprechenden Masken weiterverwenden.\n",
    "</div>"
   ]
  }
 ],
 "metadata": {
  "kernelspec": {
   "display_name": "Python 3",
   "language": "python",
   "name": "python3"
  },
  "language_info": {
   "codemirror_mode": {
    "name": "ipython",
    "version": 3
   },
   "file_extension": ".py",
   "mimetype": "text/x-python",
   "name": "python",
   "nbconvert_exporter": "python",
   "pygments_lexer": "ipython3",
   "version": "3.7.10"
  }
 },
 "nbformat": 4,
 "nbformat_minor": 4
}
