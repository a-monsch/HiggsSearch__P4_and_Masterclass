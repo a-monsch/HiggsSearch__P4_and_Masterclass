{
 "cells": [
  {
   "cell_type": "markdown",
   "metadata": {},
   "source": [
    "Version 0.0.2.9.2"
   ]
  },
  {
   "cell_type": "code",
   "execution_count": null,
   "metadata": {},
   "outputs": [],
   "source": [
    "import sys\n",
    "sys.path.append(\"..\")\n",
    "\n",
    "from include.RandomHelper import check_data_state\n",
    "check_data_state()"
   ]
  },
  {
   "cell_type": "code",
   "execution_count": null,
   "metadata": {},
   "outputs": [],
   "source": [
    "%%javascript\n",
    "IPython.OutputArea.prototype._should_scroll = function(lines) {return false;}"
   ]
  },
  {
   "cell_type": "markdown",
   "metadata": {},
   "source": [
    "# Ereignisse\n",
    "-------------------------"
   ]
  },
  {
   "cell_type": "markdown",
   "metadata": {},
   "source": [
    "In diesem Abschnitt wird der CMS-Detektor ausführlicher behandelt. Dies ist ein wichtiger Punkt, da die verwendeten Daten von diesem Detektor stammen und eingeführte Schnitte an den Datensätzen z.B. durch die Geometrie des Detektors erklärt werden können. Die Visualisierung erfolgt mit der CMS-eigenen Webschnittstelle: der [Ispy-WebGL](https://github.com/cms-outreach/ispy-webgl)\n",
    "\n",
    "Der CMS-Detektor ist ein Mehrzweckdetektor und besteht aus mehreren Komponenten, die für den Nachweis von verschiedenen Teilchen verwendet werden. Wählen Sie aus der Sammlung relevante Ereignisse aus, die Zerfälle des Higgs-Bosons enthalten könnten und die die Funktionalität der einzelnen Detektorkomponenten zeigen.\n",
    "\n",
    "<div class=\"alert alert-info\">\n",
    "Mögliche in der Sammlung enthaltene Zerfälle sind: \n",
    "\n",
    "- $\\mathrm{H} \\rightarrow \\mathrm{ZZ} \\rightarrow 4\\ell$\n",
    "- $\\mathrm{H} \\rightarrow \\gamma \\gamma$\n",
    "- $\\mathrm{H} \\rightarrow \\mathrm{W}^+ \\mathrm{W}^- \\rightarrow 4\\ell$\n",
    "\n",
    "Wählen Sie jeweils zwei Beispiele aus und speichern Sie diese als Bild. Wie sieht die typische Signatur dieser einzelnen Zerfälle im Detektor aus?\n",
    "</div>\n",
    "\n",
    "Die Einschaltfunktionen der einzelnen Detektorkomponenten und die Möglichkeit, die einzelnen Ereignisse als Bilder zu speichern, können innerhalb der Weboberfläche ausgeführt werden.\n",
    "\n"
   ]
  },
  {
   "cell_type": "code",
   "execution_count": null,
   "metadata": {},
   "outputs": [],
   "source": [
    "import sys\n",
    "from IPython.core.display import display, HTML\n",
    "display(HTML(\"<style>.container { width:100% !important; }</style>\"))"
   ]
  },
  {
   "cell_type": "markdown",
   "metadata": {},
   "source": [
    "Mit einer Internetverbindung:"
   ]
  },
  {
   "cell_type": "code",
   "execution_count": null,
   "metadata": {},
   "outputs": [],
   "source": [
    "%%html\n",
    "<iframe src=\"https://ispy-webgl.web.cern.ch/ispy-webgl/\" width=\"100%\" height=\"700\"></iframe>"
   ]
  },
  {
   "cell_type": "markdown",
   "metadata": {},
   "source": [
    "Ohne eine Internetverbindung: Lokal die `index.html` aus dem [Github Repository](https://github.com/cms-outreach/ispy-webgl) in einem Webbrowser öffnen."
   ]
  },
  {
   "cell_type": "markdown",
   "metadata": {},
   "source": [
    "Im Weiteren werden nur Ereignisse aus dem Zerfall in vier Leptonen (Myonen und Elektronen, keine Tau-Leptonen) betrachtet."
   ]
  },
  {
   "cell_type": "markdown",
   "metadata": {
    "heading_collapsed": true
   },
   "source": [
    "# Datenformat\n",
    "----------------------"
   ]
  },
  {
   "cell_type": "markdown",
   "metadata": {
    "hidden": true
   },
   "source": [
    "Das im Weiteren verwendete Datenformat, aus dem alle notwendigen Größen genommen werden ist ein modifiziertes .CSV Format. Der Vorteil dieses Formates ist, dass immer und zu jeder Zeit die Daten so wie sie auch ein Mensch lesen würde betrachten werden können.\n",
    "\n",
    "Der Abschnitt dient dazu sich mit dem Datenformat vertraut zu machen um die Aufgabe in dem nachfolgendem Abschnitt durchführen zu können.\n",
    "\n",
    "Die Trennung einzelner Variablen in einem Event geschieht mithilfe von \";\". Die Einträge der einzelnen Leptonen innerhalb eines Events werden dagegen klassisch mit \",\" getrennt. Damit entsteht der Vorteil einer individuellen Anzahl an Leptonen in einem Event ohne die Einführung von zusätzlichen Platzhaltern."
   ]
  },
  {
   "cell_type": "code",
   "execution_count": null,
   "metadata": {
    "hidden": true
   },
   "outputs": [],
   "source": [
    "%matplotlib inline\n",
    "#%matplotlib qt\n",
    "import numpy as np\n",
    "import pandas as pd\n",
    "\n",
    "from IPython.display import display\n",
    "pd.set_option('display.max_columns', None)\n",
    "pd.set_option('display.max_rows', 50)\n",
    "\n",
    "name_1 = \"../data/for_long_analysis/mc_init/MC_2012_ZZ_to_4L_2el2mu_init.csv\"\n",
    "name_2 = \"../data/for_long_analysis/mc_init/MC_2012_ZZ_to_4L_4mu_init.csv\"\n",
    "\n",
    "dataframe_1 = pd.read_csv(name_1, delimiter=\";\")\n",
    "dataframe_2 = pd.read_csv(name_2, delimiter=\";\")"
   ]
  },
  {
   "cell_type": "code",
   "execution_count": null,
   "metadata": {
    "hidden": true
   },
   "outputs": [],
   "source": [
    "dataframe_1"
   ]
  },
  {
   "cell_type": "code",
   "execution_count": null,
   "metadata": {
    "hidden": true
   },
   "outputs": [],
   "source": [
    "dataframe_2"
   ]
  },
  {
   "cell_type": "markdown",
   "metadata": {
    "hidden": true
   },
   "source": [
    "Für die Bearbeitung einzelner Größen können die jeweiligen Elemente aus dem String (`str`) Datenformat wieder zurück in einer Liste (`list`) umgewandelt werden:\n",
    "Hierzu stehen die Optionen offen entweder die Standardbibliothek `ast`"
   ]
  },
  {
   "cell_type": "code",
   "execution_count": null,
   "metadata": {
    "hidden": true
   },
   "outputs": [],
   "source": [
    "import ast\n",
    "px = ast.literal_eval(f\"[{dataframe_2.loc[3, 'px']}]\")\n",
    "px = np.array(px, dtype=float)\n",
    "px"
   ]
  },
  {
   "cell_type": "markdown",
   "metadata": {
    "hidden": true
   },
   "source": [
    "oder die `split` Methode für die `str` zu vernwenden"
   ]
  },
  {
   "cell_type": "code",
   "execution_count": null,
   "metadata": {
    "hidden": true
   },
   "outputs": [],
   "source": [
    "py = dataframe_2.loc[3, 'py'].split(\",\")\n",
    "py = np.array(py, dtype=float)\n",
    "py"
   ]
  },
  {
   "cell_type": "markdown",
   "metadata": {
    "hidden": true
   },
   "source": [
    "Daraus können neue Größen wie der transversale Impuls bestimmt werden anhand dessen eine Eingrenzung in den Größen getroffen werden kann und soll"
   ]
  },
  {
   "cell_type": "code",
   "execution_count": null,
   "metadata": {
    "hidden": true
   },
   "outputs": [],
   "source": [
    "pt = np.sqrt(px ** 2 + py ** 2)\n",
    "pt"
   ]
  },
  {
   "cell_type": "markdown",
   "metadata": {
    "hidden": true
   },
   "source": [
    "Für Myonen muss ein Minimalwert von 5 GeV für den Transversalimpuls überschritten werden. Für Transversalimpuls Werte darunter steigt die Wahrscheinlichkeit einer Missidentifikation der Myonen an.\n",
    "Insofern müssen alle Myonen in diesem Ereignis, die die Bedingung nicht erfüllen, verworfen werden."
   ]
  },
  {
   "cell_type": "code",
   "execution_count": null,
   "metadata": {
    "hidden": true
   },
   "outputs": [],
   "source": [
    "pt_minimum_filter = pt > 5\n",
    "pt_minimum_filter"
   ]
  },
  {
   "cell_type": "code",
   "execution_count": null,
   "metadata": {
    "hidden": true
   },
   "outputs": [],
   "source": [
    "pt = pt[pt_minimum_filter]\n",
    "pt"
   ]
  },
  {
   "cell_type": "markdown",
   "metadata": {
    "hidden": true
   },
   "source": [
    "Diese Anwendung des so entstandenen Filters muss damit individuell für ein Ereignis auf jede Variable im Datensatz angewendet werden und das bearbeitete Ereignis wieder abgespeichert werden, was bei einzelner, händischer Anwendung einem viel zu hohem Zeitaufwand entspricht, der aber durch das Einführen einer bereits erstellten Klasse, die das ganze automatisch macht, deutlich reduzieren kann."
   ]
  },
  {
   "cell_type": "markdown",
   "metadata": {},
   "source": [
    "# Anwendung der Filter mit Hilfe von Apply\n",
    "----------------------"
   ]
  },
  {
   "cell_type": "markdown",
   "metadata": {},
   "source": [
    "Die Anwendung eines Filters erfolgt auf alle Variablen innerhalb eines Ereignisses und ist von dem Filter für das nächste Ereignis verschieden.\n",
    "Die reihenweise Anwendung des Filters auf den Datensatz ist bereits implementiert und über die Apply Klasse anwendbar."
   ]
  },
  {
   "cell_type": "code",
   "execution_count": null,
   "metadata": {},
   "outputs": [],
   "source": [
    "from include.processing.Apply import Apply"
   ]
  },
  {
   "cell_type": "markdown",
   "metadata": {},
   "source": [
    "Bei der Erstellung des Objekts muss zusätzlich eine \"allowed\" und eine \"calculation\" Klasse übergeben werden. Die bei der Anwendung der Filter notwendigen Größen oder Filter werden anhand dieser Klassen berechnet.\n",
    "Für des Beispiel des minimalen Transversalimpulses lassen sich die beiden Klassen als eine Ansammlung von Funktionen darstellen, die alleine stehen könnten (@staticmethod), aber logisch in einer Klasse zusammengefasst werden."
   ]
  },
  {
   "cell_type": "code",
   "execution_count": null,
   "metadata": {},
   "outputs": [],
   "source": [
    "class Calc_Start(object):\n",
    "    \n",
    "    @staticmethod\n",
    "    def pt(px, py):\n",
    "        return np.sqrt(px ** 2 + py ** 2)\n",
    "\n",
    "class Allowed_Start(object):\n",
    "    \n",
    "    @staticmethod\n",
    "    def min_pt(pt, look_for):\n",
    "        return pt > 7.0 if look_for == \"electron\" else (\n",
    "            pt > 5.0 if look_for == \"muon\" else None)"
   ]
  },
  {
   "cell_type": "code",
   "execution_count": null,
   "metadata": {},
   "outputs": [],
   "source": [
    "print(name_2)\n",
    "process = Apply(input_=name_2, particle_type=\"muon\", use_n_rows=10000,\n",
    "                calc_instance=Calc_Start, allowed_instance=Allowed_Start,\n",
    "                multi_cpu=False)"
   ]
  },
  {
   "cell_type": "markdown",
   "metadata": {},
   "source": [
    "In dem Datensatz `name_2` existiert die Größe des Transversalimpulses noch nicht. In einem Zwischenschritt, der in dem Filter `\"check_min_pt\"` schon enthalten ist lässt sich der Transversalimpuls auch explizit hinzufügen:"
   ]
  },
  {
   "cell_type": "code",
   "execution_count": null,
   "metadata": {},
   "outputs": [],
   "source": [
    "process.run(\"add_pt\")\n",
    "process.data"
   ]
  },
  {
   "cell_type": "markdown",
   "metadata": {},
   "source": [
    "Die Häufigkeitsverteilung einer solchen Variable kann durch die Methode `hist_of_variable` dargestellt werden."
   ]
  },
  {
   "cell_type": "code",
   "execution_count": null,
   "metadata": {},
   "outputs": [],
   "source": [
    "process.hist(variable=\"pt\", bins=100, hist_range=(0, 80))"
   ]
  },
  {
   "cell_type": "markdown",
   "metadata": {},
   "source": [
    "Die Anwendung des Filters für den minimalen Transversalimpuls und die Entfernung aller nachfolgend entstandenen Ereignisse, die weniger als vier Leptonen enthalten liefert die entsprechende Verteilung:"
   ]
  },
  {
   "cell_type": "code",
   "execution_count": null,
   "metadata": {},
   "outputs": [],
   "source": [
    "process.run(\"filter_pt_minimum\")\n",
    "process.hist(variable=\"pt\", bins=100, hist_range=(0, 80))"
   ]
  },
  {
   "cell_type": "markdown",
   "metadata": {},
   "source": [
    "Ebenso lassen sich auch andere Variablen durch die Häufigkeitsverteilungen visualisieren.\n",
    "Der durchgeführte Cut beeinflusst hauptsächlich die Verteilung des Transversalimpulses, ändert an der Verteilung anderer Größen dagegen wenig."
   ]
  },
  {
   "cell_type": "markdown",
   "metadata": {},
   "source": [
    "<div class=\"alert alert-info\">\n",
    "Betrachten Sie die Verteilungen einiger in den Datensätzen vorhandenen Größen. Weichen manche der Größen von Ihrer Erwartung ab? Welche wären es und warum.\n",
    "\n",
    "Sie können die Codefragmente aus diesem Abschnitt ebenfalls für die unteren Aufgaben verwenden.\n",
    "\n",
    "</div>\n"
   ]
  },
  {
   "cell_type": "code",
   "execution_count": null,
   "metadata": {},
   "outputs": [],
   "source": [
    "# here goes the code"
   ]
  },
  {
   "cell_type": "markdown",
   "metadata": {},
   "source": [
    "# Berechnung wichtiger Größen\n",
    "----------------------"
   ]
  },
  {
   "cell_type": "markdown",
   "metadata": {},
   "source": [
    "<div class=\"alert alert-info\">\n",
    "\n",
    "Dem Beispiel des Transversalimpulses folgend implementieren sie alle nachfolgend notwendigen Größen und visualisieren sie angemessen die\n",
    "  * Pseudorapidität $\\eta$\n",
    "  * Transversalimpuls $p_T$\n",
    "  * Azimutalwinkel $\\phi$\n",
    "\n",
    "Und erklären sie ihre Beobachtungen.\n",
    "\n",
    "(Überprüfen Sie ihre Implementierungen mithilfe der MC-Simulationen des Untergrundes.)\n",
    "</div>"
   ]
  },
  {
   "cell_type": "markdown",
   "metadata": {},
   "source": [
    "Der dafür verwendete Klassenskelett erbt die vorhergehende Methode für den Transversalimpuls und einer Initialklasse, die Methoden wie die Rekonstruktion der Z-Bosonen Paare enthält."
   ]
  },
  {
   "cell_type": "code",
   "execution_count": null,
   "metadata": {},
   "outputs": [],
   "source": [
    "class CalcStudent(Calc_Start):\n",
    "    '''\n",
    "    Class for the calculation of certain sizes that are used for\n",
    "    the cuts or are essential for the reconstruction.\n",
    "    '''\n",
    "\n",
    "    @staticmethod\n",
    "    def combined_charge(charge, combine_num):\n",
    "        '''\n",
    "        Tests whether an electrically neutral charge combination is possible.\n",
    "\n",
    "        :param charge: ndarray\n",
    "                       1D array containing data with \"int\" type.\n",
    "        :param combine_num: int\n",
    "                            4 if look_for is not \"both\", 2 else\n",
    "        :return: bool\n",
    "        '''\n",
    "        # code\n",
    "\n",
    "    @staticmethod\n",
    "    def eta(px=None, py=None, pz=None, energy=None):\n",
    "        '''\n",
    "        Calculates the pseudorapidity.\n",
    "        Optional with or without energy.\n",
    "\n",
    "        :param px: ndarray\n",
    "                   1D array containing data with \"float\" type.\n",
    "        :param py: ndarray\n",
    "                    1D array containing data with \"float\" type.\n",
    "        :param pz: ndarray\n",
    "                   1D array containing data with \"float\" type.\n",
    "        :param energy: ndarray\n",
    "                       1D array containing data with \"float\" type.\n",
    "        :return: ndarray\n",
    "                 1D array containing data with \"float\" type.\n",
    "        '''\n",
    "        # code\n",
    "\n",
    "    @staticmethod\n",
    "    def invariant_mass_square(px, py, pz, energy=None, eta=None, phi=None):\n",
    "        '''\n",
    "        Calculates the square of the invariant mass.\n",
    "        Optional with or without energy.\n",
    "        Optionally with or without eta and phi.\n",
    "\n",
    "        :param phi: ndarray\n",
    "                    1D array containing data with \"float\" type.\n",
    "        :param eta: ndarray\n",
    "                    1D array containing data with \"float\" type.\n",
    "        :param px: ndarray\n",
    "                   1D array containing data with \"float\" type.\n",
    "        :param py: ndarray\n",
    "                   1D array containing data with \"float\" type.\n",
    "        :param pz: ndarray\n",
    "                   1D array containing data with \"float\" type.\n",
    "        :param energy: ndarray\n",
    "                       1D array containing data with \"float\" type.\n",
    "        :return: ndarray\n",
    "                 1D array containing data with \"float\" type.\n",
    "        '''\n",
    "        # code\n",
    "\n",
    "    @staticmethod\n",
    "    def phi(px, py):\n",
    "        '''\n",
    "        Calculation of the angle phi.\n",
    "\n",
    "        :param px: ndarray\n",
    "                   1D array containing data with \"float\" type.\n",
    "        :param py:  ndarray\n",
    "                    1D array containing data with \"float\" type.\n",
    "        :return: ndarray\n",
    "                 1D array containing data with \"float\" type.\n",
    "        '''\n",
    "        # code\n",
    "\n",
    "    @staticmethod\n",
    "    def delta_phi(phi1, phi2):\n",
    "        '''\n",
    "        Calculation of the difference between two phi angles.\n",
    "\n",
    "        :param phi1: ndarray\n",
    "                     1D array containing data with \"float\" type.\n",
    "        :param phi2: ndarray\n",
    "                     1D array containing data with \"float\" type.\n",
    "        :return: ndarray\n",
    "                 1D array containing data with \"float\" type.\n",
    "        '''\n",
    "        # code\n",
    "\n",
    "    @staticmethod\n",
    "    def delta_r(eta, phi):\n",
    "        '''\n",
    "        Calculation of delta_r.\n",
    "\n",
    "        :param eta: ndarray\n",
    "                    1D array containing data with \"float\" type.\n",
    "        :param phi: ndarray\n",
    "                    1D array containing data with \"float\" type.\n",
    "        :return: ndarray\n",
    "                 1D array containing data with \"float\" type.\n",
    "        '''\n",
    "        # code"
   ]
  },
  {
   "cell_type": "markdown",
   "metadata": {},
   "source": [
    "# Erstellung der Cuts\n",
    "----------------------"
   ]
  },
  {
   "cell_type": "markdown",
   "metadata": {},
   "source": [
    "Analog zu dem Cut auf den minimalen Transversalimpuls lassen sich weitere Cuts einführen, die weiter verwendet werden. Ein Beispiel welche Cuts seitens CMS hierfür verwendet wurden kann in der [offiziellen Veröffentlichung](https://arxiv.org/pdf/1207.7235.pdf) nachgelesen werden.\n",
    "\n",
    "<div class=\"alert alert-info\">\n",
    "\n",
    "Implementieren sie die in der Klasse 'AllowedStudent' aufgelisteten Methoden. Schätzen sie die Wahl der Cuts mithilfe von den Verteilungen im Kapitel **Anwendung der Filter mithilfe von Apply**, dem **Detektor** und den **kinematischen Einschränkungen** der Ereignisse.\n",
    "\n",
    "(Überprüfen sie ihre Implementierungen mithilfe der MC-Simulationen des Untergrundes.)\n",
    "    \n",
    "</div>"
   ]
  },
  {
   "cell_type": "code",
   "execution_count": null,
   "metadata": {},
   "outputs": [],
   "source": [
    "class AllowedStudent(Allowed_Start):\n",
    "    '''\n",
    "    Class that introduces certain cuts and thus restricts the leptons in the events.\n",
    "    '''\n",
    "    \n",
    "    @staticmethod\n",
    "    def lepton_type(classification, particle_type):\n",
    "        '''\n",
    "        Checks if electrons or muons satisfy the classification condition.\n",
    "        \n",
    "        :param classification: ndarray\n",
    "                               1D array containing data with `str` type.\n",
    "        :param particle_type: str\n",
    "                              \"muon\" or \"electron\"\n",
    "        :return: ndarray\n",
    "                 1D array containing data with \"bool\" type.\n",
    "        '''\n",
    "        #code\n",
    "    \n",
    "    @staticmethod\n",
    "    def delta_r(delta_r):\n",
    "        '''\n",
    "        Checks if delta_r is smaller than the allowed value.\n",
    "\n",
    "        :param delta_r: ndarray\n",
    "                        1D array containing data with `float` type.\n",
    "        :return: ndarray\n",
    "                 1D array containing data with `bool` type.\n",
    "        '''\n",
    "        # code\n",
    "\n",
    "    @staticmethod\n",
    "    def rel_pf_iso(rel_pf_iso):\n",
    "        '''\n",
    "        Checks if rel_pf_iso is smaller than the allowed value.\n",
    "\n",
    "        :param rel_pf_iso: ndarray\n",
    "                           1D array containing data with `float` type.\n",
    "        :return: ndarray\n",
    "                 1D array containing data with `bool` type.\n",
    "        '''\n",
    "        # code\n",
    "        \n",
    "    @staticmethod\n",
    "    def misshits(misshits):\n",
    "        '''\n",
    "        Checks if the minimum number of misshits was kept.\n",
    "\n",
    "        :param misshits:\n",
    "        :return:\n",
    "        '''\n",
    "        # code\n",
    "        \n",
    "    @staticmethod\n",
    "    def pt(p_t, look_for, coll_size=4):\n",
    "        '''\n",
    "        Checks if the exact pedingun regarding pt is observed.\n",
    "        (>20 GeV: >= 1; >10 GeV: >= 2; >Minimum pt: >= 4).\n",
    "\n",
    "        :param p_t: ndarray\n",
    "                    1D array containing data with `float` type.\n",
    "        :param look_for: str\n",
    "                         \"muon\"; \"electron\" or \"both\"\n",
    "        :param coll_size: int\n",
    "                          4 if look_for is not \"both\", 2 else\n",
    "        :return: ndarray\n",
    "                 1D array containing data with `bool` type.\n",
    "        '''\n",
    "        # code\n",
    "        \n",
    "    @staticmethod\n",
    "    def eta(eta, look_for):\n",
    "        '''\n",
    "        Checks if the pseudorapidity of leptons is valid.\n",
    "\n",
    "        :param eta: ndarray\n",
    "                    1D array containing data with \"float\" type.\n",
    "        :param look_for: str\n",
    "                         \"muon\"; \"electron\" or \"both\"\n",
    "        :return: ndarray\n",
    "                 1D array containing data with \"bool\" type.\n",
    "        '''\n",
    "        # code\n",
    "\n",
    "    @staticmethod\n",
    "    def lepton_type(typ, look_for):\n",
    "        '''\n",
    "        Checks for the permitted classification of leptons.\n",
    "\n",
    "        :param typ: ndarray\n",
    "                    1D array containing data with \"float\" type.\n",
    "        :param look_for: str\n",
    "                         \"muon\"; \"electron\" or \"both\"\n",
    "        :return: ndarray\n",
    "                 1D array containing data with \"bool\" type.\n",
    "        '''\n",
    "        # code\n",
    "\n",
    "    @staticmethod\n",
    "    def impact_param(sip3d, dxy, dz):\n",
    "        '''\n",
    "        Checks if the impact parameters of the collision are valid and sorts out\n",
    "        events that do not have a clear and equal collision point.\n",
    "\n",
    "        :param sip3d: ndarray\n",
    "                      1D array containing data with \"float\" type.\n",
    "        :param dxy: ndarray\n",
    "                    1D array containing data with \"float\" type.\n",
    "        :param dz: ndarray\n",
    "                   1D array containing data with \"float\" type.\n",
    "        :return: ndarray\n",
    "                 1D array containing data with \"bool\" type.\n",
    "        '''\n",
    "        # code\n",
    "\n",
    "    @staticmethod\n",
    "    def zz(z1, z2):\n",
    "        '''\n",
    "        Checks if the Z1 candidate and the Z2 candidate is within the allowed range.\n",
    "\n",
    "        :param z1: float\n",
    "        :param z2: float\n",
    "        :return: bool\n",
    "        '''\n",
    "        # code"
   ]
  },
  {
   "cell_type": "markdown",
   "metadata": {},
   "source": [
    "Kombination des implementieren Codes mit den teilweise zur Verfügung gestellten Klassen:"
   ]
  },
  {
   "cell_type": "code",
   "execution_count": null,
   "metadata": {},
   "outputs": [],
   "source": [
    "from include.processing.CalcAndAllowerInit import AllowedInit\n",
    "from include.processing.CalcAndAllowerInit import CalcInit\n",
    "\n",
    "AllowedInit.a_allowed_instance = AllowedStudent\n",
    "AllowedInit.a_calc_instancea = CalcStudent\n",
    "class Allowed(AllowedStudent, AllowedInit):\n",
    "    pass\n",
    "    \n",
    "CalcInit.c_allowed_instance = Allowed\n",
    "CalcInit.c_calc_instance = CalcStudent\n",
    "class Calc(CalcStudent, CalcInit):\n",
    "    pass"
   ]
  },
  {
   "cell_type": "markdown",
   "metadata": {},
   "source": [
    "# Anwendung der Filter und Rekonstruktion auf MC - Simulationen\n",
    "--------------------------------------------------------------------------------------------------------------"
   ]
  },
  {
   "cell_type": "markdown",
   "metadata": {},
   "source": [
    "Die vorhandenen Implementierungen der Cuts wurden mithilfe der Untergrund-MC-Simulationen getestet. Dies soll das gezielte Hinarbeiten auf ein gewisses Ziel (eigentliche Messung) verhindern, da durch eine geringe Anzahl an späteren Ereignissen in der eigentlichen Messung die Tatsache weitestgehend vermieden werden soll, gezielt Ereignisse in einem Bereich subjektiv auszuwählen.\n",
    "\n",
    "Sofern die obigen Abschnitte vollständig bearbeitet wurden ist die Aufgabe dieses Abschnittes eine sinnvolle Reihenfolge der oben definierten Funktionen zu finden. Falls die Möglichkeit besteht mehrere CPU Kerne zu verwenden, so wird diese Möglichkeit empfohlen, da diese die Filter und Rekonstruktionszeit entsprechend der Anzahl der CPU Kerne verringern. Nichtsdestotrotz kann auch alles auf einem Kern - mit ein bisschen mehr Zeitaufwand - durchgeführt werden.\n",
    "\n",
    "Für die nachfolgende Routine ist es sinnvoll sich eine Liste an Tupeln zu erstellen:"
   ]
  },
  {
   "cell_type": "code",
   "execution_count": null,
   "metadata": {},
   "outputs": [],
   "source": [
    "from include.processing.ApplyHelper import ProcessHelper\n",
    "\n",
    "\n",
    "# Alle Untergrund MC und Signal MC für m = 125 GeV\n",
    "mc_files = True\n",
    "# Durchgeführte Messung\n",
    "run_files = True\n",
    "\n",
    "# Speicherort der Messung\n",
    "dir_measurement = \"../data/for_long_analysis/ru_init/\"\n",
    "# Speicherort der Untergrund MC und 125 GeV Signal MC\n",
    "dir_mc = \"../data/for_long_analysis/mc_init/\"\n",
    "\n",
    "\n",
    "file_tuples = []\n",
    "if mc_files:\n",
    "    file_tuples += ProcessHelper.create_tuple(dir_mc)    \n",
    "\n",
    "if run_files:\n",
    "    file_tuples += ProcessHelper.create_tuple(dir_measurement)"
   ]
  },
  {
   "cell_type": "markdown",
   "metadata": {},
   "source": [
    "Ein einzelner solcher `namedtuple` enthält die Datei und den Teilchentyp des Datensatzes (notwendig für `Apply`):"
   ]
  },
  {
   "cell_type": "code",
   "execution_count": null,
   "metadata": {},
   "outputs": [],
   "source": [
    "file_tuples[0]"
   ]
  },
  {
   "cell_type": "markdown",
   "metadata": {},
   "source": [
    "Der ganze Filter- und Rekonstruktionsablauf kann in einer Funktion zusammengefasst werden. Die Reihenfolge der Filter ist hierbei für die Laufzeit entscheidend, kann aber auch nicht beliebig geändert werden, da ein logischer Ablauf hinter der Anwendung der Filter und Rekonstruktionen steckt, der nicht beliebig geändert werden kann."
   ]
  },
  {
   "cell_type": "markdown",
   "metadata": {},
   "source": [
    "Mit den Zuvor implementierten neuen Größen und den Cuts stehen folgende Filter- und Rekonstruktionsschritte zur Auswahl:"
   ]
  },
  {
   "cell_type": "code",
   "execution_count": null,
   "metadata": {},
   "outputs": [],
   "source": [
    "Apply.help()"
   ]
  },
  {
   "cell_type": "markdown",
   "metadata": {},
   "source": [
    "Die Funktion kann die folgende Form haben:"
   ]
  },
  {
   "cell_type": "code",
   "execution_count": null,
   "metadata": {},
   "outputs": [],
   "source": [
    "def filter_and_reco_process(used_pair):\n",
    "    process = Apply(input_=used_pair.name, \n",
    "                    particle_type=used_pair.particle, \n",
    "                    multi_cpu=False,\n",
    "                    calc_instance=Calc, \n",
    "                    allowed_instance=Allowed)\n",
    "    \n",
    "    # Logische Reihenfolge Wählen\n",
    "    # quicksave: Speichert den Datensatz NACH dem Anwenden \n",
    "    # des Filter- bzw Rekonstruktionsschrittes\n",
    "    \n",
    "    process.run(\"filter_type\", quicksave=ProcessHelper.change_on_affix(used_pair.name, \"aftT\"))\n",
    "    # ProcessHelper.change_on_affix(\"Name_OldAffix.csv\", \"NewAffix\"):\n",
    "    # -> Diese Methode Ändert \"Name_OldAffix.csv\" in \"Name_NewAffix.csv\"\n",
    "    #    und speichert \"Name_NewAffix.csv\" in dem neuen Ordner <ru oder mc>_NewAffix\n",
    "    \n",
    "    process.run(\"filter_pt_minimum\")\n",
    "    if process.particle_type != \"muon\":\n",
    "        process.run(\"filter_misshit\")\n",
    "    process.run(\"filter_electric_charge\")\n",
    "    process.run(\"filter_impact_param\")\n",
    "    process.run(\"reconstruct_4_lepton_mass_from_zz\", quicksave=ProcessHelper.change_on_affix(used_pair.name, \"aftH\"))\n",
    "    process.run(\"filter_4_lepton_mass\")\n",
    "    process.run(\"filter_pt_exact\")\n",
    "    process.run(\"filter_eta\")\n",
    "    process.run(\"filter_electric_charge\")\n",
    "    process.run(\"filter_4_lepton_mass\", quicksave=ProcessHelper.change_on_affix(used_pair.name, \"befZ\"))\n",
    "    process.run(\"reconstruct_zz\", quicksave=ProcessHelper.change_on_affix(used_pair.name, \"aftZ\"))\n",
    "    process.run(\"filter_2_lepton_mass\")\n",
    "    process.run(\"filter_rel_iso\")\n",
    "    del process"
   ]
  },
  {
   "cell_type": "markdown",
   "metadata": {},
   "source": [
    "<div class=\"alert alert-info\">\n",
    "\n",
    "Wählen Sie die passende Reihenfolge der Filter- und Rekonstruktionsschritte.\n",
    "\n",
    "Müssen einige Filterschritte mehrmals durchgeführt werden?und warum ist es nicht sinnvoll die Rekonstruktion der ZZ Bosonen sehr früh durchzuführen?\n",
    "\n",
    "(Wenn das Interesse besteht eine Zeitoptimierte Version mit den hier vorhandenen Funktionen durchzuführen kann die Geschwindigkeit der einzelnen Filter wie folgt abgeschätzt werden: Es sich den Datensatz der Untergrund-MC-Simulationen zu verwenden und bei der Initialisierung der `Apply`-Instanz folgende `kwargs` zu verwenden: `multi_cpu=False`. Nun sollte neben die Geschwindigkeit angezeigt werden, die anzeigt wie viele Zeilen pro Sekunde bearbeitet werden.)\n",
    "    \n",
    "</div>"
   ]
  },
  {
   "cell_type": "markdown",
   "metadata": {},
   "source": [
    "Die Anwendung von `filter_and_reco_process` auf die Datensätze: "
   ]
  },
  {
   "cell_type": "code",
   "execution_count": null,
   "metadata": {},
   "outputs": [],
   "source": [
    "from tqdm import tqdm\n",
    "from IPython.display import clear_output\n",
    "\n",
    "if input(\"Run all filter + reco (y/n): \") == \"y\":\n",
    "    for pair in tqdm(file_tuples):\n",
    "        filter_and_reco_process(pair)\n",
    "        clear_output()"
   ]
  },
  {
   "cell_type": "markdown",
   "metadata": {},
   "source": [
    "# Betrachtung der finalen Verteilungen\n",
    "------------------------------------------------------------------"
   ]
  },
  {
   "cell_type": "markdown",
   "metadata": {},
   "source": [
    "Nach der Durchführung des Filter- und Rekonstruktionsschritts können nun die finalen Verteilungen einzelner Größen betrachtet werden. Hierbei wird eine Unterscheidung zwischen der Signal MC, sowie der Untergrund MC gemacht. Die hier verwendeten Signal MC Simulationen sind die eines Higgs-Bosons mit einer Masse von 125 GeV. Die Begründung, warum diese Simulation die passende ist - unter der Berücksichtigung der vorhandenen Messung - wird im zweiten Aufgabenteil durchgeführt, der Ihnen in der Veranstaltung TP2 begegnen wird.\n",
    "\n",
    "<div class=\"alert alert-info\">\n",
    "\n",
    "Betrachten Sie die Verteilung der Vier-Leptonen-Invarianten Massen, sowie die Massen der beiden Z-Bosonen.\n",
    "    \n",
    "</div>\n",
    "\n",
    "Des Weiteren sind auch folgende Größen darstellbar (wobei es fraglich ist, ob `z1_index`, `z2_index`, sowie `z1_tag` bzw. `z2_tag` Größen sind die eine ausführlicher Betrachtung bedürfen):"
   ]
  },
  {
   "cell_type": "code",
   "execution_count": null,
   "metadata": {},
   "outputs": [],
   "source": [
    "from include.processing.ApplyHelper import ProcessHelper\n",
    "print(ProcessHelper.print_possible_variables(\"../data/for_long_analysis/mc_aftH/MC_2012_H_to_ZZ_to_4L_2el2mu_aftH.csv\"))"
   ]
  },
  {
   "cell_type": "code",
   "execution_count": null,
   "metadata": {},
   "outputs": [],
   "source": [
    "from include.histogramm.HistOf import HistOf\n",
    "import matplotlib.pyplot as plt\n",
    "\n",
    "%matplotlib inline\n",
    "plt.rcParams[\"figure.figsize\"] = (12, 9)\n",
    "h = HistOf(mc_dir=\"../data/for_long_analysis/mc_aftH\",\n",
    "           ru_dir=\"../data/for_long_analysis/ru_aftH\", info=[[\"2012\"], [\"B\", \"C\"]])"
   ]
  },
  {
   "cell_type": "code",
   "execution_count": null,
   "metadata": {},
   "outputs": [],
   "source": [
    "# Beispiel\n",
    "h.variable(\"energy\", 50, (0, 200))\n",
    "ax = plt.gca()\n",
    "ax.set_xlabel(r\"$p_T$ in GeV\")\n",
    "ax.set_ylabel(\"Bineinträge\")\n",
    "plt.show()"
   ]
  },
  {
   "cell_type": "markdown",
   "metadata": {},
   "source": [
    "Die hier dargestellten Unsicherheiten sind asymmetrisch. Hierzu wird von dem Erwartungswert eine Poisson Verteilung (gemessene Anzahl an Ereignissen) die untere Grenze ( - 34%) und die obere Grenze (+34%) bestimmt, womit ein 68% Unsicherheitsintervall angegeben werden kann. Die Asymmetrie der Poissonverteilung ist für einen kleinen Erwartungswert deutlich sichtbar. Erst im Grenzfall großer Erwartungswerte geht die Poissonverteilung in die Gaußverteilung über und die Unsicherheiten auf ein Messwert werden symmetrisch."
   ]
  },
  {
   "cell_type": "code",
   "execution_count": null,
   "metadata": {},
   "outputs": [],
   "source": [
    "# weitere Verteilungen"
   ]
  },
  {
   "cell_type": "markdown",
   "metadata": {},
   "source": [
    "# Grobe Abschätzung der statistischen Signifikanz"
   ]
  },
  {
   "cell_type": "markdown",
   "metadata": {},
   "source": [
    "Die ausführliche Version der Bestimmung der statistischen Signifikanz findet im zweiten Teil statt. Eine grobe Abschätzung kann aber durch $$ Z \\approx \\frac{s}{\\sqrt{b}} $$ durchgeführt werden, wobei $b$ die Anzahl der erwarteten Untergrundereignisse ist, die der MC Simulation entnommen wird. Für das Signal $s$ wird die Differenz zwischen der gesamten Anzahl der Messungen und dem erwartetem Untergrund (wieder aus der MC Simulation) entnommen.\n",
    "\n",
    "\n",
    "<div class=\"alert alert-info\">\n",
    "\n",
    "Schätzen Sie mit der oben aufgeführten Formel die Signifikanz des Higgs Bosons mit der Masse von 125 GeV ab. Welche Aussagen können Sie über den Wert machen? Welche Probleme hat diese Art von Abschätzung und warum ist sie nicht wirklich für eine quantitative Aussage geeignet?\n",
    "    \n",
    "</div>\n"
   ]
  },
  {
   "cell_type": "code",
   "execution_count": null,
   "metadata": {},
   "outputs": [],
   "source": [
    "# usefull code\n",
    "_, hist = h.variable(\"mass_4l\", 15, (100, 150))\n",
    "mc_sig, mc_sig_bac, measurement = hist.data[\"mc_sig\"], histogramm.data[\"mc_bac\"], histogramm.data[\"data\"]"
   ]
  },
  {
   "cell_type": "code",
   "execution_count": null,
   "metadata": {},
   "outputs": [],
   "source": [
    "# your code"
   ]
  },
  {
   "cell_type": "code",
   "execution_count": null,
   "metadata": {},
   "outputs": [],
   "source": []
  }
 ],
 "metadata": {
  "kernelspec": {
   "display_name": "venv",
   "language": "python",
   "name": "venv"
  },
  "language_info": {
   "codemirror_mode": {
    "name": "ipython",
    "version": 3
   },
   "file_extension": ".py",
   "mimetype": "text/x-python",
   "name": "python",
   "nbconvert_exporter": "python",
   "pygments_lexer": "ipython3",
   "version": "3.8.2"
  },
  "varInspector": {
   "cols": {
    "lenName": 16,
    "lenType": 16,
    "lenVar": 40
   },
   "kernels_config": {
    "python": {
     "delete_cmd_postfix": "",
     "delete_cmd_prefix": "del ",
     "library": "var_list.py",
     "varRefreshCmd": "print(var_dic_list())"
    },
    "r": {
     "delete_cmd_postfix": ") ",
     "delete_cmd_prefix": "rm(",
     "library": "var_list.r",
     "varRefreshCmd": "cat(var_dic_list()) "
    }
   },
   "types_to_exclude": [
    "module",
    "function",
    "builtin_function_or_method",
    "instance",
    "_Feature"
   ],
   "window_display": false
  }
 },
 "nbformat": 4,
 "nbformat_minor": 4
}
