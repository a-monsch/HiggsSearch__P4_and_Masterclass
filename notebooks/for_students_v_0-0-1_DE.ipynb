{
 "cells": [
  {
   "cell_type": "markdown",
   "metadata": {},
   "source": [
    "Version 0.0.1\n",
    "\n",
    "\n"
   ]
  },
  {
   "cell_type": "code",
   "execution_count": null,
   "metadata": {},
   "outputs": [],
   "source": [
    "# dont run if you are in top level\n",
    "import os\n",
    "os.chdir(\"..\")"
   ]
  },
  {
   "cell_type": "markdown",
   "metadata": {
    "heading_collapsed": true
   },
   "source": [
    "# Datenformat\n",
    "----------------------"
   ]
  },
  {
   "cell_type": "markdown",
   "metadata": {
    "hidden": true
   },
   "source": [
    "Das im Weiteren verwendete Datenformat aus dem alle notwendigen Größen genommen werden ist ein modifiziertes .CSV Format. Der Vorteil dieses Formates ist, dass die Studenten immer und zu jeder Zeit die Daten so wie sie auch ein Mensch lesen würde betrachten können. \n",
    "\n",
    "Die Trennung einzelner Variablen in einem Event geschieht mithilfe von \";\". Die Einträge der einzelnen leptonen innerhalb eines Events werden dagegen klassisch mit \",\" getrennt.  Damit entsteht der Vorteil individueller Anzahl an Leptonen in einem Event ohne die Einführung von zusätzlichen Platzhaltern."
   ]
  },
  {
   "cell_type": "code",
   "execution_count": null,
   "metadata": {
    "hidden": true
   },
   "outputs": [],
   "source": [
    "%matplotlib inline\n",
    "#%matplotlib qt\n",
    "import numpy as np\n",
    "import pandas as pd\n",
    "\n",
    "from IPython.display import display\n",
    "pd.set_option('display.max_columns', None)\n",
    "pd.set_option('display.max_rows', 50)\n",
    "\n",
    "name_1 = \"./data/mc_init/MC_2012_H_to_ZZ_to_4L_to_2el2mu_8TeV_init.csv\"\n",
    "name_2 = \"./data/mc_init/MC_2012_ZZ_to_4L_to_4mu_8TeV_init.csv\"\n",
    "\n",
    "dataframe_1 = pd.read_csv(name_1, delimiter=\";\")\n",
    "dataframe_2 = pd.read_csv(name_2, delimiter=\";\")"
   ]
  },
  {
   "cell_type": "code",
   "execution_count": null,
   "metadata": {
    "hidden": true
   },
   "outputs": [],
   "source": [
    "dataframe_1"
   ]
  },
  {
   "cell_type": "code",
   "execution_count": null,
   "metadata": {
    "hidden": true
   },
   "outputs": [],
   "source": [
    "dataframe_2"
   ]
  },
  {
   "cell_type": "markdown",
   "metadata": {
    "hidden": true
   },
   "source": [
    "Für die Bearbeitung einzelner Größen können die jeweiligen Elemente aus dem str Datenformat wieder zurück in einer Liste umgewandelt werden:\n",
    "Hierzu stehen die Optionen offen entweder die Bibliothek ast"
   ]
  },
  {
   "cell_type": "code",
   "execution_count": null,
   "metadata": {
    "hidden": true
   },
   "outputs": [],
   "source": [
    "import ast\n",
    "px = ast.literal_eval(f\"[{dataframe_2.loc[3, 'px']}]\")\n",
    "px = np.array(px, dtype=float)\n",
    "px"
   ]
  },
  {
   "cell_type": "markdown",
   "metadata": {
    "hidden": true
   },
   "source": [
    "oder die split Methode für die Strings zu vernwenden"
   ]
  },
  {
   "cell_type": "code",
   "execution_count": null,
   "metadata": {
    "hidden": true
   },
   "outputs": [],
   "source": [
    "py = dataframe_2.loc[3, 'py'].split(\",\")\n",
    "py = np.array(py, dtype=float)\n",
    "py"
   ]
  },
  {
   "cell_type": "markdown",
   "metadata": {
    "hidden": true
   },
   "source": [
    "Daraus können neue Größen wie der transversale Impuls bestimmt werden anhand dessen eine Eingrenzung in den Größen getroffen werden soll"
   ]
  },
  {
   "cell_type": "code",
   "execution_count": null,
   "metadata": {
    "hidden": true
   },
   "outputs": [],
   "source": [
    "pt = np.sqrt(px ** 2 + py ** 2)\n",
    "pt"
   ]
  },
  {
   "cell_type": "markdown",
   "metadata": {
    "hidden": true
   },
   "source": [
    "Für Myonen muss ein Minimalwert von 5 GeV für den transversalimpuls überschritten werden. Für Transversalimpulswerte darunter steigt die Wahrscheinlich einer Missidentifikation der Myonen an.\n",
    "Insofern müssen alle Myonen in diesem Ereignis die die Bedingung nicht erfüllen entfernt werden."
   ]
  },
  {
   "cell_type": "code",
   "execution_count": null,
   "metadata": {
    "hidden": true
   },
   "outputs": [],
   "source": [
    "pt_minimum_filter = pt > 5\n",
    "pt_minimum_filter"
   ]
  },
  {
   "cell_type": "code",
   "execution_count": null,
   "metadata": {
    "hidden": true
   },
   "outputs": [],
   "source": [
    "pt = pt[pt_minimum_filter]\n",
    "pt"
   ]
  },
  {
   "cell_type": "markdown",
   "metadata": {
    "heading_collapsed": true
   },
   "source": [
    "# Anwendung der Filter mit Hilfe von Apply\n",
    "----------------------"
   ]
  },
  {
   "cell_type": "markdown",
   "metadata": {
    "hidden": true
   },
   "source": [
    "Die Anwendung dieses Filters erfolgt auf alle Variablen innerhalb dieses Ereignisses und ist für das nächste Ereignis verschieden.\n",
    "Die reihenweise Anwendung des Filters auf den Datensatz ist bereits implementiert und über die Apply Klasse anwendbar."
   ]
  },
  {
   "cell_type": "code",
   "execution_count": null,
   "metadata": {
    "hidden": true
   },
   "outputs": [],
   "source": [
    "from include.processing.Apply import Apply"
   ]
  },
  {
   "cell_type": "markdown",
   "metadata": {
    "hidden": true
   },
   "source": [
    "Bei der Erstellung des Objekts muss zusätzlich eine \"allowed\" und eine \"calculation\" Klasse übergeben werden. Die bei der Anwendung der Filter notwendigen Größen oder Filter werden anhand dieser Klassen berechnet.\n",
    "Für den Beispiel des minimalen Transversalimpulses lassen sich die beiden Klassen als eine Ansammlung von Funktionen darstellen, die alleine stehen könnten (@staticmethod), aber logisch in einer Klasse zusammengefasst werden."
   ]
  },
  {
   "cell_type": "code",
   "execution_count": null,
   "metadata": {
    "hidden": true
   },
   "outputs": [],
   "source": [
    "class Calc_Start(object):\n",
    "    \n",
    "    @staticmethod\n",
    "    def pt(px, py):\n",
    "        return np.sqrt(px ** 2 + py ** 2)\n",
    "\n",
    "class Allowed_Start(object):\n",
    "    \n",
    "    @staticmethod\n",
    "    def min_pt(pt, look_for):\n",
    "        if look_for == \"electron\":\n",
    "            return pt > 7.0\n",
    "        if look_for == \"muon\":\n",
    "            return pt > 5.0"
   ]
  },
  {
   "cell_type": "code",
   "execution_count": null,
   "metadata": {
    "hidden": true
   },
   "outputs": [],
   "source": [
    "name_2"
   ]
  },
  {
   "cell_type": "code",
   "execution_count": null,
   "metadata": {
    "hidden": true
   },
   "outputs": [],
   "source": [
    "process = Apply(input_=name_2, particle_type=\"muon\", use_n_rows=10000,\n",
    "                calc_instance=Calc_Start, allowed_instance=Allowed_Start)"
   ]
  },
  {
   "cell_type": "markdown",
   "metadata": {
    "hidden": true
   },
   "source": [
    "In einem zwischenschritt, der in dem Filter \"check_min_pt\" schon enthalten ist lässt sich der Transversalimpuls separat hinzufügen:"
   ]
  },
  {
   "cell_type": "code",
   "execution_count": null,
   "metadata": {
    "hidden": true
   },
   "outputs": [],
   "source": [
    "process.add_variable(\"pt\")"
   ]
  },
  {
   "cell_type": "code",
   "execution_count": null,
   "metadata": {
    "hidden": true
   },
   "outputs": [],
   "source": [
    "process.data"
   ]
  },
  {
   "cell_type": "markdown",
   "metadata": {
    "hidden": true
   },
   "source": [
    "Die Häufigkeitsverteilung lässt sich wie folgt visualisieren:"
   ]
  },
  {
   "cell_type": "code",
   "execution_count": null,
   "metadata": {
    "hidden": true
   },
   "outputs": [],
   "source": [
    "process.hist_of_variable(variable=\"pt\", bins=100, hist_range=(0, 80))"
   ]
  },
  {
   "cell_type": "markdown",
   "metadata": {
    "hidden": true
   },
   "source": [
    "Die Anwendung des Filters für den minimalen Transversalimpuls und die Entfernung aller nachfolgend entstandenen Ereignisse, die weniger als vier Leptonen enthalten liefert die entsprechende Verteilung:"
   ]
  },
  {
   "cell_type": "code",
   "execution_count": null,
   "metadata": {
    "hidden": true
   },
   "outputs": [],
   "source": [
    "process.filter(filter_name=\"check_min_pt\")\n",
    "process.hist_of_variable(variable=\"pt\", bins=100, hist_range=(0, 80))"
   ]
  },
  {
   "cell_type": "markdown",
   "metadata": {
    "hidden": true
   },
   "source": [
    "Ebenso lassen sich auch andere Variablen durch die Häufigkeitsverteilungen visualisieren.\n",
    "Der durchgeführte Cut beeinflusst hauptsächlich die Transversalimpulsverteilung, ändert an der Verteilung der Pseudorapidität aber dagegen wenig"
   ]
  },
  {
   "cell_type": "code",
   "execution_count": null,
   "metadata": {
    "hidden": true
   },
   "outputs": [],
   "source": [
    "# place to play\n",
    "\n",
    "# Wichtig ist sicherzustellen, dass die für die Analyse getroffenen VOrraussetzungen sichergestellt werden.\n",
    "# Am einfachsten lässt es esich durch die Betrachtung der Häufigkeitsverteilungen darstellen um beispielsweise\n",
    "# zu gewährleisten das das ZZ Bosonenpaar aus einem virtuellen und einem rellen Z Boson besteht.\n",
    "\n",
    "# Zusatz: Findet Barad-dûr"
   ]
  },
  {
   "cell_type": "markdown",
   "metadata": {
    "heading_collapsed": true
   },
   "source": [
    "# Berechnung wichtiger Größen\n",
    "----------------------"
   ]
  },
  {
   "cell_type": "markdown",
   "metadata": {
    "hidden": true
   },
   "source": [
    "Dem Beispiel des Transversalimpulses folgend sollen alle nachfolgenden Größen, die berechnet werden müssen von den Studenten implementiert werden. Funktionen die komplizierter sind werden über die Vererbung vorgeladen."
   ]
  },
  {
   "cell_type": "code",
   "execution_count": null,
   "metadata": {
    "hidden": true
   },
   "outputs": [],
   "source": [
    "from include.processing.CalcAndAllowerInit import CalcInit"
   ]
  },
  {
   "cell_type": "code",
   "execution_count": null,
   "metadata": {
    "code_folding": [
     0
    ],
    "hidden": true
   },
   "outputs": [],
   "source": [
    "class CalcStudent(Calc_Start, CalcInit):\n",
    "    '''\n",
    "    Class for the calculation of certain sizes that are used for\n",
    "    the cuts or are essential for the reconstruction.\n",
    "    '''\n",
    "\n",
    "    @staticmethod\n",
    "    def combined_charge(charge, combine_num):\n",
    "        '''\n",
    "        Tests whether an electrically neutral charge combination is possible.\n",
    "\n",
    "        :param charge: ndarray\n",
    "                       1D array containing data with \"int\" type.\n",
    "        :param combine_num: int\n",
    "                            4 if look_for is not \"both\", 2 else\n",
    "        :return: bool\n",
    "        '''\n",
    "\n",
    "    @staticmethod\n",
    "    def eta(px=None, py=None, pz=None, energy=None):\n",
    "        '''\n",
    "        Calculates the pseudorapidity.\n",
    "        Optional with or without energy.\n",
    "\n",
    "        :param px: ndarray\n",
    "                   1D array containing data with \"float\" type.\n",
    "        :param py: ndarray\n",
    "                    1D array containing data with \"float\" type.\n",
    "        :param pz: ndarray\n",
    "                   1D array containing data with \"float\" type.\n",
    "        :param energy: ndarray\n",
    "                       1D array containing data with \"float\" type.\n",
    "        :return: ndarray\n",
    "                 1D array containing data with \"float\" type.\n",
    "        '''\n",
    "\n",
    "    @staticmethod\n",
    "    def invariant_mass_square(px, py, pz, energy=None, eta=None, phi=None):\n",
    "        '''\n",
    "        Calculates the square of the invariant mass.\n",
    "        Optional with or without energy.\n",
    "        Optionally with or without eta and phi.\n",
    "\n",
    "        :param phi: ndarray\n",
    "                    1D array containing data with \"float\" type.\n",
    "        :param eta: ndarray\n",
    "                    1D array containing data with \"float\" type.\n",
    "        :param px: ndarray\n",
    "                   1D array containing data with \"float\" type.\n",
    "        :param py: ndarray\n",
    "                   1D array containing data with \"float\" type.\n",
    "        :param pz: ndarray\n",
    "                   1D array containing data with \"float\" type.\n",
    "        :param energy: ndarray\n",
    "                       1D array containing data with \"float\" type.\n",
    "        :return: ndarray\n",
    "                 1D array containing data with \"float\" type.\n",
    "        '''\n",
    "\n",
    "    @staticmethod\n",
    "    def phi(px, py):\n",
    "        '''\n",
    "        Calculation of the angle phi.\n",
    "\n",
    "        :param px: ndarray\n",
    "                   1D array containing data with \"float\" type.\n",
    "        :param py:  ndarray\n",
    "                    1D array containing data with \"float\" type.\n",
    "        :return: ndarray\n",
    "                 1D array containing data with \"float\" type.\n",
    "        '''\n",
    "\n",
    "    @staticmethod\n",
    "    def delta_phi(phi1, phi2):\n",
    "        '''\n",
    "        Calculation of the difference between two phi angles.\n",
    "\n",
    "        :param phi1: ndarray\n",
    "                     1D array containing data with \"float\" type.\n",
    "        :param phi2: ndarray\n",
    "                     1D array containing data with \"float\" type.\n",
    "        :return: ndarray\n",
    "                 1D array containing data with \"float\" type.\n",
    "        '''\n",
    "\n",
    "    @staticmethod\n",
    "    def delta_r(eta, phi):\n",
    "        '''\n",
    "        Calculation of delta_r.\n",
    "\n",
    "        :param eta: ndarray\n",
    "                    1D array containing data with \"float\" type.\n",
    "        :param phi: ndarray\n",
    "                    1D array containing data with \"float\" type.\n",
    "        :return: ndarray\n",
    "                 1D array containing data with \"float\" type.\n",
    "        '''"
   ]
  },
  {
   "cell_type": "markdown",
   "metadata": {
    "heading_collapsed": true
   },
   "source": [
    "# Erstellung der Cuts\n",
    "----------------------"
   ]
  },
  {
   "cell_type": "markdown",
   "metadata": {
    "hidden": true
   },
   "source": [
    "Analog zu dem Cut auf den minimalen Transversallimpuls lassen sich weitere Cuts einführen, die im weiteren verwendet werden sollen"
   ]
  },
  {
   "cell_type": "code",
   "execution_count": null,
   "metadata": {
    "hidden": true
   },
   "outputs": [],
   "source": [
    "from include.processing.CalcAndAllowerInit import AllowedInit"
   ]
  },
  {
   "cell_type": "code",
   "execution_count": null,
   "metadata": {
    "code_folding": [
     0
    ],
    "hidden": true
   },
   "outputs": [],
   "source": [
    "class AllowedStudent(Allowed_Start, AllowedInit):\n",
    "    '''\n",
    "    Class that introduces certain cuts and thus restricts the leptons in the events.\n",
    "    '''\n",
    "    \n",
    "    @staticmethod\n",
    "    def delta_r(delta_r):\n",
    "        '''\n",
    "        Checks if delta_r is smaller than the allowed value.\n",
    "\n",
    "        :param delta_r: ndarray\n",
    "                        1D array containing data with `float` type.\n",
    "        :return: ndarray\n",
    "                 1D array containing data with `bool` type.\n",
    "        '''\n",
    "\n",
    "    @staticmethod\n",
    "    def rel_pf_iso(rel_pf_iso):\n",
    "        '''\n",
    "        Checks if rel_pf_iso is smaller than the allowed value.\n",
    "\n",
    "        :param rel_pf_iso: ndarray\n",
    "                           1D array containing data with `float` type.\n",
    "        :return: ndarray\n",
    "                 1D array containing data with `bool` type.\n",
    "        '''\n",
    "\n",
    "    @staticmethod\n",
    "    def misshits(misshits):\n",
    "        '''\n",
    "        Checks if the minimum number of misshits was kept.\n",
    "\n",
    "        :param misshits:\n",
    "        :return:\n",
    "        '''\n",
    "\n",
    "    @staticmethod\n",
    "    def pt(p_t, look_for, coll_size=4):\n",
    "        '''\n",
    "        Checks if the exact pedingun regarding pt is observed.\n",
    "        (>20 GeV: >= 1; >10 GeV: >= 2; >Minimum pt: >= 4).\n",
    "\n",
    "        :param p_t: ndarray\n",
    "                    1D array containing data with `float` type.\n",
    "        :param look_for: str\n",
    "                         \"muon\"; \"electron\" or \"both\"\n",
    "        :param coll_size: int\n",
    "                          4 if look_for is not \"both\", 2 else\n",
    "        :return: ndarray\n",
    "                 1D array containing data with `bool` type.\n",
    "        '''\n",
    "\n",
    "    @staticmethod\n",
    "    def eta(eta, look_for):\n",
    "        '''\n",
    "        Checks if the pseudorapidity of leptons is valid.\n",
    "\n",
    "        :param eta: ndarray\n",
    "                    1D array containing data with \"float\" type.\n",
    "        :param look_for: str\n",
    "                         \"muon\"; \"electron\" or \"both\"\n",
    "        :return: ndarray\n",
    "                 1D array containing data with \"bool\" type.\n",
    "        '''\n",
    "\n",
    "    @staticmethod\n",
    "    def type(typ, look_for):\n",
    "        '''\n",
    "        Checks for the permitted classification of leptons.\n",
    "\n",
    "        :param typ: ndarray\n",
    "                    1D array containing data with \"float\" type.\n",
    "        :param look_for: str\n",
    "                         \"muon\"; \"electron\" or \"both\"\n",
    "        :return: ndarray\n",
    "                 1D array containing data with \"bool\" type.\n",
    "        '''\n",
    "\n",
    "    @staticmethod\n",
    "    def impact_param(sip3d, dxy, dz):\n",
    "        '''\n",
    "        Checks if the impact parameters of the collision are valid and sorts out\n",
    "        events that do not have a clear and equal collision point.\n",
    "\n",
    "        :param sip3d: ndarray\n",
    "                      1D array containing data with \"float\" type.\n",
    "        :param dxy: ndarray\n",
    "                    1D array containing data with \"float\" type.\n",
    "        :param dz: ndarray\n",
    "                   1D array containing data with \"float\" type.\n",
    "        :return: ndarray\n",
    "                 1D array containing data with \"bool\" type.\n",
    "        '''\n",
    "\n",
    "    @staticmethod\n",
    "    def zz(z1, z2):\n",
    "        '''\n",
    "        Checks if the Z1 candidate and the Z2 candidate is within the allowed range.\n",
    "\n",
    "        :param z1: float\n",
    "        :param z2: float\n",
    "        :return: bool\n",
    "        '''"
   ]
  },
  {
   "cell_type": "markdown",
   "metadata": {
    "heading_collapsed": true
   },
   "source": [
    "# Anwendung der Filter und Rekonstruktion auf MC - Simulationen\n",
    "--------------------------------------------------------------------------------------------------------------"
   ]
  },
  {
   "cell_type": "markdown",
   "metadata": {
    "hidden": true
   },
   "source": [
    "Die vorhergehende Implementierung der Cuts kann anhand der Untergrund MC - Simulatione getestet werden. Dies soll das gezielte Hinarbeiten auf ein gewisses Ziel verhindern, da durch eine geringe Anzahl an späteren Ereignissen in der eigentlichen Messung die Tatsache weitestgehend vermieden werden soll gezielt Ereignisse in einem Bereich subjektiv auzuwählen.\n",
    "\n",
    "Die festgelegten Cuts werden dann anschließend auf die Signal MC -  Simulatione und die Messung angewendet. Hierzu werden zunächst alle MC - Simulationen in einer Liste aus tupels gesammelt."
   ]
  },
  {
   "cell_type": "code",
   "execution_count": null,
   "metadata": {
    "hidden": true
   },
   "outputs": [],
   "source": [
    "from include.processing.ApplyHelper import ProcessHelper"
   ]
  },
  {
   "cell_type": "code",
   "execution_count": null,
   "metadata": {
    "code_folding": [],
    "hidden": true
   },
   "outputs": [],
   "source": [
    "# Alle Untergrund MC und Signal MC für m = 125 GeV\n",
    "mc_files = True\n",
    "# Signal MC für weitere Massen m = [115, 120, 122, 124, 128, 130, 135, 140, 145, 150]\n",
    "other_mc_files = True\n",
    "# Durchgeführte Messung\n",
    "run_files = True\n",
    "\n",
    "file_tuples = []\n",
    "if mc_files:\n",
    "    file_tuples += ProcessHelper.create_tuple(\"./data/mc_aftT/\")    \n",
    "if other_mc_files:\n",
    "    import os\n",
    "    list_of_other_mc = []\n",
    "    for name in os.listdir(\"./data/other_mc/\"):\n",
    "        file_tuples += ProcessHelper.create_tuple(os.path.join(\".\", \"data\", \"other_mc\", name, \"mc_init/\"))\n",
    "if run_files:\n",
    "    file_tuples += ProcessHelper.create_tuple(\"./data/ru_aftT/\")\n",
    "    \n",
    "file_tuples[0]"
   ]
  },
  {
   "cell_type": "markdown",
   "metadata": {
    "hidden": true
   },
   "source": [
    "Mit den oben implementierten Methoden der Klasse CalcStudent und AllowedStudent lassen sich folgende operationen durchführen:"
   ]
  },
  {
   "cell_type": "code",
   "execution_count": null,
   "metadata": {
    "hidden": true
   },
   "outputs": [],
   "source": [
    "Apply.help()"
   ]
  },
  {
   "cell_type": "markdown",
   "metadata": {
    "hidden": true
   },
   "source": [
    "Die ganze Filter und Rekonstruktionsablauf kann in einer Funktion zusamengefasst werden. Die Reihenfolge der Filter ist hierbei für die Laufzeit entscheidend."
   ]
  },
  {
   "cell_type": "code",
   "execution_count": null,
   "metadata": {
    "code_folding": [],
    "hidden": true
   },
   "outputs": [],
   "source": [
    "def filter_and_reco_process(used_pair):\n",
    "    process = Apply(input_=used_pair.name, particle_type=used_pair.particle, multi_cpu=True,\n",
    "                    calc_instance=Calc, allowed_instance=Allowed)\n",
    "    process.filter(filter_name=\"check_type\",\n",
    "                   quicksave=ProcessHelper.change_on_affix(used_pair.name, \"aftT\"))\n",
    "    process.filter(filter_name=\"check_q\")\n",
    "    process.filter(filter_name=\"check_impact_param\")\n",
    "    process.filter(filter_name=\"check_q\")\n",
    "    process.filter(filter_name=\"check_rel_iso\")\n",
    "    process.filter(filter_name=\"check_q\")\n",
    "    if process.particle_type != \"muon\":\n",
    "        process.filter(filter_name=\"check_misshit\")\n",
    "    process.filter(filter_name=\"check_q\")\n",
    "    process.filter(filter_name=\"check_min_pt\")\n",
    "    process.filter(filter_name=\"check_q\")\n",
    "    process.filter(filter_name=\"check_eta\")\n",
    "    process.filter(filter_name=\"check_q\")\n",
    "    process.filter(filter_name=\"check_exact_pt\")\n",
    "    process.filter(filter_name=\"check_m_2l\")\n",
    "    process.filter(filter_name=\"check_m_4l\",\n",
    "                   quicksave=ProcessHelper.change_on_affix(used_pair.name, \"befZ\"))\n",
    "    process.reconstruct(reco_name=\"zz\", \n",
    "                        quicksave=ProcessHelper.change_on_affix(used_pair.name, \"aftZ\"))\n",
    "    process.reconstruct(reco_name=\"mass_4l_out_zz\",\n",
    "                        quicksave=ProcessHelper.change_on_affix(used_pair.name, \"aftH\"))\n",
    "    del process"
   ]
  },
  {
   "cell_type": "code",
   "execution_count": null,
   "metadata": {
    "hidden": true
   },
   "outputs": [],
   "source": [
    "from tqdm import tqdm\n",
    "from IPython.display import clear_output\n",
    "\n",
    "for pair in tqdm(file_tuples):\n",
    "    filter_and_reco_process(pair)\n",
    "    clear_output()"
   ]
  },
  {
   "cell_type": "markdown",
   "metadata": {
    "heading_collapsed": true
   },
   "source": [
    "# Betrachtung der finalen Verteilungen\n",
    "------------------------------------------------------------------"
   ]
  },
  {
   "cell_type": "markdown",
   "metadata": {
    "hidden": true
   },
   "source": [
    "Abschließend besteht die Möglichkeit gewollte Verteilungen darzustellen, wobei die MC Simulation in den Signal und Untergrundteil aufgespalten wird.  \n",
    "Hierzu sollte die gewünschte Masse der Signal MC-Simulation verwendet werden, die zuvor in einem Ordner mit allen gewünschten MC - Smulationen zusammengetragen werden. Mögliche Größen sind:"
   ]
  },
  {
   "cell_type": "code",
   "execution_count": null,
   "metadata": {
    "hidden": true
   },
   "outputs": [],
   "source": [
    "print(ProcessHelper.print_possible_variables(\"./data/mc_aftH/MC_2012_ZZ_to_4L_to_2el2mu_8TeV_aftH.csv\"))"
   ]
  },
  {
   "cell_type": "markdown",
   "metadata": {
    "hidden": true
   },
   "source": [
    "An dieser Stelle ist es fraglich ob  z1_index, z2_index, sowie z1_tag bzw. z2_tag Größen sind die eine ausführlicher Betrachtung bedürfen."
   ]
  },
  {
   "cell_type": "code",
   "execution_count": null,
   "metadata": {
    "hidden": true
   },
   "outputs": [],
   "source": [
    "from include.histogramm.HistOf import HistOf\n",
    "import matplotlib.pyplot as plt\n",
    "\n",
    "%matplotlib inline\n",
    "plt.rcParams[\"figure.figsize\"] = (12, 9)"
   ]
  },
  {
   "cell_type": "code",
   "execution_count": null,
   "metadata": {
    "hidden": true
   },
   "outputs": [],
   "source": [
    "h = HistOf(mc_dir=\"./data/mc_aftH/\", ru_dir=\"./data/ru_aftH/\")  "
   ]
  },
  {
   "cell_type": "code",
   "execution_count": null,
   "metadata": {
    "hidden": true
   },
   "outputs": [],
   "source": [
    "h.variable(\"mass_4l\", 30, (70, 181))\n",
    "ax = plt.gca()\n",
    "ax.set_xlabel(r\"$m_{4\\ell}$ in GeV\")\n",
    "ax.set_ylabel(\"Bineinträge\")\n",
    "plt.show()"
   ]
  },
  {
   "cell_type": "code",
   "execution_count": null,
   "metadata": {
    "hidden": true
   },
   "outputs": [],
   "source": [
    "# place to play and verify things"
   ]
  },
  {
   "cell_type": "markdown",
   "metadata": {
    "heading_collapsed": true
   },
   "source": [
    "# Parametrisierung des Untergrundes\n",
    "----------------------"
   ]
  },
  {
   "cell_type": "markdown",
   "metadata": {
    "hidden": true
   },
   "source": [
    "Für die Vermeidung von Fluktuationen ist es nun die Aufgabe die Verteilung der Untegrrund MC Simulation durch eine Wahrscheinlichkeitsdichte auszudrücken.  \n",
    "Hierzu soll das einfachste Modell verwendet werden, das die besten Ergebnisse erzielt.  Die Implementierung von linearkombinationen von Legendrepolynomen wird den Studenten zur Verfügung gestellt (LLC)."
   ]
  },
  {
   "cell_type": "code",
   "execution_count": null,
   "metadata": {
    "hidden": true
   },
   "outputs": [],
   "source": [
    "from include.histogramm.HistDataGetter import HistDataGetter as HDG\n",
    "from include.parameterization.LegendrePoly import LegendreLinearCombination as LLC"
   ]
  },
  {
   "cell_type": "code",
   "execution_count": null,
   "metadata": {
    "hidden": true
   },
   "outputs": [],
   "source": [
    "bins, hist_range, info = 30, (106, 151), [[\"2012\"], [\"A-D\"]]\n",
    "mc_dir, ru_dir = \"./data/mc_aftH/\", \"./data/mc_aftH/\""
   ]
  },
  {
   "cell_type": "markdown",
   "metadata": {
    "hidden": true
   },
   "source": [
    "Variante:\n",
    "\n",
    " 1. <ins>Die Daten aus dem Histogramm werden roh ausgegeben.</ins>  \n",
    "    Die skalierten Unsicherheiten für die Bineinträge müssen separat berechnet werden. Zudem muss die Skalierung des\n",
    "    Histogramms vorgenommen werden.  \n",
    "    Das Zugreifen auf die einzelnen Teile kann über dne Attribut data geschehen, wobei das ein geschachteltes PYTHON\n",
    "    dict ist. Die erste Ebene enthält die drei einzelnen Kanäle. In jedem der Kanäle ist anschließend die unskalierten\n",
    "    Histogrammeinträge, der Korrekturfaktor und die Daten, die für die Histogrammbildung verwendet wurden gespeichert."
   ]
  },
  {
   "cell_type": "code",
   "execution_count": null,
   "metadata": {
    "hidden": true
   },
   "outputs": [],
   "source": [
    "raw_mc_data = HDG(bins=bins, hist_range=hist_range, \n",
    "           info=info, mc_dir=mc_dir, ru_dir=ru_dir).get_mc_raw(tag=\"background\")\n",
    "print(list(raw_mc_data.data.keys()))\n",
    "raw_mc_data.data[\"mc_track_ZZ_4el_2012\"]"
   ]
  },
  {
   "cell_type": "code",
   "execution_count": null,
   "metadata": {
    "hidden": true
   },
   "outputs": [],
   "source": [
    "# your functions goes here\n",
    "# your fit goes here"
   ]
  },
  {
   "cell_type": "markdown",
   "metadata": {
    "hidden": true
   },
   "source": [
    " 2. <ins>Die Daten aus dem Histogramm werden zusammengefasst ausgegeben</ins>  \n",
    "     und die Unsicherheit bereits berechnet"
   ]
  },
  {
   "cell_type": "code",
   "execution_count": null,
   "metadata": {
    "hidden": true
   },
   "outputs": [],
   "source": [
    "from include.fits.McFitInit import McFitInit"
   ]
  },
  {
   "cell_type": "code",
   "execution_count": null,
   "metadata": {
    "hidden": true
   },
   "outputs": [],
   "source": [
    "format_data = McFitInit(bins=bins, hist_range=hist_range, tag=\"background\", mc_dir=mc_dir, ru_dir=ru_dir)\n",
    "bins, hist_range, hist_entries, combined_hist_entries_errors = format_data.variables_for_hist_fit"
   ]
  },
  {
   "cell_type": "code",
   "execution_count": null,
   "metadata": {
    "hidden": true
   },
   "outputs": [],
   "source": [
    "# your functions goes here\n",
    "# your fit goes here"
   ]
  },
  {
   "cell_type": "markdown",
   "metadata": {
    "hidden": true
   },
   "source": [
    "Den Studenten steht es frei entweder die Variante 1. zu verfolgen oder die den Studenten gegebene unvollständige Klasse MCFit derart zu vervollständigen, dass sie Fits beliebiger Funktionen durchführen können. Der Vorteil wäre hierbei, dass die weitere Benutzung bei der Signalparametrisierung möglich ist."
   ]
  },
  {
   "cell_type": "markdown",
   "metadata": {},
   "source": [
    "# Auswahl der passenden  Signal MC\n",
    "----------------------"
   ]
  },
  {
   "cell_type": "markdown",
   "metadata": {},
   "source": [
    "Das Ziel dieses Abschnittes ist eine Eingrenzung der möglichen Signal MC Simulationen durchzuführen und sich auf ein einziges festzulegen und damit weiterarbeiten."
   ]
  },
  {
   "cell_type": "markdown",
   "metadata": {},
   "source": [
    "## Vorläufige Parametrisierung der Signal MC"
   ]
  },
  {
   "cell_type": "markdown",
   "metadata": {},
   "source": [
    "Den Studenten werden unterschiedliche Signal MC Simulationen zur verfügung gestellt, aus denen eine geeignete Wahl getroffen werden soll. Um den zeitlichen Rahmen des Praktikums einhalten zu können wird außerhalb des Praktikums eine grobe Parametrisierung dieser Verteilungen durchgeführt.\n",
    "Hierzu werden die einzelnen Signal MC Simulationen bei unterscheidlcihen Massen durch eine Gaussverteilung $\\mathcal{G} \\left( m_{4\\ell}, m_{\\mathrm{H}}, \\sigma_{\\mathrm{G}} \\right)$ parametrisiert.\n",
    "Das Ziel ist es die Abhängigkeit der Breite von der invarianten Masse festzustellen und durch ein passendes Modell zu beschreiben. Die Transversalimpulsauflösung des Detektors ist hierbei der größte EInfluss.  \n",
    "Die Ergebnisse dieser Parametrisierungen sind in einem Pandas Dataframe zusammengefasst."
   ]
  },
  {
   "cell_type": "code",
   "execution_count": null,
   "metadata": {},
   "outputs": [],
   "source": [
    "import pandas as pd\n",
    "df_ = pd.read_csv(\"./data/other_mc_param_solution/temp_sigma_mu.csv\")\n",
    "df_"
   ]
  },
  {
   "cell_type": "code",
   "execution_count": null,
   "metadata": {},
   "outputs": [],
   "source": [
    "sigma, sigma_err, mu, mu_err = tuple(df_[[\"sigma\", \"sigma_err\", \"mu\", \"mu_err\"]].values.T)"
   ]
  },
  {
   "cell_type": "markdown",
   "metadata": {},
   "source": [
    "Ausgehend davon kann eine passende Beschreibung der Breite $\\sigma_{G}(m_{\\mathrm{H}})$ gefunden werden."
   ]
  },
  {
   "cell_type": "code",
   "execution_count": null,
   "metadata": {},
   "outputs": [],
   "source": [
    "# your erstimation model and fit goes here\n",
    "\n",
    "def sigma_model(x, *args):\n",
    "    \"\"\"\n",
    "    Model to for sigma parameterization\n",
    "    \n",
    "    \"\"\"\n",
    "    return x"
   ]
  },
  {
   "cell_type": "markdown",
   "metadata": {},
   "source": [
    "## Likelihood - Quotienten - Test"
   ]
  },
  {
   "cell_type": "markdown",
   "metadata": {},
   "source": [
    "Für die Auswahl zwischen den unterschiedlcihen Simulationen wird explizit der Likelihood-Quotienten-Test verwendet.\n",
    "Hierzu wird die Nullhypothese $H_0$, die nur dem Untergrund entspricht, und die Gegenhypothese $H_1$, die dem Untergrund und einem Signal entspricht, verglichen.\n",
    "\n",
    "In die (extended) Likelihood der Hypothese $H_0$ fließt die Parametrisierung des Untergrundes $f_{\\mathrm{U}}(x|\\theta_{\\mathrm{U}})$ ein wobei f_{\\mathrm{U}} das vorher festgelegte Modell aus der Untergrundparametrisierung mit den optimalten Parametern $\\theta_{\\mathrm{U}}$ ist.\n",
    "\n",
    "Die für die Gegenhypothese verwendete Verteilung lässt sich beschreiben durch: $$f_{\\mu\\mathrm{S+B}}(m_{4\\ell}|\\mu) = \\mu f_{\\mathrm{S}}(m_{4\\ell}|\\theta_{\\mathrm{S}}) + f_{\\mathrm{U}}(m_{4\\ell}|\\theta_{\\mathrm{U}}) \\, , \\\\ \\int_{\\Omega} f_{\\mu\\mathrm{S+B}}(m_{4\\ell}|\\mu) \\mathrm{d}m_{4\\ell} = 1 $$ $f_{\\mathrm{S}}(x|\\theta_{\\mathrm{S}})$ ist für diesen Fall eine Gaussverteilung mit festgehaltenen Werten für den Scherpunkt und die Breite. Für den Schätzer $\\mu$ gilt: $$\\mu \\geq 0 \\, .$$ Diese Einschränkung fürt zu einer vernachlässigbaren Verzerrung und wird aus physikalischen Überlegungen eingeführt, da in der Verteilung der Invarianten massen ein Überschuss an Ereignissen erwartet wird, wenn ein Higgs Boson vorhanden sein sollte.\n",
    "\n",
    "Damit kann die zu betrachtende Größe - das Verhältnis aus den Likelihoods beider Hypothesen - gebildet werden. Für die numerische stabilität wird der negative Logarithmus davon gebildet. Fer Faktor zwei ist für die spätere asymthotische Form notwendig.\n",
    "\n",
    "$$ q_0 = -2 \\ln \\left( \\frac{\\mathcal{L}(x|\\mu = \\hat{\\mu})}{\\mathcal{L}(x|\\mu = 0)} \\right) \\, .$$ \n",
    "$\\hat{\\mu}$ ist hierbei der ideale Schätzer für eine feste Masse und Breite der Signalhypothese."
   ]
  },
  {
   "cell_type": "code",
   "execution_count": null,
   "metadata": {},
   "outputs": [],
   "source": [
    "lower_bound, higher_bound = 106, 151\n",
    "mass_array = np.linspace(lower_bound, higher_bound, 100)\n",
    "model_arguments = tuple([])\n",
    "sigma_array = sigma_model(mass_array, *model_arguments)"
   ]
  },
  {
   "cell_type": "code",
   "execution_count": null,
   "metadata": {},
   "outputs": [],
   "source": [
    "# your implementation of QLT goes here."
   ]
  },
  {
   "cell_type": "markdown",
   "metadata": {},
   "source": [
    "Die asymthotische Form der Wahrscheinlichkeitsdichte von $q_0$ wenn kein Signal erwartet wird lässt sich beschreiben durch:\n",
    "$$ f(q_0|\\hat{\\mu}=0) \\rightarrow \\frac{1}{2}\\left( \\delta (q_0) + \\chi^2_{1} \\right) \\, .$$\n",
    "Daraus lässt sich der $p_0$ Wert berechnen nach:\n",
    "$$ p_0 = \\int\\limits_{q_{0_{\\mathrm{obs}}}}^{\\infty} \\mathrm{d}q_0 f(q_0|\\hat{\\mu}=0) \\, . $$\n",
    "Aus diesem lässt sich die Signifikanz abschätzend berechnen durch: $$Z = \\Phi^{-1}(1-p_0) = \\sqrt{q_{0_{\\mathrm{obs}}}} $$. In diesem Fall sollte diese jedoch nur als eine erste Abschätzung betrachtet werden da die eingehende Parametrisierung des Signals ungenau ist.\n",
    "Ebenso wird an dieser Stelle die Systematik nicht betrachtet, es fließt nur die statistische Unsicherheit in die Berechnung von $p_0$ bzw.  $Z$ ein."
   ]
  },
  {
   "cell_type": "markdown",
   "metadata": {},
   "source": [
    "Das Abspeichern  geschieht in Form von einem Pandas Dataframe."
   ]
  },
  {
   "cell_type": "code",
   "execution_count": null,
   "metadata": {},
   "outputs": [],
   "source": [
    "q0, p0 = np.zeros(len(sigma_array)), np.zeros(len(sigma_array))\n",
    "df = pd.DataFrame(data=np.array([mass_array, sigma_array, q0, p0, np.sqrt(q0)]).T,\n",
    "                           columns=[\"mass\", \"gauss_sigma\", \"q0\", \"p0\", \"sqrt_q0\"])"
   ]
  },
  {
   "cell_type": "markdown",
   "metadata": {},
   "source": [
    "Die Darstellung der Ergebnisse kann entweder von Studenten implementiert werden oder eine vordefinierte FUnktion verwendet werden.\n",
    "\n",
    "<ins> Version 1: <ins>"
   ]
  },
  {
   "cell_type": "code",
   "execution_count": null,
   "metadata": {},
   "outputs": [],
   "source": [
    "# your Plot goes here"
   ]
  },
  {
   "cell_type": "markdown",
   "metadata": {},
   "source": [
    "<ins> Version 2: <ins>"
   ]
  },
  {
   "cell_type": "code",
   "execution_count": null,
   "metadata": {},
   "outputs": [],
   "source": [
    "from include.stattest.StatTestInit import StatTestInit\n",
    "\n",
    "p0_plot = StatTestInit()\n",
    "p0_plot.plot_p0_estimation(plot_=df, to_file_=False)\n"
   ]
  },
  {
   "cell_type": "markdown",
   "metadata": {},
   "source": [
    "# Parametrisierung der Signal MC\n",
    "----------------------"
   ]
  },
  {
   "cell_type": "markdown",
   "metadata": {},
   "source": [
    "Nach der Wahl der bestpassenden Signalhypothese soll die Verteilung genauer parametrisiert werden. Dies geschieht analog zu der Untergrundparametrisierung. Zur Auswahl stehen den Studenten:  \n",
    " - Gaussverteilung\n",
    " - Cauchyverteilung\n",
    " - Voigt-Profil\n",
    " - Single - Sided - Crystal - Ball\n",
    " - Double - Sided - Crystal - Ball  \n",
    "\n",
    "Die beiden letzen müssen die Studenten nicht eigenständig implementieren und werden als Methoden (\"DSCB\" und \"SSCB\") in der Klasse XX zur verfügung gestellt."
   ]
  },
  {
   "cell_type": "code",
   "execution_count": null,
   "metadata": {},
   "outputs": [],
   "source": [
    "from include.parameterization.SignalFunction import SignalFunction as SF"
   ]
  },
  {
   "cell_type": "markdown",
   "metadata": {},
   "source": [
    "Variante:\n",
    "\n",
    " 1. <ins>Die Daten aus dem Histogramm werden roh ausgegeben.</ins>  \n",
    "    Die skalierten Unsicherheiten für die Bineinträge müssen separat berechnet werden. Zudem muss die Skalierung des\n",
    "    Histogramms vorgenommen werden.  \n",
    "    Das Zugreifen auf die einzelnen Teile kann über dne Attribut data geschehen, wobei das ein geschachteltes PYTHON\n",
    "    dict ist. Die erste Ebene enthält die drei einzelnen Kanäle. In jedem der Kanäle ist anschließend die unskalierten\n",
    "    Histogrammeinträge, der Korrekturfaktor und die Daten, die für die Histogrammbildung verwendet wurden gespeichert."
   ]
  },
  {
   "cell_type": "code",
   "execution_count": null,
   "metadata": {},
   "outputs": [],
   "source": [
    "raw_mc_data = HDG(bins=bins, hist_range=hist_range, \n",
    "           info=info, mc_dir=mc_dir, ru_dir=ru_dir).get_mc_raw(tag=\"signal\")\n",
    "print(list(raw_mc_data.data.keys()))\n",
    "raw_mc_data.data[\"mc_track_H_ZZ_4el_2012\"]"
   ]
  },
  {
   "cell_type": "code",
   "execution_count": null,
   "metadata": {},
   "outputs": [],
   "source": [
    "# your functions goes here\n",
    "# your fit goes here"
   ]
  },
  {
   "cell_type": "markdown",
   "metadata": {},
   "source": [
    " 2. <ins>Die Daten aus dem Histogramm werden zusammengefasst ausgegeben</ins>  \n",
    "     und die Unsicherheit bereits berechnet"
   ]
  },
  {
   "cell_type": "code",
   "execution_count": null,
   "metadata": {},
   "outputs": [],
   "source": [
    "from include.fits.McFitInit import McFitInit"
   ]
  },
  {
   "cell_type": "code",
   "execution_count": null,
   "metadata": {},
   "outputs": [],
   "source": [
    "format_data = McFitInit(bins=bins, hist_range=hist_range, tag=\"background\", mc_dir=mc_dir, ru_dir=ru_dir)\n",
    "bins, hist_range, hist_entries, combined_hist_entries_errors = format_data.variables_for_hist_fit"
   ]
  },
  {
   "cell_type": "code",
   "execution_count": null,
   "metadata": {},
   "outputs": [],
   "source": [
    "# your functions goes here\n",
    "# your fit goes here"
   ]
  },
  {
   "cell_type": "markdown",
   "metadata": {},
   "source": [
    "Hier können die Studenten die oben bereits vervollständigte Klasse verwenden, sofern sie diese Variante gewählt haben."
   ]
  },
  {
   "cell_type": "markdown",
   "metadata": {},
   "source": [
    "# Bestimmung der statistischen Signifikanz\n",
    "----------------------"
   ]
  },
  {
   "cell_type": "markdown",
   "metadata": {},
   "source": [
    "Nach der erfolgreichen parametrisierung des Untergrundes und des Signals kann die Signifikanz des Signals bestimmt werden. Hierzu wird folgende Parametrisierung gewählt:\n",
    "$$ f(x, \\alpha_\\mathrm{S}) = \\alpha_\\mathrm{S} f_{\\mathrm{S}}(x|\\theta_{\\mathrm{S}}) + (1 - \\alpha_\\mathrm{S}) f_{\\mathrm{U}}(x|\\theta_{\\mathrm{U}}) \\, .$$\n",
    "\n",
    "Der optimale Parameter $\\alpha_{\\mathrm{S}}$ entspricht der Signalstärke dieser Messung. Diese Bestimmung erfolgt mithilfe der eigenständig zu implementierenden $-2\\ln\\mathcal{L(\\alpha_{\\mathrm{S}})}$ - Funktion. Die zuvor bestimmten Parameter $\\theta_{\\mathrm{S}}$ und $\\theta_{\\mathrm{U}}$ der Wahrscheinlichkeitsdichte des Signals bzw. Untergrundes werden für die Bestimmung festgehalten (profiled Likelihood)."
   ]
  },
  {
   "cell_type": "code",
   "execution_count": null,
   "metadata": {},
   "outputs": [],
   "source": [
    "# your implementation of -2lnL goes here\n",
    "# Hint: it is clever to implement an 2D variant. The 1D variant can then be trivially derived.\n",
    "def nll(alpha, mass):\n",
    "    return np.zeros(len(alpha))"
   ]
  },
  {
   "cell_type": "markdown",
   "metadata": {},
   "source": [
    "Die Betrachtung des Funktionswertes $-2\\ln\\mathcal{L}(\\alpha_{\\mathrm{S}} = 0)$ soll hierbei hervorgehoben werden. Dieser Entspricht nähmlich der Annahme, dass in der vorhandenen Messung kein Signalanteil vorhanden ist und die Messung somit durch die Nullhypothese (nur Untergrund) erklärt werden kann. In asymthotischen Form lässt sich deshalb analog zu dem im Kapitel zur Parametrisierung der Signal MC Ausdruck die Signifikanz bestimmen mit: $$ Z = \\sqrt{\\frac{-2\\ln\\mathcal{L}(\\alpha_{\\mathrm{S}} = 0)}{\\mathcal{L}_{\\mathrm{min}}}} \\, .$$"
   ]
  },
  {
   "cell_type": "markdown",
   "metadata": {},
   "source": [
    "## 1D profiled Likelihood"
   ]
  },
  {
   "cell_type": "markdown",
   "metadata": {},
   "source": [
    "Die eindimensionale Variante variiert nur die Signalstärke. Die Masse wird nach der Parametrisierung festgehalten und nicht mehr variiert."
   ]
  },
  {
   "cell_type": "code",
   "execution_count": null,
   "metadata": {},
   "outputs": [],
   "source": [
    "# your minimization goes here\n",
    "# Hint: you may use allready implemented minimizer as scipy or iminuit (iminuit >> scipy)"
   ]
  },
  {
   "cell_type": "code",
   "execution_count": null,
   "metadata": {},
   "outputs": [],
   "source": [
    "# your plot goes here\n",
    "# you can use a predefined function"
   ]
  },
  {
   "cell_type": "code",
   "execution_count": null,
   "metadata": {},
   "outputs": [],
   "source": [
    "from include.stattest.PlotHelper import PlotHelper\n",
    "import matplotlib.pyplot as plt\n",
    "from mpl_toolkits.axes_grid1.inset_locator import inset_axes, mark_inset"
   ]
  },
  {
   "cell_type": "code",
   "execution_count": null,
   "metadata": {},
   "outputs": [],
   "source": [
    "alpha_ = np.linspace(0.0, 0.8, 1000)\n",
    "nll_ = nll(alpha=alpha_, mass=125)\n",
    "\n",
    "# as example\n",
    "nll_ = 150*(alpha_ - 0.4) ** 2\n",
    "\n",
    "z_ = np.sqrt(nll_[0])\n",
    "\n",
    "# as example\n",
    "def plot_1d(alpha_=alpha_, nll_=nll_, z_=np.sqrt(nll_[0])):\n",
    "    fig, ax = plt.subplots(1,1)\n",
    "    PlotHelper.plot_nll_scan_main_window(ax_obj_=ax, x_=alpha_, y_=nll_, z_=z_)\n",
    "    ax_in = inset_axes(ax, width='50%', height='40%', loc=\"upper right\")\n",
    "    PlotHelper.plot_nll_scan_inside_window(ax_obj_=ax_in, x_=alpha_, y_=nll_, \n",
    "                                           x_ticks_=PlotHelper.get_error_points_from_nll(x_=alpha_, nll_=nll_))\n",
    "    mark_inset(ax, ax_in, loc1=2, loc2=4, fc=\"none\", ec=\"grey\", lw=0.5, alpha=0.5)\n",
    "\n",
    "plot_1d()"
   ]
  },
  {
   "cell_type": "markdown",
   "metadata": {},
   "source": [
    "## 2D profiled Likelihood - Massenbestimmung"
   ]
  },
  {
   "cell_type": "markdown",
   "metadata": {},
   "source": [
    "Abschließend wird auch die Masse bestimmt. Dies geschieht durch die zweidimensionale Variation - Masse und Signalstärke"
   ]
  },
  {
   "cell_type": "code",
   "execution_count": null,
   "metadata": {},
   "outputs": [],
   "source": [
    "# your minimization goes here\n",
    "# you might implement a new nll function if you do not yet have a two-dimensional nll function"
   ]
  },
  {
   "cell_type": "code",
   "execution_count": null,
   "metadata": {},
   "outputs": [],
   "source": [
    "# your plot goes here\n",
    "# you can use a predefined function"
   ]
  },
  {
   "cell_type": "markdown",
   "metadata": {},
   "source": [
    "# Ergebniszusammenfassung\n",
    "----------------------"
   ]
  },
  {
   "cell_type": "markdown",
   "metadata": {},
   "source": [
    "Es wurde eine Signifikanz eines higgsartigen Bosons und seine Masse bestimmt. Durch die Berücksichtigung der Ergebnisse aus den anderen Kanälen kann darauf geschlossen werden, dass es sich um das Higgs-Boson handelt.\n",
    "\n",
    "Sofern noch zusätzliche Likelihood aus dem ATLAS Experiment vorliegt kann dieser mit der vorhandenen Liklihood zusammengefasst werden."
   ]
  }
 ],
 "metadata": {
  "kernelspec": {
   "display_name": "venv",
   "language": "python",
   "name": "venv"
  },
  "language_info": {
   "codemirror_mode": {
    "name": "ipython",
    "version": 3
   },
   "file_extension": ".py",
   "mimetype": "text/x-python",
   "name": "python",
   "nbconvert_exporter": "python",
   "pygments_lexer": "ipython3",
   "version": "3.6.9"
  },
  "varInspector": {
   "cols": {
    "lenName": 16,
    "lenType": 16,
    "lenVar": 40
   },
   "kernels_config": {
    "python": {
     "delete_cmd_postfix": "",
     "delete_cmd_prefix": "del ",
     "library": "var_list.py",
     "varRefreshCmd": "print(var_dic_list())"
    },
    "r": {
     "delete_cmd_postfix": ") ",
     "delete_cmd_prefix": "rm(",
     "library": "var_list.r",
     "varRefreshCmd": "cat(var_dic_list()) "
    }
   },
   "types_to_exclude": [
    "module",
    "function",
    "builtin_function_or_method",
    "instance",
    "_Feature"
   ],
   "window_display": false
  }
 },
 "nbformat": 4,
 "nbformat_minor": 4
}
