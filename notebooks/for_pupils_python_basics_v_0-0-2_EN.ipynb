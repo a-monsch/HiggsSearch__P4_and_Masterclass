{
 "cells": [
  {
   "cell_type": "markdown",
   "metadata": {},
   "source": [
    "# Python - introductory basics\n",
    "-----------------------------------------------------"
   ]
  },
  {
   "cell_type": "markdown",
   "metadata": {},
   "source": [
    "This notebook is intended as an introduction to make oneself more familiar with the programming language Python.\n",
    "But why Python?\n",
    "\n",
    "\n",
    "> \"Python is an interpreted, high-level, general-purpose programming language. [...] Python's design philosophy emphasizes code readability [...] [and] [...] constructs and object-oriented approach aim to help programmers write clear, logical code for small and large-scale projects.\" -[Wikipedia](https://en.wikipedia.org/wiki/Python_(programming_language))\n",
    "\n",
    "This qualifies Python as a programming language that can be used to start programming. With Python it is easy to explain basic concepts in a short and readable way, to understand unknown code or to create new code without much effort or to add to already created code.\n",
    "\n",
    "The notebook periodically offers smaller tasks for new concepts, where the already collected knowledge can be combined and applied."
   ]
  },
  {
   "cell_type": "markdown",
   "metadata": {},
   "source": [
    "Let us start with a typical example:"
   ]
  },
  {
   "cell_type": "code",
   "execution_count": null,
   "metadata": {},
   "outputs": [],
   "source": [
    "# Comment\n",
    "# Comments have no influence on the program during execution.\n",
    "\n",
    "print(\"Hello World\")"
   ]
  },
  {
   "cell_type": "markdown",
   "metadata": {},
   "source": [
    "Expressions enclosed by `\"\"` or `''` are called strings. `print` is a function, recognizable by the following parentheses that enclose the argument `\"Hello World\"`. The concept of the function will not be further elaborated for the moment but explained later. Python comes by itself with a wide collection of standard libraries (\"batteries and the Swiss Army Knife are included\")."
   ]
  },
  {
   "cell_type": "markdown",
   "metadata": {},
   "source": [
    "## Data types and operators\n",
    "-----------------------------------------"
   ]
  },
  {
   "cell_type": "markdown",
   "metadata": {},
   "source": [
    "Let us start with a simple example. The goal is to let the computer do an addition. This should be done interactively by the user entering two numbers. In an output the sum of these two numbers is displayed.\n",
    "\n",
    "The counterpart to the `print()` function, the output, is the `input()` function. With this function, the user can specify two numbers. The corresponding code can first be implemented as follows:"
   ]
  },
  {
   "cell_type": "code",
   "execution_count": null,
   "metadata": {
    "ExecuteTime": {
     "end_time": "2020-05-22T14:15:08.593759Z",
     "start_time": "2020-05-22T14:15:05.485495Z"
    }
   },
   "outputs": [],
   "source": [
    "# Execute and assign a value to variables a and b\n",
    "\n",
    "a = input()\n",
    "b = input()\n",
    "\n",
    "print(f\"{a} was assigned to a\")\n",
    "print(f\"{b} was assigned to b\")"
   ]
  },
  {
   "cell_type": "markdown",
   "metadata": {},
   "source": [
    "This would be the first step. The `=' is an assignment operator, does not correspond to the mathematical '=' and assigns a value (right) to the previously selected variable (left).\n",
    "\n",
    "Notice the `f' before the string and `{a}` or `{b}` that appears in the string. A string with the prefixed `f` is a \"formatted\" string. `{}` is a placeholder for any variable or logical expression. The advantage of these strings is that a troublesome explicit conversion of variables into a string is avoided and readability is maintained. For this reason, they will be frequently used in the following."
   ]
  },
  {
   "cell_type": "markdown",
   "metadata": {},
   "source": [
    "Let us continue with the example. The variables `a` and `b` have been assigned certain values. These can be added by means of the `+` operator (now analogous to mathematics). The result is assigned to the variable `c`."
   ]
  },
  {
   "cell_type": "code",
   "execution_count": null,
   "metadata": {
    "ExecuteTime": {
     "end_time": "2020-05-22T14:15:23.812355Z",
     "start_time": "2020-05-22T14:15:23.806937Z"
    }
   },
   "outputs": [],
   "source": [
    "c = a + b\n",
    "\n",
    "print(f\"The sum out of {a} and {b} is {c}\")"
   ]
  },
  {
   "cell_type": "markdown",
   "metadata": {},
   "source": [
    "Oops, something went wrong. The only question is what, because for Python there were no problems. The task now is to find the error. Anyone who has not yet had any contact with programming should not be discouraged at this point, even though debugging is a not insignificant part of programming. It is important to understand this behaviour - in this case even an easily explainable one - and to draw conclusions from it and in the best case not to stumble over it or have an explanation at hand as soon as a similar or identical behaviour is observed."
   ]
  },
  {
   "cell_type": "markdown",
   "metadata": {},
   "source": [
    "For an analysis in this case it is interesting to consider the __type__ of the variable `a` or `b`. The function `type()` which contains the object to be considered as an argument is suitable for this."
   ]
  },
  {
   "cell_type": "code",
   "execution_count": null,
   "metadata": {
    "ExecuteTime": {
     "end_time": "2020-05-22T14:15:30.485517Z",
     "start_time": "2020-05-22T14:15:30.481855Z"
    }
   },
   "outputs": [],
   "source": [
    "type(a)"
   ]
  },
  {
   "cell_type": "markdown",
   "metadata": {},
   "source": [
    "`str` stands for string. However, the expectation of `a` and `b` were that they were numbers. Obviously a string behaves differently than a number.\n",
    "\n",
    "To get more information about the string, other datatypes presented in the chapter or functions, Python implements the function `help()`:"
   ]
  },
  {
   "cell_type": "code",
   "execution_count": null,
   "metadata": {
    "ExecuteTime": {
     "end_time": "2020-05-22T14:15:32.980351Z",
     "start_time": "2020-05-22T14:15:32.964767Z"
    }
   },
   "outputs": [],
   "source": [
    "help(str)"
   ]
  },
  {
   "cell_type": "markdown",
   "metadata": {},
   "source": [
    "The output of `help(str)` contains a lot of information. Too much for now. We will limit ourselves to the short explanation, mainly to the line with `str(object='') -> str`. The following description and methods are not important at the moment. It is useful to remember that `help()` can be used to provide documentation of almost everything implemented in Python.\n",
    "\n",
    "Back for example. Obviously, the values assigned to variables `a` and `b` by the `input()` function are strings - one of the datatypes in Python. To find out what datatype numbers are, you can again use the `type()` function and output them using `print()`."
   ]
  },
  {
   "cell_type": "code",
   "execution_count": null,
   "metadata": {
    "ExecuteTime": {
     "end_time": "2020-05-22T14:15:36.345588Z",
     "start_time": "2020-05-22T14:15:36.338725Z"
    }
   },
   "outputs": [],
   "source": [
    "print(type(1))\n",
    "print(type(1.1))\n",
    "print(type(1+2j))"
   ]
  },
  {
   "cell_type": "markdown",
   "metadata": {},
   "source": [
    "A distinction is made between __integers__ (`int`), __floats__ (`float`) and __complex numbers__ (`complex`). The `help()` function is similar in structure to the string:"
   ]
  },
  {
   "cell_type": "code",
   "execution_count": null,
   "metadata": {
    "ExecuteTime": {
     "end_time": "2020-05-22T14:13:14.267157Z",
     "start_time": "2020-05-22T14:13:14.248454Z"
    }
   },
   "outputs": [],
   "source": [
    "help(type(1.1))"
   ]
  },
  {
   "cell_type": "markdown",
   "metadata": {},
   "source": [
    "The first line (`float(x) -> floating point number`) tells what to do and the following explanation is shorter. The necessary addition for our example looks like this:"
   ]
  },
  {
   "cell_type": "code",
   "execution_count": null,
   "metadata": {
    "ExecuteTime": {
     "end_time": "2020-05-22T14:15:57.594705Z",
     "start_time": "2020-05-22T14:15:54.352158Z"
    }
   },
   "outputs": [],
   "source": [
    "a = input()\n",
    "b = input()\n",
    "\n",
    "# convert: str->float/complex\n",
    "a, b = float(a), float(b)\n",
    "\n",
    "print(f\"The sum out of {a} and {b} is {a + b}\")"
   ]
  },
  {
   "cell_type": "markdown",
   "metadata": {},
   "source": [
    "and now seems to give the desired result. Let's stick to numbers for now. The __operator__ for the addition has already been introduced. For explicit completeness:"
   ]
  },
  {
   "cell_type": "code",
   "execution_count": null,
   "metadata": {
    "ExecuteTime": {
     "end_time": "2020-05-22T14:16:28.555560Z",
     "start_time": "2020-05-22T14:16:28.549723Z"
    }
   },
   "outputs": [],
   "source": [
    "1 + 1"
   ]
  },
  {
   "cell_type": "markdown",
   "metadata": {},
   "source": [
    "Subtraction, multiplication and division are further __calculation operations__. Python converts the result to `float`/`complex` as soon as one of the numbers used is itself a `float`/`complex` or if the result cannot be represented by an `int`. The result, on the other hand, is always complex as soon as one of the elements is itself complex. An explicit conversion to an int, for example, can be achieved as above with `int(<number>)`."
   ]
  },
  {
   "cell_type": "code",
   "execution_count": null,
   "metadata": {
    "ExecuteTime": {
     "end_time": "2020-05-22T14:17:37.581368Z",
     "start_time": "2020-05-22T14:17:37.578029Z"
    }
   },
   "outputs": [],
   "source": [
    "3 - 5.0, 3 * 3, 2 / 5, 2 / 3, 1 + 1j -1j"
   ]
  },
  {
   "cell_type": "markdown",
   "metadata": {},
   "source": [
    "The power is expressed by `**` and $\\cdot 10^{X}$ by eX addition:"
   ]
  },
  {
   "cell_type": "code",
   "execution_count": null,
   "metadata": {
    "ExecuteTime": {
     "end_time": "2020-05-22T14:17:58.837339Z",
     "start_time": "2020-05-22T14:17:58.833741Z"
    }
   },
   "outputs": [],
   "source": [
    "3 ** 3, 1.2e2, 3 ** (-3), 1e-4"
   ]
  },
  {
   "cell_type": "markdown",
   "metadata": {},
   "source": [
    "There is also the integer division without the rest and the rest of the integer division:"
   ]
  },
  {
   "cell_type": "code",
   "execution_count": null,
   "metadata": {
    "ExecuteTime": {
     "end_time": "2020-05-22T14:18:16.120377Z",
     "start_time": "2020-05-22T14:18:16.115336Z"
    }
   },
   "outputs": [],
   "source": [
    "10 // 3, 10 % 3"
   ]
  },
  {
   "cell_type": "markdown",
   "metadata": {},
   "source": [
    "For each of the operators the `+=`, `-=`, `*=` ... variants exist, which can be used for a simplified and shortened representation:"
   ]
  },
  {
   "cell_type": "code",
   "execution_count": null,
   "metadata": {
    "ExecuteTime": {
     "end_time": "2020-05-22T14:19:19.373077Z",
     "start_time": "2020-05-22T14:19:19.370137Z"
    }
   },
   "outputs": [],
   "source": [
    "a = 1\n",
    "a_very_long_and_complex_variable_name = 1\n",
    "\n",
    "a = a + 1\n",
    "a_very_long_and_complex_variable_name += 1\n",
    "\n",
    "print(f\"a = {a}, a_very_long_and_complex_variable_name = {a_very_long_and_complex_variable_name}\")"
   ]
  },
  {
   "cell_type": "markdown",
   "metadata": {},
   "source": [
    "__Logical operators__, of which the most basic are introduced:"
   ]
  },
  {
   "cell_type": "code",
   "execution_count": null,
   "metadata": {
    "ExecuteTime": {
     "end_time": "2020-05-22T14:19:54.854365Z",
     "start_time": "2020-05-22T14:19:54.850456Z"
    }
   },
   "outputs": [],
   "source": [
    "a, b = 1, 2\n",
    "are_same = a == b"
   ]
  },
  {
   "cell_type": "code",
   "execution_count": null,
   "metadata": {
    "ExecuteTime": {
     "end_time": "2020-05-22T14:20:00.080760Z",
     "start_time": "2020-05-22T14:20:00.075784Z"
    }
   },
   "outputs": [],
   "source": [
    "print(f\" a > b: {a > b}, a <= b: {a <= b}, a == b: {are_same}, a != b: {a != b}\")"
   ]
  },
  {
   "cell_type": "code",
   "execution_count": null,
   "metadata": {
    "ExecuteTime": {
     "end_time": "2020-05-22T14:21:04.503618Z",
     "start_time": "2020-05-22T14:21:04.498587Z"
    }
   },
   "outputs": [],
   "source": [
    "c = True\n",
    "print(f\"True == True: {c == True}, False == True: {c == False}\")"
   ]
  },
  {
   "cell_type": "markdown",
   "metadata": {},
   "source": [
    "It is also possible to further combine several expressions using `not`, `and` and `or`:"
   ]
  },
  {
   "cell_type": "code",
   "execution_count": null,
   "metadata": {
    "ExecuteTime": {
     "end_time": "2020-05-22T14:21:39.011232Z",
     "start_time": "2020-05-22T14:21:39.004797Z"
    }
   },
   "outputs": [],
   "source": [
    "print(f\" (a < b) ∧ (a != b): {(a < b) and (a != b)}\")"
   ]
  },
  {
   "cell_type": "markdown",
   "metadata": {},
   "source": [
    "<div class=\"alert alert-info\">       \n",
    "Task: \n",
    "    \n",
    "Create a logical expression that evaluates: `a` or `b` is an `int` is and `a`is positive or greater than `b`.\n",
    "</div>"
   ]
  },
  {
   "cell_type": "code",
   "execution_count": null,
   "metadata": {},
   "outputs": [],
   "source": [
    "# Code"
   ]
  },
  {
   "cell_type": "markdown",
   "metadata": {},
   "source": [
    "---------------------------------------------------------------\n",
    "Let us come to the already mentioned data type: __String__:"
   ]
  },
  {
   "cell_type": "code",
   "execution_count": null,
   "metadata": {
    "ExecuteTime": {
     "end_time": "2020-05-22T14:23:18.610510Z",
     "start_time": "2020-05-22T14:23:18.607585Z"
    }
   },
   "outputs": [],
   "source": [
    "a = \"Hello\"\n",
    "b = \"World\"\n",
    "space = \" \""
   ]
  },
  {
   "cell_type": "markdown",
   "metadata": {},
   "source": [
    "The behavior of strings using operators differs from that of numbers, as already shown in the example of the sum:"
   ]
  },
  {
   "cell_type": "code",
   "execution_count": null,
   "metadata": {
    "ExecuteTime": {
     "end_time": "2020-05-22T14:23:40.980134Z",
     "start_time": "2020-05-22T14:23:40.975451Z"
    }
   },
   "outputs": [],
   "source": [
    "c = a + space + b\n",
    "d = (a + space) * 2 + b\n",
    "print(c)\n",
    "print(d)"
   ]
  },
  {
   "cell_type": "markdown",
   "metadata": {},
   "source": [
    "Not all operators are equal or implemented for all data types:"
   ]
  },
  {
   "cell_type": "code",
   "execution_count": null,
   "metadata": {
    "ExecuteTime": {
     "end_time": "2020-05-22T14:24:01.643004Z",
     "start_time": "2020-05-22T14:24:01.586057Z"
    }
   },
   "outputs": [],
   "source": [
    "a - b"
   ]
  },
  {
   "cell_type": "markdown",
   "metadata": {},
   "source": [
    "If we had wanted to calculate a difference in our example, we would have been confronted directly with this error message. The step of looking at `type()` of one of the variables, which was perhaps not obvious before, seems more straightforward at this point. Both variants have their right to exist. While with `str - str` the __interpreter__ outputs a `TypeError` and points out that subtraction between strings is not supported, this does not happen with `str + str`. The 'sum' between strings as a valid operation, which leads to an undesirable result in the example, is more educational.\n",
    "\n",
    "Back to the strings: The individual elements of `a` or `b` (in this case letters) can be accessed using `[<int>]`:"
   ]
  },
  {
   "cell_type": "code",
   "execution_count": null,
   "metadata": {
    "ExecuteTime": {
     "end_time": "2020-05-22T14:25:40.662572Z",
     "start_time": "2020-05-22T14:25:40.655436Z"
    }
   },
   "outputs": [],
   "source": [
    "c[0], c[2], c[-1], c[-2]"
   ]
  },
  {
   "cell_type": "markdown",
   "metadata": {},
   "source": [
    "The assignment starts with `0` and ends with the maximum length of the string. The maximum length can be determined with the function `len()`:"
   ]
  },
  {
   "cell_type": "code",
   "execution_count": null,
   "metadata": {
    "ExecuteTime": {
     "end_time": "2020-05-22T14:26:35.204860Z",
     "start_time": "2020-05-22T14:26:35.199019Z"
    }
   },
   "outputs": [],
   "source": [
    "print(f\"The String c = '{c}' is {len(c)} characters long\")"
   ]
  },
  {
   "cell_type": "markdown",
   "metadata": {},
   "source": [
    "With `:` within `[]` an interval can be selected. With `::-1` the order of all elements of the string is reversed."
   ]
  },
  {
   "cell_type": "code",
   "execution_count": null,
   "metadata": {
    "ExecuteTime": {
     "end_time": "2020-05-22T14:27:19.917013Z",
     "start_time": "2020-05-22T14:27:19.908388Z"
    }
   },
   "outputs": [],
   "source": [
    "c[0:5], c[3:], c[-5:-1], c[::-1]"
   ]
  },
  {
   "cell_type": "markdown",
   "metadata": {},
   "source": [
    "An explicit assignment (`c[0] = \"B\"`) is not possible for strings, but it is possible for lists which are considered to be the next data type. On the other hand, it is possible to search for and replace substrings using the implemented `find(<str>)` and `replace(<old str>, <new str>)` methods.\n",
    "\n",
    "----------------------------------------------------------------"
   ]
  },
  {
   "cell_type": "markdown",
   "metadata": {},
   "source": [
    "For the list, as a new data type the `help()` function can be used again."
   ]
  },
  {
   "cell_type": "code",
   "execution_count": null,
   "metadata": {
    "ExecuteTime": {
     "end_time": "2020-05-22T14:28:16.663285Z",
     "start_time": "2020-05-22T14:28:16.650264Z"
    }
   },
   "outputs": [],
   "source": [
    "help(list)"
   ]
  },
  {
   "cell_type": "markdown",
   "metadata": {},
   "source": [
    "An empty list can so be created by `list()`."
   ]
  },
  {
   "cell_type": "code",
   "execution_count": null,
   "metadata": {
    "ExecuteTime": {
     "end_time": "2020-05-22T14:28:57.720199Z",
     "start_time": "2020-05-22T14:28:57.717850Z"
    }
   },
   "outputs": [],
   "source": [
    "my_list = list()\n",
    "print(my_list)"
   ]
  },
  {
   "cell_type": "markdown",
   "metadata": {},
   "source": [
    "Often it is also possible to create/recreate objects from the `print()` output by copying them to the console:"
   ]
  },
  {
   "cell_type": "code",
   "execution_count": null,
   "metadata": {
    "ExecuteTime": {
     "end_time": "2020-05-22T14:29:37.547902Z",
     "start_time": "2020-05-22T14:29:37.543425Z"
    }
   },
   "outputs": [],
   "source": [
    "my_list = []\n",
    "print(type(my_list))\n",
    "print(my_list)"
   ]
  },
  {
   "cell_type": "markdown",
   "metadata": {},
   "source": [
    "The `iterable` mentioned in the `help()` function, which can also be used to create a list, is a collection of objects separated by `,`:"
   ]
  },
  {
   "cell_type": "code",
   "execution_count": null,
   "metadata": {
    "ExecuteTime": {
     "end_time": "2020-05-22T14:30:14.292000Z",
     "start_time": "2020-05-22T14:30:14.288167Z"
    }
   },
   "outputs": [],
   "source": [
    "another_list = [1, \"Hello\", print]\n",
    "print(another_list)"
   ]
  },
  {
   "cell_type": "markdown",
   "metadata": {},
   "source": [
    "The string and integer can be recreated by copying the output. For functions, such as the `print` function shown here, on the other hand, it is no longer possible without a considerable amount of effort."
   ]
  },
  {
   "cell_type": "code",
   "execution_count": null,
   "metadata": {
    "ExecuteTime": {
     "end_time": "2020-05-22T14:31:04.332831Z",
     "start_time": "2020-05-22T14:31:04.326084Z"
    }
   },
   "outputs": [],
   "source": [
    "print([1, 'Hello'])\n",
    "print([1, 'Hello', <built-in function print>])"
   ]
  },
  {
   "cell_type": "markdown",
   "metadata": {},
   "source": [
    "Now let's get to the part that was previously ignored by us in `help()`: the __methods__. The listing of all methods, for a better overview, can be done similar to `help()` by the function `dir()`. "
   ]
  },
  {
   "cell_type": "code",
   "execution_count": null,
   "metadata": {
    "ExecuteTime": {
     "end_time": "2020-05-22T14:31:36.234503Z",
     "start_time": "2020-05-22T14:31:36.226012Z"
    }
   },
   "outputs": [],
   "source": [
    "my_list = list()\n",
    "print(my_list)\n",
    "dir(my_list)"
   ]
  },
  {
   "cell_type": "markdown",
   "metadata": {},
   "source": [
    "All methods of the form `___method__` are __special methods__, which can be added/changed or used. However, these methods are intended for experienced users and can be ignored in our case. At the moment it is sufficient to know that these methods determine the __behavior of the objects__. For example, for both `str` and `int` there is a method `__add__` (addition) which determines the behaviour for the operator `+` differently. However, the subtraction operation `__sub__` (subtraction) is not defined for `str`, which is why a corresponding error message is also specified.\n",
    "\n",
    "On the other hand, all other methods are of interest to us. The naming suggests the behavior of the method. To be on the safe side, the method can again be viewed via `help()`:"
   ]
  },
  {
   "cell_type": "code",
   "execution_count": null,
   "metadata": {
    "ExecuteTime": {
     "end_time": "2020-05-22T14:33:45.258594Z",
     "start_time": "2020-05-22T14:33:45.254879Z"
    }
   },
   "outputs": [],
   "source": [
    "help(list.append)"
   ]
  },
  {
   "cell_type": "code",
   "execution_count": null,
   "metadata": {
    "ExecuteTime": {
     "end_time": "2020-05-22T14:33:46.721605Z",
     "start_time": "2020-05-22T14:33:46.712159Z"
    }
   },
   "outputs": [],
   "source": [
    "my_list.append(a)\n",
    "my_list.append(b)\n",
    "my_list.append(7)\n",
    "my_list.append(17.9)\n",
    "my_list.append(7)\n",
    "my_list.append([1,2])\n",
    "print(my_list)"
   ]
  },
  {
   "cell_type": "markdown",
   "metadata": {},
   "source": [
    "The individual elements of the list can be accessed in a similar way to the strings using `[]`:"
   ]
  },
  {
   "cell_type": "code",
   "execution_count": null,
   "metadata": {},
   "outputs": [],
   "source": [
    "my_list[0], my_list[-1][0]"
   ]
  },
  {
   "cell_type": "markdown",
   "metadata": {},
   "source": [
    "At this point the operator `in` can be introduced, which tells whether an object is in a list. Since strings and lists behave in a \"similar way\" `in` also works here, except for the fact that it is not possible to explicitly assign new elements to a string instead of old ones. However, you can only check if other \"sub\" strings are present. \n",
    "\n",
    "Likewise, an interval (using `:` in `[]`) can be used to access the elements of lists."
   ]
  },
  {
   "cell_type": "code",
   "execution_count": null,
   "metadata": {
    "ExecuteTime": {
     "end_time": "2020-05-22T14:36:54.793773Z",
     "start_time": "2020-05-22T14:36:54.788892Z"
    }
   },
   "outputs": [],
   "source": [
    "print(f\"17.9 is located in my_list: {17.9 in my_list}\")\n",
    "print(f\"'Hello' is not located in in my_list: {'Hello' not in my_list}\")\n",
    "print(f\"The string 'one' is located in string 'someone': {'one' in 'someone'}\")\n",
    "\n",
    "print(my_list[1:3])"
   ]
  },
  {
   "cell_type": "markdown",
   "metadata": {},
   "source": [
    "<div class=\"alert alert-info\">   \n",
    "Task: \n",
    "\n",
    "Use the methods already implemented for `list` to determine how often the number seven occurs. Remove the string `\"World\"` from the list and determine the length of the shortened list.\n",
    "<div/>"
   ]
  },
  {
   "cell_type": "code",
   "execution_count": null,
   "metadata": {
    "ExecuteTime": {
     "end_time": "2020-05-22T14:37:40.060084Z",
     "start_time": "2020-05-22T14:37:40.056943Z"
    }
   },
   "outputs": [],
   "source": [
    "# code"
   ]
  },
  {
   "cell_type": "markdown",
   "metadata": {},
   "source": [
    "The calculation `my_list + 2` indicates that Python ensures that only objects of __the same__ type may be calculated/combined (exception: numbers)"
   ]
  },
  {
   "cell_type": "code",
   "execution_count": null,
   "metadata": {
    "ExecuteTime": {
     "end_time": "2020-05-22T14:38:24.880462Z",
     "start_time": "2020-05-22T14:38:24.866132Z"
    }
   },
   "outputs": [],
   "source": [
    "my_list + 2\n",
    "print(my_list)"
   ]
  },
  {
   "cell_type": "code",
   "execution_count": null,
   "metadata": {
    "ExecuteTime": {
     "end_time": "2020-05-22T14:38:28.067670Z",
     "start_time": "2020-05-22T14:38:28.061829Z"
    }
   },
   "outputs": [],
   "source": [
    "another_list = [2]\n",
    "my_list += another_list\n",
    "print(my_list)"
   ]
  },
  {
   "cell_type": "markdown",
   "metadata": {},
   "source": [
    "And it turns out that `+` in the case of lists works similar/equal to strings."
   ]
  },
  {
   "cell_type": "code",
   "execution_count": null,
   "metadata": {
    "ExecuteTime": {
     "end_time": "2020-05-22T14:38:56.405775Z",
     "start_time": "2020-05-22T14:38:56.395692Z"
    }
   },
   "outputs": [],
   "source": [
    "temp_list = my_list - [2]"
   ]
  },
  {
   "cell_type": "markdown",
   "metadata": {},
   "source": [
    "Since `__sub__` does not appear in `dir(list)` it is not surprising that the subtraction is not defined. Removing an item is done as already used in the task by `remove(item)` and removes the first item from the left that is similar to the item to be removed. To start from the right, the order of the list can be reversed using `reverse()` or `[::-1]` and reapplied after removal."
   ]
  },
  {
   "cell_type": "markdown",
   "metadata": {},
   "source": [
    "-----------------\n",
    "\n",
    "The next data type are the __Dictionaries__, as data type: `dict`; (short dicts). The advantage of these is that the individual \"elements\", the __items__ can be accessed via the __keys__. Therefore, it is possible to add any key after initialization. Changing the objects that are assigned to the respective keys is also possible, just like with the lists."
   ]
  },
  {
   "cell_type": "markdown",
   "metadata": {},
   "source": [
    "The initialization is the same as for the lists (or all the other data types already presented)"
   ]
  },
  {
   "cell_type": "code",
   "execution_count": null,
   "metadata": {
    "ExecuteTime": {
     "end_time": "2020-05-22T14:41:01.790043Z",
     "start_time": "2020-05-22T14:41:01.786288Z"
    }
   },
   "outputs": [],
   "source": [
    "my_dict = dict()  # or {}"
   ]
  },
  {
   "cell_type": "markdown",
   "metadata": {},
   "source": [
    "The keys must be unique (for example, different strings or numbers). \n",
    "\n",
    "(Of course it is possible to use other keys as long as they are unique and defined, such as functions (not function names). However, the question should always be asked how useful such a key is in its subsequent use)."
   ]
  },
  {
   "cell_type": "code",
   "execution_count": null,
   "metadata": {
    "ExecuteTime": {
     "end_time": "2020-05-22T14:42:04.614599Z",
     "start_time": "2020-05-22T14:42:04.607899Z"
    }
   },
   "outputs": [],
   "source": [
    "my_dict[\"Speed of Light\"] = 299792458.0  # in m/s\n",
    "my_dict[\"Calculation rules\"] = [\"addition\", \"division\"]\n",
    "my_dict[2] = {\"de\": \"zwei\", \"en\": \"two\"}\n",
    "print(my_dict)"
   ]
  },
  {
   "cell_type": "markdown",
   "metadata": {},
   "source": [
    "The access is done by `[]` with the corresponding key within the brackets:"
   ]
  },
  {
   "cell_type": "code",
   "execution_count": null,
   "metadata": {
    "ExecuteTime": {
     "end_time": "2020-05-22T14:43:34.246845Z",
     "start_time": "2020-05-22T14:43:34.241900Z"
    }
   },
   "outputs": [],
   "source": [
    "print(my_dict[\"Speed of Light\"])\n",
    "print(my_dict[\"Calculation rules\"][0])\n",
    "print(my_dict[2][\"en\"])\n",
    "\n",
    "my_dict[\"Continents\"] = {\"Australia\": \"Commonwealth of Australia\"}"
   ]
  },
  {
   "cell_type": "markdown",
   "metadata": {},
   "source": [
    "<div class=\"alert alert-info\">   \n",
    "Task: \n",
    "\n",
    "Complete the calculation rules, the continents with exemplary three states and two more numbers plus the translations. Try not to overwrite the already existing elements, but to complete them using the methods already implemented (see `dir(dict), dir(list)`).\n",
    "</div>"
   ]
  },
  {
   "cell_type": "code",
   "execution_count": null,
   "metadata": {},
   "outputs": [],
   "source": [
    "# Code"
   ]
  },
  {
   "cell_type": "markdown",
   "metadata": {},
   "source": [
    "The last data type is the __tuple__ (`tuple`). A look at `dir(tuple)`"
   ]
  },
  {
   "cell_type": "code",
   "execution_count": null,
   "metadata": {
    "ExecuteTime": {
     "end_time": "2020-05-22T14:44:45.422429Z",
     "start_time": "2020-05-22T14:44:45.416294Z"
    }
   },
   "outputs": [],
   "source": [
    "dir(tuple)"
   ]
  },
  {
   "cell_type": "markdown",
   "metadata": {},
   "source": [
    "reveals that the user can only count how many elements are in the tuple and what index a single element has, if contained in the tuple.\n",
    "\n",
    "A tuple is not changeable after its initialization, such as lists or dicts, and is therefore suitable for storing elements that cannot (should not) be changed. An example is the creation of functions with arbitrary arguments or the specification of certain default values of a function instead of a list. More about this in the subsequent chapter."
   ]
  },
  {
   "cell_type": "code",
   "execution_count": null,
   "metadata": {
    "ExecuteTime": {
     "end_time": "2020-05-22T14:46:24.639352Z",
     "start_time": "2020-05-22T14:46:24.633372Z"
    }
   },
   "outputs": [],
   "source": [
    "my_tuple = (a, b)\n",
    "print(my_tuple)"
   ]
  },
  {
   "cell_type": "markdown",
   "metadata": {},
   "source": [
    "But as already suspected, it is possible to convert a tuple into a list (and back again) without problems:"
   ]
  },
  {
   "cell_type": "code",
   "execution_count": null,
   "metadata": {
    "ExecuteTime": {
     "end_time": "2020-05-22T14:46:26.668072Z",
     "start_time": "2020-05-22T14:46:26.660236Z"
    }
   },
   "outputs": [],
   "source": [
    "my_tuple = list(my_tuple)\n",
    "print(my_tuple)\n",
    "my_tuple = tuple(my_list)\n",
    "print(my_tuple)"
   ]
  },
  {
   "cell_type": "markdown",
   "metadata": {},
   "source": [
    "The \"unpacking\" of a tuple can either be done with `[<int>]` or shorter:"
   ]
  },
  {
   "cell_type": "code",
   "execution_count": null,
   "metadata": {
    "ExecuteTime": {
     "end_time": "2020-05-22T14:47:56.360718Z",
     "start_time": "2020-05-22T14:47:56.355110Z"
    }
   },
   "outputs": [],
   "source": [
    "c = (1, 2, 3, 4, 5)\n",
    "a, b, _, d, _ = c\n",
    "print(a, b, d)\n",
    "a, b, *_ = c\n",
    "print(a, b)"
   ]
  },
  {
   "cell_type": "markdown",
   "metadata": {},
   "source": [
    "`_` denotes a value that does not contain an assignment. Without `_` there are not enough elements on the left side to uniquely unpack the tuple `c`. However, it is possible to assign all subsequent elements using `*_`, which in this example could also be achieved using `a, b, _, _, _ = c` or `a, b = c[0], c[1]`.\n",
    "\n",
    "At this point, it should also be noted that a swapping of two variable values in Python can be performed by `a, b = b, a` and does not require three lines (`a = c; a = b; b = c;`) as in other programming languages."
   ]
  },
  {
   "cell_type": "markdown",
   "metadata": {
    "heading_collapsed": true
   },
   "source": [
    "## if-elif-else-loops\n",
    "-------------------------------------------"
   ]
  },
  {
   "cell_type": "markdown",
   "metadata": {
    "hidden": true
   },
   "source": [
    "In a program, it is often necessary to introduce __conditional statements__ in response to variables that are not explicitly defined or changeable to achieve different behavior according to the variables.\n",
    "In Python, these conditions are implemented by `if`, `elif` and `else`."
   ]
  },
  {
   "cell_type": "code",
   "execution_count": null,
   "metadata": {
    "hidden": true
   },
   "outputs": [],
   "source": [
    "a, b = 1, 2\n",
    "\n",
    "if a == 1:\n",
    "    print(f\"a has the value {1}\")\n",
    "elif a < b:\n",
    "    print(f\"{a} is smaller than {b}\")\n",
    "else:\n",
    "    print(f\"a do not has the value {1} and {a} is not smaller than {b}\")"
   ]
  },
  {
   "cell_type": "markdown",
   "metadata": {},
   "source": [
    "The logical expression after the `if` or `elif` is the __condition__. After `else` there is no condition, since `else` covers all other cases. The line containing the statement is closed by `:`. The code to be executed after this is indented (four spaces). This indentation is not necessary in many languages, because the code to be executed is often enclosed in `{}` after the condition is met.In Python, on the other hand, you are forced to perform these indentations - with all the advantages and disadvantages that implies."
   ]
  },
  {
   "cell_type": "markdown",
   "metadata": {
    "hidden": true
   },
   "source": [
    "<div class=\"alert alert-info\">   \n",
    "Task: \n",
    "\n",
    "In the above example, change the value of `a` to `1.5` or `3`. Complete the example and check if `a` is equal to `b`. At what point does this addition make most sense?\n",
    "</div>"
   ]
  },
  {
   "cell_type": "markdown",
   "metadata": {
    "hidden": true
   },
   "source": [
    "Next we consider the __loops__, or more precisely: the `for` loop (for now)."
   ]
  },
  {
   "cell_type": "code",
   "execution_count": null,
   "metadata": {
    "ExecuteTime": {
     "end_time": "2020-05-22T14:56:21.771967Z",
     "start_time": "2020-05-22T14:56:21.763906Z"
    },
    "hidden": true
   },
   "outputs": [],
   "source": [
    "my_list = []\n",
    "start, end, step = 0, 10, 1\n",
    "for i in range(5, 15, 1):\n",
    "    my_list.append(i)\n",
    "print(my_list)\n",
    "print(f\"Length of my_list is {len(my_list)}\")"
   ]
  },
  {
   "cell_type": "markdown",
   "metadata": {
    "hidden": true
   },
   "source": [
    "The `for` loop is again an instruction and is closed by `:` and the following code __inside__ the loop is indented. In the above example, `i` is an __Iterator__, which in this case represents an object to be iterated, and `list(range(<start>, <end>, <step>))` is a list between `<start>` and `<end>` with `<step>` intervals:"
   ]
  },
  {
   "cell_type": "code",
   "execution_count": null,
   "metadata": {
    "ExecuteTime": {
     "end_time": "2020-05-22T14:57:29.690574Z",
     "start_time": "2020-05-22T14:57:29.682024Z"
    }
   },
   "outputs": [],
   "source": [
    "list(range(0, 10, 1))"
   ]
  },
  {
   "cell_type": "markdown",
   "metadata": {},
   "source": [
    "It is also possible to use the object to be iterated (usually a list) directly instead of `range()`:"
   ]
  },
  {
   "cell_type": "code",
   "execution_count": null,
   "metadata": {
    "ExecuteTime": {
     "end_time": "2020-05-22T14:58:11.529651Z",
     "start_time": "2020-05-22T14:58:11.525923Z"
    },
    "hidden": true
   },
   "outputs": [],
   "source": [
    "to_search_number = 109\n",
    "\n",
    "for number in my_list:\n",
    "    if number == to_search_number:\n",
    "        print(f\"{to_search_number} was found\")\n",
    "        break\n",
    "else:\n",
    "    print(f\"{to_search_number} was not found\")"
   ]
  },
  {
   "cell_type": "markdown",
   "metadata": {},
   "source": [
    "The `if` condition within the `for` loop compares the iterator, in this case a number from `my_list` with `to_search_number` and aborts the iteration of the loop after executing `print()` using `break`. While `break` completely terminates the loop, `continue` causes the loop not to continue executing the code block within the loop after `continue`, but to jump directly to the next step of the loop.\n",
    "\n",
    "This example also shows a variation of `if` - `elif` - `else`. The unfulfilled `if` condition *inside* the loop is connected to the `else` *outside* the loop and is not executed as soon as the `if` condition is fulfilled."
   ]
  },
  {
   "cell_type": "markdown",
   "metadata": {
    "hidden": true
   },
   "source": [
    "The function `enumerate()` numbers the object to be iterated through and creates a list of tuples:"
   ]
  },
  {
   "cell_type": "code",
   "execution_count": null,
   "metadata": {
    "ExecuteTime": {
     "end_time": "2020-05-22T15:00:34.756362Z",
     "start_time": "2020-05-22T15:00:34.752532Z"
    },
    "hidden": true
   },
   "outputs": [],
   "source": [
    "print(list(enumerate(my_list)))"
   ]
  },
  {
   "cell_type": "markdown",
   "metadata": {},
   "source": [
    "In the statement of the loop, the iterator, in this case a tuple, is directly unpacked (see Data Types: Tuple)"
   ]
  },
  {
   "cell_type": "code",
   "execution_count": null,
   "metadata": {
    "ExecuteTime": {
     "end_time": "2020-05-22T15:01:15.831494Z",
     "start_time": "2020-05-22T15:01:15.825217Z"
    },
    "hidden": true
   },
   "outputs": [],
   "source": [
    "to_search_number = 7\n",
    "for i, number in enumerate(my_list):\n",
    "    if number == to_search_number:\n",
    "        print(f\"{to_search_number} was found at the position {i}\")\n",
    "        break\n",
    "else:\n",
    "    print(f\"{to_search_number} was not found\")"
   ]
  },
  {
   "cell_type": "markdown",
   "metadata": {
    "hidden": true
   },
   "source": [
    "It is also possible to specify the maximum number of `i` via `range(len(my_list))`. `number` is replaced with `my_list[i]`."
   ]
  },
  {
   "cell_type": "code",
   "execution_count": null,
   "metadata": {
    "ExecuteTime": {
     "end_time": "2020-05-22T15:02:03.382189Z",
     "start_time": "2020-05-22T15:02:03.378945Z"
    },
    "hidden": true
   },
   "outputs": [],
   "source": [
    "for i in range(len(my_list)):\n",
    "    if my_list[i] == to_search_number:\n",
    "        print(f\"{to_search_number} was found at the position {i}\")\n",
    "        break\n",
    "else:\n",
    "    print(f\"{to_search_number} was not found\")"
   ]
  },
  {
   "cell_type": "markdown",
   "metadata": {
    "hidden": true
   },
   "source": [
    "The variant `for i in range(len(my_list))` is common in many other programming languages. The pythonic way to construct a loop (`for number in my_list` or `for i, number in enumerate(my_list)`) has the advantage of better readability, but is not mandatory.\n",
    "\n",
    "Another feature of Python is the *list comprehention*. Python gives you the ability to create lists or dicts in a single line. The advantage is that the structure of such *list comprehentions* follows the flow of reading, keeping the code short and still easy to understand.\n",
    "\n",
    "Similarly, assignments where `if` and `else`. Here is an example:"
   ]
  },
  {
   "cell_type": "code",
   "execution_count": null,
   "metadata": {
    "ExecuteTime": {
     "end_time": "2020-05-22T15:05:07.273689Z",
     "start_time": "2020-05-22T15:05:03.395142Z"
    },
    "hidden": true
   },
   "outputs": [],
   "source": [
    "# suitable for list comprehention\n",
    "print([i * i for i in range(10)])\n",
    "print([i * i for i in range(10) if i * i > 10 and i * i < 50])\n",
    "print([i if i % 2 == 0 else 0 for i in range(10)])\n",
    "\n",
    "# less suitable for list comprehensions. \n",
    "# The \"detailed variant\" may be easier to understand in this case\n",
    "print([[number for i in range(3)] for number in my_list if number // 3 == 2 or number // 3 == 1])\n",
    "\n",
    "# Example for Dicts\n",
    "print({f\"{key}\" if key % 2 == 0 else f\"{key} + 1\": key for key in range(5)})\n",
    "\n",
    "# Example for variable assignment: suitable\n",
    "input_number = int(input(\"Enter the number to be compared: \"))\n",
    "my_number = 12 if 10 > input_number else 10\n",
    "print(my_number)\n",
    "\n",
    "# Example for variable assignment: less suitable, especially if further nested.\n",
    "input_number = int(input(\"Enter the number to be compared: \"))\n",
    "other_number = 12 if 10 < input_number else (2 if input_number < 0 else 9)\n",
    "print(other_number)"
   ]
  },
  {
   "cell_type": "markdown",
   "metadata": {
    "hidden": true
   },
   "source": [
    "<div class=\"alert alert-info\">   \n",
    "Task: \n",
    "\n",
    "    \n",
    "Create the top four lists and a Dict without *list comprehention*.\n",
    "</div>"
   ]
  },
  {
   "cell_type": "code",
   "execution_count": null,
   "metadata": {
    "ExecuteTime": {
     "end_time": "2020-05-22T15:05:57.702094Z",
     "start_time": "2020-05-22T15:05:57.697497Z"
    },
    "hidden": true
   },
   "outputs": [],
   "source": [
    "my_list_1, my_list_2, my_list_3, my_list_4, my_dict_1 = [], [], [], [], {}\n",
    "\n",
    "# code"
   ]
  },
  {
   "cell_type": "markdown",
   "metadata": {},
   "source": [
    "Moving on to the 'while' loops:"
   ]
  },
  {
   "cell_type": "code",
   "execution_count": null,
   "metadata": {
    "ExecuteTime": {
     "end_time": "2020-05-22T15:06:19.554014Z",
     "start_time": "2020-05-22T15:06:19.549347Z"
    },
    "hidden": true
   },
   "outputs": [],
   "source": [
    "temp_list = [0, 0, 2, 0, 4, 0, 6, 0, 8, 0]\n",
    "while (len(temp_list) > 5 and 0 in temp_list):\n",
    "    temp_list.remove(0)\n",
    "print(temp_list)"
   ]
  },
  {
   "cell_type": "markdown",
   "metadata": {
    "hidden": true
   },
   "source": [
    "There is only one condition in the statement. Before each loop pass, the system checks it once. For an endless loop, you can use `True` instead of a condition, or you can choose a condition that is never fulfilled. To leave the `while` loop, it is therefore necessary either to update the condition after each pass through the loop body and ensure that the termination condition is reached once, or to use `break` in possible combination with `if` statement(s).\n",
    "\n",
    "A slightly more complicated example:"
   ]
  },
  {
   "cell_type": "code",
   "execution_count": null,
   "metadata": {
    "hidden": true
   },
   "outputs": [],
   "source": [
    "temp_list = [0, 0, 2, 0, 4, 0, 6, 0, 8, 0]\n",
    "while 0 in temp_list:\n",
    "    if len(temp_list) // 3 == 2:\n",
    "        temp_list.append(1)\n",
    "    elif len(temp_list) // 3 == 1:\n",
    "        break\n",
    "    else:\n",
    "        temp_list.remove(0)\n",
    "print(temp_list)"
   ]
  },
  {
   "cell_type": "markdown",
   "metadata": {
    "hidden": true
   },
   "source": [
    "<div class=\"alert alert-info\">   \n",
    "Task: \n",
    "\n",
    "Explain what happens in the loop. (To understand it step by step, the function `print()` can be helpful).\n",
    "</div>"
   ]
  },
  {
   "cell_type": "markdown",
   "metadata": {
    "heading_collapsed": true
   },
   "source": [
    "## Functions\n",
    "---------------------------------"
   ]
  },
  {
   "cell_type": "markdown",
   "metadata": {
    "hidden": true
   },
   "source": [
    "The next important elements are the functions. Functions like 'len()` or 'print()` are used already. An own function can be implemented exemplarily like:"
   ]
  },
  {
   "cell_type": "code",
   "execution_count": null,
   "metadata": {
    "ExecuteTime": {
     "end_time": "2020-05-22T15:08:33.167658Z",
     "start_time": "2020-05-22T15:08:33.163475Z"
    },
    "hidden": true
   },
   "outputs": [],
   "source": [
    "def square(number):\n",
    "    square_number = number * number\n",
    "    return square_number"
   ]
  },
  {
   "cell_type": "markdown",
   "metadata": {},
   "source": [
    "`def <functionname>(<arguments>):` is the syntax to define a function. The code to be executed in the function afterwards is indented similar to the other statements. At the end of the function there is an expression that outputs a quantity that is usually determined within the function (`return <object/variable/...>`). Without `return`, `None` (nothing) is output by default, but can be explicitly achieved by `return None`.\n",
    "\n",
    "The purpose of functions is to summarize code that appears several times in the program in one place. The resulting advantages cannot be dismissed: The readability together with the productivity increases, because it is no longer necessary to use the same 50 lines of code in several places. In addition, function creation and usage ensures that a change, which may even affect several documents, can be made in one place.\n",
    "\n",
    "The example with the square of a number does not correspond to the mentioned 50 lines of code, but it shows how a function can look like.\n",
    "\n",
    "It is also possible to define a different function in a function. It is important to note here that the following applies to nested functions: Objects that are defined within a function, cannot be accessed from outside the function."
   ]
  },
  {
   "cell_type": "code",
   "execution_count": null,
   "metadata": {
    "ExecuteTime": {
     "end_time": "2020-05-22T15:11:50.610158Z",
     "start_time": "2020-05-22T15:11:50.606365Z"
    },
    "hidden": true
   },
   "outputs": [],
   "source": [
    "def square_of_square_1(number):\n",
    "    return square(square(number))\n",
    "\n",
    "def square_of_square_2(number):\n",
    "    def another_square(num):\n",
    "        square_number = num * num\n",
    "        return square_number\n",
    "    return another_square(another_square(number))"
   ]
  },
  {
   "cell_type": "markdown",
   "metadata": {
    "hidden": true
   },
   "source": [
    "It is therefore not possible to call the function `another_square` outside of `square_of_square_2`."
   ]
  },
  {
   "cell_type": "code",
   "execution_count": null,
   "metadata": {
    "ExecuteTime": {
     "end_time": "2020-05-22T15:12:18.779008Z",
     "start_time": "2020-05-22T15:12:18.768192Z"
    }
   },
   "outputs": [],
   "source": [
    "another_square(2)"
   ]
  },
  {
   "cell_type": "markdown",
   "metadata": {},
   "source": [
    "The result, however, is the same, which is less surprising:"
   ]
  },
  {
   "cell_type": "code",
   "execution_count": null,
   "metadata": {
    "ExecuteTime": {
     "end_time": "2020-05-22T15:12:34.513930Z",
     "start_time": "2020-05-22T15:12:34.509202Z"
    },
    "hidden": true
   },
   "outputs": [],
   "source": [
    "print(square(3))\n",
    "print(square_of_square_1(3))\n",
    "print(square_of_square_2(3))"
   ]
  },
  {
   "cell_type": "markdown",
   "metadata": {},
   "source": [
    "On the other hand, if you want to calculate the squares of the elements of a list with the function `square`, this is not possible without further ado:"
   ]
  },
  {
   "cell_type": "code",
   "execution_count": null,
   "metadata": {
    "ExecuteTime": {
     "end_time": "2020-05-22T15:13:06.977634Z",
     "start_time": "2020-05-22T15:13:06.963742Z"
    }
   },
   "outputs": [],
   "source": [
    "print(square([1,2,3]))"
   ]
  },
  {
   "cell_type": "markdown",
   "metadata": {},
   "source": [
    "At this point, the power of functions is pointed out, first of all a task that can be easily solved with the knowledge already acquired:"
   ]
  },
  {
   "cell_type": "markdown",
   "metadata": {
    "hidden": true
   },
   "source": [
    "<div class=\"alert alert-info\">   \n",
    "Task: \n",
    "\n",
    "Supplement the `square` function in such a way that both numbers and arbitrary lists are accepted as arguments.\n",
    "\n",
    "Hint: \n",
    "A case differentiation between different types can be performed here.\n",
    "</div>"
   ]
  },
  {
   "cell_type": "markdown",
   "metadata": {
    "hidden": true
   },
   "source": [
    "The functionality of `square` to accept also lists and calculate them correctly is already included by the use of `square` in `square_of_square_1`, while `square_of_square_2` needs an independent adaptation.\n",
    "\n",
    "It is therefore advantageous to factorize its code, if possible, so that only a small part of it needs to be changed if necessary."
   ]
  },
  {
   "cell_type": "markdown",
   "metadata": {
    "hidden": true
   },
   "source": [
    "So far, we have used one argument in the function definition. It is also possible to define a function without arguments (`def myfunc():`). Accordingly, no arguments are passed to the function when the function is called.\n",
    "\n",
    "In Python, the function arguments are distinguished between the arguments necessary for the function call (`args`), which must always be specified, and the optional \"key word\" arguments (`kwargs`), which are specified in the function definition.\n",
    "\n",
    "An encounter with functions that accept \"arbitrary\" (probably previously defined but not further specified) arguments is inevitable.\n",
    "A function with any number of `args` and `kwargs` can look like this:"
   ]
  },
  {
   "cell_type": "code",
   "execution_count": null,
   "metadata": {
    "ExecuteTime": {
     "end_time": "2020-05-22T15:19:26.202027Z",
     "start_time": "2020-05-22T15:19:26.197758Z"
    },
    "hidden": true
   },
   "outputs": [],
   "source": [
    "def my_func(*args, **kwargs):\n",
    "    print(\"\\n\")\n",
    "    print(f\"args are of type {type(args)}. {type(args)} and are 'unpacked' by *\")\n",
    "    print(args)\n",
    "    print(f\"kwargs are of type {type(kwargs)}. {type(kwargs)} and are 'unpacked' by **\")\n",
    "    print(kwargs)\n",
    "\n",
    "\n",
    "my_func(1, (2,2), [3], radius=10, name=\"Emily\")\n",
    "my_func(1, (2,2))\n",
    "my_func(dog_name=\"Rex\")"
   ]
  },
  {
   "cell_type": "markdown",
   "metadata": {},
   "source": [
    "The `args` are combined in a `tuple`. `kwargs`, on the other hand, in a `dict`.\n",
    "\n",
    "The `args`, if explicitly specified in the function definition, can also be specified as `kwargs`. If all arguments are specified using the assignment operator when the function is called, the order is irrelevant; otherwise, the order created during the function definition applies. The `kwargs` retain the previously defined value as long as this value is not explicitly changed."
   ]
  },
  {
   "cell_type": "code",
   "execution_count": null,
   "metadata": {
    "ExecuteTime": {
     "end_time": "2020-05-22T15:20:53.107881Z",
     "start_time": "2020-05-22T15:20:53.096640Z"
    }
   },
   "outputs": [],
   "source": [
    "def another_func(a, b, c=2, d=0):\n",
    "    print(\"\\n\")\n",
    "    print(f\"a = {a}\")\n",
    "    print(f\"b = {b}\")\n",
    "    print(f\"c = {c}\")\n",
    "    print(f\"d = {d}\")\n",
    "\n",
    "my_tuple = (1, 2)\n",
    "another_func(*my_tuple)\n",
    "another_func(c=2, a=0, b=2, d=1)\n",
    "another_func(0, 0, 1)"
   ]
  },
  {
   "cell_type": "markdown",
   "metadata": {
    "hidden": true
   },
   "source": [
    "It is also possible to call the function within itself. Please note that the recursion must have a termination condition, otherwise the recursion runs endlessly.\n",
    "\n",
    "An example of this are the Fibonacci numbers. The sequence of Fibonacci numbers looks like this: $1, 1, 2, 3, 5, 8, 13, 21, 34, ... $ and can be calculated using the recursive formula: $$ F(n) = F(n - 1) + F(n - 2) \\, . $$\n",
    "\n",
    "The corresponding function may look like the following:"
   ]
  },
  {
   "cell_type": "code",
   "execution_count": null,
   "metadata": {
    "ExecuteTime": {
     "end_time": "2020-05-22T15:21:43.549685Z",
     "start_time": "2020-05-22T15:21:43.546044Z"
    },
    "hidden": true
   },
   "outputs": [],
   "source": [
    "def fibonacci(number):\n",
    "    if number == 0:\n",
    "        return 0\n",
    "    elif number == 1:\n",
    "        return 1\n",
    "    else:\n",
    "        return fibonacci(number-1) + fibonacci(number-2)"
   ]
  },
  {
   "cell_type": "markdown",
   "metadata": {},
   "source": [
    "As an example some Fibonacci numbers can be calculated"
   ]
  },
  {
   "cell_type": "code",
   "execution_count": null,
   "metadata": {
    "ExecuteTime": {
     "end_time": "2020-05-22T15:22:59.815982Z",
     "start_time": "2020-05-22T15:21:57.618907Z"
    },
    "hidden": true
   },
   "outputs": [],
   "source": [
    "print(fibonacci(40))\n",
    "print(fibonacci(35))\n",
    "print(fibonacci(30))\n",
    "print(fibonacci(25))\n",
    "print(fibonacci(20))\n",
    "print(fibonacci(15))\n",
    "print(fibonacci(10))\n",
    "print(fibonacci(5))\n",
    "\n",
    "print(fibonacci(40))"
   ]
  },
  {
   "cell_type": "markdown",
   "metadata": {
    "hidden": true
   },
   "source": [
    "The calculation for larger Fibonacci numbers takes a lot of time, especially if larger numbers have to be calculated (multiple times).\n",
    "\n",
    "The way to reduce this calculation time is to create a cache. The advantage of a cache is that no further recursion is necessary once the function has already been called once with the argument and has written a result to the cache. From this point on, the result can be output directly from the cache and used further.\n",
    "\n",
    "In our case, an additional function can be created similar to `quare_of_square_1`:"
   ]
  },
  {
   "cell_type": "code",
   "execution_count": null,
   "metadata": {
    "ExecuteTime": {
     "end_time": "2020-05-22T15:23:03.651042Z",
     "start_time": "2020-05-22T15:23:03.646162Z"
    },
    "hidden": true
   },
   "outputs": [],
   "source": [
    "memo = {}\n",
    "\n",
    "def memoize_fibonacci(number):\n",
    "    if number not in memo:\n",
    "        memo[number] = fibonacci(number)\n",
    "    return memo[number]"
   ]
  },
  {
   "cell_type": "markdown",
   "metadata": {},
   "source": [
    "The characteristic here is that the dict `memo` is not defined inside the function `memoize_fibonacci` but outside. If `memo` is not found inside `memoize_fibonacci`, the function tries to find it in the next outer environment. As soon as the global variables are reached and the variable is still not found, the interpreter will issue a corresponding error message. If you want to explicitly access global variables within functions, you can do so as in the following example."
   ]
  },
  {
   "cell_type": "code",
   "execution_count": null,
   "metadata": {
    "ExecuteTime": {
     "end_time": "2020-05-22T15:26:19.380820Z",
     "start_time": "2020-05-22T15:26:19.373337Z"
    }
   },
   "outputs": [],
   "source": [
    "A = \"global A\"\n",
    "\n",
    "def my_func():\n",
    "    A = \"local A\"\n",
    "    def my_inner_func():\n",
    "        print(f\"Call: {A}\")\n",
    "    my_inner_func()\n",
    "\n",
    "    \n",
    "def another_func():\n",
    "    A = \"local A\"\n",
    "    print(f\"Call: {A}\")\n",
    "    def another_inner_func():        \n",
    "        global A\n",
    "        print(f\"Call: {A}\")\n",
    "        A = \"changed global A\"\n",
    "        print(f\"Call: {A}\")\n",
    "    another_inner_func()\n",
    "    print(f\"Call: {A}\")\n",
    "\n",
    "print(\"\\n - function call: 'my_func':\")\n",
    "my_func()\n",
    "print(\"\\n - function call: 'another_func':\")\n",
    "another_func()\n",
    "print(\"\\n - function call: 'my_func':\")\n",
    "my_func()\n",
    "\n",
    "print(f\"\\nglobal variable A is now: {A}\")"
   ]
  },
  {
   "cell_type": "markdown",
   "metadata": {},
   "source": [
    "Back to the Fibonacci numbers. With the now created `memoize_fibonacci` function the previous calculation is much faster, especially if $n=40$ is calculated a second time:"
   ]
  },
  {
   "cell_type": "code",
   "execution_count": null,
   "metadata": {
    "ExecuteTime": {
     "end_time": "2020-05-22T15:27:46.828156Z",
     "start_time": "2020-05-22T15:27:13.948732Z"
    },
    "hidden": true
   },
   "outputs": [],
   "source": [
    "print(memoize_fibonacci(40))\n",
    "print(memoize_fibonacci(35))\n",
    "print(memoize_fibonacci(30))\n",
    "print(memoize_fibonacci(25))\n",
    "print(memoize_fibonacci(20))\n",
    "print(memoize_fibonacci(15))\n",
    "print(memoize_fibonacci(10))\n",
    "print(memoize_fibonacci(5))\n",
    "\n",
    "print(memoize_fibonacci(40))"
   ]
  },
  {
   "cell_type": "markdown",
   "metadata": {
    "heading_collapsed": true
   },
   "source": [
    "## Context Manager - Read and write files\n",
    "----------------------------------"
   ]
  },
  {
   "cell_type": "markdown",
   "metadata": {},
   "source": [
    "Python offers the possibility to use a context manager in many different applications. To answer the question of what a context manager is and what it does, let us first describe the initial situation in which we want to use the context manager:\n",
    "\n",
    "The file `Greeting.txt` should be created and contain different greetings..."
   ]
  },
  {
   "cell_type": "code",
   "execution_count": null,
   "metadata": {
    "ExecuteTime": {
     "end_time": "2020-05-22T15:29:02.700264Z",
     "start_time": "2020-05-22T15:29:02.697569Z"
    },
    "hidden": true
   },
   "outputs": [],
   "source": [
    "filename = \"Greeting.txt\""
   ]
  },
  {
   "cell_type": "markdown",
   "metadata": {},
   "source": [
    "To open a file the function `open()` is used. The most important modes of the \"key word\" argument is `mode` are the strings `\"w\"` = write, `\"a\"` = append or `\"r\"` = read can be set there. With `mode=\"w\"` the file is also created if it does not exist yet and overwritten if it already existed before."
   ]
  },
  {
   "cell_type": "code",
   "execution_count": null,
   "metadata": {
    "hidden": true
   },
   "outputs": [],
   "source": [
    "file = open(filename, mode=\"w\")\n",
    "file.write(\"Hello World\\n\")\n",
    "file.close()"
   ]
  },
  {
   "cell_type": "markdown",
   "metadata": {},
   "source": [
    "To write to the file the method `write()` is used. `\"\\n\"` within the string corresponds to a line break. After writing, the file must be closed, otherwise other programs will not have access to it or an older version of the file will be accessed.\n",
    "\n",
    "After closing, another greeting should be added (`mode=\"a\"`)"
   ]
  },
  {
   "cell_type": "code",
   "execution_count": null,
   "metadata": {
    "ExecuteTime": {
     "end_time": "2020-05-22T15:30:27.305277Z",
     "start_time": "2020-05-22T15:30:27.285690Z"
    },
    "hidden": true
   },
   "outputs": [],
   "source": [
    "file = open(filename, mode=\"a\")\n",
    "file.write(\"Hello everyone\\n\")\n",
    "file.close()"
   ]
  },
  {
   "cell_type": "markdown",
   "metadata": {},
   "source": [
    "It is important that the file is closed again after the write operation. If an error occurs in the code before closing and the program aborts, the problem arises that the file was not closed, which leads to the problems mentioned above.\n",
    "\n",
    "The remedy is the Context Manager! The statement `with <do something> as <name>:` contains the previous assignment of `file`. The indented code within this statement knows the opened file `file` and can interact with it. The `file.close()` at the end of processing is taken over by the Context Manager. It also closes the file if errors occur within the indented code!"
   ]
  },
  {
   "cell_type": "code",
   "execution_count": null,
   "metadata": {
    "ExecuteTime": {
     "end_time": "2020-05-22T15:33:40.128115Z",
     "start_time": "2020-05-22T15:33:40.111785Z"
    },
    "hidden": true,
    "scrolled": true
   },
   "outputs": [],
   "source": [
    "with open(filename, mode=\"r\") as file:\n",
    "    greetings = []\n",
    "    for line in file:\n",
    "        greeting = line.replace(\"\\n\", \"\")\n",
    "        greetings.append(greeting)\n",
    "print(file.closed)\n",
    "print(greetings)\n",
    "\n",
    "with open(filename, mode=\"a\") as file:\n",
    "    raise ValueError(\"Produce an Error intentionally!\")"
   ]
  },
  {
   "cell_type": "code",
   "execution_count": null,
   "metadata": {
    "ExecuteTime": {
     "end_time": "2020-05-22T15:33:55.534315Z",
     "start_time": "2020-05-22T15:33:55.530557Z"
    }
   },
   "outputs": [],
   "source": [
    "print(file.closed)"
   ]
  },
  {
   "cell_type": "markdown",
   "metadata": {},
   "source": [
    "The indication that a Context Manager can (and should) be used is always given if a step always means opening or creating an object that is supposed to be closed or dissolved again at the end."
   ]
  },
  {
   "cell_type": "markdown",
   "metadata": {
    "heading_collapsed": true
   },
   "source": [
    "## Module\n",
    "-----------------------------"
   ]
  },
  {
   "cell_type": "markdown",
   "metadata": {},
   "source": [
    "Python is a language that already has many implemented functions. These are combined in the form of modules. In order to be able to use them, they must first be imported.\n",
    "\n",
    "Let us take the sine function of the module `math` which is included in the Python scope."
   ]
  },
  {
   "cell_type": "code",
   "execution_count": null,
   "metadata": {
    "ExecuteTime": {
     "end_time": "2020-05-22T15:36:09.901433Z",
     "start_time": "2020-05-22T15:36:09.898252Z"
    }
   },
   "outputs": [],
   "source": [
    "import math\n",
    "print(math.sin(1.2))\n",
    "\n",
    "import math as m\n",
    "print(m.sin(1.2))\n",
    "\n",
    "from math import sin\n",
    "print(sin(1.2))"
   ]
  },
  {
   "cell_type": "markdown",
   "metadata": {},
   "source": [
    "The example above shows three variants of how this sine function can be imported and applied. All three versions serve their purpose. However, it is always advisable to use the first or second method. The reason for this is not directly obvious for mathematical functions. To illustrate the problem, let us take the module `json` and `csv`. Both modules make it easier to work with .json and .csv files, and since the operations that can be performed on files are similar, some of the methods in the two modules are named similarly. An explicit naming of the respective module in combination with the method used eliminates possible confusion. In addition, such an assignment makes it easier to improve or extend the code later, since it is easier to see from which module the respective function originates."
   ]
  },
  {
   "cell_type": "markdown",
   "metadata": {},
   "source": [
    "### numpy\n",
    "-------------------------------------"
   ]
  },
  {
   "cell_type": "markdown",
   "metadata": {},
   "source": [
    "In addition to the Python standard libraries, there are many third-party libraries that add useful functionality to Python. To install them, simply run `pip3 install numpy` or `pip install numpy` in the console or inside Python:"
   ]
  },
  {
   "cell_type": "code",
   "execution_count": null,
   "metadata": {},
   "outputs": [],
   "source": [
    "import os\n",
    "os.system(\"pip3 install numpy\")\n",
    "\n",
    "import numpy as np\n",
    "print(np.__version__)"
   ]
  },
  {
   "cell_type": "markdown",
   "metadata": {},
   "source": [
    "But what distinguishes numpy? Simply put: Numerical (multidimensional) calculations that are time-optimized. An example would be squaring each element of a list, doubling or adding certain values.\n",
    "\n",
    "The manipulation of lists is already known from the chapter above. The variant with the Python lists:"
   ]
  },
  {
   "cell_type": "code",
   "execution_count": null,
   "metadata": {
    "ExecuteTime": {
     "end_time": "2020-05-22T15:40:25.219880Z",
     "start_time": "2020-05-22T15:40:25.212831Z"
    }
   },
   "outputs": [],
   "source": [
    "numbers = [i for i in range(10)]\n",
    "\n",
    "numbers_sqr = [x * x for x in numbers]\n",
    "# Multiplication of lists with itself is not defined\n",
    "numbers_dbl = [x * 2 for x in numbers]\n",
    "# Multiplication by a fixed integer number is like strings: a succession of lists\n",
    "\n",
    "numbers_add = [x + 2 for x in numbers]\n",
    "# numbers + 2 is not possible, because numbers is of type 'list' and 2 is of type 'int'\n",
    "\n",
    "print(numbers_sqr)\n",
    "print(numbers_dbl)\n",
    "print(numbers_add)"
   ]
  },
  {
   "cell_type": "markdown",
   "metadata": {},
   "source": [
    "To keep the example short the presented *list comprehention* was used. The compulsion to do everything explicitly by element is omnipresent.\n",
    "\n",
    "What does it look like with numpy?"
   ]
  },
  {
   "cell_type": "code",
   "execution_count": null,
   "metadata": {
    "ExecuteTime": {
     "end_time": "2020-05-22T15:40:49.767367Z",
     "start_time": "2020-05-22T15:40:49.763764Z"
    }
   },
   "outputs": [],
   "source": [
    "numbers = np.array([i for i in range(10)])\n",
    "\n",
    "numbers_sqr = numbers ** 2\n",
    "numbers_dbl = numbers * 2\n",
    "numbers_add = numbers + 2\n",
    "\n",
    "print(numbers_sqr)\n",
    "print(numbers_dbl)\n",
    "print(numbers_add)"
   ]
  },
  {
   "cell_type": "markdown",
   "metadata": {},
   "source": [
    "The arithmetic operations previously performed on a element-by-element basis are now performed implicitly using numpy, which has the advantage that the code is easier to create and read (otherwise a lot of loops are required). Of course it is still possible to edit individual elements:"
   ]
  },
  {
   "cell_type": "code",
   "execution_count": null,
   "metadata": {
    "ExecuteTime": {
     "end_time": "2020-05-22T15:41:26.975166Z",
     "start_time": "2020-05-22T15:41:26.968385Z"
    }
   },
   "outputs": [],
   "source": [
    "numbers[0] = 27\n",
    "numbers[2] *= 7\n",
    "numbers"
   ]
  },
  {
   "cell_type": "markdown",
   "metadata": {},
   "source": [
    "At this point the importance of the clear import of individual functions/modules can be illustrated once again:"
   ]
  },
  {
   "cell_type": "code",
   "execution_count": null,
   "metadata": {
    "ExecuteTime": {
     "end_time": "2020-05-22T15:42:03.199002Z",
     "start_time": "2020-05-22T15:42:03.182939Z"
    }
   },
   "outputs": [],
   "source": [
    "x = np.linspace(0, 1, 10)\n",
    "print(x)\n",
    "\n",
    "print(np.sin(x))\n",
    "print(np.sin(1.2))\n",
    "print(math.sin(1.2))\n",
    "print(math.sin(x))"
   ]
  },
  {
   "cell_type": "markdown",
   "metadata": {},
   "source": [
    "The sine function of the `math` module accepts only real numbers as arguments, while the numpy variant accepts lists and `numpy.array` in addition to the real numbers. Without an explicit naming of the module used, debugging is much more difficult.\n",
    "\n",
    "As mentioned above, almost everything implemented in Python is documented and can be viewed using `help()`."
   ]
  },
  {
   "cell_type": "code",
   "execution_count": null,
   "metadata": {
    "ExecuteTime": {
     "end_time": "2020-05-22T15:43:18.985272Z",
     "start_time": "2020-05-22T15:43:18.982408Z"
    }
   },
   "outputs": [],
   "source": [
    "help(np.array)"
   ]
  },
  {
   "cell_type": "code",
   "execution_count": null,
   "metadata": {
    "ExecuteTime": {
     "end_time": "2020-05-22T15:43:22.995719Z",
     "start_time": "2020-05-22T15:43:22.990812Z"
    }
   },
   "outputs": [],
   "source": [
    "help(np.sin)"
   ]
  },
  {
   "cell_type": "code",
   "execution_count": null,
   "metadata": {
    "ExecuteTime": {
     "end_time": "2020-05-22T15:43:27.120043Z",
     "start_time": "2020-05-22T15:43:27.115878Z"
    }
   },
   "outputs": [],
   "source": [
    "np.info(np.sin)"
   ]
  },
  {
   "cell_type": "markdown",
   "metadata": {},
   "source": [
    "numpy also provides examples of how the function/method can be used (also in combination with other modules).\n",
    "\n",
    "To get an idea of the power of such third-party modules, `dir(np)` can be used. The list that then appears contains not only functions but also classes (logical summary of methods that have a common purpose)."
   ]
  },
  {
   "cell_type": "code",
   "execution_count": null,
   "metadata": {
    "ExecuteTime": {
     "end_time": "2020-05-22T15:45:05.656644Z",
     "start_time": "2020-05-22T15:45:05.638620Z"
    }
   },
   "outputs": [],
   "source": [
    "dir(np)"
   ]
  },
  {
   "cell_type": "code",
   "execution_count": null,
   "metadata": {
    "ExecuteTime": {
     "end_time": "2020-05-22T15:45:12.700208Z",
     "start_time": "2020-05-22T15:45:12.678778Z"
    }
   },
   "outputs": [],
   "source": [
    "print(dir(np.linalg))\n",
    "help(np.linalg)"
   ]
  },
  {
   "cell_type": "markdown",
   "metadata": {},
   "source": [
    "Further packages, such as Scientific Linux (scipy), which contains additional special functions, or the matplotlib module for data visualization together with many other modules can be found on the [Python Package Index (PyPI)](https://pypi.org/) and installed as shown above with the example of numpy. The Python Built-In libraries and general further Python topics can be found in [the official documentation](https://www.python.org/doc/)"
   ]
  },
  {
   "cell_type": "code",
   "execution_count": null,
   "metadata": {},
   "outputs": [],
   "source": []
  }
 ],
 "metadata": {
  "kernelspec": {
   "display_name": "venv",
   "language": "python",
   "name": "venv"
  },
  "language_info": {
   "codemirror_mode": {
    "name": "ipython",
    "version": 3
   },
   "file_extension": ".py",
   "mimetype": "text/x-python",
   "name": "python",
   "nbconvert_exporter": "python",
   "pygments_lexer": "ipython3",
   "version": "3.6.9"
  },
  "varInspector": {
   "cols": {
    "lenName": 16,
    "lenType": 16,
    "lenVar": 40
   },
   "kernels_config": {
    "python": {
     "delete_cmd_postfix": "",
     "delete_cmd_prefix": "del ",
     "library": "var_list.py",
     "varRefreshCmd": "print(var_dic_list())"
    },
    "r": {
     "delete_cmd_postfix": ") ",
     "delete_cmd_prefix": "rm(",
     "library": "var_list.r",
     "varRefreshCmd": "cat(var_dic_list()) "
    }
   },
   "types_to_exclude": [
    "module",
    "function",
    "builtin_function_or_method",
    "instance",
    "_Feature"
   ],
   "window_display": false
  }
 },
 "nbformat": 4,
 "nbformat_minor": 4
}
