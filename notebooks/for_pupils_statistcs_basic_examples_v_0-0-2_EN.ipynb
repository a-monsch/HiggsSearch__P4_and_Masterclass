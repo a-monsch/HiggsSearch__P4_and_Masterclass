{
 "cells": [
  {
   "cell_type": "markdown",
   "metadata": {},
   "source": [
    "version 0.0.2\n",
    "\n",
    "Requirement:\n",
    " - Basics of Python\n",
    "\n",
    "Contains:\n",
    " - necessary implementations for the widget.\n",
    "\n",
    "\n",
    "Any functions/calculations implemented in the following can be removed for tasks (marked with the comment '# May be implemented by pupils') and implemented by pupils. Additional tasks can and should be added or modified. This depends on the previous knowledge of the pupils and the focus of the topics."
   ]
  },
  {
   "cell_type": "code",
   "execution_count": null,
   "metadata": {
    "ExecuteTime": {
     "end_time": "2020-05-22T13:35:15.274220Z",
     "start_time": "2020-05-22T13:35:15.175708Z"
    }
   },
   "outputs": [],
   "source": [
    "import sys\n",
    "sys.path.append(\"..\")\n",
    "import numpy as np"
   ]
  },
  {
   "cell_type": "markdown",
   "metadata": {},
   "source": [
    "The basic idea is the simulation with the help of computers. The second simplest example is realized with a dice, which ideally represents a Laplace experiment - the occurring events of a finite set of possible events are equal."
   ]
  },
  {
   "cell_type": "code",
   "execution_count": null,
   "metadata": {
    "ExecuteTime": {
     "end_time": "2020-05-22T13:35:15.278550Z",
     "start_time": "2020-05-22T13:35:15.275547Z"
    }
   },
   "outputs": [],
   "source": [
    "a = np.random.choice(a=[1,2,3,4,5,6], size=30)\n",
    "print(a)"
   ]
  },
  {
   "cell_type": "markdown",
   "metadata": {},
   "source": [
    "It is also possible to weight the results differently, i.e. to simulate a non-ideal dice. However, the overall probability should always remain 1."
   ]
  },
  {
   "cell_type": "code",
   "execution_count": null,
   "metadata": {
    "ExecuteTime": {
     "end_time": "2020-05-22T13:35:15.289011Z",
     "start_time": "2020-05-22T13:35:15.280111Z"
    }
   },
   "outputs": [],
   "source": [
    "b = np.random.choice(a=[1,2,3,4,5,6], p=[0.125/2., 0.25, 0.5, 0.125/4., 0.125/4, 0.125], size=30)\n",
    "print(b)"
   ]
  },
  {
   "cell_type": "markdown",
   "metadata": {},
   "source": [
    "But let us stay with the ideal cube. For the later application we will need individual functions. A simple function can be defined, which outputs a random number from the set $\\{1,2,3,4,5,6\\}$ when called."
   ]
  },
  {
   "cell_type": "code",
   "execution_count": null,
   "metadata": {
    "ExecuteTime": {
     "end_time": "2020-05-22T13:35:15.299437Z",
     "start_time": "2020-05-22T13:35:15.290292Z"
    }
   },
   "outputs": [],
   "source": [
    "# May be implemented by pupils\n",
    "\n",
    "def my_random_dice_roll_simulation():\n",
    "    return np.random.choice(a=[1,2,3,4,5,6], p=[1/6, 1/6, 1/6, 1/6, 1/6, 1/6], size=1)[0]\n",
    "\n",
    "for _ in range(5):\n",
    "    print(my_random_dice_roll_simulation())"
   ]
  },
  {
   "cell_type": "markdown",
   "metadata": {},
   "source": [
    "A list consisting of 30 or more elements is not easy to read. It is easier to just count how often a number has been rolled, since each roll is independent of the other. An explicit implementation can be done with three lines in this case."
   ]
  },
  {
   "cell_type": "code",
   "execution_count": null,
   "metadata": {
    "ExecuteTime": {
     "end_time": "2020-05-22T13:35:15.310179Z",
     "start_time": "2020-05-22T13:35:15.301011Z"
    }
   },
   "outputs": [],
   "source": [
    "# May be implemented by pupils\n",
    "\n",
    "# Throw result     1, 2, 3, 4, 5, 6\n",
    "a_hist = np.array([0, 0, 0, 0, 0, 0])\n",
    "for num in a:\n",
    "    a_hist[num -1] += 1\n",
    "print(a)\n",
    "print(a_hist)"
   ]
  },
  {
   "cell_type": "markdown",
   "metadata": {},
   "source": [
    "The zero entry corresponds to the throw of a one, the first to a two, and so on.\n",
    "\n",
    "After conducting such an experiment it is useful to calculate some quantities to be able to quantify the measurement in some way. First of all, the mean value, which can be calculated directly in a function, is useful:"
   ]
  },
  {
   "cell_type": "code",
   "execution_count": null,
   "metadata": {
    "ExecuteTime": {
     "end_time": "2020-05-22T13:35:15.319082Z",
     "start_time": "2020-05-22T13:35:15.311625Z"
    }
   },
   "outputs": [],
   "source": [
    "# May be implemented by pupils\n",
    "\n",
    "def my_mean(my_array):\n",
    "    my_array = np.array(my_array)\n",
    "    # return np.mean(my_array)\n",
    "    return np.sum(my_array) / len(my_array)"
   ]
  },
  {
   "cell_type": "markdown",
   "metadata": {},
   "source": [
    "However, a problem arises: The average value of the histogram calculated in this way is only the average value of the number of throws - i.e. it represents the expectation of how often, for example, fives are thrown. However, this value will also be used in the future."
   ]
  },
  {
   "cell_type": "code",
   "execution_count": null,
   "metadata": {
    "ExecuteTime": {
     "end_time": "2020-05-22T13:35:15.330856Z",
     "start_time": "2020-05-22T13:35:15.320456Z"
    }
   },
   "outputs": [],
   "source": [
    "print(my_mean(a))\n",
    "print(my_mean(a_hist))"
   ]
  },
  {
   "cell_type": "markdown",
   "metadata": {},
   "source": [
    "The calculation of the actual mean value for a histogram can be realized with the following formula: $$ \\bar{x} = \\frac{\\sum_{i=1}^6 i \\cdot n_i}{\\sum_{i=1}^6 n_i} $$ where $i$ is the respective bin and $n_i$ is the number of events for this bin.\n",
    "\n",
    "First of all, it is advisable to express the normalization in a separate function, because it will be the same for all subsequent calculations:"
   ]
  },
  {
   "cell_type": "code",
   "execution_count": null,
   "metadata": {
    "ExecuteTime": {
     "end_time": "2020-05-22T13:35:15.340485Z",
     "start_time": "2020-05-22T13:35:15.333703Z"
    }
   },
   "outputs": [],
   "source": [
    "# May be implemented by pupils\n",
    "\n",
    "def normalisation(my_array):\n",
    "    my_array = np.array(my_array)\n",
    "    temporal_sum = np.sum(my_array)\n",
    "    if temporal_sum == 0.0:\n",
    "        return np.array(my_array)\n",
    "    return (1./temporal_sum) * np.array(my_array)"
   ]
  },
  {
   "cell_type": "markdown",
   "metadata": {},
   "source": [
    "The now so normalized histogram entries are:"
   ]
  },
  {
   "cell_type": "code",
   "execution_count": null,
   "metadata": {
    "ExecuteTime": {
     "end_time": "2020-05-22T13:35:15.352961Z",
     "start_time": "2020-05-22T13:35:15.343564Z"
    }
   },
   "outputs": [],
   "source": [
    "a_hist_normalized = normalisation(a_hist)\n",
    "print(a_hist)\n",
    "print(a_hist_normalized)"
   ]
  },
  {
   "cell_type": "markdown",
   "metadata": {},
   "source": [
    "And correspond to the probabilities of throwing the respective number.\n",
    "With the help of the normalized histogram entries, the mean value can be calculated in the next step:"
   ]
  },
  {
   "cell_type": "code",
   "execution_count": null,
   "metadata": {
    "ExecuteTime": {
     "end_time": "2020-05-22T13:35:15.364489Z",
     "start_time": "2020-05-22T13:35:15.354586Z"
    }
   },
   "outputs": [],
   "source": [
    "# May be implemented by pupils\n",
    "\n",
    "def my_mean_of_histogram(my_array):\n",
    "    my_array = np.array(my_array) if np.sum(my_array) == 1.0 else normalisation(my_array)\n",
    "    # return sum(i* item for i, item in enumerate(my_array, start=1))\n",
    "    my_bins = np.array([i for i in range(1, len(my_array) + 1)])\n",
    "    return np.sum(my_bins * my_array)"
   ]
  },
  {
   "cell_type": "code",
   "execution_count": null,
   "metadata": {
    "ExecuteTime": {
     "end_time": "2020-05-22T13:35:15.376968Z",
     "start_time": "2020-05-22T13:35:15.366674Z"
    }
   },
   "outputs": [],
   "source": [
    "print(my_mean(a))\n",
    "print(my_mean_of_histogram(a_hist))\n",
    "print(my_mean_of_histogram(a_hist_normalized))"
   ]
  },
  {
   "cell_type": "markdown",
   "metadata": {},
   "source": [
    "The next quantity is the standard deviation of the total measurement: $$\\sigma = \\sqrt{\\frac{1}{6 - k} \\sum_{i=1}^6 (x_i - \\bar{x})^2}\\, ,$$here again the standard deviation of the total measurement for the histogram is calculated differently: $$\\sigma = \\sqrt{\\frac{\\sum_{i=1}^6 i^2 n_i}{-k + \\sum_{i=1}^6 n_i}}$$"
   ]
  },
  {
   "cell_type": "code",
   "execution_count": null,
   "metadata": {
    "ExecuteTime": {
     "end_time": "2020-05-22T13:35:15.391335Z",
     "start_time": "2020-05-22T13:35:15.379511Z"
    }
   },
   "outputs": [],
   "source": [
    "# May be implemented by pupils\n",
    "\n",
    "def my_standard_deviation(my_array, k=0.0):\n",
    "    mean_ = my_mean(my_array)\n",
    "    return np.sqrt((1./(len(my_array) - k)) * np.sum((my_array - mean_) ** 2))\n",
    "\n",
    "def my_standard_deviation_of_histogramm(my_array):\n",
    "    my_array = np.array(my_array) if np.sum(my_array) == 1.0 else normierung(my_array)\n",
    "    mean_ = my_mean_of_histogram(my_array)\n",
    "    # return np.sqrt(sum((i - mittelwert_) ** 2 * item for i, item in enumerate(my_array, start=1)))\n",
    "    my_bins = np.array([i for i in range(1, len(my_array) + 1)])\n",
    "    varianz = np.sum((my_bins - mean_) ** 2 * my_array)\n",
    "    return np.sqrt(varianz)"
   ]
  },
  {
   "cell_type": "code",
   "execution_count": null,
   "metadata": {
    "ExecuteTime": {
     "end_time": "2020-05-22T13:35:15.403126Z",
     "start_time": "2020-05-22T13:35:15.393277Z"
    }
   },
   "outputs": [],
   "source": [
    "print(my_standard_deviation(a))\n",
    "print(my_standard_deviation_of_histogramm(a_hist_normalized))"
   ]
  },
  {
   "cell_type": "markdown",
   "metadata": {},
   "source": [
    "It is also interesting to answer the question of what uncertainty there was for five times the throw five. For this purpose, each binary entry can be regarded as an independent Poisson process. The uncertainty is given in the simplest case as the root of the events."
   ]
  },
  {
   "cell_type": "code",
   "execution_count": null,
   "metadata": {
    "ExecuteTime": {
     "end_time": "2020-05-22T13:35:15.414196Z",
     "start_time": "2020-05-22T13:35:15.405644Z"
    }
   },
   "outputs": [],
   "source": [
    "# May be implemented by pupilsa\n",
    "\n",
    "def symetric_uncertainty_poisson(array):\n",
    "    return np.sqrt(array)"
   ]
  },
  {
   "cell_type": "code",
   "execution_count": null,
   "metadata": {
    "ExecuteTime": {
     "end_time": "2020-05-22T13:35:15.426587Z",
     "start_time": "2020-05-22T13:35:15.416352Z"
    }
   },
   "outputs": [],
   "source": [
    "print(symetric_uncertainty_poisson(2))\n",
    "print(a_hist)\n",
    "print(symetric_uncertainty_poisson(a_hist))"
   ]
  },
  {
   "cell_type": "markdown",
   "metadata": {},
   "source": [
    "All functions are now combined for the graphical display. It is still useful to scale the simulated events to the number of measurements performed. In this way a comparability of the expectation with the actual measurement is achieved. For a good prediction it is useful to simulate a larger quantity of events and then compare it with the actual measurement."
   ]
  },
  {
   "cell_type": "code",
   "execution_count": null,
   "metadata": {
    "ExecuteTime": {
     "end_time": "2020-05-22T13:35:15.437368Z",
     "start_time": "2020-05-22T13:35:15.430165Z"
    }
   },
   "outputs": [],
   "source": [
    "# May be implemented by pupils\n",
    "\n",
    "def scaling_simulation_to_measurement(measurement):\n",
    "    return 1.0 if np.sum(measurement) == 0.0 else np.sum(measurement)"
   ]
  },
  {
   "cell_type": "markdown",
   "metadata": {},
   "source": [
    "Addition:  \n",
    "At the end a quantity should be implemented that evaluates whether the existing measurement originates from the simulated distribution. As an example the $p_0$ value is taken, which is calculated from the $\\chi^2$ which is defined for a histogram as follows: $$ \\chi^2 = \\sum_{i=1}^N \\frac{(n_i - y_i)^2}{\\sigma_i^2} \\, .$$ $\\sigma_i$ is the uncertainty of the respective bin entry and corresponds to $\\sqrt{y_i}$. $y_i$ is the expected number of events in a bin entry based on the simulation of the respective bin scaled to the measurement. $n_i$ is the number of measured events in the respective bin. \n",
    "The value of $\\chi^2$ corresponds to a deviation of the measurement from the simulated values. Each of the individual measured values is weighted according to its uncertainty. Measured values with a high inaccuracy change the total value less than measured values with a smaller statistical uncertainty.\n",
    "\n",
    "The value thus calculated can be translated into a $p$ value. This is a measure for the validation of a hypothesis and indicates whether the measurement confirms the expectation. By definition, this is a probability to obtain the observed measurement under the condition that the hypothesis used is correct. If $p_0$ should fall below a pre-defined value (often $0.05$ or $0.01$ is chosen) the chosen hypothesis - the expectations $y_i$ can be discarded in favour of a new hypothesis."
   ]
  },
  {
   "cell_type": "code",
   "execution_count": null,
   "metadata": {
    "ExecuteTime": {
     "end_time": "2020-05-22T13:35:15.461331Z",
     "start_time": "2020-05-22T13:35:15.439378Z"
    }
   },
   "outputs": [],
   "source": [
    "import scipy\n",
    "\n",
    "def p0_from_chi2(messung, erwartung):\n",
    "    # (mess, erw) ist ein Paar aus den Paaren (messung, erwartung)\n",
    "    chi2_ = sum((1.0/erw) * (mess - erw) ** 2 for (mess, erw) in zip(messung, erwartung) if float(erw) != 0.0)\n",
    "    # Übersetzung in die Wahrscheinlichkeit dass die Messung der Erwartung entspricht\n",
    "    p0_ = 1.0 - scipy.stats.chi2.cdf(chi2_, df=len(messung) - 1)\n",
    "    # Rückgabe: Name der Größe und die Größe selbst (für die Konvertierung)\n",
    "    return \"p_0\", p0_"
   ]
  },
  {
   "cell_type": "markdown",
   "metadata": {},
   "source": [
    "Summary of the created functions in a class (only relevant for the transfer of the class to the application). All functions should be assigned."
   ]
  },
  {
   "cell_type": "code",
   "execution_count": null,
   "metadata": {
    "ExecuteTime": {
     "end_time": "2020-05-22T13:35:15.466198Z",
     "start_time": "2020-05-22T13:35:15.462813Z"
    }
   },
   "outputs": [],
   "source": [
    "class OwnCalculations(object):\n",
    "    pass\n",
    "\n",
    "# Replace with another function if necessary\n",
    "OwnCalculations.own_pdf_measurement_one = my_random_dice_roll_simulation\n",
    "\n",
    "OwnCalculations.own_pdf_simulation_one = my_random_dice_roll_simulation\n",
    "OwnCalculations.own_mean = my_mean\n",
    "OwnCalculations.own_std = my_standard_deviation\n",
    "OwnCalculations.own_norm = normalisation\n",
    "OwnCalculations.own_measurement_scale = scaling_simulation_to_measurement\n",
    "OwnCalculations.own_individual_std = symetric_uncertainty_poisson\n",
    "OwnCalculations.own_stat_evaluation = p0_from_chi2"
   ]
  },
  {
   "cell_type": "markdown",
   "metadata": {},
   "source": [
    "Import of the graphical application:"
   ]
  },
  {
   "cell_type": "code",
   "execution_count": null,
   "metadata": {
    "ExecuteTime": {
     "end_time": "2020-05-22T13:35:15.869004Z",
     "start_time": "2020-05-22T13:35:15.468563Z"
    }
   },
   "outputs": [],
   "source": [
    "from include.widget.WuerfelWidget import WidgetWuerfel as WW"
   ]
  },
  {
   "cell_type": "markdown",
   "metadata": {},
   "source": [
    "`b_num` indicates the number of \" dice sides\". The `calc_class` argument corresponds to the class that combines all previous functions (`OwnCalculations`)."
   ]
  },
  {
   "cell_type": "code",
   "execution_count": null,
   "metadata": {
    "ExecuteTime": {
     "start_time": "2020-05-22T13:35:16.034Z"
    }
   },
   "outputs": [],
   "source": [
    "WW(f_width=700, f_height=700, f_bottom=0.09, f_left=0.09, b_num=6, g_width=900, calc_class=OwnCalculations)"
   ]
  },
  {
   "cell_type": "markdown",
   "metadata": {},
   "source": [
    "Note: It is possible to reorganize the individual functions of the application according to their implementation. However, it should be considered that some functions are interrelated, which makes a complete encapsulation impossible."
   ]
  },
  {
   "cell_type": "code",
   "execution_count": null,
   "metadata": {},
   "outputs": [],
   "source": []
  }
 ],
 "metadata": {
  "kernelspec": {
   "display_name": "venv",
   "language": "python",
   "name": "venv"
  },
  "language_info": {
   "codemirror_mode": {
    "name": "ipython",
    "version": 3
   },
   "file_extension": ".py",
   "mimetype": "text/x-python",
   "name": "python",
   "nbconvert_exporter": "python",
   "pygments_lexer": "ipython3",
   "version": "3.6.9"
  },
  "varInspector": {
   "cols": {
    "lenName": 16,
    "lenType": 16,
    "lenVar": 40
   },
   "kernels_config": {
    "python": {
     "delete_cmd_postfix": "",
     "delete_cmd_prefix": "del ",
     "library": "var_list.py",
     "varRefreshCmd": "print(var_dic_list())"
    },
    "r": {
     "delete_cmd_postfix": ") ",
     "delete_cmd_prefix": "rm(",
     "library": "var_list.r",
     "varRefreshCmd": "cat(var_dic_list()) "
    }
   },
   "types_to_exclude": [
    "module",
    "function",
    "builtin_function_or_method",
    "instance",
    "_Feature"
   ],
   "window_display": false
  }
 },
 "nbformat": 4,
 "nbformat_minor": 4
}
