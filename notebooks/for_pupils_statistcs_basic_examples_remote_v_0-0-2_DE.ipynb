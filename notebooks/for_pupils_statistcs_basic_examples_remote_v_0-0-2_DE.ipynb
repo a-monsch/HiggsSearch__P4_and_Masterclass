{
 "cells": [
  {
   "cell_type": "markdown",
   "metadata": {},
   "source": [
    "Version 0.0.2\n",
    "\n",
    "Voraussetzung:\n",
    " - Grundlagen von Python\n",
    "\n",
    "Enthält:\n",
    " - notwendige Implementierungen für das Widget.\n",
    "\n",
    "\n",
    "Alle im nachfolgenden Implementierten Funktionen/Rechnungen können für die Aufgaben entfernt und durch das Kommentar '# May be implemented by pupils' gekennzeichnet werden, um von den Schülern ergänzt zu werden. Es können und sollen zusätzliche Aufgaben hinzugefügt oder abgeändert werden. Ausschlaggebend hierfür ist das Vorwissen der Schüler und die Schwerpunktsetzung der Themen."
   ]
  },
  {
   "cell_type": "code",
   "execution_count": null,
   "metadata": {
    "ExecuteTime": {
     "end_time": "2020-06-19T10:53:09.803764Z",
     "start_time": "2020-06-19T10:53:09.581359Z"
    }
   },
   "outputs": [],
   "source": [
    "import sys\n",
    "import numpy as np\n",
    "from IPython.core.display import display, HTML\n",
    "display(HTML(\"<style>.container { width:100% !important; }</style>\"))\n",
    "sys.path.append(\"..\")"
   ]
  },
  {
   "cell_type": "markdown",
   "metadata": {},
   "source": [
    "Grundidee ist die Simulation mithilfe von Computern. Das zweit einfachste Beispiel ist mit einem Würfel realisiert, das im Idealfall ein Laplace-Experiment darstellt - die auftretenden Ereignisse einer endlichen Menge an möglichen Ereignissen sind gleichberechtigt."
   ]
  },
  {
   "cell_type": "code",
   "execution_count": null,
   "metadata": {
    "ExecuteTime": {
     "end_time": "2020-06-19T10:53:10.236080Z",
     "start_time": "2020-06-19T10:53:10.229060Z"
    }
   },
   "outputs": [],
   "source": [
    "a = np.random.choice(a=[1,2,3,4,5,6], size=30)\n",
    "print(a)"
   ]
  },
  {
   "cell_type": "markdown",
   "metadata": {},
   "source": [
    "Es bietet sich auch die Möglichkeit die auftretenden Ergebnisse unterschiedlich zu gewichten, also einen nicht idealen Würfel zu simulieren. Die Gesamtwahrscheinlichkeit sollte hierbei jedoch immer 1 bleiben."
   ]
  },
  {
   "cell_type": "code",
   "execution_count": null,
   "metadata": {
    "ExecuteTime": {
     "end_time": "2020-06-19T10:53:10.682847Z",
     "start_time": "2020-06-19T10:53:10.672874Z"
    }
   },
   "outputs": [],
   "source": [
    "b = np.random.choice(a=[1,2,3,4,5,6], p=[0.125/2., 0.25, 0.5, 0.125/4., 0.125/4, 0.125], size=30)\n",
    "print(b)"
   ]
  },
  {
   "cell_type": "markdown",
   "metadata": {},
   "source": [
    "Doch bleiben wir bei dem idealen Würfel. Für die spätere Anwendung werden einzelne Funktionen gebraucht. Es lässt sich eine einfache Funktion definieren, die beim Aufruf eine zufällige Zahl aus der Menge $\\{1,2,3,4,5,6\\}$ ausgibt."
   ]
  },
  {
   "cell_type": "code",
   "execution_count": null,
   "metadata": {
    "ExecuteTime": {
     "end_time": "2020-06-19T10:53:11.120772Z",
     "start_time": "2020-06-19T10:53:11.109798Z"
    }
   },
   "outputs": [],
   "source": [
    "# May be implemented by pupils\n",
    "\n",
    "def my_random_dice_roll_simulation(n_times):\n",
    "    return np.random.choice(a=[1,2,3,4,5,6], p=[1/6, 1/6, 1/6, 1/6, 1/6, 1/6], size=n_times)\n",
    "\n",
    "for _ in range(5):\n",
    "    print(my_random_dice_roll_simulation(1)[0])\n",
    "print(my_random_dice_roll_simulation(5))"
   ]
  },
  {
   "cell_type": "markdown",
   "metadata": {},
   "source": [
    "Eine Liste aus 30 oder mehr Elementen ist unübersichtlich. Es ist einfacher nur zu zählen wie oft eine Zahl gewürfelt wurde, da jeder Wurf unabhängig vom anderen geschieht. Eine eigenständige explizite Implementierung lässt sich in diesem Fall mit drei Zeilen bewerkstelligen."
   ]
  },
  {
   "cell_type": "code",
   "execution_count": null,
   "metadata": {
    "ExecuteTime": {
     "end_time": "2020-06-19T10:53:12.907751Z",
     "start_time": "2020-06-19T10:53:12.899734Z"
    }
   },
   "outputs": [],
   "source": [
    "# May be implemented by pupils\n",
    "\n",
    "# Wurfergebnis     1, 2, 3, 4, 5, 6\n",
    "a_hist = np.array([0, 0, 0, 0, 0, 0])\n",
    "for num in a:\n",
    "    a_hist[num -1] += 1\n",
    "print(a)\n",
    "print(a_hist)"
   ]
  },
  {
   "cell_type": "markdown",
   "metadata": {},
   "source": [
    "Der nullte Eintrag entspricht dem Wurf einer Eins, der erste einer Zwei usw."
   ]
  },
  {
   "cell_type": "markdown",
   "metadata": {},
   "source": [
    "Dieser und die darauf aufbauenden Schritte können in einer grafische Anwendung eingebaut werden und schafft eine interaktive Visualisierung der bisher implementierten Größen und Funktionen:"
   ]
  },
  {
   "cell_type": "code",
   "execution_count": null,
   "metadata": {
    "ExecuteTime": {
     "end_time": "2020-06-19T10:53:29.451242Z",
     "start_time": "2020-06-19T10:53:28.878810Z"
    }
   },
   "outputs": [],
   "source": [
    "from include.widget.WuerfelWidgetMyBinderVersion import WuerfelWidget as WW\n",
    "\n",
    "ww = WW(language=\"DE\")\n",
    "ww.own_simulation_func = my_random_dice_roll_simulation\n",
    "ww.run"
   ]
  },
  {
   "cell_type": "markdown",
   "metadata": {},
   "source": [
    "Nach der Durchführung eines solchen Experimentes ist es sinnvoll einige Größen zu berechnen, um die Messung in irgendeiner weise zu quantifizieren. Als erstens bietet sich der Mittelwert an, welcher direkt in einer Funktion berechnet werden kann:"
   ]
  },
  {
   "cell_type": "code",
   "execution_count": null,
   "metadata": {
    "ExecuteTime": {
     "end_time": "2020-06-19T10:53:30.497926Z",
     "start_time": "2020-06-19T10:53:30.492939Z"
    }
   },
   "outputs": [],
   "source": [
    "# May be implemented by pupils\n",
    "\n",
    "def mittelwert(my_array):\n",
    "    my_array = np.array(my_array)\n",
    "    # return np.mean(my_array)\n",
    "    return np.sum(my_array) / len(my_array)"
   ]
  },
  {
   "cell_type": "markdown",
   "metadata": {},
   "source": [
    "Es stellt sich jedoch ein Problem heraus: Der so berechnete Mittelwert des Histogramms ist nur der Mittelwert der Anzahl der Würfe - repräsentiert also die Erwartung wie oft beispielsweise, die fünf gewürfelt wird. Diese Größe wird aber auch im weiteren eine Anwendung finden."
   ]
  },
  {
   "cell_type": "code",
   "execution_count": null,
   "metadata": {
    "ExecuteTime": {
     "end_time": "2020-06-19T10:53:31.622042Z",
     "start_time": "2020-06-19T10:53:31.617017Z"
    }
   },
   "outputs": [],
   "source": [
    "print(mittelwert(a))\n",
    "print(mittelwert(a_hist))"
   ]
  },
  {
   "cell_type": "markdown",
   "metadata": {},
   "source": [
    "Die Berechnung des eigentlichen Mittelwertes für ein Histogramm lässt sich mit der folgenden Formel realisieren: $$ \\bar{x} = \\frac{\\sum_{i=1}^6 i \\cdot n_i}{\\sum_{i=1}^6 n_i}  $$ wobei $i$ der jeweilige Bin ist und $n_i$ die Anzahl an Ereignissen für dieses Bin ist.\n",
    "\n",
    "Als Erstes ist es empfehlenswert die Normierung in einer separaten Funktion darzustellen, da diese für alle nachfolgenden Rechnungen gleich sein wird:"
   ]
  },
  {
   "cell_type": "code",
   "execution_count": null,
   "metadata": {
    "ExecuteTime": {
     "end_time": "2020-06-19T10:53:32.087760Z",
     "start_time": "2020-06-19T10:53:32.078782Z"
    }
   },
   "outputs": [],
   "source": [
    "# May be implemented by pupils\n",
    "\n",
    "def normierung(my_array):\n",
    "    my_array = np.array(my_array)\n",
    "    summe = np.sum(my_array)\n",
    "    if summe == 0.0:\n",
    "        return np.array(my_array)\n",
    "    return (1./summe) * np.array(my_array)"
   ]
  },
  {
   "cell_type": "markdown",
   "metadata": {},
   "source": [
    "Die nun so normierten Histogrammeinträge sind:"
   ]
  },
  {
   "cell_type": "code",
   "execution_count": null,
   "metadata": {
    "ExecuteTime": {
     "end_time": "2020-06-19T10:53:33.189290Z",
     "start_time": "2020-06-19T10:53:33.182309Z"
    }
   },
   "outputs": [],
   "source": [
    "a_hist_normiert = normierung(a_hist)\n",
    "print(a_hist)\n",
    "print(a_hist_normiert)"
   ]
  },
  {
   "cell_type": "markdown",
   "metadata": {},
   "source": [
    "Und entsprechen den Wahrscheinlichkeiten die jeweilige Zahl zu werfen.\n",
    "Mithilfe der normierten Histogrammeinträge lässt sich im nächsten Schritt der Mittelwert berechnen:"
   ]
  },
  {
   "cell_type": "code",
   "execution_count": null,
   "metadata": {
    "ExecuteTime": {
     "end_time": "2020-06-19T10:53:33.921441Z",
     "start_time": "2020-06-19T10:53:33.914458Z"
    }
   },
   "outputs": [],
   "source": [
    "# May be implemented by pupils\n",
    "\n",
    "def mittelwert_histogramm(my_array):\n",
    "    my_array = np.array(my_array) if np.sum(my_array) == 1.0 else normierung(my_array)\n",
    "    # return sum(i* item for i, item in enumerate(my_array, start=1))\n",
    "    my_bins = np.array([i for i in range(1, len(my_array) + 1)])\n",
    "    return np.sum(my_bins * my_array)"
   ]
  },
  {
   "cell_type": "code",
   "execution_count": null,
   "metadata": {
    "ExecuteTime": {
     "end_time": "2020-06-19T10:53:34.384202Z",
     "start_time": "2020-06-19T10:53:34.374232Z"
    }
   },
   "outputs": [],
   "source": [
    "print(mittelwert(a))\n",
    "print(mittelwert_histogramm(a_hist))\n",
    "print(mittelwert_histogramm(a_hist_normiert))"
   ]
  },
  {
   "cell_type": "code",
   "execution_count": null,
   "metadata": {
    "ExecuteTime": {
     "end_time": "2020-06-19T10:53:35.130207Z",
     "start_time": "2020-06-19T10:53:34.681408Z"
    }
   },
   "outputs": [],
   "source": [
    "ww.own_mean_func = mittelwert\n",
    "ww.own_norm_func = normierung\n",
    "ww.run"
   ]
  },
  {
   "cell_type": "markdown",
   "metadata": {},
   "source": [
    "Die nächste Größe ist die Standardabweichung der Gesamtmessung: $$\\sigma = \\sqrt{\\frac{1}{6 - k} \\sum_{i=1}^6 (x_i - \\bar{x})^2}\\, ,$$wobei hier wieder die Standardabweichung der Gesamtmessung für das Histogramm anders berechnen lässt: $$\\sigma = \\sqrt{\\frac{\\sum_{i=1}^6 i^2 n_i}{-k + \\sum_{i=1}^6 n_i}}$$"
   ]
  },
  {
   "cell_type": "code",
   "execution_count": null,
   "metadata": {
    "ExecuteTime": {
     "end_time": "2020-06-19T10:53:39.570997Z",
     "start_time": "2020-06-19T10:53:39.560030Z"
    }
   },
   "outputs": [],
   "source": [
    "# May be implemented by pupils\n",
    "\n",
    "def standardabweichung(my_array, k=0.0):\n",
    "    mittelwert_ = mittelwert(my_array)\n",
    "    return np.sqrt((1./(len(my_array - k))) * np.sum((my_array - mittelwert_) ** 2))\n",
    "\n",
    "def standardabweichung_histogramm(my_array):\n",
    "    my_array = np.array(my_array) if np.sum(my_array) == 1.0 else normierung(my_array)\n",
    "    mittelwert_ = mittelwert_histogramm(my_array)\n",
    "    # return np.sqrt(sum((i - mittelwert_) ** 2 * item for i, item in enumerate(my_array, start=1)))\n",
    "    my_bins = np.array([i for i in range(1, len(my_array) + 1)])\n",
    "    varianz = np.sum((my_bins - mittelwert_) ** 2 * my_array)\n",
    "    return np.sqrt(varianz)"
   ]
  },
  {
   "cell_type": "code",
   "execution_count": null,
   "metadata": {
    "ExecuteTime": {
     "end_time": "2020-06-19T10:53:40.624983Z",
     "start_time": "2020-06-19T10:53:40.617969Z"
    }
   },
   "outputs": [],
   "source": [
    "print(standardabweichung(a))\n",
    "print(standardabweichung_histogramm(a_hist_normiert))"
   ]
  },
  {
   "cell_type": "code",
   "execution_count": null,
   "metadata": {
    "ExecuteTime": {
     "end_time": "2020-06-19T10:53:41.398914Z",
     "start_time": "2020-06-19T10:53:40.945095Z"
    }
   },
   "outputs": [],
   "source": [
    "ww.own_std_all_func = standardabweichung\n",
    "ww.run"
   ]
  },
  {
   "cell_type": "markdown",
   "metadata": {},
   "source": [
    "Ebenfalls ist es interessant die Frage welche Unsicherheit für fünfmal den Wurf fünf gab, zu beantworten. Hierzu kann jeder Bineintrag als ein eigenständiger Poisson Prozess betrachtet werden. Die Unsicherheit ist im einfachsten Fall gegeben als die Wurzel der Ereignisse."
   ]
  },
  {
   "cell_type": "code",
   "execution_count": null,
   "metadata": {
    "ExecuteTime": {
     "end_time": "2020-06-19T10:53:41.684118Z",
     "start_time": "2020-06-19T10:53:41.677132Z"
    }
   },
   "outputs": [],
   "source": [
    "# May be implemented by pupilsa\n",
    "\n",
    "def unsicherheit_poisson(array):\n",
    "    return np.sqrt(array)"
   ]
  },
  {
   "cell_type": "code",
   "execution_count": null,
   "metadata": {
    "ExecuteTime": {
     "end_time": "2020-06-19T10:53:44.287443Z",
     "start_time": "2020-06-19T10:53:44.280428Z"
    }
   },
   "outputs": [],
   "source": [
    "print(unsicherheit_poisson(2))\n",
    "print(a_hist)\n",
    "print(unsicherheit_poisson(a_hist))"
   ]
  },
  {
   "cell_type": "code",
   "execution_count": null,
   "metadata": {
    "ExecuteTime": {
     "end_time": "2020-06-19T10:53:45.061374Z",
     "start_time": "2020-06-19T10:53:44.623509Z"
    }
   },
   "outputs": [],
   "source": [
    "ww.own_std_indv_func = unsicherheit_poisson\n",
    "ww.run"
   ]
  },
  {
   "cell_type": "markdown",
   "metadata": {},
   "source": [
    "Für die grafische Darstellung werden nun alle Funktionen zusammengefasst. Es ist noch sinnvoll eine Skalierung der simulierten Ereignisse an die Menge der durchgeführten Messungen durchzuführen. Dadurch wird eine Vergleichbarkeit der Erwartung mit der tatsächlichen Messung erreicht. Für eine gute Vorhersage ist es sinnvoll eine größere Menge an Ereignissen zu simulieren, um dann mit der eigentlichen Messung zu vergleichen."
   ]
  },
  {
   "cell_type": "code",
   "execution_count": null,
   "metadata": {
    "ExecuteTime": {
     "end_time": "2020-06-19T10:53:46.916258Z",
     "start_time": "2020-06-19T10:53:46.910233Z"
    }
   },
   "outputs": [],
   "source": [
    "# May be implemented by pupils\n",
    "\n",
    "def skalierung_der_simulation_an_die_messung(messung):\n",
    "    return 1.0 if np.sum(messung) == 0.0 else np.sum(messung)"
   ]
  },
  {
   "cell_type": "code",
   "execution_count": null,
   "metadata": {
    "ExecuteTime": {
     "end_time": "2020-06-19T10:53:47.656240Z",
     "start_time": "2020-06-19T10:53:47.192480Z"
    }
   },
   "outputs": [],
   "source": [
    "ww.own_measurement_scale_func = skalierung_der_simulation_an_die_messung\n",
    "ww.own_measurement_func = my_random_dice_roll_simulation\n",
    "ww.run"
   ]
  },
  {
   "cell_type": "markdown",
   "metadata": {},
   "source": [
    "Zusatz:  \n",
    "Am Schluss soll eine Größe Implementiert werden das Bewerten soll, ob die vorhandene Messung aus der simulierten Verteilung stammt. Als Beispiel wird der $p_0$ Wert genommen, der aus der $\\chi^2$ berechnet wird die für ein Histogramm wie folgt definiert ist: $$ \\chi^2 = \\sum_{i=1}^N \\frac{(n_i - y_i)^2}{\\sigma_i^2} \\, .$$ $\\sigma_i$ ist die Unsicherheit des jeweiligen Bineintrags und entspricht $\\sqrt{y_i}$. $y_i$ ist die Erwartete Anzahl an Ereignissen in einem Bineintrag ausgehend von der an die Messung skalierten Simulation des jeweiligen Bins. $n_i$ ist die Anzahl an gemessenen Ereignissen in dem jeweiligen Bin. \n",
    "Der Wert von $\\chi^2$ entspricht dabei einer Abweichung der Messung von den simulierten Werten. Jeder der einzelnen Messwerte wird dabei entsprechend seiner Unsicherheit gewichtet. Messwerte mit großer Ungenauigkeit ändern den Gesamtwert weniger als Messwerte mit einer kleineren statistischen Unsicherheit.\n",
    "\n",
    "Der so berechnete Wert kann in ein $p$ Wert übersetzt werden. Dieser ist ein Maß für die Bestätigung einer Hypothese und sagt aus, ob die Messung die Erwartung bestätigt. Nach Definition ist dieser eine Wahrscheinlichkeit die beobachtete Messung zu erhalten unter der Bedingung, dass die verwendete Hypothese stimmt. Sollte $p_0$ einen vorher festgelegten Wert unterschreiten (gewählt wird oft $0,05$ oder $0,01$) so kann die gewählte Hypothese - die Erwartungen $y_i$ zugunsten einer neuen Hypothese verworfen werden."
   ]
  },
  {
   "cell_type": "code",
   "execution_count": null,
   "metadata": {
    "ExecuteTime": {
     "end_time": "2020-06-19T10:53:49.929055Z",
     "start_time": "2020-06-19T10:53:49.238826Z"
    }
   },
   "outputs": [],
   "source": [
    "import scipy.stats as scst\n",
    "\n",
    "def p0_aus_chi2(messung, erwartung):\n",
    "    # (mess, erw) ist ein Paar aus den Paaren (messung, erwartung)\n",
    "    chi2_ = sum((1.0/erw) * (mess - erw) ** 2 for (mess, erw) in zip(messung, erwartung) if float(erw) != 0.0)\n",
    "    # Übersetzung in die Wahrscheinlichkeit dass die Messung der Erwartung entspricht\n",
    "    p0_ = 1.0 - scst.chi2.cdf(chi2_, df=len(messung) - 1)\n",
    "    # Rückgabe: Name der Größe und die Größe selbst (für die Konvertierung)\n",
    "    return r\"$p_0$\", p0_"
   ]
  },
  {
   "cell_type": "code",
   "execution_count": null,
   "metadata": {
    "ExecuteTime": {
     "end_time": "2020-06-19T10:53:51.298884Z",
     "start_time": "2020-06-19T10:53:50.882993Z"
    }
   },
   "outputs": [],
   "source": [
    "ww.own_statistical_evaluation_func = p0_aus_chi2\n",
    "ww.run"
   ]
  },
  {
   "cell_type": "code",
   "execution_count": null,
   "metadata": {},
   "outputs": [],
   "source": []
  }
 ],
 "metadata": {
  "kernelspec": {
   "display_name": "venv",
   "language": "python",
   "name": "venv"
  },
  "language_info": {
   "codemirror_mode": {
    "name": "ipython",
    "version": 3
   },
   "file_extension": ".py",
   "mimetype": "text/x-python",
   "name": "python",
   "nbconvert_exporter": "python",
   "pygments_lexer": "ipython3",
   "version": "3.8.2"
  },
  "varInspector": {
   "cols": {
    "lenName": 16,
    "lenType": 16,
    "lenVar": 40
   },
   "kernels_config": {
    "python": {
     "delete_cmd_postfix": "",
     "delete_cmd_prefix": "del ",
     "library": "var_list.py",
     "varRefreshCmd": "print(var_dic_list())"
    },
    "r": {
     "delete_cmd_postfix": ") ",
     "delete_cmd_prefix": "rm(",
     "library": "var_list.r",
     "varRefreshCmd": "cat(var_dic_list()) "
    }
   },
   "types_to_exclude": [
    "module",
    "function",
    "builtin_function_or_method",
    "instance",
    "_Feature"
   ],
   "window_display": false
  }
 },
 "nbformat": 4,
 "nbformat_minor": 4
}
